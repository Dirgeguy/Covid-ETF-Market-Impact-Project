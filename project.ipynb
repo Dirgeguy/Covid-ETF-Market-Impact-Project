{
 "cells": [
  {
   "cell_type": "code",
   "execution_count": null,
   "metadata": {},
   "outputs": [],
   "source": [
    "import os\n",
    "import requests\n",
    "import json\n",
    "import pandas as pd\n",
    "import numpy as np\n",
    "import yfinance as yf\n",
    "import plotly.express as px\n",
    "import seaborn as sns\n",
    "import matplotlib.pyplot as plt\n",
    "%matplotlib inline\n",
    "import hvplot.pandas"
   ]
  },
  {
   "cell_type": "code",
   "execution_count": null,
   "metadata": {},
   "outputs": [],
   "source": [
    "resp = requests.get(\"https://api.covidtracking.com/v1/us/daily.json\")\n",
    "data = resp.text\n",
    "corona_df = pd.read_json(data)\n",
    "corona_df.dropna(inplace=True)\n",
    "covid_df = corona_df.drop([\"dateChecked\", \"hash\", \"hospitalized\",\"states\", \"total\", \"lastModified\", \"posNeg\"], axis=1)\n",
    "covid_df.tail()"
   ]
  },
  {
   "cell_type": "code",
   "execution_count": null,
   "metadata": {},
   "outputs": [],
   "source": [
    "covid_df['date'] = pd.to_datetime(covid_df['date'], format='%Y%m%d')\n",
    "negative_df = covid_df[['date', 'negative']]\n",
    "\n",
    "negative_df.set_index(['date'], inplace=True)\n",
    "negative_df.dropna(inplace=True)\n",
    "negative_df.head()\n"
   ]
  },
  {
   "cell_type": "code",
   "execution_count": null,
   "metadata": {},
   "outputs": [],
   "source": [
    "positive_df = covid_df[['date', 'positive']]\n",
    "positive_df.set_index(['date'], inplace=True)\n",
    "\n",
    "positive_df.dropna(inplace=True)\n",
    "positive_df.head()"
   ]
  },
  {
   "cell_type": "code",
   "execution_count": null,
   "metadata": {},
   "outputs": [],
   "source": [
    "etf_df = yf.download(['XLC','XLY','XLP','XLE','XLF','XLV','XLI','XLB','XLRE','XLK','XLU','SNP'],\n",
    "                      start='2020-01-01',\n",
    "                      end='2020-12-31',\n",
    "                      progress=False)\n",
    "etf_df = etf_df['Close']\n",
    "etf_df.head()\n"
   ]
  },
  {
   "cell_type": "markdown",
   "metadata": {},
   "source": [
    "# Method 1"
   ]
  },
  {
   "cell_type": "code",
   "execution_count": null,
   "metadata": {},
   "outputs": [],
   "source": [
    "market_comparison = etf_df[['SNP','XLB','XLC','XLE','XLF']]\n",
    "market_comparison.head()"
   ]
  },
  {
   "cell_type": "code",
   "execution_count": null,
   "metadata": {},
   "outputs": [],
   "source": [
    "change_comparison=market_comparison.pct_change()\n",
    "change_comparison.dropna(inplace=True)\n",
    "change_comparison.plot(figsize = (18,10))"
   ]
  },
  {
   "cell_type": "code",
   "execution_count": null,
   "metadata": {},
   "outputs": [],
   "source": [
    "correlation = market_comparison.corr()"
   ]
  },
  {
   "cell_type": "code",
   "execution_count": null,
   "metadata": {},
   "outputs": [],
   "source": [
    "sns.heatmap(correlation, vmin=-1, vmax=1);"
   ]
  },
  {
   "cell_type": "code",
   "execution_count": null,
   "metadata": {},
   "outputs": [],
   "source": [
    "covariance = market_comparison['XLB'].rolling(window=7).cov(market_comparison['SNP'])\n",
    "variance = market_comparison['XLB'].rolling(window=7).var()\n",
    "XLB_beta = covariance / variance\n",
    "\n",
    "covariance1 = market_comparison['XLC'].rolling(window=7).cov(market_comparison['SNP'])\n",
    "variance1 = market_comparison['XLC'].rolling(window=7).var()\n",
    "XLC_beta = covariance1 / variance1\n",
    "\n",
    "covariance2 = market_comparison['XLE'].rolling(window=7).cov(market_comparison['SNP'])\n",
    "variance2 = market_comparison['XLE'].rolling(window=7).var()\n",
    "XLE_beta = covariance2 / variance2\n",
    "\n",
    "covariance3 = market_comparison['XLF'].rolling(window=7).cov(market_comparison['SNP'])\n",
    "variance3 = market_comparison['XLF'].rolling(window=7).var()\n",
    "XLF_beta = covariance3 / variance3"
   ]
  },
  {
   "cell_type": "code",
   "execution_count": null,
   "metadata": {},
   "outputs": [],
   "source": [
    "XLB_beta.hvplot(label = \"XLB\") * XLC_beta.hvplot(label = \"XLC\") *  XLE_beta.hvplot(label = \"XLE\") * XLF_beta.hvplot(label = \"XLF\")"
   ]
  },
  {
   "cell_type": "code",
   "execution_count": null,
   "metadata": {},
   "outputs": [],
   "source": [
    "sharpe_ratios = (change_comparison.mean() * 252) / (change_comparison.std() * np.sqrt(252))\n",
    "sharpe_ratios.plot.bar()"
   ]
  },
  {
   "cell_type": "code",
   "execution_count": null,
   "metadata": {},
   "outputs": [],
   "source": [
    "boxplot = market_comparison.boxplot(column=['SNP','XLB','XLC','XLE','XLF'],figsize=(10,5))"
   ]
  },
  {
   "cell_type": "code",
   "execution_count": null,
   "metadata": {},
   "outputs": [],
   "source": [
    "market_comparison.std()\n"
   ]
  },
  {
   "cell_type": "code",
   "execution_count": null,
   "metadata": {},
   "outputs": [],
   "source": [
    "positive_df.corrwith(market_comparison, axis = 0)"
   ]
  },
  {
   "cell_type": "code",
   "execution_count": null,
   "metadata": {},
   "outputs": [],
   "source": [
    "negative_df.corrwith(market_comparison, axis = 0)"
   ]
  },
  {
   "cell_type": "markdown",
   "metadata": {},
   "source": [
    "# Method 2"
   ]
  },
  {
   "cell_type": "markdown",
   "metadata": {},
   "source": [
    "### Materials"
   ]
  },
  {
   "cell_type": "code",
   "execution_count": null,
   "metadata": {},
   "outputs": [],
   "source": [
    "materials_df = yf.download(['HUN','EXP','NEM','FCX','SMG','SNP','XLB'],\n",
    "                      start='2020-01-01',\n",
    "                      end='2020-12-31',\n",
    "                      progress=False)\n",
    "materials_df = materials_df['Close']\n",
    "materials_df.head()"
   ]
  },
  {
   "cell_type": "code",
   "execution_count": null,
   "metadata": {},
   "outputs": [],
   "source": [
    "materials_change = materials_df.pct_change()\n",
    "materials_change.plot(figsize = (18,10))"
   ]
  },
  {
   "cell_type": "code",
   "execution_count": null,
   "metadata": {},
   "outputs": [],
   "source": [
    "mat_corr = materials_change.corr()"
   ]
  },
  {
   "cell_type": "code",
   "execution_count": null,
   "metadata": {},
   "outputs": [],
   "source": [
    "sns.heatmap(mat_corr, vmin=-1, vmax=1);"
   ]
  },
  {
   "cell_type": "code",
   "execution_count": null,
   "metadata": {},
   "outputs": [],
   "source": [
    "cov_EXP = materials_df['EXP'].rolling(window=7).cov(materials_df['SNP'])\n",
    "var_EXP = materials_df['EXP'].rolling(window=7).var()\n",
    "EXP_beta = cov_EXP / var_EXP\n",
    "\n",
    "cov_FCX = materials_df['FCX'].rolling(window=7).cov(materials_df['SNP'])\n",
    "var_FCX = materials_df['FCX'].rolling(window=7).var()\n",
    "FCX_beta = cov_FCX / var_FCX\n",
    "\n",
    "cov_HUN = materials_df['HUN'].rolling(window=7).cov(materials_df['SNP'])\n",
    "var_HUN = materials_df['HUN'].rolling(window=7).var()\n",
    "HUN_beta = cov_HUN / var_HUN\n",
    "\n",
    "cov_NEM = materials_df['NEM'].rolling(window=7).cov(materials_df['SNP'])\n",
    "var_NEM = materials_df['NEM'].rolling(window=7).var()\n",
    "NEM_beta = cov_NEM / var_NEM\n",
    "\n",
    "cov_SMG = materials_df['SMG'].rolling(window=7).cov(materials_df['SNP'])\n",
    "var_SMG = materials_df['SMG'].rolling(window=7).var()\n",
    "SMG_beta = cov_SMG / var_SMG"
   ]
  },
  {
   "cell_type": "code",
   "execution_count": null,
   "metadata": {},
   "outputs": [],
   "source": [
    "XLB_beta.hvplot(label = \"XLB\") * EXP_beta.hvplot(label = \"EXP\") * FCX_beta.hvplot(label = \"FCX\") * HUN_beta.hvplot(label = \"HUN\") * NEM_beta.hvplot(label = \"NEM\") * SMG_beta.hvplot(label = \"SMG\")"
   ]
  },
  {
   "cell_type": "code",
   "execution_count": null,
   "metadata": {},
   "outputs": [],
   "source": [
    "sharpe_ratios = (materials_change.mean() * 252) / (materials_change.std() * np.sqrt(252))\n",
    "sharpe_ratios.plot.bar()"
   ]
  },
  {
   "cell_type": "code",
   "execution_count": null,
   "metadata": {},
   "outputs": [],
   "source": [
    "boxplot = materials_df.boxplot(column=['HUN','EXP','NEM','FCX','SMG','SNP','XLB'],figsize=(10,5))"
   ]
  },
  {
   "cell_type": "code",
   "execution_count": null,
   "metadata": {},
   "outputs": [],
   "source": [
    "materials_df.std()"
   ]
  },
  {
   "cell_type": "code",
   "execution_count": null,
   "metadata": {},
   "outputs": [],
   "source": [
    "positive_df.corrwith(materials_df, axis = 0)"
   ]
  },
  {
   "cell_type": "code",
   "execution_count": null,
   "metadata": {},
   "outputs": [],
   "source": [
    "negative_df.corrwith(materials_df, axis = 0)"
   ]
  },
  {
   "cell_type": "markdown",
   "metadata": {},
   "source": [
    "### Communications"
   ]
  },
  {
   "cell_type": "code",
   "execution_count": null,
   "metadata": {},
   "outputs": [],
   "source": [
    "communications_df = yf.download(['VIAC','T','DISCK','FB','GOOG','SNP','XLC'],\n",
    "                      start='2020-01-01',\n",
    "                      end='2020-12-31',\n",
    "                      progress=False)\n",
    "communications_df = communications_df['Close']\n",
    "communications_df.head()"
   ]
  },
  {
   "cell_type": "code",
   "execution_count": null,
   "metadata": {},
   "outputs": [],
   "source": [
    "communications_change = communications_df.pct_change()\n",
    "communications_change.plot(figsize = (18,10))"
   ]
  },
  {
   "cell_type": "code",
   "execution_count": null,
   "metadata": {},
   "outputs": [],
   "source": [
    "comm_corr = communications_df.corr()"
   ]
  },
  {
   "cell_type": "code",
   "execution_count": null,
   "metadata": {},
   "outputs": [],
   "source": [
    "sns.heatmap(comm_corr, vmin=-1, vmax=1);"
   ]
  },
  {
   "cell_type": "code",
   "execution_count": null,
   "metadata": {},
   "outputs": [],
   "source": [
    "cov_DISCK = communications_df['DISCK'].rolling(window=7).cov(communications_df['SNP'])\n",
    "var_DISCK = communications_df['DISCK'].rolling(window=7).var()\n",
    "DISCK_beta = cov_DISCK / var_DISCK\n",
    "\n",
    "cov_FB = communications_df['FB'].rolling(window=7).cov(communications_df['SNP'])\n",
    "var_FB = communications_df['FB'].rolling(window=7).var()\n",
    "FB_beta = cov_FB / var_FB\n",
    "\n",
    "cov_GOOG = communications_df['GOOG'].rolling(window=7).cov(communications_df['SNP'])\n",
    "var_GOOG = communications_df['GOOG'].rolling(window=7).var()\n",
    "GOOG_beta = cov_GOOG / var_GOOG\n",
    "\n",
    "cov_T = communications_df['T'].rolling(window=7).cov(communications_df['SNP'])\n",
    "var_T = communications_df['T'].rolling(window=7).var()\n",
    "T_beta = cov_T / var_T\n",
    "\n",
    "cov_VIAC = communications_df['VIAC'].rolling(window=7).cov(communications_df['SNP'])\n",
    "var_VIAC = communications_df['VIAC'].rolling(window=7).var()\n",
    "VIAC_beta = cov_VIAC / var_VIAC"
   ]
  },
  {
   "cell_type": "code",
   "execution_count": null,
   "metadata": {},
   "outputs": [],
   "source": [
    "XLC_beta.hvplot(label = \"XLC\") * DISCK_beta.hvplot(label = \"DISCK\") * FB_beta.hvplot(label = \"FB\") * GOOG_beta.hvplot(label = \"GOOG\") * T_beta.hvplot(label = \"T\") * VIAC_beta.hvplot(label = \"VIAC\")"
   ]
  },
  {
   "cell_type": "code",
   "execution_count": null,
   "metadata": {},
   "outputs": [],
   "source": [
    "sharpe_ratios = (communications_change.mean() * 252) / (communications_change.std() * np.sqrt(252))\n",
    "sharpe_ratios.plot.bar()"
   ]
  },
  {
   "cell_type": "code",
   "execution_count": null,
   "metadata": {},
   "outputs": [],
   "source": [
    "boxplot = communications_change.boxplot(column=['VIAC','T','DISCK','FB','GOOG','SNP','XLC'],figsize=(10,5))"
   ]
  },
  {
   "cell_type": "code",
   "execution_count": null,
   "metadata": {},
   "outputs": [],
   "source": [
    "communications_change.std()"
   ]
  },
  {
   "cell_type": "code",
   "execution_count": null,
   "metadata": {},
   "outputs": [],
   "source": [
    "positive_df.corrwith(communications_df, axis = 0)"
   ]
  },
  {
   "cell_type": "code",
   "execution_count": null,
   "metadata": {},
   "outputs": [],
   "source": [
    "negative_df.corrwith(communications_df, axis = 0)"
   ]
  },
  {
   "cell_type": "markdown",
   "metadata": {},
   "source": [
    "### Energy"
   ]
  },
  {
   "cell_type": "code",
   "execution_count": null,
   "metadata": {},
   "outputs": [],
   "source": [
    "energy_df = yf.download(['OKE','COP','VLO','LNG','MUR','SNP','XLE'],\n",
    "                      start='2020-01-01',\n",
    "                      end='2020-12-31',\n",
    "                      progress=False)\n",
    "energy_df = energy_df['Close']\n",
    "energy_df.head()\n"
   ]
  },
  {
   "cell_type": "code",
   "execution_count": null,
   "metadata": {},
   "outputs": [],
   "source": [
    "energy_change = energy_df.pct_change()\n",
    "energy_change.plot(figsize = (18,10))\n"
   ]
  },
  {
   "cell_type": "code",
   "execution_count": null,
   "metadata": {},
   "outputs": [],
   "source": [
    "ener_corr = energy_df.corr()"
   ]
  },
  {
   "cell_type": "code",
   "execution_count": null,
   "metadata": {},
   "outputs": [],
   "source": [
    "sns.heatmap(ener_corr, vmin=-1, vmax=1);"
   ]
  },
  {
   "cell_type": "code",
   "execution_count": null,
   "metadata": {},
   "outputs": [],
   "source": [
    "cov_OKE = energy_df['OKE'].rolling(window=7).cov(energy_df['SNP'])\n",
    "var_OKE = energy_df['OKE'].rolling(window=7).var()\n",
    "OKE_beta = cov_OKE / var_OKE\n",
    "\n",
    "cov_COP = energy_df['COP'].rolling(window=7).cov(energy_df['SNP'])\n",
    "var_COP = energy_df['COP'].rolling(window=7).var()\n",
    "COP_beta = cov_COP / var_COP\n",
    "\n",
    "cov_VLO = energy_df['VLO'].rolling(window=7).cov(energy_df['SNP'])\n",
    "var_VLO = energy_df['VLO'].rolling(window=7).var()\n",
    "VLO_beta = cov_VLO / var_VLO\n",
    "\n",
    "cov_LNG = energy_df['LNG'].rolling(window=7).cov(energy_df['SNP'])\n",
    "var_LNG = energy_df['LNG'].rolling(window=7).var()\n",
    "LNG_beta = cov_LNG / var_LNG\n",
    "\n",
    "cov_MUR = energy_df['MUR'].rolling(window=7).cov(energy_df['SNP'])\n",
    "var_MUR = energy_df['MUR'].rolling(window=7).var()\n",
    "MUR_beta = cov_MUR / var_MUR"
   ]
  },
  {
   "cell_type": "code",
   "execution_count": null,
   "metadata": {},
   "outputs": [],
   "source": [
    "XLC_beta.hvplot(label = \"XLE\") * OKE_beta.hvplot(label = \"OKE\") * COP_beta.hvplot(label = \"COP\") * VLO_beta.hvplot(label = \"VLO\") * LNG_beta.hvplot(label = \"LNG\") * MUR_beta.hvplot(label = \"MUR\")"
   ]
  },
  {
   "cell_type": "code",
   "execution_count": null,
   "metadata": {},
   "outputs": [],
   "source": [
    "sharpe_ratios = (energy_change.mean() * 252) / (energy_change.std() * np.sqrt(252))\n",
    "sharpe_ratios.plot.bar()"
   ]
  },
  {
   "cell_type": "code",
   "execution_count": null,
   "metadata": {},
   "outputs": [],
   "source": [
    "boxplot = energy_change.boxplot(column=['OKE','COP','VLO','LNG','MUR','SNP','XLE'],figsize=(10,5))"
   ]
  },
  {
   "cell_type": "code",
   "execution_count": null,
   "metadata": {},
   "outputs": [],
   "source": [
    "energy_change.std()"
   ]
  },
  {
   "cell_type": "code",
   "execution_count": null,
   "metadata": {},
   "outputs": [],
   "source": [
    "positive_df.corrwith(energy_df, axis = 0)"
   ]
  },
  {
   "cell_type": "code",
   "execution_count": null,
   "metadata": {},
   "outputs": [],
   "source": [
    "negative_df.corrwith(energy_df, axis = 0)"
   ]
  },
  {
   "cell_type": "markdown",
   "metadata": {},
   "source": [
    "### Finance"
   ]
  },
  {
   "cell_type": "code",
   "execution_count": null,
   "metadata": {},
   "outputs": [],
   "source": [
    "finance_df = yf.download(['BHF','UNM','MET','CFG','LFC','SNP','XLF'],\n",
    "                      start='2020-01-01',\n",
    "                      end='2020-12-31',\n",
    "                      progress=False)\n",
    "finance_df = finance_df['Close']\n",
    "finance_df.head()"
   ]
  },
  {
   "cell_type": "code",
   "execution_count": null,
   "metadata": {},
   "outputs": [],
   "source": [
    "finance_change = finance_df.pct_change()\n",
    "finance_change.plot(figsize = (18,10))\n"
   ]
  },
  {
   "cell_type": "code",
   "execution_count": null,
   "metadata": {},
   "outputs": [],
   "source": [
    "fin_corr = finance_df.corr()"
   ]
  },
  {
   "cell_type": "code",
   "execution_count": null,
   "metadata": {},
   "outputs": [],
   "source": [
    "sns.heatmap(fin_corr, vmin=-1, vmax=1);"
   ]
  },
  {
   "cell_type": "code",
   "execution_count": null,
   "metadata": {},
   "outputs": [],
   "source": [
    "cov_BHF = finance_df['BHF'].rolling(window=7).cov(finance_df['SNP'])\n",
    "var_BHF = finance_df['BHF'].rolling(window=7).var()\n",
    "BHF_beta = cov_BHF / var_BHF\n",
    "\n",
    "cov_UNM = finance_df['UNM'].rolling(window=7).cov(finance_df['SNP'])\n",
    "var_UNM = finance_df['UNM'].rolling(window=7).var()\n",
    "UNM_beta = cov_UNM / var_UNM\n",
    "\n",
    "cov_MET = finance_df['MET'].rolling(window=7).cov(finance_df['SNP'])\n",
    "var_MET = finance_df['MET'].rolling(window=7).var()\n",
    "MET_beta = cov_MET / var_MET\n",
    "\n",
    "cov_CGF = finance_df['CFG'].rolling(window=7).cov(finance_df['SNP'])\n",
    "var_CFG = finance_df['CFG'].rolling(window=7).var()\n",
    "CFG_beta = cov_CFG / var_CFG\n",
    "\n",
    "cov_LFC = finance_df['LFC'].rolling(window=7).cov(finance_df['SNP'])\n",
    "var_LFC = finance_df['LFC'].rolling(window=7).var()\n",
    "LFC_beta = cov_LFC / var_LFC"
   ]
  },
  {
   "cell_type": "code",
   "execution_count": null,
   "metadata": {},
   "outputs": [],
   "source": [
    "XLF_beta.hvplot(label = \"XLF\") * BHF_beta.hvplot(label = \"BHF\") * UNM_beta.hvplot(label = \"UNM\") * MET_beta.hvplot(label = \"MET\") * CFG_beta.hvplot(label = \"CFG\") * LFC_beta.hvplot(label = \"LFC\")"
   ]
  },
  {
   "cell_type": "code",
   "execution_count": null,
   "metadata": {},
   "outputs": [],
   "source": [
    "sharpe_ratios = (finance_change.mean() * 252) / (finance_change.std() * np.sqrt(252))\n",
    "sharpe_ratios.plot.bar()"
   ]
  },
  {
   "cell_type": "code",
   "execution_count": null,
   "metadata": {},
   "outputs": [],
   "source": [
    "boxplot = finance_change.boxplot(column=['BHF','UNM','MET','CFG','LFC','SNP','XLF'],figsize=(10,5))"
   ]
  },
  {
   "cell_type": "code",
   "execution_count": null,
   "metadata": {},
   "outputs": [],
   "source": [
    "finance_change.std()"
   ]
  },
  {
   "cell_type": "code",
   "execution_count": null,
   "metadata": {},
   "outputs": [],
   "source": [
    "positive_df.corrwith(finance_df, axis = 0)"
   ]
  },
  {
   "cell_type": "code",
   "execution_count": null,
   "metadata": {},
   "outputs": [],
   "source": [
    "negative_df.corrwith(finance_df, axis = 0)"
   ]
  }
 ],
 "metadata": {
  "kernelspec": {
   "display_name": "Python [conda env:pyvizenv] *",
   "language": "python",
   "name": "conda-env-pyvizenv-py"
  },
  "language_info": {
   "codemirror_mode": {
    "name": "ipython",
    "version": 3
   },
   "file_extension": ".py",
   "mimetype": "text/x-python",
   "name": "python",
   "nbconvert_exporter": "python",
   "pygments_lexer": "ipython3",
   "version": "3.7.7"
  }
 },
 "nbformat": 4,
 "nbformat_minor": 4
}
