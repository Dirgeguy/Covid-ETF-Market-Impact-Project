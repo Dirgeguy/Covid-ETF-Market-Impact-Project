{
 "cells": [
  {
   "cell_type": "code",
   "execution_count": 9,
   "metadata": {},
   "outputs": [],
   "source": [
    "#Libraries import\n",
    "\n",
    "import os\n",
    "import requests\n",
    "import json\n",
    "import pandas as pd\n",
    "import numpy as np\n",
    "import yfinance as yf\n",
    "import plotly.express as px\n",
    "import seaborn as sns\n",
    "import matplotlib.pyplot as plt\n",
    "%matplotlib inline\n",
    "import hvplot.pandas\n",
    "import datetime"
   ]
  },
  {
   "cell_type": "code",
   "execution_count": 59,
   "metadata": {},
   "outputs": [
    {
     "name": "stderr",
     "output_type": "stream",
     "text": [
      "C:\\Users\\Sravani\\anaconda3\\envs\\pyvizenv\\lib\\site-packages\\ipykernel_launcher.py:10: SettingWithCopyWarning: \n",
      "A value is trying to be set on a copy of a slice from a DataFrame\n",
      "\n",
      "See the caveats in the documentation: http://pandas.pydata.org/pandas-docs/stable/indexing.html#indexing-view-versus-copy\n",
      "  # Remove the CWD from sys.path while we load stuff.\n",
      "C:\\Users\\Sravani\\anaconda3\\envs\\pyvizenv\\lib\\site-packages\\ipykernel_launcher.py:19: SettingWithCopyWarning: \n",
      "A value is trying to be set on a copy of a slice from a DataFrame.\n",
      "Try using .loc[row_indexer,col_indexer] = value instead\n",
      "\n",
      "See the caveats in the documentation: http://pandas.pydata.org/pandas-docs/stable/indexing.html#indexing-view-versus-copy\n"
     ]
    },
    {
     "data": {
      "text/html": [
       "<div>\n",
       "<style scoped>\n",
       "    .dataframe tbody tr th:only-of-type {\n",
       "        vertical-align: middle;\n",
       "    }\n",
       "\n",
       "    .dataframe tbody tr th {\n",
       "        vertical-align: top;\n",
       "    }\n",
       "\n",
       "    .dataframe thead th {\n",
       "        text-align: right;\n",
       "    }\n",
       "</style>\n",
       "<table border=\"1\" class=\"dataframe\">\n",
       "  <thead>\n",
       "    <tr style=\"text-align: right;\">\n",
       "      <th></th>\n",
       "      <th>positiveIncrease</th>\n",
       "      <th>negativeIncrease</th>\n",
       "      <th>hospitalizedCumulative</th>\n",
       "      <th>deathIncrease</th>\n",
       "    </tr>\n",
       "    <tr>\n",
       "      <th>date</th>\n",
       "      <th></th>\n",
       "      <th></th>\n",
       "      <th></th>\n",
       "      <th></th>\n",
       "    </tr>\n",
       "  </thead>\n",
       "  <tbody>\n",
       "    <tr>\n",
       "      <th>2020-03-23</th>\n",
       "      <td>11439</td>\n",
       "      <td>46894</td>\n",
       "      <td>3937.0</td>\n",
       "      <td>101</td>\n",
       "    </tr>\n",
       "    <tr>\n",
       "      <th>2020-03-22</th>\n",
       "      <td>9125</td>\n",
       "      <td>36456</td>\n",
       "      <td>3023.0</td>\n",
       "      <td>146</td>\n",
       "    </tr>\n",
       "    <tr>\n",
       "      <th>2020-03-21</th>\n",
       "      <td>6793</td>\n",
       "      <td>38628</td>\n",
       "      <td>2020.0</td>\n",
       "      <td>62</td>\n",
       "    </tr>\n",
       "    <tr>\n",
       "      <th>2020-03-20</th>\n",
       "      <td>6147</td>\n",
       "      <td>30568</td>\n",
       "      <td>108.0</td>\n",
       "      <td>69</td>\n",
       "    </tr>\n",
       "    <tr>\n",
       "      <th>2020-03-19</th>\n",
       "      <td>4651</td>\n",
       "      <td>23323</td>\n",
       "      <td>85.0</td>\n",
       "      <td>48</td>\n",
       "    </tr>\n",
       "  </tbody>\n",
       "</table>\n",
       "</div>"
      ],
      "text/plain": [
       "            positiveIncrease  negativeIncrease  hospitalizedCumulative  \\\n",
       "date                                                                     \n",
       "2020-03-23             11439             46894                  3937.0   \n",
       "2020-03-22              9125             36456                  3023.0   \n",
       "2020-03-21              6793             38628                  2020.0   \n",
       "2020-03-20              6147             30568                   108.0   \n",
       "2020-03-19              4651             23323                    85.0   \n",
       "\n",
       "            deathIncrease  \n",
       "date                       \n",
       "2020-03-23            101  \n",
       "2020-03-22            146  \n",
       "2020-03-21             62  \n",
       "2020-03-20             69  \n",
       "2020-03-19             48  "
      ]
     },
     "execution_count": 59,
     "metadata": {},
     "output_type": "execute_result"
    }
   ],
   "source": [
    "#Covid data import using API\n",
    "\n",
    "\n",
    "resp = requests.get(\"https://api.covidtracking.com/v1/us/daily.json\")\n",
    "data = resp.text\n",
    "corona_df = pd.read_json(data)\n",
    "\n",
    "#Data cleanup\n",
    "covid_df = corona_df[[\"date\",\"positiveIncrease\", \"negativeIncrease\", \"hospitalizedCumulative\",\"deathIncrease\"]]\n",
    "covid_df.dropna(inplace=True)\n",
    "\n",
    "\n",
    "\n",
    "mask = (covid_df['date'] > 20200318) & (covid_df['date'] <= 20200323)\n",
    "march_df = covid_df.loc[mask]\n",
    "\n",
    "\n",
    "#Change format of data column\n",
    "march_df['date'] = pd.to_datetime(march_df['date'], format='%Y%m%d')\n",
    "march_df.set_index(['date'], inplace=True)\n",
    "\n",
    "march_df"
   ]
  },
  {
   "cell_type": "code",
   "execution_count": 41,
   "metadata": {},
   "outputs": [
    {
     "ename": "KeyError",
     "evalue": "\"['negative'] not in index\"",
     "output_type": "error",
     "traceback": [
      "\u001b[1;31m---------------------------------------------------------------------------\u001b[0m",
      "\u001b[1;31mKeyError\u001b[0m                                  Traceback (most recent call last)",
      "\u001b[1;32m<ipython-input-41-b8e2f10fbba5>\u001b[0m in \u001b[0;36m<module>\u001b[1;34m\u001b[0m\n\u001b[0;32m      1\u001b[0m \u001b[1;31m#Prepare new dataframe\u001b[0m\u001b[1;33m\u001b[0m\u001b[1;33m\u001b[0m\u001b[1;33m\u001b[0m\u001b[0m\n\u001b[1;32m----> 2\u001b[1;33m \u001b[0mnegative_df\u001b[0m \u001b[1;33m=\u001b[0m \u001b[0mcovid_df\u001b[0m\u001b[1;33m[\u001b[0m\u001b[1;33m[\u001b[0m\u001b[1;34m'date'\u001b[0m\u001b[1;33m,\u001b[0m \u001b[1;34m'negative'\u001b[0m\u001b[1;33m]\u001b[0m\u001b[1;33m]\u001b[0m\u001b[1;33m\u001b[0m\u001b[1;33m\u001b[0m\u001b[0m\n\u001b[0m\u001b[0;32m      3\u001b[0m \u001b[1;33m\u001b[0m\u001b[0m\n\u001b[0;32m      4\u001b[0m \u001b[0mnegative_df\u001b[0m\u001b[1;33m.\u001b[0m\u001b[0mset_index\u001b[0m\u001b[1;33m(\u001b[0m\u001b[1;33m[\u001b[0m\u001b[1;34m'date'\u001b[0m\u001b[1;33m]\u001b[0m\u001b[1;33m,\u001b[0m \u001b[0minplace\u001b[0m\u001b[1;33m=\u001b[0m\u001b[1;32mTrue\u001b[0m\u001b[1;33m)\u001b[0m\u001b[1;33m\u001b[0m\u001b[1;33m\u001b[0m\u001b[0m\n\u001b[0;32m      5\u001b[0m \u001b[0mnegative_df\u001b[0m\u001b[1;33m.\u001b[0m\u001b[0mdropna\u001b[0m\u001b[1;33m(\u001b[0m\u001b[0minplace\u001b[0m\u001b[1;33m=\u001b[0m\u001b[1;32mTrue\u001b[0m\u001b[1;33m)\u001b[0m\u001b[1;33m\u001b[0m\u001b[1;33m\u001b[0m\u001b[0m\n",
      "\u001b[1;32m~\\anaconda3\\envs\\pyvizenv\\lib\\site-packages\\pandas\\core\\frame.py\u001b[0m in \u001b[0;36m__getitem__\u001b[1;34m(self, key)\u001b[0m\n\u001b[0;32m   2932\u001b[0m                 \u001b[0mkey\u001b[0m \u001b[1;33m=\u001b[0m \u001b[0mlist\u001b[0m\u001b[1;33m(\u001b[0m\u001b[0mkey\u001b[0m\u001b[1;33m)\u001b[0m\u001b[1;33m\u001b[0m\u001b[1;33m\u001b[0m\u001b[0m\n\u001b[0;32m   2933\u001b[0m             indexer = self.loc._convert_to_indexer(key, axis=1,\n\u001b[1;32m-> 2934\u001b[1;33m                                                    raise_missing=True)\n\u001b[0m\u001b[0;32m   2935\u001b[0m \u001b[1;33m\u001b[0m\u001b[0m\n\u001b[0;32m   2936\u001b[0m         \u001b[1;31m# take() does not accept boolean indexers\u001b[0m\u001b[1;33m\u001b[0m\u001b[1;33m\u001b[0m\u001b[1;33m\u001b[0m\u001b[0m\n",
      "\u001b[1;32m~\\anaconda3\\envs\\pyvizenv\\lib\\site-packages\\pandas\\core\\indexing.py\u001b[0m in \u001b[0;36m_convert_to_indexer\u001b[1;34m(self, obj, axis, is_setter, raise_missing)\u001b[0m\n\u001b[0;32m   1352\u001b[0m                 kwargs = {'raise_missing': True if is_setter else\n\u001b[0;32m   1353\u001b[0m                           raise_missing}\n\u001b[1;32m-> 1354\u001b[1;33m                 \u001b[1;32mreturn\u001b[0m \u001b[0mself\u001b[0m\u001b[1;33m.\u001b[0m\u001b[0m_get_listlike_indexer\u001b[0m\u001b[1;33m(\u001b[0m\u001b[0mobj\u001b[0m\u001b[1;33m,\u001b[0m \u001b[0maxis\u001b[0m\u001b[1;33m,\u001b[0m \u001b[1;33m**\u001b[0m\u001b[0mkwargs\u001b[0m\u001b[1;33m)\u001b[0m\u001b[1;33m[\u001b[0m\u001b[1;36m1\u001b[0m\u001b[1;33m]\u001b[0m\u001b[1;33m\u001b[0m\u001b[1;33m\u001b[0m\u001b[0m\n\u001b[0m\u001b[0;32m   1355\u001b[0m         \u001b[1;32melse\u001b[0m\u001b[1;33m:\u001b[0m\u001b[1;33m\u001b[0m\u001b[1;33m\u001b[0m\u001b[0m\n\u001b[0;32m   1356\u001b[0m             \u001b[1;32mtry\u001b[0m\u001b[1;33m:\u001b[0m\u001b[1;33m\u001b[0m\u001b[1;33m\u001b[0m\u001b[0m\n",
      "\u001b[1;32m~\\anaconda3\\envs\\pyvizenv\\lib\\site-packages\\pandas\\core\\indexing.py\u001b[0m in \u001b[0;36m_get_listlike_indexer\u001b[1;34m(self, key, axis, raise_missing)\u001b[0m\n\u001b[0;32m   1159\u001b[0m         self._validate_read_indexer(keyarr, indexer,\n\u001b[0;32m   1160\u001b[0m                                     \u001b[0mo\u001b[0m\u001b[1;33m.\u001b[0m\u001b[0m_get_axis_number\u001b[0m\u001b[1;33m(\u001b[0m\u001b[0maxis\u001b[0m\u001b[1;33m)\u001b[0m\u001b[1;33m,\u001b[0m\u001b[1;33m\u001b[0m\u001b[1;33m\u001b[0m\u001b[0m\n\u001b[1;32m-> 1161\u001b[1;33m                                     raise_missing=raise_missing)\n\u001b[0m\u001b[0;32m   1162\u001b[0m         \u001b[1;32mreturn\u001b[0m \u001b[0mkeyarr\u001b[0m\u001b[1;33m,\u001b[0m \u001b[0mindexer\u001b[0m\u001b[1;33m\u001b[0m\u001b[1;33m\u001b[0m\u001b[0m\n\u001b[0;32m   1163\u001b[0m \u001b[1;33m\u001b[0m\u001b[0m\n",
      "\u001b[1;32m~\\anaconda3\\envs\\pyvizenv\\lib\\site-packages\\pandas\\core\\indexing.py\u001b[0m in \u001b[0;36m_validate_read_indexer\u001b[1;34m(self, key, indexer, axis, raise_missing)\u001b[0m\n\u001b[0;32m   1250\u001b[0m             \u001b[1;32mif\u001b[0m \u001b[1;32mnot\u001b[0m\u001b[1;33m(\u001b[0m\u001b[0mself\u001b[0m\u001b[1;33m.\u001b[0m\u001b[0mname\u001b[0m \u001b[1;33m==\u001b[0m \u001b[1;34m'loc'\u001b[0m \u001b[1;32mand\u001b[0m \u001b[1;32mnot\u001b[0m \u001b[0mraise_missing\u001b[0m\u001b[1;33m)\u001b[0m\u001b[1;33m:\u001b[0m\u001b[1;33m\u001b[0m\u001b[1;33m\u001b[0m\u001b[0m\n\u001b[0;32m   1251\u001b[0m                 \u001b[0mnot_found\u001b[0m \u001b[1;33m=\u001b[0m \u001b[0mlist\u001b[0m\u001b[1;33m(\u001b[0m\u001b[0mset\u001b[0m\u001b[1;33m(\u001b[0m\u001b[0mkey\u001b[0m\u001b[1;33m)\u001b[0m \u001b[1;33m-\u001b[0m \u001b[0mset\u001b[0m\u001b[1;33m(\u001b[0m\u001b[0max\u001b[0m\u001b[1;33m)\u001b[0m\u001b[1;33m)\u001b[0m\u001b[1;33m\u001b[0m\u001b[1;33m\u001b[0m\u001b[0m\n\u001b[1;32m-> 1252\u001b[1;33m                 \u001b[1;32mraise\u001b[0m \u001b[0mKeyError\u001b[0m\u001b[1;33m(\u001b[0m\u001b[1;34m\"{} not in index\"\u001b[0m\u001b[1;33m.\u001b[0m\u001b[0mformat\u001b[0m\u001b[1;33m(\u001b[0m\u001b[0mnot_found\u001b[0m\u001b[1;33m)\u001b[0m\u001b[1;33m)\u001b[0m\u001b[1;33m\u001b[0m\u001b[1;33m\u001b[0m\u001b[0m\n\u001b[0m\u001b[0;32m   1253\u001b[0m \u001b[1;33m\u001b[0m\u001b[0m\n\u001b[0;32m   1254\u001b[0m             \u001b[1;31m# we skip the warning on Categorical/Interval\u001b[0m\u001b[1;33m\u001b[0m\u001b[1;33m\u001b[0m\u001b[1;33m\u001b[0m\u001b[0m\n",
      "\u001b[1;31mKeyError\u001b[0m: \"['negative'] not in index\""
     ]
    }
   ],
   "source": [
    "#Prepare new dataframe\n",
    "negative_df = covid_df[['date', 'negative']]\n",
    "\n",
    "negative_df.set_index(['date'], inplace=True)\n",
    "negative_df.dropna(inplace=True)\n",
    "negative_df.head()\n"
   ]
  },
  {
   "cell_type": "code",
   "execution_count": 42,
   "metadata": {},
   "outputs": [
    {
     "ename": "KeyError",
     "evalue": "\"['positive'] not in index\"",
     "output_type": "error",
     "traceback": [
      "\u001b[1;31m---------------------------------------------------------------------------\u001b[0m",
      "\u001b[1;31mKeyError\u001b[0m                                  Traceback (most recent call last)",
      "\u001b[1;32m<ipython-input-42-ef8420bec158>\u001b[0m in \u001b[0;36m<module>\u001b[1;34m\u001b[0m\n\u001b[1;32m----> 1\u001b[1;33m \u001b[0mpositive_df\u001b[0m \u001b[1;33m=\u001b[0m \u001b[0mcovid_df\u001b[0m\u001b[1;33m[\u001b[0m\u001b[1;33m[\u001b[0m\u001b[1;34m'date'\u001b[0m\u001b[1;33m,\u001b[0m \u001b[1;34m'positive'\u001b[0m\u001b[1;33m]\u001b[0m\u001b[1;33m]\u001b[0m\u001b[1;33m\u001b[0m\u001b[1;33m\u001b[0m\u001b[0m\n\u001b[0m\u001b[0;32m      2\u001b[0m \u001b[0mpositive_df\u001b[0m\u001b[1;33m.\u001b[0m\u001b[0mset_index\u001b[0m\u001b[1;33m(\u001b[0m\u001b[1;33m[\u001b[0m\u001b[1;34m'date'\u001b[0m\u001b[1;33m]\u001b[0m\u001b[1;33m,\u001b[0m \u001b[0minplace\u001b[0m\u001b[1;33m=\u001b[0m\u001b[1;32mTrue\u001b[0m\u001b[1;33m)\u001b[0m\u001b[1;33m\u001b[0m\u001b[1;33m\u001b[0m\u001b[0m\n\u001b[0;32m      3\u001b[0m \u001b[1;33m\u001b[0m\u001b[0m\n\u001b[0;32m      4\u001b[0m \u001b[0mpositive_df\u001b[0m\u001b[1;33m.\u001b[0m\u001b[0mdropna\u001b[0m\u001b[1;33m(\u001b[0m\u001b[0minplace\u001b[0m\u001b[1;33m=\u001b[0m\u001b[1;32mTrue\u001b[0m\u001b[1;33m)\u001b[0m\u001b[1;33m\u001b[0m\u001b[1;33m\u001b[0m\u001b[0m\n\u001b[0;32m      5\u001b[0m \u001b[0mpositive_df\u001b[0m\u001b[1;33m.\u001b[0m\u001b[0mhead\u001b[0m\u001b[1;33m(\u001b[0m\u001b[1;33m)\u001b[0m\u001b[1;33m\u001b[0m\u001b[1;33m\u001b[0m\u001b[0m\n",
      "\u001b[1;32m~\\anaconda3\\envs\\pyvizenv\\lib\\site-packages\\pandas\\core\\frame.py\u001b[0m in \u001b[0;36m__getitem__\u001b[1;34m(self, key)\u001b[0m\n\u001b[0;32m   2932\u001b[0m                 \u001b[0mkey\u001b[0m \u001b[1;33m=\u001b[0m \u001b[0mlist\u001b[0m\u001b[1;33m(\u001b[0m\u001b[0mkey\u001b[0m\u001b[1;33m)\u001b[0m\u001b[1;33m\u001b[0m\u001b[1;33m\u001b[0m\u001b[0m\n\u001b[0;32m   2933\u001b[0m             indexer = self.loc._convert_to_indexer(key, axis=1,\n\u001b[1;32m-> 2934\u001b[1;33m                                                    raise_missing=True)\n\u001b[0m\u001b[0;32m   2935\u001b[0m \u001b[1;33m\u001b[0m\u001b[0m\n\u001b[0;32m   2936\u001b[0m         \u001b[1;31m# take() does not accept boolean indexers\u001b[0m\u001b[1;33m\u001b[0m\u001b[1;33m\u001b[0m\u001b[1;33m\u001b[0m\u001b[0m\n",
      "\u001b[1;32m~\\anaconda3\\envs\\pyvizenv\\lib\\site-packages\\pandas\\core\\indexing.py\u001b[0m in \u001b[0;36m_convert_to_indexer\u001b[1;34m(self, obj, axis, is_setter, raise_missing)\u001b[0m\n\u001b[0;32m   1352\u001b[0m                 kwargs = {'raise_missing': True if is_setter else\n\u001b[0;32m   1353\u001b[0m                           raise_missing}\n\u001b[1;32m-> 1354\u001b[1;33m                 \u001b[1;32mreturn\u001b[0m \u001b[0mself\u001b[0m\u001b[1;33m.\u001b[0m\u001b[0m_get_listlike_indexer\u001b[0m\u001b[1;33m(\u001b[0m\u001b[0mobj\u001b[0m\u001b[1;33m,\u001b[0m \u001b[0maxis\u001b[0m\u001b[1;33m,\u001b[0m \u001b[1;33m**\u001b[0m\u001b[0mkwargs\u001b[0m\u001b[1;33m)\u001b[0m\u001b[1;33m[\u001b[0m\u001b[1;36m1\u001b[0m\u001b[1;33m]\u001b[0m\u001b[1;33m\u001b[0m\u001b[1;33m\u001b[0m\u001b[0m\n\u001b[0m\u001b[0;32m   1355\u001b[0m         \u001b[1;32melse\u001b[0m\u001b[1;33m:\u001b[0m\u001b[1;33m\u001b[0m\u001b[1;33m\u001b[0m\u001b[0m\n\u001b[0;32m   1356\u001b[0m             \u001b[1;32mtry\u001b[0m\u001b[1;33m:\u001b[0m\u001b[1;33m\u001b[0m\u001b[1;33m\u001b[0m\u001b[0m\n",
      "\u001b[1;32m~\\anaconda3\\envs\\pyvizenv\\lib\\site-packages\\pandas\\core\\indexing.py\u001b[0m in \u001b[0;36m_get_listlike_indexer\u001b[1;34m(self, key, axis, raise_missing)\u001b[0m\n\u001b[0;32m   1159\u001b[0m         self._validate_read_indexer(keyarr, indexer,\n\u001b[0;32m   1160\u001b[0m                                     \u001b[0mo\u001b[0m\u001b[1;33m.\u001b[0m\u001b[0m_get_axis_number\u001b[0m\u001b[1;33m(\u001b[0m\u001b[0maxis\u001b[0m\u001b[1;33m)\u001b[0m\u001b[1;33m,\u001b[0m\u001b[1;33m\u001b[0m\u001b[1;33m\u001b[0m\u001b[0m\n\u001b[1;32m-> 1161\u001b[1;33m                                     raise_missing=raise_missing)\n\u001b[0m\u001b[0;32m   1162\u001b[0m         \u001b[1;32mreturn\u001b[0m \u001b[0mkeyarr\u001b[0m\u001b[1;33m,\u001b[0m \u001b[0mindexer\u001b[0m\u001b[1;33m\u001b[0m\u001b[1;33m\u001b[0m\u001b[0m\n\u001b[0;32m   1163\u001b[0m \u001b[1;33m\u001b[0m\u001b[0m\n",
      "\u001b[1;32m~\\anaconda3\\envs\\pyvizenv\\lib\\site-packages\\pandas\\core\\indexing.py\u001b[0m in \u001b[0;36m_validate_read_indexer\u001b[1;34m(self, key, indexer, axis, raise_missing)\u001b[0m\n\u001b[0;32m   1250\u001b[0m             \u001b[1;32mif\u001b[0m \u001b[1;32mnot\u001b[0m\u001b[1;33m(\u001b[0m\u001b[0mself\u001b[0m\u001b[1;33m.\u001b[0m\u001b[0mname\u001b[0m \u001b[1;33m==\u001b[0m \u001b[1;34m'loc'\u001b[0m \u001b[1;32mand\u001b[0m \u001b[1;32mnot\u001b[0m \u001b[0mraise_missing\u001b[0m\u001b[1;33m)\u001b[0m\u001b[1;33m:\u001b[0m\u001b[1;33m\u001b[0m\u001b[1;33m\u001b[0m\u001b[0m\n\u001b[0;32m   1251\u001b[0m                 \u001b[0mnot_found\u001b[0m \u001b[1;33m=\u001b[0m \u001b[0mlist\u001b[0m\u001b[1;33m(\u001b[0m\u001b[0mset\u001b[0m\u001b[1;33m(\u001b[0m\u001b[0mkey\u001b[0m\u001b[1;33m)\u001b[0m \u001b[1;33m-\u001b[0m \u001b[0mset\u001b[0m\u001b[1;33m(\u001b[0m\u001b[0max\u001b[0m\u001b[1;33m)\u001b[0m\u001b[1;33m)\u001b[0m\u001b[1;33m\u001b[0m\u001b[1;33m\u001b[0m\u001b[0m\n\u001b[1;32m-> 1252\u001b[1;33m                 \u001b[1;32mraise\u001b[0m \u001b[0mKeyError\u001b[0m\u001b[1;33m(\u001b[0m\u001b[1;34m\"{} not in index\"\u001b[0m\u001b[1;33m.\u001b[0m\u001b[0mformat\u001b[0m\u001b[1;33m(\u001b[0m\u001b[0mnot_found\u001b[0m\u001b[1;33m)\u001b[0m\u001b[1;33m)\u001b[0m\u001b[1;33m\u001b[0m\u001b[1;33m\u001b[0m\u001b[0m\n\u001b[0m\u001b[0;32m   1253\u001b[0m \u001b[1;33m\u001b[0m\u001b[0m\n\u001b[0;32m   1254\u001b[0m             \u001b[1;31m# we skip the warning on Categorical/Interval\u001b[0m\u001b[1;33m\u001b[0m\u001b[1;33m\u001b[0m\u001b[1;33m\u001b[0m\u001b[0m\n",
      "\u001b[1;31mKeyError\u001b[0m: \"['positive'] not in index\""
     ]
    }
   ],
   "source": [
    "positive_df = covid_df[['date', 'positive']]\n",
    "positive_df.set_index(['date'], inplace=True)\n",
    "\n",
    "positive_df.dropna(inplace=True)\n",
    "positive_df.head()"
   ]
  },
  {
   "cell_type": "code",
   "execution_count": 43,
   "metadata": {},
   "outputs": [
    {
     "ename": "KeyError",
     "evalue": "\"['death'] not in index\"",
     "output_type": "error",
     "traceback": [
      "\u001b[1;31m---------------------------------------------------------------------------\u001b[0m",
      "\u001b[1;31mKeyError\u001b[0m                                  Traceback (most recent call last)",
      "\u001b[1;32m<ipython-input-43-a1c6c5461e8e>\u001b[0m in \u001b[0;36m<module>\u001b[1;34m\u001b[0m\n\u001b[1;32m----> 1\u001b[1;33m \u001b[0mdeath_df\u001b[0m \u001b[1;33m=\u001b[0m \u001b[0mcovid_df\u001b[0m\u001b[1;33m[\u001b[0m\u001b[1;33m[\u001b[0m\u001b[1;34m'date'\u001b[0m\u001b[1;33m,\u001b[0m \u001b[1;34m'death'\u001b[0m\u001b[1;33m]\u001b[0m\u001b[1;33m]\u001b[0m\u001b[1;33m\u001b[0m\u001b[1;33m\u001b[0m\u001b[0m\n\u001b[0m\u001b[0;32m      2\u001b[0m \u001b[0mdeath_df\u001b[0m\u001b[1;33m.\u001b[0m\u001b[0mset_index\u001b[0m\u001b[1;33m(\u001b[0m\u001b[1;33m[\u001b[0m\u001b[1;34m'date'\u001b[0m\u001b[1;33m]\u001b[0m\u001b[1;33m,\u001b[0m \u001b[0minplace\u001b[0m\u001b[1;33m=\u001b[0m\u001b[1;32mTrue\u001b[0m\u001b[1;33m)\u001b[0m\u001b[1;33m\u001b[0m\u001b[1;33m\u001b[0m\u001b[0m\n\u001b[0;32m      3\u001b[0m \u001b[1;33m\u001b[0m\u001b[0m\n\u001b[0;32m      4\u001b[0m \u001b[0mdeath_df\u001b[0m\u001b[1;33m.\u001b[0m\u001b[0mdropna\u001b[0m\u001b[1;33m(\u001b[0m\u001b[0minplace\u001b[0m\u001b[1;33m=\u001b[0m\u001b[1;32mTrue\u001b[0m\u001b[1;33m)\u001b[0m\u001b[1;33m\u001b[0m\u001b[1;33m\u001b[0m\u001b[0m\n\u001b[0;32m      5\u001b[0m \u001b[0mdeath_df\u001b[0m\u001b[1;33m.\u001b[0m\u001b[0mhead\u001b[0m\u001b[1;33m(\u001b[0m\u001b[1;33m)\u001b[0m\u001b[1;33m\u001b[0m\u001b[1;33m\u001b[0m\u001b[0m\n",
      "\u001b[1;32m~\\anaconda3\\envs\\pyvizenv\\lib\\site-packages\\pandas\\core\\frame.py\u001b[0m in \u001b[0;36m__getitem__\u001b[1;34m(self, key)\u001b[0m\n\u001b[0;32m   2932\u001b[0m                 \u001b[0mkey\u001b[0m \u001b[1;33m=\u001b[0m \u001b[0mlist\u001b[0m\u001b[1;33m(\u001b[0m\u001b[0mkey\u001b[0m\u001b[1;33m)\u001b[0m\u001b[1;33m\u001b[0m\u001b[1;33m\u001b[0m\u001b[0m\n\u001b[0;32m   2933\u001b[0m             indexer = self.loc._convert_to_indexer(key, axis=1,\n\u001b[1;32m-> 2934\u001b[1;33m                                                    raise_missing=True)\n\u001b[0m\u001b[0;32m   2935\u001b[0m \u001b[1;33m\u001b[0m\u001b[0m\n\u001b[0;32m   2936\u001b[0m         \u001b[1;31m# take() does not accept boolean indexers\u001b[0m\u001b[1;33m\u001b[0m\u001b[1;33m\u001b[0m\u001b[1;33m\u001b[0m\u001b[0m\n",
      "\u001b[1;32m~\\anaconda3\\envs\\pyvizenv\\lib\\site-packages\\pandas\\core\\indexing.py\u001b[0m in \u001b[0;36m_convert_to_indexer\u001b[1;34m(self, obj, axis, is_setter, raise_missing)\u001b[0m\n\u001b[0;32m   1352\u001b[0m                 kwargs = {'raise_missing': True if is_setter else\n\u001b[0;32m   1353\u001b[0m                           raise_missing}\n\u001b[1;32m-> 1354\u001b[1;33m                 \u001b[1;32mreturn\u001b[0m \u001b[0mself\u001b[0m\u001b[1;33m.\u001b[0m\u001b[0m_get_listlike_indexer\u001b[0m\u001b[1;33m(\u001b[0m\u001b[0mobj\u001b[0m\u001b[1;33m,\u001b[0m \u001b[0maxis\u001b[0m\u001b[1;33m,\u001b[0m \u001b[1;33m**\u001b[0m\u001b[0mkwargs\u001b[0m\u001b[1;33m)\u001b[0m\u001b[1;33m[\u001b[0m\u001b[1;36m1\u001b[0m\u001b[1;33m]\u001b[0m\u001b[1;33m\u001b[0m\u001b[1;33m\u001b[0m\u001b[0m\n\u001b[0m\u001b[0;32m   1355\u001b[0m         \u001b[1;32melse\u001b[0m\u001b[1;33m:\u001b[0m\u001b[1;33m\u001b[0m\u001b[1;33m\u001b[0m\u001b[0m\n\u001b[0;32m   1356\u001b[0m             \u001b[1;32mtry\u001b[0m\u001b[1;33m:\u001b[0m\u001b[1;33m\u001b[0m\u001b[1;33m\u001b[0m\u001b[0m\n",
      "\u001b[1;32m~\\anaconda3\\envs\\pyvizenv\\lib\\site-packages\\pandas\\core\\indexing.py\u001b[0m in \u001b[0;36m_get_listlike_indexer\u001b[1;34m(self, key, axis, raise_missing)\u001b[0m\n\u001b[0;32m   1159\u001b[0m         self._validate_read_indexer(keyarr, indexer,\n\u001b[0;32m   1160\u001b[0m                                     \u001b[0mo\u001b[0m\u001b[1;33m.\u001b[0m\u001b[0m_get_axis_number\u001b[0m\u001b[1;33m(\u001b[0m\u001b[0maxis\u001b[0m\u001b[1;33m)\u001b[0m\u001b[1;33m,\u001b[0m\u001b[1;33m\u001b[0m\u001b[1;33m\u001b[0m\u001b[0m\n\u001b[1;32m-> 1161\u001b[1;33m                                     raise_missing=raise_missing)\n\u001b[0m\u001b[0;32m   1162\u001b[0m         \u001b[1;32mreturn\u001b[0m \u001b[0mkeyarr\u001b[0m\u001b[1;33m,\u001b[0m \u001b[0mindexer\u001b[0m\u001b[1;33m\u001b[0m\u001b[1;33m\u001b[0m\u001b[0m\n\u001b[0;32m   1163\u001b[0m \u001b[1;33m\u001b[0m\u001b[0m\n",
      "\u001b[1;32m~\\anaconda3\\envs\\pyvizenv\\lib\\site-packages\\pandas\\core\\indexing.py\u001b[0m in \u001b[0;36m_validate_read_indexer\u001b[1;34m(self, key, indexer, axis, raise_missing)\u001b[0m\n\u001b[0;32m   1250\u001b[0m             \u001b[1;32mif\u001b[0m \u001b[1;32mnot\u001b[0m\u001b[1;33m(\u001b[0m\u001b[0mself\u001b[0m\u001b[1;33m.\u001b[0m\u001b[0mname\u001b[0m \u001b[1;33m==\u001b[0m \u001b[1;34m'loc'\u001b[0m \u001b[1;32mand\u001b[0m \u001b[1;32mnot\u001b[0m \u001b[0mraise_missing\u001b[0m\u001b[1;33m)\u001b[0m\u001b[1;33m:\u001b[0m\u001b[1;33m\u001b[0m\u001b[1;33m\u001b[0m\u001b[0m\n\u001b[0;32m   1251\u001b[0m                 \u001b[0mnot_found\u001b[0m \u001b[1;33m=\u001b[0m \u001b[0mlist\u001b[0m\u001b[1;33m(\u001b[0m\u001b[0mset\u001b[0m\u001b[1;33m(\u001b[0m\u001b[0mkey\u001b[0m\u001b[1;33m)\u001b[0m \u001b[1;33m-\u001b[0m \u001b[0mset\u001b[0m\u001b[1;33m(\u001b[0m\u001b[0max\u001b[0m\u001b[1;33m)\u001b[0m\u001b[1;33m)\u001b[0m\u001b[1;33m\u001b[0m\u001b[1;33m\u001b[0m\u001b[0m\n\u001b[1;32m-> 1252\u001b[1;33m                 \u001b[1;32mraise\u001b[0m \u001b[0mKeyError\u001b[0m\u001b[1;33m(\u001b[0m\u001b[1;34m\"{} not in index\"\u001b[0m\u001b[1;33m.\u001b[0m\u001b[0mformat\u001b[0m\u001b[1;33m(\u001b[0m\u001b[0mnot_found\u001b[0m\u001b[1;33m)\u001b[0m\u001b[1;33m)\u001b[0m\u001b[1;33m\u001b[0m\u001b[1;33m\u001b[0m\u001b[0m\n\u001b[0m\u001b[0;32m   1253\u001b[0m \u001b[1;33m\u001b[0m\u001b[0m\n\u001b[0;32m   1254\u001b[0m             \u001b[1;31m# we skip the warning on Categorical/Interval\u001b[0m\u001b[1;33m\u001b[0m\u001b[1;33m\u001b[0m\u001b[1;33m\u001b[0m\u001b[0m\n",
      "\u001b[1;31mKeyError\u001b[0m: \"['death'] not in index\""
     ]
    }
   ],
   "source": [
    "death_df = covid_df[['date', 'death']]\n",
    "death_df.set_index(['date'], inplace=True)\n",
    "\n",
    "death_df.dropna(inplace=True)\n",
    "death_df.head()"
   ]
  },
  {
   "cell_type": "code",
   "execution_count": 44,
   "metadata": {},
   "outputs": [
    {
     "name": "stderr",
     "output_type": "stream",
     "text": [
      "C:\\Users\\Sravani\\anaconda3\\envs\\pyvizenv\\lib\\site-packages\\ipykernel_launcher.py:4: SettingWithCopyWarning: \n",
      "A value is trying to be set on a copy of a slice from a DataFrame\n",
      "\n",
      "See the caveats in the documentation: http://pandas.pydata.org/pandas-docs/stable/indexing.html#indexing-view-versus-copy\n",
      "  after removing the cwd from sys.path.\n"
     ]
    },
    {
     "data": {
      "text/html": [
       "<div>\n",
       "<style scoped>\n",
       "    .dataframe tbody tr th:only-of-type {\n",
       "        vertical-align: middle;\n",
       "    }\n",
       "\n",
       "    .dataframe tbody tr th {\n",
       "        vertical-align: top;\n",
       "    }\n",
       "\n",
       "    .dataframe thead th {\n",
       "        text-align: right;\n",
       "    }\n",
       "</style>\n",
       "<table border=\"1\" class=\"dataframe\">\n",
       "  <thead>\n",
       "    <tr style=\"text-align: right;\">\n",
       "      <th></th>\n",
       "      <th>hospitalizedCumulative</th>\n",
       "    </tr>\n",
       "    <tr>\n",
       "      <th>date</th>\n",
       "      <th></th>\n",
       "    </tr>\n",
       "  </thead>\n",
       "  <tbody>\n",
       "    <tr>\n",
       "      <th>20201007</th>\n",
       "      <td>416711.0</td>\n",
       "    </tr>\n",
       "    <tr>\n",
       "      <th>20201006</th>\n",
       "      <td>414461.0</td>\n",
       "    </tr>\n",
       "    <tr>\n",
       "      <th>20201005</th>\n",
       "      <td>415085.0</td>\n",
       "    </tr>\n",
       "    <tr>\n",
       "      <th>20201004</th>\n",
       "      <td>413566.0</td>\n",
       "    </tr>\n",
       "    <tr>\n",
       "      <th>20201003</th>\n",
       "      <td>412917.0</td>\n",
       "    </tr>\n",
       "  </tbody>\n",
       "</table>\n",
       "</div>"
      ],
      "text/plain": [
       "          hospitalizedCumulative\n",
       "date                            \n",
       "20201007                416711.0\n",
       "20201006                414461.0\n",
       "20201005                415085.0\n",
       "20201004                413566.0\n",
       "20201003                412917.0"
      ]
     },
     "execution_count": 44,
     "metadata": {},
     "output_type": "execute_result"
    }
   ],
   "source": [
    "hospitalized_df = covid_df[['date', 'hospitalizedCumulative']]\n",
    "hospitalized_df.set_index(['date'], inplace=True)\n",
    "\n",
    "hospitalized_df.dropna(inplace=True)\n",
    "hospitalized_df.head()"
   ]
  },
  {
   "cell_type": "code",
   "execution_count": 45,
   "metadata": {},
   "outputs": [
    {
     "data": {
      "text/html": [
       "<div>\n",
       "<style scoped>\n",
       "    .dataframe tbody tr th:only-of-type {\n",
       "        vertical-align: middle;\n",
       "    }\n",
       "\n",
       "    .dataframe tbody tr th {\n",
       "        vertical-align: top;\n",
       "    }\n",
       "\n",
       "    .dataframe thead th {\n",
       "        text-align: right;\n",
       "    }\n",
       "</style>\n",
       "<table border=\"1\" class=\"dataframe\">\n",
       "  <thead>\n",
       "    <tr style=\"text-align: right;\">\n",
       "      <th></th>\n",
       "      <th>SPY</th>\n",
       "      <th>XLB</th>\n",
       "      <th>XLC</th>\n",
       "      <th>XLE</th>\n",
       "      <th>XLF</th>\n",
       "      <th>XLI</th>\n",
       "      <th>XLK</th>\n",
       "      <th>XLP</th>\n",
       "      <th>XLRE</th>\n",
       "      <th>XLU</th>\n",
       "      <th>XLV</th>\n",
       "      <th>XLY</th>\n",
       "    </tr>\n",
       "    <tr>\n",
       "      <th>Date</th>\n",
       "      <th></th>\n",
       "      <th></th>\n",
       "      <th></th>\n",
       "      <th></th>\n",
       "      <th></th>\n",
       "      <th></th>\n",
       "      <th></th>\n",
       "      <th></th>\n",
       "      <th></th>\n",
       "      <th></th>\n",
       "      <th></th>\n",
       "      <th></th>\n",
       "    </tr>\n",
       "  </thead>\n",
       "  <tbody>\n",
       "    <tr>\n",
       "      <th>2020-03-02</th>\n",
       "      <td>309.089996</td>\n",
       "      <td>54.980000</td>\n",
       "      <td>52.520000</td>\n",
       "      <td>47.099998</td>\n",
       "      <td>27.950001</td>\n",
       "      <td>75.650002</td>\n",
       "      <td>93.480003</td>\n",
       "      <td>61.090000</td>\n",
       "      <td>38.619999</td>\n",
       "      <td>65.839996</td>\n",
       "      <td>96.949997</td>\n",
       "      <td>119.809998</td>\n",
       "    </tr>\n",
       "    <tr>\n",
       "      <th>2020-03-03</th>\n",
       "      <td>300.239990</td>\n",
       "      <td>54.500000</td>\n",
       "      <td>50.790001</td>\n",
       "      <td>45.660000</td>\n",
       "      <td>26.900000</td>\n",
       "      <td>73.800003</td>\n",
       "      <td>89.930000</td>\n",
       "      <td>60.259998</td>\n",
       "      <td>38.590000</td>\n",
       "      <td>65.029999</td>\n",
       "      <td>94.540001</td>\n",
       "      <td>116.910004</td>\n",
       "    </tr>\n",
       "    <tr>\n",
       "      <th>2020-03-04</th>\n",
       "      <td>312.859985</td>\n",
       "      <td>56.759998</td>\n",
       "      <td>52.619999</td>\n",
       "      <td>46.740002</td>\n",
       "      <td>27.790001</td>\n",
       "      <td>76.849998</td>\n",
       "      <td>93.790001</td>\n",
       "      <td>63.220001</td>\n",
       "      <td>40.090000</td>\n",
       "      <td>68.720001</td>\n",
       "      <td>99.989998</td>\n",
       "      <td>120.949997</td>\n",
       "    </tr>\n",
       "    <tr>\n",
       "      <th>2020-03-05</th>\n",
       "      <td>302.459991</td>\n",
       "      <td>54.959999</td>\n",
       "      <td>50.700001</td>\n",
       "      <td>45.029999</td>\n",
       "      <td>26.450001</td>\n",
       "      <td>73.089996</td>\n",
       "      <td>90.830002</td>\n",
       "      <td>62.029999</td>\n",
       "      <td>39.169998</td>\n",
       "      <td>67.660004</td>\n",
       "      <td>97.669998</td>\n",
       "      <td>116.440002</td>\n",
       "    </tr>\n",
       "    <tr>\n",
       "      <th>2020-03-06</th>\n",
       "      <td>297.459991</td>\n",
       "      <td>53.529999</td>\n",
       "      <td>49.820000</td>\n",
       "      <td>42.500000</td>\n",
       "      <td>25.549999</td>\n",
       "      <td>72.449997</td>\n",
       "      <td>88.910004</td>\n",
       "      <td>61.540001</td>\n",
       "      <td>38.500000</td>\n",
       "      <td>67.110001</td>\n",
       "      <td>97.150002</td>\n",
       "      <td>114.650002</td>\n",
       "    </tr>\n",
       "  </tbody>\n",
       "</table>\n",
       "</div>"
      ],
      "text/plain": [
       "                   SPY        XLB        XLC        XLE        XLF        XLI  \\\n",
       "Date                                                                            \n",
       "2020-03-02  309.089996  54.980000  52.520000  47.099998  27.950001  75.650002   \n",
       "2020-03-03  300.239990  54.500000  50.790001  45.660000  26.900000  73.800003   \n",
       "2020-03-04  312.859985  56.759998  52.619999  46.740002  27.790001  76.849998   \n",
       "2020-03-05  302.459991  54.959999  50.700001  45.029999  26.450001  73.089996   \n",
       "2020-03-06  297.459991  53.529999  49.820000  42.500000  25.549999  72.449997   \n",
       "\n",
       "                  XLK        XLP       XLRE        XLU        XLV         XLY  \n",
       "Date                                                                           \n",
       "2020-03-02  93.480003  61.090000  38.619999  65.839996  96.949997  119.809998  \n",
       "2020-03-03  89.930000  60.259998  38.590000  65.029999  94.540001  116.910004  \n",
       "2020-03-04  93.790001  63.220001  40.090000  68.720001  99.989998  120.949997  \n",
       "2020-03-05  90.830002  62.029999  39.169998  67.660004  97.669998  116.440002  \n",
       "2020-03-06  88.910004  61.540001  38.500000  67.110001  97.150002  114.650002  "
      ]
     },
     "execution_count": 45,
     "metadata": {},
     "output_type": "execute_result"
    }
   ],
   "source": [
    "etf_df = yf.download(['XLC','XLY','XLP','XLE','XLF','XLV','XLI','XLB','XLRE','XLK','XLU','SPY'],\n",
    "                      start='2020-03-01',\n",
    "                      end='2020-12-31',\n",
    "                      progress=False)\n",
    "etf_df = etf_df['Close']\n",
    "etf_df.head()\n"
   ]
  },
  {
   "cell_type": "markdown",
   "metadata": {},
   "source": [
    "## Market Comparison"
   ]
  },
  {
   "cell_type": "code",
   "execution_count": 46,
   "metadata": {},
   "outputs": [
    {
     "data": {
      "text/html": [
       "<div>\n",
       "<style scoped>\n",
       "    .dataframe tbody tr th:only-of-type {\n",
       "        vertical-align: middle;\n",
       "    }\n",
       "\n",
       "    .dataframe tbody tr th {\n",
       "        vertical-align: top;\n",
       "    }\n",
       "\n",
       "    .dataframe thead th {\n",
       "        text-align: right;\n",
       "    }\n",
       "</style>\n",
       "<table border=\"1\" class=\"dataframe\">\n",
       "  <thead>\n",
       "    <tr style=\"text-align: right;\">\n",
       "      <th></th>\n",
       "      <th>XLC</th>\n",
       "      <th>XLY</th>\n",
       "      <th>XLP</th>\n",
       "      <th>XLE</th>\n",
       "      <th>XLF</th>\n",
       "      <th>XLV</th>\n",
       "      <th>XLI</th>\n",
       "      <th>XLB</th>\n",
       "      <th>XLRE</th>\n",
       "      <th>XLK</th>\n",
       "      <th>XLU</th>\n",
       "      <th>SPY</th>\n",
       "    </tr>\n",
       "    <tr>\n",
       "      <th>Date</th>\n",
       "      <th></th>\n",
       "      <th></th>\n",
       "      <th></th>\n",
       "      <th></th>\n",
       "      <th></th>\n",
       "      <th></th>\n",
       "      <th></th>\n",
       "      <th></th>\n",
       "      <th></th>\n",
       "      <th></th>\n",
       "      <th></th>\n",
       "      <th></th>\n",
       "    </tr>\n",
       "  </thead>\n",
       "  <tbody>\n",
       "    <tr>\n",
       "      <th>2020-03-02</th>\n",
       "      <td>52.520000</td>\n",
       "      <td>119.809998</td>\n",
       "      <td>61.090000</td>\n",
       "      <td>47.099998</td>\n",
       "      <td>27.950001</td>\n",
       "      <td>96.949997</td>\n",
       "      <td>75.650002</td>\n",
       "      <td>54.980000</td>\n",
       "      <td>38.619999</td>\n",
       "      <td>93.480003</td>\n",
       "      <td>65.839996</td>\n",
       "      <td>309.089996</td>\n",
       "    </tr>\n",
       "    <tr>\n",
       "      <th>2020-03-03</th>\n",
       "      <td>50.790001</td>\n",
       "      <td>116.910004</td>\n",
       "      <td>60.259998</td>\n",
       "      <td>45.660000</td>\n",
       "      <td>26.900000</td>\n",
       "      <td>94.540001</td>\n",
       "      <td>73.800003</td>\n",
       "      <td>54.500000</td>\n",
       "      <td>38.590000</td>\n",
       "      <td>89.930000</td>\n",
       "      <td>65.029999</td>\n",
       "      <td>300.239990</td>\n",
       "    </tr>\n",
       "    <tr>\n",
       "      <th>2020-03-04</th>\n",
       "      <td>52.619999</td>\n",
       "      <td>120.949997</td>\n",
       "      <td>63.220001</td>\n",
       "      <td>46.740002</td>\n",
       "      <td>27.790001</td>\n",
       "      <td>99.989998</td>\n",
       "      <td>76.849998</td>\n",
       "      <td>56.759998</td>\n",
       "      <td>40.090000</td>\n",
       "      <td>93.790001</td>\n",
       "      <td>68.720001</td>\n",
       "      <td>312.859985</td>\n",
       "    </tr>\n",
       "    <tr>\n",
       "      <th>2020-03-05</th>\n",
       "      <td>50.700001</td>\n",
       "      <td>116.440002</td>\n",
       "      <td>62.029999</td>\n",
       "      <td>45.029999</td>\n",
       "      <td>26.450001</td>\n",
       "      <td>97.669998</td>\n",
       "      <td>73.089996</td>\n",
       "      <td>54.959999</td>\n",
       "      <td>39.169998</td>\n",
       "      <td>90.830002</td>\n",
       "      <td>67.660004</td>\n",
       "      <td>302.459991</td>\n",
       "    </tr>\n",
       "    <tr>\n",
       "      <th>2020-03-06</th>\n",
       "      <td>49.820000</td>\n",
       "      <td>114.650002</td>\n",
       "      <td>61.540001</td>\n",
       "      <td>42.500000</td>\n",
       "      <td>25.549999</td>\n",
       "      <td>97.150002</td>\n",
       "      <td>72.449997</td>\n",
       "      <td>53.529999</td>\n",
       "      <td>38.500000</td>\n",
       "      <td>88.910004</td>\n",
       "      <td>67.110001</td>\n",
       "      <td>297.459991</td>\n",
       "    </tr>\n",
       "  </tbody>\n",
       "</table>\n",
       "</div>"
      ],
      "text/plain": [
       "                  XLC         XLY        XLP        XLE        XLF        XLV  \\\n",
       "Date                                                                            \n",
       "2020-03-02  52.520000  119.809998  61.090000  47.099998  27.950001  96.949997   \n",
       "2020-03-03  50.790001  116.910004  60.259998  45.660000  26.900000  94.540001   \n",
       "2020-03-04  52.619999  120.949997  63.220001  46.740002  27.790001  99.989998   \n",
       "2020-03-05  50.700001  116.440002  62.029999  45.029999  26.450001  97.669998   \n",
       "2020-03-06  49.820000  114.650002  61.540001  42.500000  25.549999  97.150002   \n",
       "\n",
       "                  XLI        XLB       XLRE        XLK        XLU         SPY  \n",
       "Date                                                                           \n",
       "2020-03-02  75.650002  54.980000  38.619999  93.480003  65.839996  309.089996  \n",
       "2020-03-03  73.800003  54.500000  38.590000  89.930000  65.029999  300.239990  \n",
       "2020-03-04  76.849998  56.759998  40.090000  93.790001  68.720001  312.859985  \n",
       "2020-03-05  73.089996  54.959999  39.169998  90.830002  67.660004  302.459991  \n",
       "2020-03-06  72.449997  53.529999  38.500000  88.910004  67.110001  297.459991  "
      ]
     },
     "execution_count": 46,
     "metadata": {},
     "output_type": "execute_result"
    }
   ],
   "source": [
    "market_comparison = etf_df[['XLC','XLY','XLP','XLE','XLF','XLV','XLI','XLB','XLRE','XLK','XLU','SPY']]\n",
    "market_comparison.head()"
   ]
  },
  {
   "cell_type": "code",
   "execution_count": 47,
   "metadata": {},
   "outputs": [
    {
     "data": {
      "application/vnd.holoviews_exec.v0+json": "",
      "text/html": [
       "<div id='1001'>\n",
       "\n",
       "\n",
       "\n",
       "\n",
       "\n",
       "  <div class=\"bk-root\" id=\"be3ecd0e-26b3-435a-a2ea-125151ca113d\" data-root-id=\"1001\"></div>\n",
       "</div>\n",
       "<script type=\"application/javascript\">(function(root) {\n",
       "  function embed_document(root) {\n",
       "  var docs_json = {\"f7d1453a-888c-4725-ab8c-3d5b081aa74e\":{\"roots\":{\"references\":[{\"attributes\":{\"line_alpha\":0.2,\"line_color\":\"#d62628\",\"line_width\":2,\"x\":{\"field\":\"Date\"},\"y\":{\"field\":\"value\"}},\"id\":\"1150\",\"type\":\"Line\"},{\"attributes\":{},\"id\":\"1024\",\"type\":\"LinearScale\"},{\"attributes\":{},\"id\":\"1146\",\"type\":\"Selection\"},{\"attributes\":{\"line_alpha\":0.2,\"line_color\":\"#8c564b\",\"line_width\":2,\"x\":{\"field\":\"Date\"},\"y\":{\"field\":\"value\"}},\"id\":\"1222\",\"type\":\"Line\"},{\"attributes\":{\"source\":{\"id\":\"1217\"}},\"id\":\"1224\",\"type\":\"CDSView\"},{\"attributes\":{\"line_alpha\":0.1,\"line_color\":\"#7e7e7e\",\"line_width\":2,\"x\":{\"field\":\"Date\"},\"y\":{\"field\":\"value\"}},\"id\":\"1301\",\"type\":\"Line\"},{\"attributes\":{\"source\":{\"id\":\"1481\"}},\"id\":\"1488\",\"type\":\"CDSView\"},{\"attributes\":{\"line_alpha\":0.2,\"line_color\":\"#2ba02b\",\"line_width\":2,\"x\":{\"field\":\"Date\"},\"y\":{\"field\":\"value\"}},\"id\":\"1117\",\"type\":\"Line\"},{\"attributes\":{\"data\":{\"Date\":{\"__ndarray__\":\"AAAAE9sJd0IAAMB4LQp3QgAAgN5/CndCAABARNIKd0IAAIB1yQt3QgAAQNsbDHdCAAAAQW4Md0IAAMCmwAx3QgAAgAwTDXdCAADAPQoOd0IAAICjXA53QgAAQAmvDndCAAAAbwEPd0IAAMDUUw93QgAAAAZLEHdCAADAa50Qd0IAAIDR7xB3QgAAQDdCEXdCAAAAnZQRd0IAAEDOixJ3QgAAADTeEndCAADAmTATd0IAAID/ghN3QgAAQGXVE3dCAACAlswUd0IAAED8HhV3QgAAAGJxFXdCAADAx8MVd0IAAMBeDRd3QgAAgMRfF3dCAABAKrIXd0IAAACQBBh3QgAAwPVWGHdCAAAAJ04Zd0IAAMCMoBl3QgAAgPLyGXdCAABAWEUad0IAAAC+lxp3QgAAQO+OG3dCAAAAVeEbd0IAAMC6Mxx3QgAAgCCGHHdCAABAhtgcd0IAAIC3zx13QgAAQB0iHndCAAAAg3Qed0IAAMDoxh53QgAAgE4ZH3dCAADAfxAgd0IAAIDlYiB3QgAAQEu1IHdCAAAAsQchd0IAAMAWWiF3QgAAAEhRIndCAADAraMid0IAAIAT9iJ3QgAAQHlII3dCAAAA35ojd0IAAAB25CR3QgAAwNs2JXdCAACAQYkld0IAAECn2yV3QgAAgNjSJndCAABAPiUnd0IAAACkdyd3QgAAwAnKJ3dCAACAbxwod0IAAMCgEyl3QgAAgAZmKXdCAABAbLgpd0IAAADSCip3QgAAwDddKndCAAAAaVQrd0IAAMDOpit3QgAAgDT5K3dCAABAmkssd0IAAAAAnix3QgAAQDGVLXdCAAAAl+ctd0IAAMD8OS53QgAAgGKMLndCAABAyN4ud0IAAID51S93QgAAQF8oMHdCAAAAxXowd0IAAMAqzTB3QgAAwMEWMndCAACAJ2kyd0IAAECNuzJ3QgAAAPMNM3dCAADAWGAzd0IAAACKVzR3QgAAwO+pNHdCAACAVfw0d0IAAEC7TjV3QgAAACGhNXdCAABAUpg2d0IAAAC46jZ3QgAAwB09N3dCAACAg483d0IAAEDp4Td3QgAAgBrZOHdCAABAgCs5d0IAAADmfTl3QgAAwEvQOXdCAACAsSI6d0IAAMDiGTt3QgAAgEhsO3dCAABArr47d0IAAAAUETx3QgAAwHljPHdCAAAAq1o9d0IAAMAQrT13QgAAgHb/PXdCAABA3FE+d0IAAABCpD53QgAAQHObP3dCAAAA2e0/d0IAAMA+QEB3QgAAgKSSQHdCAABACuVAd0IAAIA73EF3QgAAQKEuQndCAAAAB4FCd0IAAMBs00J3QgAAgNIlQ3dCAADAAx1Ed0IAAIBpb0R3QgAAQM/BRHdCAAAANRRFd0IAAMCaZkV3QgAAwDGwRndCAACAlwJHd0IAAED9VEd3QgAAAGOnR3dCAABAlJ5Id0IAAAD68Eh3QgAAwF9DSXdCAACAxZVJd0IAAEAr6El3QgAAgFzfSndCAABAwjFLd0IAAAAohEt3QgAAwI3WS3dCAACA8yhMd0IAAMAkIE13QgAAgIpyTXdCAABA8MRNd0IAAABWF053QgAAwLtpTndCAAAA7WBPd0IAAMBSs093QgAAgLgFUHdC\",\"dtype\":\"float64\",\"order\":\"little\",\"shape\":[153]},\"Variable\":[\"XLV\",\"XLV\",\"XLV\",\"XLV\",\"XLV\",\"XLV\",\"XLV\",\"XLV\",\"XLV\",\"XLV\",\"XLV\",\"XLV\",\"XLV\",\"XLV\",\"XLV\",\"XLV\",\"XLV\",\"XLV\",\"XLV\",\"XLV\",\"XLV\",\"XLV\",\"XLV\",\"XLV\",\"XLV\",\"XLV\",\"XLV\",\"XLV\",\"XLV\",\"XLV\",\"XLV\",\"XLV\",\"XLV\",\"XLV\",\"XLV\",\"XLV\",\"XLV\",\"XLV\",\"XLV\",\"XLV\",\"XLV\",\"XLV\",\"XLV\",\"XLV\",\"XLV\",\"XLV\",\"XLV\",\"XLV\",\"XLV\",\"XLV\",\"XLV\",\"XLV\",\"XLV\",\"XLV\",\"XLV\",\"XLV\",\"XLV\",\"XLV\",\"XLV\",\"XLV\",\"XLV\",\"XLV\",\"XLV\",\"XLV\",\"XLV\",\"XLV\",\"XLV\",\"XLV\",\"XLV\",\"XLV\",\"XLV\",\"XLV\",\"XLV\",\"XLV\",\"XLV\",\"XLV\",\"XLV\",\"XLV\",\"XLV\",\"XLV\",\"XLV\",\"XLV\",\"XLV\",\"XLV\",\"XLV\",\"XLV\",\"XLV\",\"XLV\",\"XLV\",\"XLV\",\"XLV\",\"XLV\",\"XLV\",\"XLV\",\"XLV\",\"XLV\",\"XLV\",\"XLV\",\"XLV\",\"XLV\",\"XLV\",\"XLV\",\"XLV\",\"XLV\",\"XLV\",\"XLV\",\"XLV\",\"XLV\",\"XLV\",\"XLV\",\"XLV\",\"XLV\",\"XLV\",\"XLV\",\"XLV\",\"XLV\",\"XLV\",\"XLV\",\"XLV\",\"XLV\",\"XLV\",\"XLV\",\"XLV\",\"XLV\",\"XLV\",\"XLV\",\"XLV\",\"XLV\",\"XLV\",\"XLV\",\"XLV\",\"XLV\",\"XLV\",\"XLV\",\"XLV\",\"XLV\",\"XLV\",\"XLV\",\"XLV\",\"XLV\",\"XLV\",\"XLV\",\"XLV\",\"XLV\",\"XLV\",\"XLV\",\"XLV\",\"XLV\",\"XLV\",\"XLV\",\"XLV\",\"XLV\",\"XLV\"],\"value\":{\"__ndarray__\":\"YPVWJWl0mb8Aemrq+YOtP+D7bi5Zwpe/gL3BsKLOdb9QX9/KUZ2qv4B/ZcQnkaE/QHVkQGuQo78oht6wqxyzv+BLUz5RwbE/4B/t34Q+ub9QKKuyChKwPxC+UMls+qC/YK9ixqH5lL+Q3tJpuKujv+BZfRnn76y/wNkUYgO6sz8AjK4jEUSLP9CrnWmBAbE/YMT7sCPulb+gvuwo+/mnP4B5kvps9HG/QPggfpl6o79AyqlfalycPwC+UxfLeYK/wIygQEzYqj/Aa3AUcdGAvwByT6JqFaU/ANuOLZ2Vdj8A7bHV1+yBvyD1nY16/qA/gJnxNloWdb/ATAplvFyWP4AlhhcRQ5U/AD8FYNFBgL9gx3gdxiKfvwDDu6ZfRI8/ABBEkzh5dj+AgzpiUoaLP4Bgo1XDV4o/wAQKPV+qlL8ALeEYUil7PwAXHPBKznK/QNOlZzmCk78ApPjRmb9AvwDwvwWjM5Y/QPHQs6JLhL8A4CRSSoIavwA3UVM9H3U/AET4tUOdkT/Anje0nDCPv8DnmrIzNoa/AJBdWIx0hj+A+rEhk0aBP4AUTllm7YA/gCHfY1qtiL8ArHhBxadTP4CJk3LRQ36/ABIGPSNOYT8ALKHtjppdv4BLVzGSNoU/gHmf0we0ij8AyavJ+r+IP0DH6vB+R4S/AJ3Xm+2xdz8AwnDyz/Ffv8CuqW3/M4C/QMmH3rSIkD8A9NwEVS18P4A189m6SIW/APz1HmZ9Wb+QMWBJ3nisvwBqModqnHo/ADCIkzZ3Yj8An4GKeTqZPwB+DjzvWFC/ABWAoPvQa78AIRt4wLODP8DIrFAbd4C/AE5GO5afcT9AlkZ53Lqav4BnDkYDHYQ/wJfXB6nliL8Ahtr9iHuCP8AUSMIVfJE/AAVYKFqEfz8ANaUO0d5+PwAwtEEew4Q/QFGwvpXCgb8AwNXyhcUZP8DooosuGoC/AJjRZsF5Y78AzOlNvi53PwB2xQmCUpQ/gPeKR6qRij8AUm/9t55av4CKVlo3CYw/AJBNt4nAKL8ASD26bKpFvwD8m7qsY4I/gGb/AvFqcr+Ak6GePYyGvwASgPTJyX4/ADp+YE+RUr+AOmCfIH6FP4BB/oz0W3y/gNPoDk6Kd78Al7RWSyeFPwBuOHhSDnK/AHS3+lHocj+A1CLpueR1vwCEKGpaQmo/AGEl1/i2a78AaM5XueB5v0AOqx8TM5E/ABYz/CpoVb8AVufNgBNgvwBKAKFkKXg/AEAptd9MMr8AQnSrQ7JqvwCU8gDQBGq/AGAlwKTjUD+A6x/w9clyvwARYmtPvHs/AOyLw7HlU78AmlpDAReAPwAwcOysPmI/AGgvob24Yz9AbkRulFmCv4CkV0glhZQ/QLMM/RDim78AB1/joD19vyBq0ZZT25C/ADZsE7ofkj+Apf0Y3VuPvwAivYGgHnA/gHqmgTBfjT8A3JyZOZ9VPwD+9Hj+wlu/AFXYCmoJa78AhK8l1sxYv+BcOXDa5Za/AJ9BcpB3Yb+ApJNGqxWFv4Bk7AkMgHS/wBY4RFx2kD+A+4H58XyCPwAqaolKfVS/gB8AO3xfkD8AaeD6hvVrv4AFjnkDtIK/QM4/TdQJlT+ANlj7WiqLvwAaLrl6VJM/\",\"dtype\":\"float64\",\"order\":\"little\",\"shape\":[153]}},\"selected\":{\"id\":\"1218\"},\"selection_policy\":{\"id\":\"1241\"}},\"id\":\"1217\",\"type\":\"ColumnDataSource\"},{\"attributes\":{\"line_color\":\"#d62628\",\"line_width\":2,\"x\":{\"field\":\"Date\"},\"y\":{\"field\":\"value\"}},\"id\":\"1148\",\"type\":\"Line\"},{\"attributes\":{\"bottom_units\":\"screen\",\"fill_alpha\":0.5,\"fill_color\":\"lightgrey\",\"left_units\":\"screen\",\"level\":\"overlay\",\"line_alpha\":1.0,\"line_color\":\"black\",\"line_dash\":[4,4],\"line_width\":2,\"right_units\":\"screen\",\"top_units\":\"screen\"},\"id\":\"1039\",\"type\":\"BoxAnnotation\"},{\"attributes\":{\"source\":{\"id\":\"1081\"}},\"id\":\"1088\",\"type\":\"CDSView\"},{\"attributes\":{\"data\":{\"Date\":{\"__ndarray__\":\"AAAAE9sJd0IAAMB4LQp3QgAAgN5/CndCAABARNIKd0IAAIB1yQt3QgAAQNsbDHdCAAAAQW4Md0IAAMCmwAx3QgAAgAwTDXdCAADAPQoOd0IAAICjXA53QgAAQAmvDndCAAAAbwEPd0IAAMDUUw93QgAAAAZLEHdCAADAa50Qd0IAAIDR7xB3QgAAQDdCEXdCAAAAnZQRd0IAAEDOixJ3QgAAADTeEndCAADAmTATd0IAAID/ghN3QgAAQGXVE3dCAACAlswUd0IAAED8HhV3QgAAAGJxFXdCAADAx8MVd0IAAMBeDRd3QgAAgMRfF3dCAABAKrIXd0IAAACQBBh3QgAAwPVWGHdCAAAAJ04Zd0IAAMCMoBl3QgAAgPLyGXdCAABAWEUad0IAAAC+lxp3QgAAQO+OG3dCAAAAVeEbd0IAAMC6Mxx3QgAAgCCGHHdCAABAhtgcd0IAAIC3zx13QgAAQB0iHndCAAAAg3Qed0IAAMDoxh53QgAAgE4ZH3dCAADAfxAgd0IAAIDlYiB3QgAAQEu1IHdCAAAAsQchd0IAAMAWWiF3QgAAAEhRIndCAADAraMid0IAAIAT9iJ3QgAAQHlII3dCAAAA35ojd0IAAAB25CR3QgAAwNs2JXdCAACAQYkld0IAAECn2yV3QgAAgNjSJndCAABAPiUnd0IAAACkdyd3QgAAwAnKJ3dCAACAbxwod0IAAMCgEyl3QgAAgAZmKXdCAABAbLgpd0IAAADSCip3QgAAwDddKndCAAAAaVQrd0IAAMDOpit3QgAAgDT5K3dCAABAmkssd0IAAAAAnix3QgAAQDGVLXdCAAAAl+ctd0IAAMD8OS53QgAAgGKMLndCAABAyN4ud0IAAID51S93QgAAQF8oMHdCAAAAxXowd0IAAMAqzTB3QgAAwMEWMndCAACAJ2kyd0IAAECNuzJ3QgAAAPMNM3dCAADAWGAzd0IAAACKVzR3QgAAwO+pNHdCAACAVfw0d0IAAEC7TjV3QgAAACGhNXdCAABAUpg2d0IAAAC46jZ3QgAAwB09N3dCAACAg483d0IAAEDp4Td3QgAAgBrZOHdCAABAgCs5d0IAAADmfTl3QgAAwEvQOXdCAACAsSI6d0IAAMDiGTt3QgAAgEhsO3dCAABArr47d0IAAAAUETx3QgAAwHljPHdCAAAAq1o9d0IAAMAQrT13QgAAgHb/PXdCAABA3FE+d0IAAABCpD53QgAAQHObP3dCAAAA2e0/d0IAAMA+QEB3QgAAgKSSQHdCAABACuVAd0IAAIA73EF3QgAAQKEuQndCAAAAB4FCd0IAAMBs00J3QgAAgNIlQ3dCAADAAx1Ed0IAAIBpb0R3QgAAQM/BRHdCAAAANRRFd0IAAMCaZkV3QgAAwDGwRndCAACAlwJHd0IAAED9VEd3QgAAAGOnR3dCAABAlJ5Id0IAAAD68Eh3QgAAwF9DSXdCAACAxZVJd0IAAEAr6El3QgAAgFzfSndCAABAwjFLd0IAAAAohEt3QgAAwI3WS3dCAACA8yhMd0IAAMAkIE13QgAAgIpyTXdCAABA8MRNd0IAAABWF053QgAAwLtpTndCAAAA7WBPd0IAAMBSs093QgAAgLgFUHdC\",\"dtype\":\"float64\",\"order\":\"little\",\"shape\":[153]},\"Variable\":[\"XLI\",\"XLI\",\"XLI\",\"XLI\",\"XLI\",\"XLI\",\"XLI\",\"XLI\",\"XLI\",\"XLI\",\"XLI\",\"XLI\",\"XLI\",\"XLI\",\"XLI\",\"XLI\",\"XLI\",\"XLI\",\"XLI\",\"XLI\",\"XLI\",\"XLI\",\"XLI\",\"XLI\",\"XLI\",\"XLI\",\"XLI\",\"XLI\",\"XLI\",\"XLI\",\"XLI\",\"XLI\",\"XLI\",\"XLI\",\"XLI\",\"XLI\",\"XLI\",\"XLI\",\"XLI\",\"XLI\",\"XLI\",\"XLI\",\"XLI\",\"XLI\",\"XLI\",\"XLI\",\"XLI\",\"XLI\",\"XLI\",\"XLI\",\"XLI\",\"XLI\",\"XLI\",\"XLI\",\"XLI\",\"XLI\",\"XLI\",\"XLI\",\"XLI\",\"XLI\",\"XLI\",\"XLI\",\"XLI\",\"XLI\",\"XLI\",\"XLI\",\"XLI\",\"XLI\",\"XLI\",\"XLI\",\"XLI\",\"XLI\",\"XLI\",\"XLI\",\"XLI\",\"XLI\",\"XLI\",\"XLI\",\"XLI\",\"XLI\",\"XLI\",\"XLI\",\"XLI\",\"XLI\",\"XLI\",\"XLI\",\"XLI\",\"XLI\",\"XLI\",\"XLI\",\"XLI\",\"XLI\",\"XLI\",\"XLI\",\"XLI\",\"XLI\",\"XLI\",\"XLI\",\"XLI\",\"XLI\",\"XLI\",\"XLI\",\"XLI\",\"XLI\",\"XLI\",\"XLI\",\"XLI\",\"XLI\",\"XLI\",\"XLI\",\"XLI\",\"XLI\",\"XLI\",\"XLI\",\"XLI\",\"XLI\",\"XLI\",\"XLI\",\"XLI\",\"XLI\",\"XLI\",\"XLI\",\"XLI\",\"XLI\",\"XLI\",\"XLI\",\"XLI\",\"XLI\",\"XLI\",\"XLI\",\"XLI\",\"XLI\",\"XLI\",\"XLI\",\"XLI\",\"XLI\",\"XLI\",\"XLI\",\"XLI\",\"XLI\",\"XLI\",\"XLI\",\"XLI\",\"XLI\",\"XLI\",\"XLI\",\"XLI\",\"XLI\",\"XLI\",\"XLI\",\"XLI\",\"XLI\",\"XLI\"],\"value\":{\"__ndarray__\":\"gBKkeacKmb9gCWaE7CilP0ANezflDKm/wJLvXNXugb+IYnbshJq3v8A57jq+i6o/gD/K7UcMrr/ISXbTDn+6vwCvKtvx/rM/YCzlSn4Kvb8gCmb605SnPxjtDmvn27K/AFjhnOE9SD+QPBaIf6Spv/CjDtiaMqq/sCrc7YwxwD+Alp9mxO6qP6CTBpFeKLA/8FosI72Rpb8AO3m9ceiNP8Blb+hJXYm/gGRKoVgUp7+AYJTxGUKLP4D6I7Y/Qou/EC3HlJK4sT8AnV58+Aljv8BUnQlckqI/gCPJnyrpjj+ggATMGfedv8CfJtqzhZM/YCAlwIBTnL9AcF5Pvy+CvwDw5ZGHCqg/QFVE/W1Dm7+gh1gaqyyYv4BQu/bAg4U/AK63Lc44gD+A58+S9W2APwDsyiQ2cpk/wPiFBDgmkz9AUULwJZiTP8D322oTUpS/IMOvBT/wnr+AQlREfPuJvwD2Sjq6+m8/AEEVcXI0jL8A+TsqbeOHP0CnCEcncZk/QG41GfSiib+g6Zh9O8GcvyBfF9x8spm/AMUh6cqAhT8AW+zul9Rsv3AIzp2S4LA/wKoTEXEsir+A402c2iWTPwBYP4wsR2M/AMhKhcikSb8gPISGY36lP8CtIeBSFqE/QOugO6Ndg7+AmloU6UN5vwBCqXKtKGI/AEs92eOSij+gFfDyJPmjP4CbW3M8zoU/4CPmhdHOoj+A9IDpmYmUP2DeyWyxgJm/wC7/RZCAmL8YS14VIvuxvwAr36zF3pM/AHhLpmk8hD/A9q4DugmUPwAX1QPwen2/AMzocrtGbr/APfLu7SCJvwBS6J+ne2a/AMBQji79Ij+Ah4w/usuhvwDq/P0IvYY/QEN+SnH+kr9A523nXMygPwAH2zuXYnc/gHP3UYd7cr8A8XcYD6uBP4B5yraOZI0/QIxb+1mck78AAAAAAAAAAGBDEylNO5a/gKMBlr6Jij8AoesWA91wP0BkMd89MZY/ALpDSfIfmj8A0DhZ3FAyPwAOsEb1m3g/wHEcx/EHib+AcpL8hhGLP4C/J5Dte4A/AI4xuorPaL8ApkJf82aAvwCYeZPXGnE/gPw8dKVjfL+A735PDSmPP0COIA9ejoS/ADmO4zi4br8AuJ35cSFxPwDk2ZG0eGQ/wHdaB86Rkz8AriAWkCtvP4BZBVNed5E/gFPTLQ03mT8ANooaudB1PwAqykGfdmo/gDnitj+hdb8AiNeYQ9JvPwD8taDtBHO/AERXjOFKdr8AMCLNzlhlvwB/WsYy8HW/AEcdOTCtcD+ART5c+3uSPwBiE9H5DFW/ALAzeRHcQD8AepXmrH5tP4AAHDrQaoM/QF/+zC55ib8AXN21EcuEP8CAn6u575A/oPebHDa1nL8AGmlNkvxiP0CJB4rhNJO/AFagvsOjjz/AJw0/KSSKv4ANBdMQ0Ys/gP8spzW1iz8AQC6xtNNEPwBprNDT0IQ/ALq2NAx8YD+A+QAU3OCGv2Csb1CS6aK/gAcHgsI+hD9gwBH7Qk+SvwDsHBY+81c/AE6JmoS1jj/AoZvbgXmSP8B71/2wJYK/AJ5jeFw6Zb8ArtRd8Hlov4BrhSDD8oY/AEjd4yJ+kD9A2PktZu6Iv4ANKiwJnJY/\",\"dtype\":\"float64\",\"order\":\"little\",\"shape\":[153]}},\"selected\":{\"id\":\"1257\"},\"selection_policy\":{\"id\":\"1282\"}},\"id\":\"1256\",\"type\":\"ColumnDataSource\"},{\"attributes\":{\"source\":{\"id\":\"1256\"}},\"id\":\"1263\",\"type\":\"CDSView\"},{\"attributes\":{\"data_source\":{\"id\":\"1081\"},\"glyph\":{\"id\":\"1084\"},\"hover_glyph\":null,\"muted_glyph\":{\"id\":\"1086\"},\"nonselection_glyph\":{\"id\":\"1085\"},\"selection_glyph\":null,\"view\":{\"id\":\"1088\"}},\"id\":\"1087\",\"type\":\"GlyphRenderer\"},{\"attributes\":{\"line_color\":\"#2ba02b\",\"line_width\":2,\"x\":{\"field\":\"Date\"},\"y\":{\"field\":\"value\"}},\"id\":\"1115\",\"type\":\"Line\"},{\"attributes\":{},\"id\":\"1035\",\"type\":\"PanTool\"},{\"attributes\":{\"line_alpha\":0.1,\"line_color\":\"#2ba02b\",\"line_width\":2,\"x\":{\"field\":\"Date\"},\"y\":{\"field\":\"value\"}},\"id\":\"1116\",\"type\":\"Line\"},{\"attributes\":{},\"id\":\"1052\",\"type\":\"Selection\"},{\"attributes\":{\"data_source\":{\"id\":\"1481\"},\"glyph\":{\"id\":\"1484\"},\"hover_glyph\":null,\"muted_glyph\":{\"id\":\"1486\"},\"nonselection_glyph\":{\"id\":\"1485\"},\"selection_glyph\":null,\"view\":{\"id\":\"1488\"}},\"id\":\"1487\",\"type\":\"GlyphRenderer\"},{\"attributes\":{\"data_source\":{\"id\":\"1112\"},\"glyph\":{\"id\":\"1115\"},\"hover_glyph\":null,\"muted_glyph\":{\"id\":\"1117\"},\"nonselection_glyph\":{\"id\":\"1116\"},\"selection_glyph\":null,\"view\":{\"id\":\"1119\"}},\"id\":\"1118\",\"type\":\"GlyphRenderer\"},{\"attributes\":{\"line_alpha\":0.2,\"line_color\":\"#e277c1\",\"line_width\":2,\"x\":{\"field\":\"Date\"},\"y\":{\"field\":\"value\"}},\"id\":\"1261\",\"type\":\"Line\"},{\"attributes\":{\"line_color\":\"#7e7e7e\",\"line_width\":2,\"x\":{\"field\":\"Date\"},\"y\":{\"field\":\"value\"}},\"id\":\"1300\",\"type\":\"Line\"},{\"attributes\":{},\"id\":\"1165\",\"type\":\"UnionRenderers\"},{\"attributes\":{\"source\":{\"id\":\"1145\"}},\"id\":\"1152\",\"type\":\"CDSView\"},{\"attributes\":{\"line_color\":\"#e277c1\",\"line_width\":2,\"x\":{\"field\":\"Date\"},\"y\":{\"field\":\"value\"}},\"id\":\"1259\",\"type\":\"Line\"},{\"attributes\":{\"line_alpha\":0.1,\"line_color\":\"#e277c1\",\"line_width\":2,\"x\":{\"field\":\"Date\"},\"y\":{\"field\":\"value\"}},\"id\":\"1260\",\"type\":\"Line\"},{\"attributes\":{},\"id\":\"1130\",\"type\":\"UnionRenderers\"},{\"attributes\":{\"source\":{\"id\":\"1180\"}},\"id\":\"1187\",\"type\":\"CDSView\"},{\"attributes\":{\"days\":[1,2,3,4,5,6,7,8,9,10,11,12,13,14,15,16,17,18,19,20,21,22,23,24,25,26,27,28,29,30,31]},\"id\":\"1070\",\"type\":\"DaysTicker\"},{\"attributes\":{},\"id\":\"1218\",\"type\":\"Selection\"},{\"attributes\":{\"margin\":[5,5,5,5],\"name\":\"HSpacer01788\",\"sizing_mode\":\"stretch_width\"},\"id\":\"1910\",\"type\":\"Spacer\"},{\"attributes\":{\"data_source\":{\"id\":\"1217\"},\"glyph\":{\"id\":\"1220\"},\"hover_glyph\":null,\"muted_glyph\":{\"id\":\"1222\"},\"nonselection_glyph\":{\"id\":\"1221\"},\"selection_glyph\":null,\"view\":{\"id\":\"1224\"}},\"id\":\"1223\",\"type\":\"GlyphRenderer\"},{\"attributes\":{\"active_drag\":\"auto\",\"active_inspect\":\"auto\",\"active_multi\":null,\"active_scroll\":\"auto\",\"active_tap\":\"auto\",\"tools\":[{\"id\":\"1005\"},{\"id\":\"1034\"},{\"id\":\"1035\"},{\"id\":\"1036\"},{\"id\":\"1037\"},{\"id\":\"1038\"}]},\"id\":\"1040\",\"type\":\"Toolbar\"},{\"attributes\":{\"line_alpha\":0.2,\"line_color\":\"#7e7e7e\",\"line_width\":2,\"x\":{\"field\":\"Date\"},\"y\":{\"field\":\"value\"}},\"id\":\"1302\",\"type\":\"Line\"},{\"attributes\":{},\"id\":\"1257\",\"type\":\"Selection\"},{\"attributes\":{\"data_source\":{\"id\":\"1297\"},\"glyph\":{\"id\":\"1300\"},\"hover_glyph\":null,\"muted_glyph\":{\"id\":\"1302\"},\"nonselection_glyph\":{\"id\":\"1301\"},\"selection_glyph\":null,\"view\":{\"id\":\"1304\"}},\"id\":\"1303\",\"type\":\"GlyphRenderer\"},{\"attributes\":{\"line_alpha\":0.1,\"line_color\":\"#8c564b\",\"line_width\":2,\"x\":{\"field\":\"Date\"},\"y\":{\"field\":\"value\"}},\"id\":\"1221\",\"type\":\"Line\"},{\"attributes\":{},\"id\":\"1097\",\"type\":\"UnionRenderers\"},{\"attributes\":{},\"id\":\"1022\",\"type\":\"LinearScale\"},{\"attributes\":{\"overlay\":{\"id\":\"1039\"}},\"id\":\"1037\",\"type\":\"BoxZoomTool\"},{\"attributes\":{},\"id\":\"1241\",\"type\":\"UnionRenderers\"},{\"attributes\":{},\"id\":\"1050\",\"type\":\"BasicTickFormatter\"},{\"attributes\":{},\"id\":\"1113\",\"type\":\"Selection\"},{\"attributes\":{\"data_source\":{\"id\":\"1180\"},\"glyph\":{\"id\":\"1183\"},\"hover_glyph\":null,\"muted_glyph\":{\"id\":\"1185\"},\"nonselection_glyph\":{\"id\":\"1184\"},\"selection_glyph\":null,\"view\":{\"id\":\"1187\"}},\"id\":\"1186\",\"type\":\"GlyphRenderer\"},{\"attributes\":{\"label\":{\"value\":\"XLB\"},\"renderers\":[{\"id\":\"1303\"}]},\"id\":\"1339\",\"type\":\"LegendItem\"},{\"attributes\":{\"line_alpha\":0.2,\"line_color\":\"#9367bc\",\"line_width\":2,\"x\":{\"field\":\"Date\"},\"y\":{\"field\":\"value\"}},\"id\":\"1185\",\"type\":\"Line\"},{\"attributes\":{},\"id\":\"1298\",\"type\":\"Selection\"},{\"attributes\":{\"data\":{\"Date\":{\"__ndarray__\":\"AAAAE9sJd0IAAMB4LQp3QgAAgN5/CndCAABARNIKd0IAAIB1yQt3QgAAQNsbDHdCAAAAQW4Md0IAAMCmwAx3QgAAgAwTDXdCAADAPQoOd0IAAICjXA53QgAAQAmvDndCAAAAbwEPd0IAAMDUUw93QgAAAAZLEHdCAADAa50Qd0IAAIDR7xB3QgAAQDdCEXdCAAAAnZQRd0IAAEDOixJ3QgAAADTeEndCAADAmTATd0IAAID/ghN3QgAAQGXVE3dCAACAlswUd0IAAED8HhV3QgAAAGJxFXdCAADAx8MVd0IAAMBeDRd3QgAAgMRfF3dCAABAKrIXd0IAAACQBBh3QgAAwPVWGHdCAAAAJ04Zd0IAAMCMoBl3QgAAgPLyGXdCAABAWEUad0IAAAC+lxp3QgAAQO+OG3dCAAAAVeEbd0IAAMC6Mxx3QgAAgCCGHHdCAABAhtgcd0IAAIC3zx13QgAAQB0iHndCAAAAg3Qed0IAAMDoxh53QgAAgE4ZH3dCAADAfxAgd0IAAIDlYiB3QgAAQEu1IHdCAAAAsQchd0IAAMAWWiF3QgAAAEhRIndCAADAraMid0IAAIAT9iJ3QgAAQHlII3dCAAAA35ojd0IAAAB25CR3QgAAwNs2JXdCAACAQYkld0IAAECn2yV3QgAAgNjSJndCAABAPiUnd0IAAACkdyd3QgAAwAnKJ3dCAACAbxwod0IAAMCgEyl3QgAAgAZmKXdCAABAbLgpd0IAAADSCip3QgAAwDddKndCAAAAaVQrd0IAAMDOpit3QgAAgDT5K3dCAABAmkssd0IAAAAAnix3QgAAQDGVLXdCAAAAl+ctd0IAAMD8OS53QgAAgGKMLndCAABAyN4ud0IAAID51S93QgAAQF8oMHdCAAAAxXowd0IAAMAqzTB3QgAAwMEWMndCAACAJ2kyd0IAAECNuzJ3QgAAAPMNM3dCAADAWGAzd0IAAACKVzR3QgAAwO+pNHdCAACAVfw0d0IAAEC7TjV3QgAAACGhNXdCAABAUpg2d0IAAAC46jZ3QgAAwB09N3dCAACAg483d0IAAEDp4Td3QgAAgBrZOHdCAABAgCs5d0IAAADmfTl3QgAAwEvQOXdCAACAsSI6d0IAAMDiGTt3QgAAgEhsO3dCAABArr47d0IAAAAUETx3QgAAwHljPHdCAAAAq1o9d0IAAMAQrT13QgAAgHb/PXdCAABA3FE+d0IAAABCpD53QgAAQHObP3dCAAAA2e0/d0IAAMA+QEB3QgAAgKSSQHdCAABACuVAd0IAAIA73EF3QgAAQKEuQndCAAAAB4FCd0IAAMBs00J3QgAAgNIlQ3dCAADAAx1Ed0IAAIBpb0R3QgAAQM/BRHdCAAAANRRFd0IAAMCaZkV3QgAAwDGwRndCAACAlwJHd0IAAED9VEd3QgAAAGOnR3dCAABAlJ5Id0IAAAD68Eh3QgAAwF9DSXdCAACAxZVJd0IAAEAr6El3QgAAgFzfSndCAABAwjFLd0IAAAAohEt3QgAAwI3WS3dCAACA8yhMd0IAAMAkIE13QgAAgIpyTXdCAABA8MRNd0IAAABWF053QgAAwLtpTndCAAAA7WBPd0IAAMBSs093QgAAgLgFUHdC\",\"dtype\":\"float64\",\"order\":\"little\",\"shape\":[153]},\"Variable\":[\"XLB\",\"XLB\",\"XLB\",\"XLB\",\"XLB\",\"XLB\",\"XLB\",\"XLB\",\"XLB\",\"XLB\",\"XLB\",\"XLB\",\"XLB\",\"XLB\",\"XLB\",\"XLB\",\"XLB\",\"XLB\",\"XLB\",\"XLB\",\"XLB\",\"XLB\",\"XLB\",\"XLB\",\"XLB\",\"XLB\",\"XLB\",\"XLB\",\"XLB\",\"XLB\",\"XLB\",\"XLB\",\"XLB\",\"XLB\",\"XLB\",\"XLB\",\"XLB\",\"XLB\",\"XLB\",\"XLB\",\"XLB\",\"XLB\",\"XLB\",\"XLB\",\"XLB\",\"XLB\",\"XLB\",\"XLB\",\"XLB\",\"XLB\",\"XLB\",\"XLB\",\"XLB\",\"XLB\",\"XLB\",\"XLB\",\"XLB\",\"XLB\",\"XLB\",\"XLB\",\"XLB\",\"XLB\",\"XLB\",\"XLB\",\"XLB\",\"XLB\",\"XLB\",\"XLB\",\"XLB\",\"XLB\",\"XLB\",\"XLB\",\"XLB\",\"XLB\",\"XLB\",\"XLB\",\"XLB\",\"XLB\",\"XLB\",\"XLB\",\"XLB\",\"XLB\",\"XLB\",\"XLB\",\"XLB\",\"XLB\",\"XLB\",\"XLB\",\"XLB\",\"XLB\",\"XLB\",\"XLB\",\"XLB\",\"XLB\",\"XLB\",\"XLB\",\"XLB\",\"XLB\",\"XLB\",\"XLB\",\"XLB\",\"XLB\",\"XLB\",\"XLB\",\"XLB\",\"XLB\",\"XLB\",\"XLB\",\"XLB\",\"XLB\",\"XLB\",\"XLB\",\"XLB\",\"XLB\",\"XLB\",\"XLB\",\"XLB\",\"XLB\",\"XLB\",\"XLB\",\"XLB\",\"XLB\",\"XLB\",\"XLB\",\"XLB\",\"XLB\",\"XLB\",\"XLB\",\"XLB\",\"XLB\",\"XLB\",\"XLB\",\"XLB\",\"XLB\",\"XLB\",\"XLB\",\"XLB\",\"XLB\",\"XLB\",\"XLB\",\"XLB\",\"XLB\",\"XLB\",\"XLB\",\"XLB\",\"XLB\",\"XLB\",\"XLB\",\"XLB\",\"XLB\",\"XLB\",\"XLB\",\"XLB\"],\"value\":{\"__ndarray__\":\"AKIitkPhgb+gYm51RjulP+D/VZ6dPKC/QHXDwbSkmr+4Qp0Nq/W3vyBssaDDyaQ/8G7R32ZWqL+wPNIFqqW4v0DEjvJH97E/WLuZQnQuvL8gtCXe5aqvP/AKV3khXrC/QH6x25cimj+QF/umH1Oiv6BKHk5TU62/AMYbHRsbvj+ALyAWSeSXP2C4kBAiDKg/0MjVzjqCor9AqbRslk+gP0C0dbBRQIy/QFDMUI8Tp78A+ZPAdfOOP4C6yahroJi/AGYAr5cLsz9A2A7T7kmbP8BR39koDqk/QFfe7lsEpj+gJA0j1YCWv4ACL6pqeIo/QC1Wz/mEp7+AsSkHJ5l3v4Ds3SpojqQ/YATecIdDmb/AopmttEaZv0CzNhAMIpQ/ACZhEiaRfD8AYz0T2w+QP0D7q2SZUJs/QDr3R/QAkz+Ai37b1x6aP2AK6YExc56/YGwH9KaDlb8AWJU9VAhtPwDKR/225GQ/YGtvPGeikb8AFEjVgACVP0BC9yJ0k5g/wJaRBDA4j78AUERAeU6Pv4Bj3ELFh5W/gAmjE24TiT8AM3BbYd6BP4DDVki6Wac/wNlUaP+ig7/A/sEw+VOQP8BmMPAJhIO/APw6gay5WL/AFc1JWg2cPwCQn96ltoQ/ABLSScIDgz8AYJwHrqUnPwCYg+TuEXw/gMFHuVeGkj9A/T7fbz2XPwB4/lEfmG0/QDX2KyYnmj8AxGoBKOhVP0DvPX1q9Ii/gIU4DbAvh7/AyMxmxMazv8BF4Ucv6pM/ACUAd9GUhT+Ar0NgOVuVPwCg+IbN84C/ADDUtXFGRz8ATKJlvrZovwCYv6C3KV2/AGiKPVf9Yj+AJf3cY+CdvwDCGtAvhYk/wOgj1egrjL9A+F4cgeuTP4BIXMJ+fo0/AE61ShZyYT9ArqB+sziTP4ASj7jmMI0/ABBqVq12Nj8ANKhbKh+Nv4Bf+2ZVOIO/AD+C+wjJkT8AAAAAAAAAAIAp+krux5k/wA30pXw5kT8AuOqZfhprPwBqmi+sOIE/gPltl1y/gb8A8NPdE+eBPwAyXndlxoc/AABupTYoab8AO8PpE+RrvwBn5Wz0po0/oMapoRd/lr8AqZapJcqAP8AOcws30ZO/ALTISohNUD+AGu6KfhJ3v4AEusrsAI0/gG4amMfxjT+A2odHUD5xvwCcj8H5+Gs/gAYBM57pgz8AumaNhuxcvwBSK+x9XXg/ABDDhM3xJL8AZN0yGFVSPwDUv2TZT3I/gJthlZ7tcL8AUE7WWIlnvwDMx5iP2Wy/gAomcxCwd79AciA/2giSP4BV/ldWQnC/AFT/NC6MhT8AxFbUGvhlvwA23sHNS4g/wDaTyutfj78AEAFGK8acP0AGnop2Ppc/oNI2o01LnL8AgNJFb1pEP8DmY6ZUOpO/wDKyAMplmj8AX7PO3UKDv4CzTLNMI4o/gCe/09+VjT8AkEnKOttzPwDoRF3Pskg/AHE8cGc8fj+AXOFbPZyRv/CWMwvzjaO/AKC4csoaXz8AkT2zKROevwCW7BalUX0/gB3UWLIxgj8AJogQ+I6QP4BEs1fNVH6/gBiGYRjOhD/AC2zhfPaMvwDu402hR4I/AIAJwvqSkz8Ayfx5EreJv4CaWNkOXZo/\",\"dtype\":\"float64\",\"order\":\"little\",\"shape\":[153]}},\"selected\":{\"id\":\"1298\"},\"selection_policy\":{\"id\":\"1325\"}},\"id\":\"1297\",\"type\":\"ColumnDataSource\"},{\"attributes\":{\"line_alpha\":0.1,\"line_color\":\"#1f77b3\",\"line_width\":2,\"x\":{\"field\":\"Date\"},\"y\":{\"field\":\"value\"}},\"id\":\"1055\",\"type\":\"Line\"},{\"attributes\":{\"line_alpha\":0.1,\"line_color\":\"#d62628\",\"line_width\":2,\"x\":{\"field\":\"Date\"},\"y\":{\"field\":\"value\"}},\"id\":\"1149\",\"type\":\"Line\"},{\"attributes\":{},\"id\":\"1202\",\"type\":\"UnionRenderers\"},{\"attributes\":{\"line_alpha\":0.1,\"line_color\":\"#9367bc\",\"line_width\":2,\"x\":{\"field\":\"Date\"},\"y\":{\"field\":\"value\"}},\"id\":\"1184\",\"type\":\"Line\"},{\"attributes\":{\"label\":{\"value\":\"XLE\"},\"renderers\":[{\"id\":\"1151\"}]},\"id\":\"1179\",\"type\":\"LegendItem\"},{\"attributes\":{\"data\":{\"Date\":{\"__ndarray__\":\"AAAAE9sJd0IAAMB4LQp3QgAAgN5/CndCAABARNIKd0IAAIB1yQt3QgAAQNsbDHdCAAAAQW4Md0IAAMCmwAx3QgAAgAwTDXdCAADAPQoOd0IAAICjXA53QgAAQAmvDndCAAAAbwEPd0IAAMDUUw93QgAAAAZLEHdCAADAa50Qd0IAAIDR7xB3QgAAQDdCEXdCAAAAnZQRd0IAAEDOixJ3QgAAADTeEndCAADAmTATd0IAAID/ghN3QgAAQGXVE3dCAACAlswUd0IAAED8HhV3QgAAAGJxFXdCAADAx8MVd0IAAMBeDRd3QgAAgMRfF3dCAABAKrIXd0IAAACQBBh3QgAAwPVWGHdCAAAAJ04Zd0IAAMCMoBl3QgAAgPLyGXdCAABAWEUad0IAAAC+lxp3QgAAQO+OG3dCAAAAVeEbd0IAAMC6Mxx3QgAAgCCGHHdCAABAhtgcd0IAAIC3zx13QgAAQB0iHndCAAAAg3Qed0IAAMDoxh53QgAAgE4ZH3dCAADAfxAgd0IAAIDlYiB3QgAAQEu1IHdCAAAAsQchd0IAAMAWWiF3QgAAAEhRIndCAADAraMid0IAAIAT9iJ3QgAAQHlII3dCAAAA35ojd0IAAAB25CR3QgAAwNs2JXdCAACAQYkld0IAAECn2yV3QgAAgNjSJndCAABAPiUnd0IAAACkdyd3QgAAwAnKJ3dCAACAbxwod0IAAMCgEyl3QgAAgAZmKXdCAABAbLgpd0IAAADSCip3QgAAwDddKndCAAAAaVQrd0IAAMDOpit3QgAAgDT5K3dCAABAmkssd0IAAAAAnix3QgAAQDGVLXdCAAAAl+ctd0IAAMD8OS53QgAAgGKMLndCAABAyN4ud0IAAID51S93QgAAQF8oMHdCAAAAxXowd0IAAMAqzTB3QgAAwMEWMndCAACAJ2kyd0IAAECNuzJ3QgAAAPMNM3dCAADAWGAzd0IAAACKVzR3QgAAwO+pNHdCAACAVfw0d0IAAEC7TjV3QgAAACGhNXdCAABAUpg2d0IAAAC46jZ3QgAAwB09N3dCAACAg483d0IAAEDp4Td3QgAAgBrZOHdCAABAgCs5d0IAAADmfTl3QgAAwEvQOXdCAACAsSI6d0IAAMDiGTt3QgAAgEhsO3dCAABArr47d0IAAAAUETx3QgAAwHljPHdCAAAAq1o9d0IAAMAQrT13QgAAgHb/PXdCAABA3FE+d0IAAABCpD53QgAAQHObP3dCAAAA2e0/d0IAAMA+QEB3QgAAgKSSQHdCAABACuVAd0IAAIA73EF3QgAAQKEuQndCAAAAB4FCd0IAAMBs00J3QgAAgNIlQ3dCAADAAx1Ed0IAAIBpb0R3QgAAQM/BRHdCAAAANRRFd0IAAMCaZkV3QgAAwDGwRndCAACAlwJHd0IAAED9VEd3QgAAAGOnR3dCAABAlJ5Id0IAAAD68Eh3QgAAwF9DSXdCAACAxZVJd0IAAEAr6El3QgAAgFzfSndCAABAwjFLd0IAAAAohEt3QgAAwI3WS3dCAACA8yhMd0IAAMAkIE13QgAAgIpyTXdCAABA8MRNd0IAAABWF053QgAAwLtpTndCAAAA7WBPd0IAAMBSs093QgAAgLgFUHdC\",\"dtype\":\"float64\",\"order\":\"little\",\"shape\":[153]},\"Variable\":[\"XLC\",\"XLC\",\"XLC\",\"XLC\",\"XLC\",\"XLC\",\"XLC\",\"XLC\",\"XLC\",\"XLC\",\"XLC\",\"XLC\",\"XLC\",\"XLC\",\"XLC\",\"XLC\",\"XLC\",\"XLC\",\"XLC\",\"XLC\",\"XLC\",\"XLC\",\"XLC\",\"XLC\",\"XLC\",\"XLC\",\"XLC\",\"XLC\",\"XLC\",\"XLC\",\"XLC\",\"XLC\",\"XLC\",\"XLC\",\"XLC\",\"XLC\",\"XLC\",\"XLC\",\"XLC\",\"XLC\",\"XLC\",\"XLC\",\"XLC\",\"XLC\",\"XLC\",\"XLC\",\"XLC\",\"XLC\",\"XLC\",\"XLC\",\"XLC\",\"XLC\",\"XLC\",\"XLC\",\"XLC\",\"XLC\",\"XLC\",\"XLC\",\"XLC\",\"XLC\",\"XLC\",\"XLC\",\"XLC\",\"XLC\",\"XLC\",\"XLC\",\"XLC\",\"XLC\",\"XLC\",\"XLC\",\"XLC\",\"XLC\",\"XLC\",\"XLC\",\"XLC\",\"XLC\",\"XLC\",\"XLC\",\"XLC\",\"XLC\",\"XLC\",\"XLC\",\"XLC\",\"XLC\",\"XLC\",\"XLC\",\"XLC\",\"XLC\",\"XLC\",\"XLC\",\"XLC\",\"XLC\",\"XLC\",\"XLC\",\"XLC\",\"XLC\",\"XLC\",\"XLC\",\"XLC\",\"XLC\",\"XLC\",\"XLC\",\"XLC\",\"XLC\",\"XLC\",\"XLC\",\"XLC\",\"XLC\",\"XLC\",\"XLC\",\"XLC\",\"XLC\",\"XLC\",\"XLC\",\"XLC\",\"XLC\",\"XLC\",\"XLC\",\"XLC\",\"XLC\",\"XLC\",\"XLC\",\"XLC\",\"XLC\",\"XLC\",\"XLC\",\"XLC\",\"XLC\",\"XLC\",\"XLC\",\"XLC\",\"XLC\",\"XLC\",\"XLC\",\"XLC\",\"XLC\",\"XLC\",\"XLC\",\"XLC\",\"XLC\",\"XLC\",\"XLC\",\"XLC\",\"XLC\",\"XLC\",\"XLC\",\"XLC\",\"XLC\",\"XLC\",\"XLC\",\"XLC\",\"XLC\",\"XLC\"],\"value\":{\"__ndarray__\":\"4A7WEH3doL9gcpPVnHKiPzDh6uONrqK/gGPCFArGkb84NT72Tw+xv8ANN9xwGKo/wEYKck8Apr+QAcNzcQe4vyAR1sG9A7c/GKPKayHgvL9g0j9dNz2mP9C/SYa2AKG/gDvWHHpUkj+QxZNZlaGmvwDWdkYfXmQ/YJ33gfd9rz8Aqrkv0JSPv6AXLEXzKK0/wAuw1i12pL/AOUs03a2iPwCgvxfCkl2/UO45mXFepL8AtWl4sAiKPyCp/BNftZS/wF4zdmvisD8ARGq8fRV+P4Bo6sQ08pU/AHMn+ckffj8AWJvnfKBYPwDiPjFpTJ4/QI01QCkxg78ANbUNGlxwPwCxMmlt34s/wNoKUEGdgr9APZ8d5B2gv8Cg5+vyjJs/AKiiRJAwfT+ARCV05v+JPwClR8LS1YA/QM2zuZWTkr+gpOUfAcSoP4Bl+EYU2HG/gLEYBSCDjL8AYlXaMvV3PwDZnZvaWnU/ACFKs8XgZr8AyBYjSUGTP0AJpTvYspI/AABt53L0Qj+gx1Wjbe6Tv+Ac2txtgpG/AOKmHTAdhj8Az0+bLVyMP0BvQ/I2lJU/ANC/7nMNKb+A0bGPFGGcP4CjNq1z8ny/AIGiwsWMeD8AfIJ87+BmPwBx8agR5nw/gOl0OLhBg78AjaCdjht2P4B0yCddgYc/ABRPRPZ9cD8AYh0AlGJpPwC9vLZkhH6/gEaryXmvkD8AsH4SXi+TPwBH7JzdR2S/AFOLogOwaL9AXo3wNZSnv4AnvtH98IE/gKC0dBR2kD+AXqBDYcKAPwDc0r/Qr1Q/AELMSVyQaj8Ajrf8jRBmvwCA56h5mCc/ACYXsXaLej/gSE4KuhOXvwA6aQHe/HE/sCTQnLiSpr9Aj2e8Le6SPwC9KFt9/oY/QDZKjj1kmT8ANLDNUqBqv8Ao83Fgl5Q/AHcP0t5GZ7+A4v0vozyCPwAoHF6zPlQ/AHMlu0ixkT8gW+F5I5aUvwCyLqbISIQ/AEn8g7ZjeD8AyKqEOoZcPwDygkIhgmK/gA/YcE6diD8APgM+W71zvwBodNqKAFE/wDZvJ1yhkL8Acho9k+VZvwDFgOd0GXw/wIcUgBYchb+AyuVmf8yCPwAu4Epf7WY/gDcnjRCUjD8AqCWmRi9MPwCAjCN6DHo/APR4okYvWb+AbDdcnPmaPwBWVVVVHVO/AB1azbJWa79A6kV5FoSOv4AxcJxJXYg/AF9SWF+jdD8AUO/GauYlvwAEdq08K1M/AE7opnF2gj8AUlI+nApnvwBfaqk9fIk/ADFggrkfcr+ACCg+Z/KIP4BFQLJKUYM/wPzmp8R8oT+A2hcU3uKIvwBU6+z7YGM/gPvoskZVc7+ANlaqrNWAP4AODgjH1ZU/4CySSt5eob8gCqVSf7aSv4AJ435hBJu/AHSbar6DiD/AHJbK5UeOvwCJiYNj9Gm/AIQd4qaEbz/A4i9FI0KSP0DUoMs5IYa/4OyTRvDPkr/AJ2eSra6Dv4BqLli5PYy/wLlL9jPMkz+gZyD2fXOYvwDgiAJxRF8/AJpDxYJOiz+A/4hIG0yLPwDMvpDpk1A/AKhvg9QURj+Aa4WObE6NPyCcPSacOZS/wJZ5X2/RkD9AwlwBRH6VvwDND9kT+H0/\",\"dtype\":\"float64\",\"order\":\"little\",\"shape\":[153]}},\"selected\":{\"id\":\"1052\"},\"selection_policy\":{\"id\":\"1065\"}},\"id\":\"1051\",\"type\":\"ColumnDataSource\"},{\"attributes\":{},\"id\":\"1370\",\"type\":\"UnionRenderers\"},{\"attributes\":{\"days\":[1,8,15,22]},\"id\":\"1072\",\"type\":\"DaysTicker\"},{\"attributes\":{\"line_color\":\"#9367bc\",\"line_width\":2,\"x\":{\"field\":\"Date\"},\"y\":{\"field\":\"value\"}},\"id\":\"1183\",\"type\":\"Line\"},{\"attributes\":{\"label\":{\"value\":\"XLF\"},\"renderers\":[{\"id\":\"1186\"}]},\"id\":\"1216\",\"type\":\"LegendItem\"},{\"attributes\":{},\"id\":\"1325\",\"type\":\"UnionRenderers\"},{\"attributes\":{\"days\":[1,15]},\"id\":\"1073\",\"type\":\"DaysTicker\"},{\"attributes\":{\"label\":{\"value\":\"XLV\"},\"renderers\":[{\"id\":\"1223\"}]},\"id\":\"1255\",\"type\":\"LegendItem\"},{\"attributes\":{},\"id\":\"1034\",\"type\":\"SaveTool\"},{\"attributes\":{\"data\":{\"Date\":{\"__ndarray__\":\"AAAAE9sJd0IAAMB4LQp3QgAAgN5/CndCAABARNIKd0IAAIB1yQt3QgAAQNsbDHdCAAAAQW4Md0IAAMCmwAx3QgAAgAwTDXdCAADAPQoOd0IAAICjXA53QgAAQAmvDndCAAAAbwEPd0IAAMDUUw93QgAAAAZLEHdCAADAa50Qd0IAAIDR7xB3QgAAQDdCEXdCAAAAnZQRd0IAAEDOixJ3QgAAADTeEndCAADAmTATd0IAAID/ghN3QgAAQGXVE3dCAACAlswUd0IAAED8HhV3QgAAAGJxFXdCAADAx8MVd0IAAMBeDRd3QgAAgMRfF3dCAABAKrIXd0IAAACQBBh3QgAAwPVWGHdCAAAAJ04Zd0IAAMCMoBl3QgAAgPLyGXdCAABAWEUad0IAAAC+lxp3QgAAQO+OG3dCAAAAVeEbd0IAAMC6Mxx3QgAAgCCGHHdCAABAhtgcd0IAAIC3zx13QgAAQB0iHndCAAAAg3Qed0IAAMDoxh53QgAAgE4ZH3dCAADAfxAgd0IAAIDlYiB3QgAAQEu1IHdCAAAAsQchd0IAAMAWWiF3QgAAAEhRIndCAADAraMid0IAAIAT9iJ3QgAAQHlII3dCAAAA35ojd0IAAAB25CR3QgAAwNs2JXdCAACAQYkld0IAAECn2yV3QgAAgNjSJndCAABAPiUnd0IAAACkdyd3QgAAwAnKJ3dCAACAbxwod0IAAMCgEyl3QgAAgAZmKXdCAABAbLgpd0IAAADSCip3QgAAwDddKndCAAAAaVQrd0IAAMDOpit3QgAAgDT5K3dCAABAmkssd0IAAAAAnix3QgAAQDGVLXdCAAAAl+ctd0IAAMD8OS53QgAAgGKMLndCAABAyN4ud0IAAID51S93QgAAQF8oMHdCAAAAxXowd0IAAMAqzTB3QgAAwMEWMndCAACAJ2kyd0IAAECNuzJ3QgAAAPMNM3dCAADAWGAzd0IAAACKVzR3QgAAwO+pNHdCAACAVfw0d0IAAEC7TjV3QgAAACGhNXdCAABAUpg2d0IAAAC46jZ3QgAAwB09N3dCAACAg483d0IAAEDp4Td3QgAAgBrZOHdCAABAgCs5d0IAAADmfTl3QgAAwEvQOXdCAACAsSI6d0IAAMDiGTt3QgAAgEhsO3dCAABArr47d0IAAAAUETx3QgAAwHljPHdCAAAAq1o9d0IAAMAQrT13QgAAgHb/PXdCAABA3FE+d0IAAABCpD53QgAAQHObP3dCAAAA2e0/d0IAAMA+QEB3QgAAgKSSQHdCAABACuVAd0IAAIA73EF3QgAAQKEuQndCAAAAB4FCd0IAAMBs00J3QgAAgNIlQ3dCAADAAx1Ed0IAAIBpb0R3QgAAQM/BRHdCAAAANRRFd0IAAMCaZkV3QgAAwDGwRndCAACAlwJHd0IAAED9VEd3QgAAAGOnR3dCAABAlJ5Id0IAAAD68Eh3QgAAwF9DSXdCAACAxZVJd0IAAEAr6El3QgAAgFzfSndCAABAwjFLd0IAAAAohEt3QgAAwI3WS3dCAACA8yhMd0IAAMAkIE13QgAAgIpyTXdCAABA8MRNd0IAAABWF053QgAAwLtpTndCAAAA7WBPd0IAAMBSs093QgAAgLgFUHdC\",\"dtype\":\"float64\",\"order\":\"little\",\"shape\":[153]},\"Variable\":[\"XLE\",\"XLE\",\"XLE\",\"XLE\",\"XLE\",\"XLE\",\"XLE\",\"XLE\",\"XLE\",\"XLE\",\"XLE\",\"XLE\",\"XLE\",\"XLE\",\"XLE\",\"XLE\",\"XLE\",\"XLE\",\"XLE\",\"XLE\",\"XLE\",\"XLE\",\"XLE\",\"XLE\",\"XLE\",\"XLE\",\"XLE\",\"XLE\",\"XLE\",\"XLE\",\"XLE\",\"XLE\",\"XLE\",\"XLE\",\"XLE\",\"XLE\",\"XLE\",\"XLE\",\"XLE\",\"XLE\",\"XLE\",\"XLE\",\"XLE\",\"XLE\",\"XLE\",\"XLE\",\"XLE\",\"XLE\",\"XLE\",\"XLE\",\"XLE\",\"XLE\",\"XLE\",\"XLE\",\"XLE\",\"XLE\",\"XLE\",\"XLE\",\"XLE\",\"XLE\",\"XLE\",\"XLE\",\"XLE\",\"XLE\",\"XLE\",\"XLE\",\"XLE\",\"XLE\",\"XLE\",\"XLE\",\"XLE\",\"XLE\",\"XLE\",\"XLE\",\"XLE\",\"XLE\",\"XLE\",\"XLE\",\"XLE\",\"XLE\",\"XLE\",\"XLE\",\"XLE\",\"XLE\",\"XLE\",\"XLE\",\"XLE\",\"XLE\",\"XLE\",\"XLE\",\"XLE\",\"XLE\",\"XLE\",\"XLE\",\"XLE\",\"XLE\",\"XLE\",\"XLE\",\"XLE\",\"XLE\",\"XLE\",\"XLE\",\"XLE\",\"XLE\",\"XLE\",\"XLE\",\"XLE\",\"XLE\",\"XLE\",\"XLE\",\"XLE\",\"XLE\",\"XLE\",\"XLE\",\"XLE\",\"XLE\",\"XLE\",\"XLE\",\"XLE\",\"XLE\",\"XLE\",\"XLE\",\"XLE\",\"XLE\",\"XLE\",\"XLE\",\"XLE\",\"XLE\",\"XLE\",\"XLE\",\"XLE\",\"XLE\",\"XLE\",\"XLE\",\"XLE\",\"XLE\",\"XLE\",\"XLE\",\"XLE\",\"XLE\",\"XLE\",\"XLE\",\"XLE\",\"XLE\",\"XLE\",\"XLE\",\"XLE\",\"XLE\",\"XLE\",\"XLE\",\"XLE\",\"XLE\",\"XLE\"],\"value\":{\"__ndarray__\":\"IPpGFJZOn78ABqqQhjiYP3AbPDVTu6K/AJzACj/ErL+cnJyc3MfJv0A6yJyeSag/kHga5oQTq78obWmP9+6/v/B+npHKoLc/+FYpaKVqwb8A9YBN+Pt7P5QkSZKMYMK/sMYFsbNmsT+Ari8rAP6DP2BTa/d1q7a/wGaFeh2HxD/AZSU/LyaoP0Bu1U/wSK8/qBft9WJasb8AoY/m4/aEPwCCV6dOfI8/sFGWdfVeqb8w5I0OHXO3PwCeYsKTvIW/IJZBNXceqz8AyDwWwdeVP0AKsf3JE7E/wBHWvY+Ngr8AqYfy8pJqvwCORTOrY3O/EHDjGSsMqL/wgMByBeGlv2BehCB3Mbs/gKaXg8X4n78gIArhxQ6SvwCgB0MyOaI/gOxU4amGoD8A3r96NfliP4BNWpYHL5Y/ALSh3U5zlz/wgCzfhPayP8B4BuRwqZa/gPIayuv3rL+A9Y84mbWhPwAYCjHLgEo/YOKJUzDCmr8AUCF7daCaP8BuLidFVKc/wIHb3KX0kb/AD5Nz3gGSv+B82a4LQae/gKSwK3fthj8AVyHuNb5vvwB5dU2X6bQ/gByofMOrnL+Aow2BZ26kP0DlAlvzZJC/AOdUt3tjeb9AwBhfWHmcP4B2zDfCaIo/QMDFYA6hnL8ABUMCDO9yv0BPEhIF95E/wEQsfFWPnD+AalXN5A6ePwBAtjSPai8/IHjfME8Dsz/gtN0RrBCnP9Dzu97lOqO/ID18s98zqb8QG0uDkR64v0DOlEJX1pk/ANYD3tavaD8Aaj7j+HudP5A5C8LUcaG/AO2RuLZIiT/A5znylBePvwDjXPTgj4C/AFyzOoyyUD+QjjINg2isvwAilt5pl5M/UH06hAu8ob+ACUTFe3yLP4Ap8lk3hpc/gH7PmsjjmL8A7rMPsLyGPwB46iMKImg/gM0Rw+lEoL8AYKl/GRxLv2AsxTvSS6m/IG6alGVaoD8Ay/A32uV1v0A5nBS59aE/gI6QNtoblj+AGiw33KByv8DHDEfLnoy/INh4oVMGkb8AaBWRhu+uPwDblTeDKIm/AGZePUBZXr+ASvmS2812vwAoTojVeFE/QKiHevZzkb/AWLoavFyVP8C8jPpCHKS/gKuHLU88c78AdBxCzo5tP4Bzyk6e65g/gBSPX02QhT+A4FolI2qAvwBM0xcMEFY/wNtpsUisnz8A/dfdwchrvwC7aOZxX4Q/wNmMmhzok7+A42/0Nn2DPwAPev1tmHe/AMzqq8/jib/AuCN9cX2Hv4DDFMXSGpa/AD3+qS/7eb8AbFxR+CKcPwCbpcRlxIy/QIUKFSqalb8AUCSflwxgP0AtqGpeTpI/gMkmhx8zlr+AqQGtL5N7v4B/BeYOqnO/gAXrfG84fr8AH6qy2sJpv+DFnC/GpaK/ALMTg9sJfD/g5s/3TMSivwAYxOKhKU4/AFoVCUxkfz+AqPKbGeh9v8ADf7YmjqQ/ANiFKGAjWD+AVIX2beWGv4DvENOp+6i/gP8i3Mojhb+QUTfv7COnvwCI1kCZsDW/AKjLHX+zRb8AqqFwEBeYP4AWvQxnLZy/AEg0yhaLaL+ATBQEgXSfv4DmNW/WwIM/AIuDI5e+nj9A96HW1oaOvwAnqwE07Iw/\",\"dtype\":\"float64\",\"order\":\"little\",\"shape\":[153]}},\"selected\":{\"id\":\"1146\"},\"selection_policy\":{\"id\":\"1165\"}},\"id\":\"1145\",\"type\":\"ColumnDataSource\"},{\"attributes\":{\"days\":[1,4,7,10,13,16,19,22,25,28]},\"id\":\"1071\",\"type\":\"DaysTicker\"},{\"attributes\":{\"data_source\":{\"id\":\"1145\"},\"glyph\":{\"id\":\"1148\"},\"hover_glyph\":null,\"muted_glyph\":{\"id\":\"1150\"},\"nonselection_glyph\":{\"id\":\"1149\"},\"selection_glyph\":null,\"view\":{\"id\":\"1152\"}},\"id\":\"1151\",\"type\":\"GlyphRenderer\"},{\"attributes\":{\"data\":{\"Date\":{\"__ndarray__\":\"AAAAE9sJd0IAAMB4LQp3QgAAgN5/CndCAABARNIKd0IAAIB1yQt3QgAAQNsbDHdCAAAAQW4Md0IAAMCmwAx3QgAAgAwTDXdCAADAPQoOd0IAAICjXA53QgAAQAmvDndCAAAAbwEPd0IAAMDUUw93QgAAAAZLEHdCAADAa50Qd0IAAIDR7xB3QgAAQDdCEXdCAAAAnZQRd0IAAEDOixJ3QgAAADTeEndCAADAmTATd0IAAID/ghN3QgAAQGXVE3dCAACAlswUd0IAAED8HhV3QgAAAGJxFXdCAADAx8MVd0IAAMBeDRd3QgAAgMRfF3dCAABAKrIXd0IAAACQBBh3QgAAwPVWGHdCAAAAJ04Zd0IAAMCMoBl3QgAAgPLyGXdCAABAWEUad0IAAAC+lxp3QgAAQO+OG3dCAAAAVeEbd0IAAMC6Mxx3QgAAgCCGHHdCAABAhtgcd0IAAIC3zx13QgAAQB0iHndCAAAAg3Qed0IAAMDoxh53QgAAgE4ZH3dCAADAfxAgd0IAAIDlYiB3QgAAQEu1IHdCAAAAsQchd0IAAMAWWiF3QgAAAEhRIndCAADAraMid0IAAIAT9iJ3QgAAQHlII3dCAAAA35ojd0IAAAB25CR3QgAAwNs2JXdCAACAQYkld0IAAECn2yV3QgAAgNjSJndCAABAPiUnd0IAAACkdyd3QgAAwAnKJ3dCAACAbxwod0IAAMCgEyl3QgAAgAZmKXdCAABAbLgpd0IAAADSCip3QgAAwDddKndCAAAAaVQrd0IAAMDOpit3QgAAgDT5K3dCAABAmkssd0IAAAAAnix3QgAAQDGVLXdCAAAAl+ctd0IAAMD8OS53QgAAgGKMLndCAABAyN4ud0IAAID51S93QgAAQF8oMHdCAAAAxXowd0IAAMAqzTB3QgAAwMEWMndCAACAJ2kyd0IAAECNuzJ3QgAAAPMNM3dCAADAWGAzd0IAAACKVzR3QgAAwO+pNHdCAACAVfw0d0IAAEC7TjV3QgAAACGhNXdCAABAUpg2d0IAAAC46jZ3QgAAwB09N3dCAACAg483d0IAAEDp4Td3QgAAgBrZOHdCAABAgCs5d0IAAADmfTl3QgAAwEvQOXdCAACAsSI6d0IAAMDiGTt3QgAAgEhsO3dCAABArr47d0IAAAAUETx3QgAAwHljPHdCAAAAq1o9d0IAAMAQrT13QgAAgHb/PXdCAABA3FE+d0IAAABCpD53QgAAQHObP3dCAAAA2e0/d0IAAMA+QEB3QgAAgKSSQHdCAABACuVAd0IAAIA73EF3QgAAQKEuQndCAAAAB4FCd0IAAMBs00J3QgAAgNIlQ3dCAADAAx1Ed0IAAIBpb0R3QgAAQM/BRHdCAAAANRRFd0IAAMCaZkV3QgAAwDGwRndCAACAlwJHd0IAAED9VEd3QgAAAGOnR3dCAABAlJ5Id0IAAAD68Eh3QgAAwF9DSXdCAACAxZVJd0IAAEAr6El3QgAAgFzfSndCAABAwjFLd0IAAAAohEt3QgAAwI3WS3dCAACA8yhMd0IAAMAkIE13QgAAgIpyTXdCAABA8MRNd0IAAABWF053QgAAwLtpTndCAAAA7WBPd0IAAMBSs093QgAAgLgFUHdC\",\"dtype\":\"float64\",\"order\":\"little\",\"shape\":[153]},\"Variable\":[\"XLP\",\"XLP\",\"XLP\",\"XLP\",\"XLP\",\"XLP\",\"XLP\",\"XLP\",\"XLP\",\"XLP\",\"XLP\",\"XLP\",\"XLP\",\"XLP\",\"XLP\",\"XLP\",\"XLP\",\"XLP\",\"XLP\",\"XLP\",\"XLP\",\"XLP\",\"XLP\",\"XLP\",\"XLP\",\"XLP\",\"XLP\",\"XLP\",\"XLP\",\"XLP\",\"XLP\",\"XLP\",\"XLP\",\"XLP\",\"XLP\",\"XLP\",\"XLP\",\"XLP\",\"XLP\",\"XLP\",\"XLP\",\"XLP\",\"XLP\",\"XLP\",\"XLP\",\"XLP\",\"XLP\",\"XLP\",\"XLP\",\"XLP\",\"XLP\",\"XLP\",\"XLP\",\"XLP\",\"XLP\",\"XLP\",\"XLP\",\"XLP\",\"XLP\",\"XLP\",\"XLP\",\"XLP\",\"XLP\",\"XLP\",\"XLP\",\"XLP\",\"XLP\",\"XLP\",\"XLP\",\"XLP\",\"XLP\",\"XLP\",\"XLP\",\"XLP\",\"XLP\",\"XLP\",\"XLP\",\"XLP\",\"XLP\",\"XLP\",\"XLP\",\"XLP\",\"XLP\",\"XLP\",\"XLP\",\"XLP\",\"XLP\",\"XLP\",\"XLP\",\"XLP\",\"XLP\",\"XLP\",\"XLP\",\"XLP\",\"XLP\",\"XLP\",\"XLP\",\"XLP\",\"XLP\",\"XLP\",\"XLP\",\"XLP\",\"XLP\",\"XLP\",\"XLP\",\"XLP\",\"XLP\",\"XLP\",\"XLP\",\"XLP\",\"XLP\",\"XLP\",\"XLP\",\"XLP\",\"XLP\",\"XLP\",\"XLP\",\"XLP\",\"XLP\",\"XLP\",\"XLP\",\"XLP\",\"XLP\",\"XLP\",\"XLP\",\"XLP\",\"XLP\",\"XLP\",\"XLP\",\"XLP\",\"XLP\",\"XLP\",\"XLP\",\"XLP\",\"XLP\",\"XLP\",\"XLP\",\"XLP\",\"XLP\",\"XLP\",\"XLP\",\"XLP\",\"XLP\",\"XLP\",\"XLP\",\"XLP\",\"XLP\",\"XLP\",\"XLP\",\"XLP\",\"XLP\",\"XLP\",\"XLP\"],\"value\":{\"__ndarray__\":\"wHcvwELTi7/Ako9lUyapP6BhBURjRpO/wIoOZIstgL+QzHQgC0ymv4B0L2+5Zp0/4NQD8R8dqb8g+RAQhQ24v+BZZQGJybU/eLmOLnldsb8wRzLwiJa1P6Dn1nSRTpq/4IpZjvwUob+IZs3hNZSwv6Dn3fYf+6G/IOux+lEcqj8AjML+eHBmvwBWjUWfBqw/gGIGzTAMc7+gpOkqbf+jP8Bqv+S7z5S/oH/WOaFLkb+Ao8nJkjKaP4AZZOrzCIA/4Ofv1TMOoz/A7gHgWIuHvwDEBj5jUI4/AK5W0g80gz+A3uqni0x+v8BlIVZzvaU/gD3NEUQskL8Ay7R21vt6P4D+URNpRo8/oJ4dAjcklL+AjXrdE8GVvwCe4k6+wYM/wGnPYZgrgr+A6qfiw9uFPwCGC2WPuGc/AHy1idX0dj+AimI9XEtxvwBcidGXUIi/gH2fZmx/hr8AsIpdXw9BvwAo+Vjuckw/wLxIKW5ihr8Az+VVtP1mv8A2gl4q4JY/AJz1uSiNVr+A7tjJSkqBvwDozqFFgYK/AHIX8SocZL+AdR356P+BPwCkXjuqPJA/AFZoyDfLkr8Adiuvh1WIP4BJgoE7ooa/AAyLusObbD8Ar1JFGRh2PwAK8fFJ1o4/AB/8fGMogj8ARMmPPJ1QPwDDIplqWnw/APQZMSj6ZT8AfMDOPOtVPwDyzzFK1nO/gDDVsYiGjD+AKfFkUQiGP0D6XE2ExIC/ACZXPvP9Zr+gAa4ZdGmjvwAAPo5TjSY/APfBlPGbhz8A4zchQwaQPwBkAPEFsli/APZThTJMdT8AnUGg/i91vwAYfloWpIW/AO6apS//WL/gvhuyKTaRvwDo2ljd/3w/ICI8PvTklL+AP9SeoFuTPwDByr3iQX4/AHiEIYbwSz8AYUSQ9e90PwCMvfPWInQ/AAw7Oemngj8AlwqhtYpkvwCrZ+2cIYC/wImLcaPakj8AaOU+NHVYvwD//xMF8I0/ANDNJMzSSj8ACBjQvWthPwAJeHmUEHY/gN3luMWdhL+AZcIehc2BPwBL1K5EUYA/ABqGnJ4SbT8ANoA2mhFVvwATxVreb3Q/AHI3i+ssbj8AgImpbIdXPwAAAAAAAAAAAFQpKGBTT78A+kTUHzZmvwCqwDb/i4k/AMrYXk3SYL8AYIOND8AkvwD17E7BC3Y/AKMjB3dIdT8AhF5HATt8v4DXhGECfYo/ADDGNIyDSb8AUCFHHmokvwAjCodq+3Y/AB+O7YqBcD+A0uDOoR+AvwAXitrakWC/AAZmV45vZD8AlP1+ioSBPwBuY/der2G/AFgLRnlBVD8ARnQJt0l5PwC8Y42UOII/AInNADSqZ78A9Ot8+XxRP0BsaKm2j5I/oJvZzzuekb8AEMaxy7Riv4CjVuymj5W/AOVJNYCvjT/AIs8N0SuJvwChFd+k73Y/ALcFlxCcej8AdnGqA6lWvwCFt3K3R3K/AG0vZNn1eb8ALgxUOsyCv4BS03lip4u/AMI7tvIeeD9ABJDp6siOvwDQZnx/RH4/AIcQwfiNdT8AwU294hCHPwA8PDw8/Hq/gO51vIvmiD8AkaJqDAF3PwDlYbAo4Ha/AJqiYyJ6ez+AF4qZu6h6v4BeUyfNCoY/\",\"dtype\":\"float64\",\"order\":\"little\",\"shape\":[153]}},\"selected\":{\"id\":\"1113\"},\"selection_policy\":{\"id\":\"1130\"}},\"id\":\"1112\",\"type\":\"ColumnDataSource\"},{\"attributes\":{},\"id\":\"1036\",\"type\":\"WheelZoomTool\"},{\"attributes\":{\"num_minor_ticks\":5,\"tickers\":[{\"id\":\"1067\"},{\"id\":\"1068\"},{\"id\":\"1069\"},{\"id\":\"1070\"},{\"id\":\"1071\"},{\"id\":\"1072\"},{\"id\":\"1073\"},{\"id\":\"1074\"},{\"id\":\"1075\"},{\"id\":\"1076\"},{\"id\":\"1077\"},{\"id\":\"1078\"}]},\"id\":\"1027\",\"type\":\"DatetimeTicker\"},{\"attributes\":{},\"id\":\"1482\",\"type\":\"Selection\"},{\"attributes\":{\"line_color\":\"#16bdcf\",\"line_width\":2,\"x\":{\"field\":\"Date\"},\"y\":{\"field\":\"value\"}},\"id\":\"1388\",\"type\":\"Line\"},{\"attributes\":{\"mantissas\":[1,2,5],\"max_interval\":500.0,\"num_minor_ticks\":0},\"id\":\"1067\",\"type\":\"AdaptiveTicker\"},{\"attributes\":{\"axis_label\":\"\",\"bounds\":\"auto\",\"formatter\":{\"id\":\"1050\"},\"major_label_orientation\":\"horizontal\",\"ticker\":{\"id\":\"1031\"}},\"id\":\"1030\",\"type\":\"LinearAxis\"},{\"attributes\":{\"data_source\":{\"id\":\"1051\"},\"glyph\":{\"id\":\"1054\"},\"hover_glyph\":null,\"muted_glyph\":{\"id\":\"1056\"},\"nonselection_glyph\":{\"id\":\"1055\"},\"selection_glyph\":null,\"view\":{\"id\":\"1058\"}},\"id\":\"1057\",\"type\":\"GlyphRenderer\"},{\"attributes\":{\"line_alpha\":0.1,\"line_color\":\"#ff7e0e\",\"line_width\":2,\"x\":{\"field\":\"Date\"},\"y\":{\"field\":\"value\"}},\"id\":\"1085\",\"type\":\"Line\"},{\"attributes\":{\"line_alpha\":0.2,\"line_color\":\"#ff7e0e\",\"line_width\":2,\"x\":{\"field\":\"Date\"},\"y\":{\"field\":\"value\"}},\"id\":\"1086\",\"type\":\"Line\"},{\"attributes\":{},\"id\":\"1517\",\"type\":\"UnionRenderers\"},{\"attributes\":{\"data\":{\"Date\":{\"__ndarray__\":\"AAAAE9sJd0IAAMB4LQp3QgAAgN5/CndCAABARNIKd0IAAIB1yQt3QgAAQNsbDHdCAAAAQW4Md0IAAMCmwAx3QgAAgAwTDXdCAADAPQoOd0IAAICjXA53QgAAQAmvDndCAAAAbwEPd0IAAMDUUw93QgAAAAZLEHdCAADAa50Qd0IAAIDR7xB3QgAAQDdCEXdCAAAAnZQRd0IAAEDOixJ3QgAAADTeEndCAADAmTATd0IAAID/ghN3QgAAQGXVE3dCAACAlswUd0IAAED8HhV3QgAAAGJxFXdCAADAx8MVd0IAAMBeDRd3QgAAgMRfF3dCAABAKrIXd0IAAACQBBh3QgAAwPVWGHdCAAAAJ04Zd0IAAMCMoBl3QgAAgPLyGXdCAABAWEUad0IAAAC+lxp3QgAAQO+OG3dCAAAAVeEbd0IAAMC6Mxx3QgAAgCCGHHdCAABAhtgcd0IAAIC3zx13QgAAQB0iHndCAAAAg3Qed0IAAMDoxh53QgAAgE4ZH3dCAADAfxAgd0IAAIDlYiB3QgAAQEu1IHdCAAAAsQchd0IAAMAWWiF3QgAAAEhRIndCAADAraMid0IAAIAT9iJ3QgAAQHlII3dCAAAA35ojd0IAAAB25CR3QgAAwNs2JXdCAACAQYkld0IAAECn2yV3QgAAgNjSJndCAABAPiUnd0IAAACkdyd3QgAAwAnKJ3dCAACAbxwod0IAAMCgEyl3QgAAgAZmKXdCAABAbLgpd0IAAADSCip3QgAAwDddKndCAAAAaVQrd0IAAMDOpit3QgAAgDT5K3dCAABAmkssd0IAAAAAnix3QgAAQDGVLXdCAAAAl+ctd0IAAMD8OS53QgAAgGKMLndCAABAyN4ud0IAAID51S93QgAAQF8oMHdCAAAAxXowd0IAAMAqzTB3QgAAwMEWMndCAACAJ2kyd0IAAECNuzJ3QgAAAPMNM3dCAADAWGAzd0IAAACKVzR3QgAAwO+pNHdCAACAVfw0d0IAAEC7TjV3QgAAACGhNXdCAABAUpg2d0IAAAC46jZ3QgAAwB09N3dCAACAg483d0IAAEDp4Td3QgAAgBrZOHdCAABAgCs5d0IAAADmfTl3QgAAwEvQOXdCAACAsSI6d0IAAMDiGTt3QgAAgEhsO3dCAABArr47d0IAAAAUETx3QgAAwHljPHdCAAAAq1o9d0IAAMAQrT13QgAAgHb/PXdCAABA3FE+d0IAAABCpD53QgAAQHObP3dCAAAA2e0/d0IAAMA+QEB3QgAAgKSSQHdCAABACuVAd0IAAIA73EF3QgAAQKEuQndCAAAAB4FCd0IAAMBs00J3QgAAgNIlQ3dCAADAAx1Ed0IAAIBpb0R3QgAAQM/BRHdCAAAANRRFd0IAAMCaZkV3QgAAwDGwRndCAACAlwJHd0IAAED9VEd3QgAAAGOnR3dCAABAlJ5Id0IAAAD68Eh3QgAAwF9DSXdCAACAxZVJd0IAAEAr6El3QgAAgFzfSndCAABAwjFLd0IAAAAohEt3QgAAwI3WS3dCAACA8yhMd0IAAMAkIE13QgAAgIpyTXdCAABA8MRNd0IAAABWF053QgAAwLtpTndCAAAA7WBPd0IAAMBSs093QgAAgLgFUHdC\",\"dtype\":\"float64\",\"order\":\"little\",\"shape\":[153]},\"Variable\":[\"XLY\",\"XLY\",\"XLY\",\"XLY\",\"XLY\",\"XLY\",\"XLY\",\"XLY\",\"XLY\",\"XLY\",\"XLY\",\"XLY\",\"XLY\",\"XLY\",\"XLY\",\"XLY\",\"XLY\",\"XLY\",\"XLY\",\"XLY\",\"XLY\",\"XLY\",\"XLY\",\"XLY\",\"XLY\",\"XLY\",\"XLY\",\"XLY\",\"XLY\",\"XLY\",\"XLY\",\"XLY\",\"XLY\",\"XLY\",\"XLY\",\"XLY\",\"XLY\",\"XLY\",\"XLY\",\"XLY\",\"XLY\",\"XLY\",\"XLY\",\"XLY\",\"XLY\",\"XLY\",\"XLY\",\"XLY\",\"XLY\",\"XLY\",\"XLY\",\"XLY\",\"XLY\",\"XLY\",\"XLY\",\"XLY\",\"XLY\",\"XLY\",\"XLY\",\"XLY\",\"XLY\",\"XLY\",\"XLY\",\"XLY\",\"XLY\",\"XLY\",\"XLY\",\"XLY\",\"XLY\",\"XLY\",\"XLY\",\"XLY\",\"XLY\",\"XLY\",\"XLY\",\"XLY\",\"XLY\",\"XLY\",\"XLY\",\"XLY\",\"XLY\",\"XLY\",\"XLY\",\"XLY\",\"XLY\",\"XLY\",\"XLY\",\"XLY\",\"XLY\",\"XLY\",\"XLY\",\"XLY\",\"XLY\",\"XLY\",\"XLY\",\"XLY\",\"XLY\",\"XLY\",\"XLY\",\"XLY\",\"XLY\",\"XLY\",\"XLY\",\"XLY\",\"XLY\",\"XLY\",\"XLY\",\"XLY\",\"XLY\",\"XLY\",\"XLY\",\"XLY\",\"XLY\",\"XLY\",\"XLY\",\"XLY\",\"XLY\",\"XLY\",\"XLY\",\"XLY\",\"XLY\",\"XLY\",\"XLY\",\"XLY\",\"XLY\",\"XLY\",\"XLY\",\"XLY\",\"XLY\",\"XLY\",\"XLY\",\"XLY\",\"XLY\",\"XLY\",\"XLY\",\"XLY\",\"XLY\",\"XLY\",\"XLY\",\"XLY\",\"XLY\",\"XLY\",\"XLY\",\"XLY\",\"XLY\",\"XLY\",\"XLY\",\"XLY\",\"XLY\",\"XLY\",\"XLY\",\"XLY\",\"XLY\"],\"value\":{\"__ndarray__\":\"AKJPFC7JmL/gb6OlYbGhP9DzwbdsF6O/QKTfHr17j7+QqDAWFR+wv2DxVU02T6w/INnqbhgArL/gkv3Ns965v0CWZ4utrK8/2HBGiEE3wL9giBmX4LajP1AgIH/Kaa2/gIu5kmnboT+gLsNe6W+evwBkfGgqH2q/MIyLhQoDuD9AdK+t+veRP2DwqwsXLqU/QAC9zb4oob9Ag1DU0GiVPwBy/ZMCqpS/QDHoFljdpr8ADuWlrpluP6AGhZIk25G/QFH2haVNtT8AeI53E3yOP2CFSxWqIKA/gKlC6Qt4kj8AuDZtz20yv2BPHfrkBKQ/oKB9cSZ0lr8AjXd9LpCIP0CDUREmP54/4MFn6fTckb9AHW//BJSav0A1YQ5VE5Y/ALhSO5bPMb+AzmDVHFmRP8CQgts/KJM/ADniKH0ecD/AhDBfNpGWP4BGsrEGfHm/sKQEOCYlo78Ap9fVyUJ2PwB4HlpRw20/AJAbT3gmJ7+AfB3wlxiQPwAR0+g78ZM/AAjs5AoqYr+Ay7d8y2eWv+CpsSyeoJG/AEaRCnWXjj+AJRT5qdyHP8DHlA4HYKM/AP/4kTRkbb+Apcyg3sCKPwDGZRLtHW0/AP5VeGZKWL/Ar7qXvjeQP4C39TN3i5E/QBhNbSDaiL8ALgmHs8ptPwDhTXePdYM/AD9prqh6gT/ADoHqG1uTP4BG4qKRqnS/QCS70IuGmD8AjZuFJjWPPwAgCXn093+/gAG5B1Q1g78QYk/YV9GqvwC+eab4S4Q/AI29XLFxgz+AzrBJ+oaVPwBL0U0wj2W/APNJarPhbb8AwbBh0Od/vwDYMtUaPYA/AE/f/l4cgD/gzFLmoY2WvwDo+oJTAlY/oLydoQAAmL+AW6G4FXKTP4D0/e/sJYo/gB0hmdevhD8AGPQFfTFwP0Dts5QRRpg/AGKFxq8QkL8ABjIpXtCFPwAk3yAJolK/gPMk9R9oiD/A8pT0hfaJv4CzI3ksYoQ/APi1Js9FjT8AzWlGd99lv4BWw+qtMHO/gJDrg3tfkD8AMG6fqE1ZP4Bej4EemIE/QHcMrci2jr8A9PtFtA9dPwCNpaqRYnk/gNrrCNpFhL8AbwTvWceEPwB0p1YLbUq/APPPX5ZWdT8AUjTEH1dhv4ASFpGBeoA/AP29dHf3iD8AD7k9pvdzPwAop9AGjFg/gGsd2WWCiD8ARGn9diVgvwBLcQ8RKIs/ABA/C8ReO78AIM7/4UUSv4AtKEjmYoo/ANe4M6tYeT+AaIdXGlBzvwA8QTVov1i/AKTb/6EfdT8AqsAdPRqPPwBQVeuiDGs/ADbh31Q4hD8AqfuAvBB2vwAPMsZH13o/AFfmSAXyZ78ARfhrSGyFP4BX49qoW4w/IHmOuew/oL8AC3zeEKmHv0A2PZgN3Iq/AN/ZXshRkz+AYqWck1eNvwAoPg64tlg/gPPUGFy7hT+AhcJzd8mAPwDmxOS+13a/wMhn3WDIjL/Ahv8FwH2Mv8AinJj675C/QH6ai+qilT9g7XT8g8uQvwBQgC4xqju/gDJg8Byrij+AQ27fkmqVP4DL2B6vx3+/AMa3fXi3gD8AlBTMxMCKP4ADiSV7VHG/gI8bcZkSiz8gG2ZF9vKSvwD2yZtfZ5c/\",\"dtype\":\"float64\",\"order\":\"little\",\"shape\":[153]}},\"selected\":{\"id\":\"1082\"},\"selection_policy\":{\"id\":\"1097\"}},\"id\":\"1081\",\"type\":\"ColumnDataSource\"},{\"attributes\":{\"source\":{\"id\":\"1340\"}},\"id\":\"1347\",\"type\":\"CDSView\"},{\"attributes\":{\"text\":\"\",\"text_color\":{\"value\":\"black\"},\"text_font_size\":{\"value\":\"12pt\"}},\"id\":\"1018\",\"type\":\"Title\"},{\"attributes\":{\"base\":60,\"mantissas\":[1,2,5,10,15,20,30],\"max_interval\":1800000.0,\"min_interval\":1000.0,\"num_minor_ticks\":0},\"id\":\"1068\",\"type\":\"AdaptiveTicker\"},{\"attributes\":{\"line_alpha\":0.1,\"line_color\":\"#004201\",\"line_width\":2,\"x\":{\"field\":\"Date\"},\"y\":{\"field\":\"value\"}},\"id\":\"1485\",\"type\":\"Line\"},{\"attributes\":{\"data_source\":{\"id\":\"1256\"},\"glyph\":{\"id\":\"1259\"},\"hover_glyph\":null,\"muted_glyph\":{\"id\":\"1261\"},\"nonselection_glyph\":{\"id\":\"1260\"},\"selection_glyph\":null,\"view\":{\"id\":\"1263\"}},\"id\":\"1262\",\"type\":\"GlyphRenderer\"},{\"attributes\":{},\"id\":\"1082\",\"type\":\"Selection\"},{\"attributes\":{\"data\":{\"Date\":{\"__ndarray__\":\"AAAAE9sJd0IAAMB4LQp3QgAAgN5/CndCAABARNIKd0IAAIB1yQt3QgAAQNsbDHdCAAAAQW4Md0IAAMCmwAx3QgAAgAwTDXdCAADAPQoOd0IAAICjXA53QgAAQAmvDndCAAAAbwEPd0IAAMDUUw93QgAAAAZLEHdCAADAa50Qd0IAAIDR7xB3QgAAQDdCEXdCAAAAnZQRd0IAAEDOixJ3QgAAADTeEndCAADAmTATd0IAAID/ghN3QgAAQGXVE3dCAACAlswUd0IAAED8HhV3QgAAAGJxFXdCAADAx8MVd0IAAMBeDRd3QgAAgMRfF3dCAABAKrIXd0IAAACQBBh3QgAAwPVWGHdCAAAAJ04Zd0IAAMCMoBl3QgAAgPLyGXdCAABAWEUad0IAAAC+lxp3QgAAQO+OG3dCAAAAVeEbd0IAAMC6Mxx3QgAAgCCGHHdCAABAhtgcd0IAAIC3zx13QgAAQB0iHndCAAAAg3Qed0IAAMDoxh53QgAAgE4ZH3dCAADAfxAgd0IAAIDlYiB3QgAAQEu1IHdCAAAAsQchd0IAAMAWWiF3QgAAAEhRIndCAADAraMid0IAAIAT9iJ3QgAAQHlII3dCAAAA35ojd0IAAAB25CR3QgAAwNs2JXdCAACAQYkld0IAAECn2yV3QgAAgNjSJndCAABAPiUnd0IAAACkdyd3QgAAwAnKJ3dCAACAbxwod0IAAMCgEyl3QgAAgAZmKXdCAABAbLgpd0IAAADSCip3QgAAwDddKndCAAAAaVQrd0IAAMDOpit3QgAAgDT5K3dCAABAmkssd0IAAAAAnix3QgAAQDGVLXdCAAAAl+ctd0IAAMD8OS53QgAAgGKMLndCAABAyN4ud0IAAID51S93QgAAQF8oMHdCAAAAxXowd0IAAMAqzTB3QgAAwMEWMndCAACAJ2kyd0IAAECNuzJ3QgAAAPMNM3dCAADAWGAzd0IAAACKVzR3QgAAwO+pNHdCAACAVfw0d0IAAEC7TjV3QgAAACGhNXdCAABAUpg2d0IAAAC46jZ3QgAAwB09N3dCAACAg483d0IAAEDp4Td3QgAAgBrZOHdCAABAgCs5d0IAAADmfTl3QgAAwEvQOXdCAACAsSI6d0IAAMDiGTt3QgAAgEhsO3dCAABArr47d0IAAAAUETx3QgAAwHljPHdCAAAAq1o9d0IAAMAQrT13QgAAgHb/PXdCAABA3FE+d0IAAABCpD53QgAAQHObP3dCAAAA2e0/d0IAAMA+QEB3QgAAgKSSQHdCAABACuVAd0IAAIA73EF3QgAAQKEuQndCAAAAB4FCd0IAAMBs00J3QgAAgNIlQ3dCAADAAx1Ed0IAAIBpb0R3QgAAQM/BRHdCAAAANRRFd0IAAMCaZkV3QgAAwDGwRndCAACAlwJHd0IAAED9VEd3QgAAAGOnR3dCAABAlJ5Id0IAAAD68Eh3QgAAwF9DSXdCAACAxZVJd0IAAEAr6El3QgAAgFzfSndCAABAwjFLd0IAAAAohEt3QgAAwI3WS3dCAACA8yhMd0IAAMAkIE13QgAAgIpyTXdCAABA8MRNd0IAAABWF053QgAAwLtpTndCAAAA7WBPd0IAAMBSs093QgAAgLgFUHdC\",\"dtype\":\"float64\",\"order\":\"little\",\"shape\":[153]},\"Variable\":[\"SPY\",\"SPY\",\"SPY\",\"SPY\",\"SPY\",\"SPY\",\"SPY\",\"SPY\",\"SPY\",\"SPY\",\"SPY\",\"SPY\",\"SPY\",\"SPY\",\"SPY\",\"SPY\",\"SPY\",\"SPY\",\"SPY\",\"SPY\",\"SPY\",\"SPY\",\"SPY\",\"SPY\",\"SPY\",\"SPY\",\"SPY\",\"SPY\",\"SPY\",\"SPY\",\"SPY\",\"SPY\",\"SPY\",\"SPY\",\"SPY\",\"SPY\",\"SPY\",\"SPY\",\"SPY\",\"SPY\",\"SPY\",\"SPY\",\"SPY\",\"SPY\",\"SPY\",\"SPY\",\"SPY\",\"SPY\",\"SPY\",\"SPY\",\"SPY\",\"SPY\",\"SPY\",\"SPY\",\"SPY\",\"SPY\",\"SPY\",\"SPY\",\"SPY\",\"SPY\",\"SPY\",\"SPY\",\"SPY\",\"SPY\",\"SPY\",\"SPY\",\"SPY\",\"SPY\",\"SPY\",\"SPY\",\"SPY\",\"SPY\",\"SPY\",\"SPY\",\"SPY\",\"SPY\",\"SPY\",\"SPY\",\"SPY\",\"SPY\",\"SPY\",\"SPY\",\"SPY\",\"SPY\",\"SPY\",\"SPY\",\"SPY\",\"SPY\",\"SPY\",\"SPY\",\"SPY\",\"SPY\",\"SPY\",\"SPY\",\"SPY\",\"SPY\",\"SPY\",\"SPY\",\"SPY\",\"SPY\",\"SPY\",\"SPY\",\"SPY\",\"SPY\",\"SPY\",\"SPY\",\"SPY\",\"SPY\",\"SPY\",\"SPY\",\"SPY\",\"SPY\",\"SPY\",\"SPY\",\"SPY\",\"SPY\",\"SPY\",\"SPY\",\"SPY\",\"SPY\",\"SPY\",\"SPY\",\"SPY\",\"SPY\",\"SPY\",\"SPY\",\"SPY\",\"SPY\",\"SPY\",\"SPY\",\"SPY\",\"SPY\",\"SPY\",\"SPY\",\"SPY\",\"SPY\",\"SPY\",\"SPY\",\"SPY\",\"SPY\",\"SPY\",\"SPY\",\"SPY\",\"SPY\",\"SPY\",\"SPY\",\"SPY\",\"SPY\",\"SPY\",\"SPY\",\"SPY\",\"SPY\",\"SPY\"],\"value\":{\"__ndarray__\":\"II/NrdNRnb8g01xKWoWlPyBuPPINBaG/ALHzJYjtkL8wKfLL//2zv2C/IHpOfqo/EPJAfY71qL/QE2VpTH64v4AJECxu4rU/2Gv4pDEDvL/AdLEM2aSrP0BRgveO7Km/AGZmZmZoYT/waiDip+2ov2ALWGeNLpq/IEB3fsYxtz+Ad12qr6iOP6A2tqZE5a0/AKEqnyGAnr/AbckuqKCgP0AbKum2ho6/UPJQ9uAKp7+AkkhvE6GXP4DynOkomo2/sPokFs4xsT8AELucArRQP+DqyRThL6E/gAYNoEcqjz8A7yRU1LKCv4At1Q5hM54/IDl+7A/Clb8AEaDvo8JzP8AZRkTvqZs/QN+Vr3IKkr9geopLixefv0ASVGgqupY/AIDMzKTNEr8AfIzR5YuMPwDZdIlqh40/gIVlWMvVcr8AuavHiM6aP4AOxIN4EYO/QJJT3Nkbm78A9B5ba5hmP4ApaQwR7II/ADbwTgHEe78Aijq8fLaIP4CiAHh88ZA/AGDqpxfkKj+A8RiP8WiUv8ASIFk+HJK/gIVza1GCiD8AAr3ORNRyP0AV4XnTMJ8/AJ6mwA4Jhb/ANUeMTmWRP4ArnCFPR3y/ADjcHEYdXz8AdJyYhDuJPwBuCRDieI4/AHZllEc6Xr8ANw5jW0ByPwB656kQjnA/AECUgC71gD+A34dZW0GLPwCHn/CdhGW/QA5c1qA+mj8A/rofUsGIP4D/zRzpin6/gJvcFw7bdr/Q/Pu6KYStv4CZuUWzhog/AB4B/5Aegz/AFnzCqrWTPwDxB7SfA3G/AJDgT407OT9AldhML6CEvwAWARfNRno/AMxi4Uzbcj8A72NL9B6avwCZid+m9IU/gHpZA09SmL+AkZWKwRmOPwA4gf/jO4o/AKoZ2ROxfD8AEr0FeI52P4CN9V6SnY8/gILnUGYfhb8A2ytJMVR/PwB3D+h1UXe/gEUZRETphD8AUT9UyruBv4AUL+pBioo/gMgwoMHQgj8AeXCZ3vpqvwAeuFTKv2c/AMgzYRONgD8AAkEcxG1hPwB1hPyNUHc/wCoXGKVviL8AZUiXO2F6vwCD0umr3n0/gLQcwnr6eb+AYPruEjCJPwAxSf16Om2/AAR8tQcvgD8AD6qB3nl8PwDWfk19pG8/ANrNiahweT8ArCSGPmF7PwBIL0NQhkc/AIAQajN8aD9A0xD/0ueAv4CmftbOjYw/AFYhe1yeXb8AAGo7Pyn/PgA8glvSBWo/AIT3XqCyYT+ApAM8+w1xvwAwddqegWk/AMoTSWwPbT+AOFeYsMCEPwCizQWTqmw/ADb1Vk6IhD8AuOcqh+lhPwCQWuQpdXo/ALk1zgKtbb8AwDsYDkqDPwC1QhJNn40/oBW+esCeob8AVEAOqLiAv2AiALSK+pu/AHNLyKY4lD9gmMqmxseRvwB4rrugrkA/gIXpuIn5ij8AhUnCyLF0PwBg6MdmQXC/wLOoLkADgr+Afno/PaaPvwCcU8UZy4a/AGOBRozbhD/ACrTYXr+XvwCO5Rni1WU/wPlvMxKOkD+A0smJCgKRP4AmvmCSTna/ANA/vEUOfz8AZyWh20t6PwC7/JTUcYO/gO7rRJ8okj+AyhTLQh2Nv4B21hgO05E/\",\"dtype\":\"float64\",\"order\":\"little\",\"shape\":[153]}},\"selected\":{\"id\":\"1482\"},\"selection_policy\":{\"id\":\"1517\"}},\"id\":\"1481\",\"type\":\"ColumnDataSource\"},{\"attributes\":{\"align\":null,\"below\":[{\"id\":\"1026\"}],\"center\":[{\"id\":\"1029\"},{\"id\":\"1033\"}],\"left\":[{\"id\":\"1030\"}],\"margin\":null,\"min_border_bottom\":10,\"min_border_left\":10,\"min_border_right\":10,\"min_border_top\":10,\"plot_height\":300,\"plot_width\":700,\"renderers\":[{\"id\":\"1057\"},{\"id\":\"1087\"},{\"id\":\"1118\"},{\"id\":\"1151\"},{\"id\":\"1186\"},{\"id\":\"1223\"},{\"id\":\"1262\"},{\"id\":\"1303\"},{\"id\":\"1346\"},{\"id\":\"1391\"},{\"id\":\"1438\"},{\"id\":\"1487\"}],\"right\":[{\"id\":\"1079\"}],\"sizing_mode\":\"fixed\",\"title\":{\"id\":\"1018\"},\"toolbar\":{\"id\":\"1040\"},\"x_range\":{\"id\":\"1003\"},\"x_scale\":{\"id\":\"1022\"},\"y_range\":{\"id\":\"1004\"},\"y_scale\":{\"id\":\"1024\"}},\"id\":\"1017\",\"subtype\":\"Figure\",\"type\":\"Plot\"},{\"attributes\":{},\"id\":\"1386\",\"type\":\"Selection\"},{\"attributes\":{\"end\":0.1965519055884264,\"reset_end\":0.1965519055884264,\"reset_start\":-0.2375903154374338,\"start\":-0.2375903154374338,\"tags\":[[[\"value\",\"value\",null]]]},\"id\":\"1004\",\"type\":\"Range1d\"},{\"attributes\":{\"children\":[{\"id\":\"1002\"},{\"id\":\"1017\"},{\"id\":\"1910\"}],\"margin\":[0,0,0,0],\"name\":\"Row01783\",\"tags\":[\"embedded\"]},\"id\":\"1001\",\"type\":\"Row\"},{\"attributes\":{\"callback\":null,\"formatters\":{\"@{Date}\":\"datetime\"},\"renderers\":[{\"id\":\"1057\"},{\"id\":\"1087\"},{\"id\":\"1118\"},{\"id\":\"1151\"},{\"id\":\"1186\"},{\"id\":\"1223\"},{\"id\":\"1262\"},{\"id\":\"1303\"},{\"id\":\"1346\"},{\"id\":\"1391\"},{\"id\":\"1438\"},{\"id\":\"1487\"}],\"tags\":[\"hv_created\"],\"tooltips\":[[\"Variable\",\"@{Variable}\"],[\"Date\",\"@{Date}{%F %T}\"],[\"value\",\"@{value}\"]]},\"id\":\"1005\",\"type\":\"HoverTool\"},{\"attributes\":{\"data_source\":{\"id\":\"1385\"},\"glyph\":{\"id\":\"1388\"},\"hover_glyph\":null,\"muted_glyph\":{\"id\":\"1390\"},\"nonselection_glyph\":{\"id\":\"1389\"},\"selection_glyph\":null,\"view\":{\"id\":\"1392\"}},\"id\":\"1391\",\"type\":\"GlyphRenderer\"},{\"attributes\":{\"line_color\":\"#ff7e0e\",\"line_width\":2,\"x\":{\"field\":\"Date\"},\"y\":{\"field\":\"value\"}},\"id\":\"1084\",\"type\":\"Line\"},{\"attributes\":{},\"id\":\"1048\",\"type\":\"DatetimeTickFormatter\"},{\"attributes\":{\"data\":{\"Date\":{\"__ndarray__\":\"AAAAE9sJd0IAAMB4LQp3QgAAgN5/CndCAABARNIKd0IAAIB1yQt3QgAAQNsbDHdCAAAAQW4Md0IAAMCmwAx3QgAAgAwTDXdCAADAPQoOd0IAAICjXA53QgAAQAmvDndCAAAAbwEPd0IAAMDUUw93QgAAAAZLEHdCAADAa50Qd0IAAIDR7xB3QgAAQDdCEXdCAAAAnZQRd0IAAEDOixJ3QgAAADTeEndCAADAmTATd0IAAID/ghN3QgAAQGXVE3dCAACAlswUd0IAAED8HhV3QgAAAGJxFXdCAADAx8MVd0IAAMBeDRd3QgAAgMRfF3dCAABAKrIXd0IAAACQBBh3QgAAwPVWGHdCAAAAJ04Zd0IAAMCMoBl3QgAAgPLyGXdCAABAWEUad0IAAAC+lxp3QgAAQO+OG3dCAAAAVeEbd0IAAMC6Mxx3QgAAgCCGHHdCAABAhtgcd0IAAIC3zx13QgAAQB0iHndCAAAAg3Qed0IAAMDoxh53QgAAgE4ZH3dCAADAfxAgd0IAAIDlYiB3QgAAQEu1IHdCAAAAsQchd0IAAMAWWiF3QgAAAEhRIndCAADAraMid0IAAIAT9iJ3QgAAQHlII3dCAAAA35ojd0IAAAB25CR3QgAAwNs2JXdCAACAQYkld0IAAECn2yV3QgAAgNjSJndCAABAPiUnd0IAAACkdyd3QgAAwAnKJ3dCAACAbxwod0IAAMCgEyl3QgAAgAZmKXdCAABAbLgpd0IAAADSCip3QgAAwDddKndCAAAAaVQrd0IAAMDOpit3QgAAgDT5K3dCAABAmkssd0IAAAAAnix3QgAAQDGVLXdCAAAAl+ctd0IAAMD8OS53QgAAgGKMLndCAABAyN4ud0IAAID51S93QgAAQF8oMHdCAAAAxXowd0IAAMAqzTB3QgAAwMEWMndCAACAJ2kyd0IAAECNuzJ3QgAAAPMNM3dCAADAWGAzd0IAAACKVzR3QgAAwO+pNHdCAACAVfw0d0IAAEC7TjV3QgAAACGhNXdCAABAUpg2d0IAAAC46jZ3QgAAwB09N3dCAACAg483d0IAAEDp4Td3QgAAgBrZOHdCAABAgCs5d0IAAADmfTl3QgAAwEvQOXdCAACAsSI6d0IAAMDiGTt3QgAAgEhsO3dCAABArr47d0IAAAAUETx3QgAAwHljPHdCAAAAq1o9d0IAAMAQrT13QgAAgHb/PXdCAABA3FE+d0IAAABCpD53QgAAQHObP3dCAAAA2e0/d0IAAMA+QEB3QgAAgKSSQHdCAABACuVAd0IAAIA73EF3QgAAQKEuQndCAAAAB4FCd0IAAMBs00J3QgAAgNIlQ3dCAADAAx1Ed0IAAIBpb0R3QgAAQM/BRHdCAAAANRRFd0IAAMCaZkV3QgAAwDGwRndCAACAlwJHd0IAAED9VEd3QgAAAGOnR3dCAABAlJ5Id0IAAAD68Eh3QgAAwF9DSXdCAACAxZVJd0IAAEAr6El3QgAAgFzfSndCAABAwjFLd0IAAAAohEt3QgAAwI3WS3dCAACA8yhMd0IAAMAkIE13QgAAgIpyTXdCAABA8MRNd0IAAABWF053QgAAwLtpTndCAAAA7WBPd0IAAMBSs093QgAAgLgFUHdC\",\"dtype\":\"float64\",\"order\":\"little\",\"shape\":[153]},\"Variable\":[\"XLK\",\"XLK\",\"XLK\",\"XLK\",\"XLK\",\"XLK\",\"XLK\",\"XLK\",\"XLK\",\"XLK\",\"XLK\",\"XLK\",\"XLK\",\"XLK\",\"XLK\",\"XLK\",\"XLK\",\"XLK\",\"XLK\",\"XLK\",\"XLK\",\"XLK\",\"XLK\",\"XLK\",\"XLK\",\"XLK\",\"XLK\",\"XLK\",\"XLK\",\"XLK\",\"XLK\",\"XLK\",\"XLK\",\"XLK\",\"XLK\",\"XLK\",\"XLK\",\"XLK\",\"XLK\",\"XLK\",\"XLK\",\"XLK\",\"XLK\",\"XLK\",\"XLK\",\"XLK\",\"XLK\",\"XLK\",\"XLK\",\"XLK\",\"XLK\",\"XLK\",\"XLK\",\"XLK\",\"XLK\",\"XLK\",\"XLK\",\"XLK\",\"XLK\",\"XLK\",\"XLK\",\"XLK\",\"XLK\",\"XLK\",\"XLK\",\"XLK\",\"XLK\",\"XLK\",\"XLK\",\"XLK\",\"XLK\",\"XLK\",\"XLK\",\"XLK\",\"XLK\",\"XLK\",\"XLK\",\"XLK\",\"XLK\",\"XLK\",\"XLK\",\"XLK\",\"XLK\",\"XLK\",\"XLK\",\"XLK\",\"XLK\",\"XLK\",\"XLK\",\"XLK\",\"XLK\",\"XLK\",\"XLK\",\"XLK\",\"XLK\",\"XLK\",\"XLK\",\"XLK\",\"XLK\",\"XLK\",\"XLK\",\"XLK\",\"XLK\",\"XLK\",\"XLK\",\"XLK\",\"XLK\",\"XLK\",\"XLK\",\"XLK\",\"XLK\",\"XLK\",\"XLK\",\"XLK\",\"XLK\",\"XLK\",\"XLK\",\"XLK\",\"XLK\",\"XLK\",\"XLK\",\"XLK\",\"XLK\",\"XLK\",\"XLK\",\"XLK\",\"XLK\",\"XLK\",\"XLK\",\"XLK\",\"XLK\",\"XLK\",\"XLK\",\"XLK\",\"XLK\",\"XLK\",\"XLK\",\"XLK\",\"XLK\",\"XLK\",\"XLK\",\"XLK\",\"XLK\",\"XLK\",\"XLK\",\"XLK\",\"XLK\",\"XLK\",\"XLK\",\"XLK\",\"XLK\",\"XLK\",\"XLK\"],\"value\":{\"__ndarray__\":\"IPE7bJlxo79AQJ616PmlP/CojBmdKKC/QIss/Eullb8gfZhHdW+zv5CYrq4wE7E/sDfBpqsvqL9o+0T1oPy4v4AXfhmiCL4/xBe7GpKuwb9ABsYazG2xP9A555xzSqO/ACj8ViuobT8w5kV0X3anv8CXY+u0P42/MDwagto3uj8AQjaCQBxVvwDuStLztK8/8OrU6cwjp78gI1v0aJClPyByFg0xIZO/sMAhqS9mqL8A4hXbn/KXP0DTCCfqoo+/wMLeNaHXtT/AKYPb61mCvwAFtP1mh5s/ACDWeyfFLj8AUBHEzkRiP6ClAdI7d6U/gNivgBVUlr8AjE8DqfGIP4Ck1W6PM4s/YPvUZ7VnkL/Q5wFfzXOlv0BveHmetqM/gDUOiEQffL8A+TlHmbWVP4DHh+HEj4E/AIfpnJJDi78Addl1mgOlPwCI6AAeSnK/YBFY1CMenL8AfGQUDi+LP4AaQYQYMYw/AFTLxYTYfz8AzzfIyLWOP4BEDW10CY4/AClhy+g5ez9ABxGRriSVvyC8sNHSpJG/AMx4jOgXij8ATTTRRLN0P0C/xQh9Fpk/APYK4/7wbb9A9WnyX26WPwAmYRImkYy/AOjWDrPSbT8AGFUw0PpQvwDRGn0xX3c/ALy5MGsOYL+AiGb3LtOJPwCI7/s+ETS/AELwheQ8gz8A0MbdGud/P8DVG0cg24C/wMNXMtjxmj8ALfBuU5l0PwAFFhViSnM/wJm5+5gZkT/g7ZS1Flytv4Bvj8ysgIo/AAaZHQjHgz+Ak5AmM9WVPwBQP0b3kym/AMwuHkFicj8AUbKsjD98v4CPjQL4bJA/AMNg5pSSfT8gKg371RiXvwBODK3AO4o/oID5ZegqlL8Ac7hcVmOGP0D/byjrWpI/APTZ0ieoWj8ArKNFct93P8Dy3UP95ZE/QIzaeUBqhb9AKwjLzLaQPwDY7sa4qG0/ACCnEGgvMr/AcBasDDmVvwDmjO5im4c/AGGf2bMwdj9AFT+9HE6JvwBJ4g0ACXQ/gP1Dxfoqmj9Ayf+17Y+EvwAfCzOIbYA/gGdZN5GZmr8AuV+2Ic+IvwANdYSAKJA/AJoxVeL0h78AKJwofquNPwBemdMq8HY/wCDQFBeRmT+At7Jb3jiZPwDUeBr0/mQ/AJDM8XRUbj8AnxYCeMeMP0ADKRJKgo6/AKh4izEMZ7/Ak9MV/WqSv4ACqbufQpc/ANAqR5HDPD8AiJeL8QBHvwBDJofkVXs/ALiQqye6bj8A3jgW++5Tv4DDM4GNQ4s/gHJWGskGij8AdZeFRbaBPwAcfr6zqHQ/gD+t3fPPlD8A2A32XdxKP4BiLNHn8oE/AHoEc9vwaT/AhE+FXY+TP4C2PgSmN4I/UL3diF4urb+AKoXOH42Mv1AGz6uKJae/gJu60920oD9ATtWU9B+XvwA/Z0pETn+/QOdCiwR8lT8AQ2Zkaj6EPwCbDPOvpo+/QOY6ZIb3gL+gVEPYIaaRvwBrfEwH7Hg/QGGQNek1kD/gaB1aeuqfvwC3txfc8nY/gGEcIDZ6mD9ANyLKkZeTPwDVxdt4g2u/gFec3VQqgT8AnIoM7pWFPyCG8n9m9pm/QMW/HF1zlj9A4ymSpruPv8AV2hXUxZI/\",\"dtype\":\"float64\",\"order\":\"little\",\"shape\":[153]}},\"selected\":{\"id\":\"1386\"},\"selection_policy\":{\"id\":\"1417\"}},\"id\":\"1385\",\"type\":\"ColumnDataSource\"},{\"attributes\":{\"data\":{\"Date\":{\"__ndarray__\":\"AAAAE9sJd0IAAMB4LQp3QgAAgN5/CndCAABARNIKd0IAAIB1yQt3QgAAQNsbDHdCAAAAQW4Md0IAAMCmwAx3QgAAgAwTDXdCAADAPQoOd0IAAICjXA53QgAAQAmvDndCAAAAbwEPd0IAAMDUUw93QgAAAAZLEHdCAADAa50Qd0IAAIDR7xB3QgAAQDdCEXdCAAAAnZQRd0IAAEDOixJ3QgAAADTeEndCAADAmTATd0IAAID/ghN3QgAAQGXVE3dCAACAlswUd0IAAED8HhV3QgAAAGJxFXdCAADAx8MVd0IAAMBeDRd3QgAAgMRfF3dCAABAKrIXd0IAAACQBBh3QgAAwPVWGHdCAAAAJ04Zd0IAAMCMoBl3QgAAgPLyGXdCAABAWEUad0IAAAC+lxp3QgAAQO+OG3dCAAAAVeEbd0IAAMC6Mxx3QgAAgCCGHHdCAABAhtgcd0IAAIC3zx13QgAAQB0iHndCAAAAg3Qed0IAAMDoxh53QgAAgE4ZH3dCAADAfxAgd0IAAIDlYiB3QgAAQEu1IHdCAAAAsQchd0IAAMAWWiF3QgAAAEhRIndCAADAraMid0IAAIAT9iJ3QgAAQHlII3dCAAAA35ojd0IAAAB25CR3QgAAwNs2JXdCAACAQYkld0IAAECn2yV3QgAAgNjSJndCAABAPiUnd0IAAACkdyd3QgAAwAnKJ3dCAACAbxwod0IAAMCgEyl3QgAAgAZmKXdCAABAbLgpd0IAAADSCip3QgAAwDddKndCAAAAaVQrd0IAAMDOpit3QgAAgDT5K3dCAABAmkssd0IAAAAAnix3QgAAQDGVLXdCAAAAl+ctd0IAAMD8OS53QgAAgGKMLndCAABAyN4ud0IAAID51S93QgAAQF8oMHdCAAAAxXowd0IAAMAqzTB3QgAAwMEWMndCAACAJ2kyd0IAAECNuzJ3QgAAAPMNM3dCAADAWGAzd0IAAACKVzR3QgAAwO+pNHdCAACAVfw0d0IAAEC7TjV3QgAAACGhNXdCAABAUpg2d0IAAAC46jZ3QgAAwB09N3dCAACAg483d0IAAEDp4Td3QgAAgBrZOHdCAABAgCs5d0IAAADmfTl3QgAAwEvQOXdCAACAsSI6d0IAAMDiGTt3QgAAgEhsO3dCAABArr47d0IAAAAUETx3QgAAwHljPHdCAAAAq1o9d0IAAMAQrT13QgAAgHb/PXdCAABA3FE+d0IAAABCpD53QgAAQHObP3dCAAAA2e0/d0IAAMA+QEB3QgAAgKSSQHdCAABACuVAd0IAAIA73EF3QgAAQKEuQndCAAAAB4FCd0IAAMBs00J3QgAAgNIlQ3dCAADAAx1Ed0IAAIBpb0R3QgAAQM/BRHdCAAAANRRFd0IAAMCaZkV3QgAAwDGwRndCAACAlwJHd0IAAED9VEd3QgAAAGOnR3dCAABAlJ5Id0IAAAD68Eh3QgAAwF9DSXdCAACAxZVJd0IAAEAr6El3QgAAgFzfSndCAABAwjFLd0IAAAAohEt3QgAAwI3WS3dCAACA8yhMd0IAAMAkIE13QgAAgIpyTXdCAABA8MRNd0IAAABWF053QgAAwLtpTndCAAAA7WBPd0IAAMBSs093QgAAgLgFUHdC\",\"dtype\":\"float64\",\"order\":\"little\",\"shape\":[153]},\"Variable\":[\"XLU\",\"XLU\",\"XLU\",\"XLU\",\"XLU\",\"XLU\",\"XLU\",\"XLU\",\"XLU\",\"XLU\",\"XLU\",\"XLU\",\"XLU\",\"XLU\",\"XLU\",\"XLU\",\"XLU\",\"XLU\",\"XLU\",\"XLU\",\"XLU\",\"XLU\",\"XLU\",\"XLU\",\"XLU\",\"XLU\",\"XLU\",\"XLU\",\"XLU\",\"XLU\",\"XLU\",\"XLU\",\"XLU\",\"XLU\",\"XLU\",\"XLU\",\"XLU\",\"XLU\",\"XLU\",\"XLU\",\"XLU\",\"XLU\",\"XLU\",\"XLU\",\"XLU\",\"XLU\",\"XLU\",\"XLU\",\"XLU\",\"XLU\",\"XLU\",\"XLU\",\"XLU\",\"XLU\",\"XLU\",\"XLU\",\"XLU\",\"XLU\",\"XLU\",\"XLU\",\"XLU\",\"XLU\",\"XLU\",\"XLU\",\"XLU\",\"XLU\",\"XLU\",\"XLU\",\"XLU\",\"XLU\",\"XLU\",\"XLU\",\"XLU\",\"XLU\",\"XLU\",\"XLU\",\"XLU\",\"XLU\",\"XLU\",\"XLU\",\"XLU\",\"XLU\",\"XLU\",\"XLU\",\"XLU\",\"XLU\",\"XLU\",\"XLU\",\"XLU\",\"XLU\",\"XLU\",\"XLU\",\"XLU\",\"XLU\",\"XLU\",\"XLU\",\"XLU\",\"XLU\",\"XLU\",\"XLU\",\"XLU\",\"XLU\",\"XLU\",\"XLU\",\"XLU\",\"XLU\",\"XLU\",\"XLU\",\"XLU\",\"XLU\",\"XLU\",\"XLU\",\"XLU\",\"XLU\",\"XLU\",\"XLU\",\"XLU\",\"XLU\",\"XLU\",\"XLU\",\"XLU\",\"XLU\",\"XLU\",\"XLU\",\"XLU\",\"XLU\",\"XLU\",\"XLU\",\"XLU\",\"XLU\",\"XLU\",\"XLU\",\"XLU\",\"XLU\",\"XLU\",\"XLU\",\"XLU\",\"XLU\",\"XLU\",\"XLU\",\"XLU\",\"XLU\",\"XLU\",\"XLU\",\"XLU\",\"XLU\",\"XLU\",\"XLU\",\"XLU\",\"XLU\",\"XLU\",\"XLU\",\"XLU\"],\"value\":{\"__ndarray__\":\"wPEKpQ8yib+AjCnUbQ2tP8CqPe4Tl4+/gOgdwuWlgL9ATZDaydirvwBZR89wCoM/oJZmCWq9qb84TNdQA9e5v8AmPh755as/APJt5GUTvb/wC/yhJmDAPyC0D3yySaa/QIgP7QnNrb/w3Vz3dk60v9DlXn1U8a6/oIhfTSeFuz/AjS8ykyKaP3C6elqN0rU/AOjj1j4wdj/A201iSvGiPyAsCVoxqaS/wAFdyBbFrr9Ax8joSAagP7DIGAt/TaK/wHNWC6zFsz9AfquLRrKJvwCBMbGz4as/AN7Tsm4mqD+wzMNMnz6gvwCN86ykE54/8BP1BqvjoL8AgC8mH1omP8C6HMaFgKA/AIK8ycVeo7+gMu1fEeGQvwB1kSvT2p0/YKx7/Gwykb8AX3LS53B5PwCRrz/Qa4U/AID+lziVbj+AyM9FaLKCv6Dc+SMilpe/oFWETNCtmL8AdLt9LMl+PwAgJs6xu4A/8GGxO89oob8ADIE3Qm9wP8DH6oS9pZQ/gA8jGCCBcb8AUignEPKBv4BtL+6IXYG/APGyc0b8hT+ASsLLMUiLv6Ay6LOfBKU/YD82sorekL8AWLIlO6B2P0CcoOTVr4S/AFPoqye7hj8AsSVUMdV6PwCHb38rf4g/gDTPck5Cnj8A2rBxk89/P4DL6zVSXIg/AIL7iZhyej+APP3N75eIP2CuPWk9T5K/gMfWf5gZij8AKX+O73GbP+B+8xETiZS/gMsTsgnzd7+AoiTv0v2jvwBO9+cc5GS/AE2EzADtez8AMgTL47hyPwA930hx2Wi/AID009smJr/AcnFG37ycvwCMIW5szFY/gJounAWihL+ATjZT0q+Cv0Cx4rEPY4m/ANPUxIeqhb/AGWtHvUyTPwB4P9OCmW4/QE/snQX0lz8AHCoWNEdlPwDE4nYeHYm/AMvw8gd5cL8AIezWT1aCPwCzhbaRcIu/gDRi6/tSkz8A9FY5TwRRP4CW7PyfH4M/gF2btMcjcL8ArN13GRGKP8AOs+JhIZc/wGB+hg7fir8Afi2UqJxyP4DdgOvZkI8/AOwsyBXsUj8A5DvxMQB7v0BUKC80zYi/AMxC+8Lzjj8AxZ0O6PhyPwAAAAAAAAAAAGiwz6L6Wj8A7vA/gjiGvwCk0OvndoY/wPSwpsRCir8A8sXvo993P4BfqLK+epI/AKikagRRNb/APVOm5yeWv4CD2Tp4oI0/APg/La3aWr/Ag8xwAtKBvwDkcDZWtVW/AA0j2x9Xcr8AVRiYUpBov4CLdaDOIoK/APyrYYieWz8ALpiZL+yBP4CfTRu4eYO/QExXVl3Ehr8ANmmr/IJqPwAs3szVpGc/AEKwDoX2aD/A7k/OJYGHv0BZNLbX0Z8/gKSobI8Ph7+A4yLRylJ3vwBroLZUxHa/ADx0444Oiz8gWiGkrKGRvwCiT+kLgmM/AKgDE2omjD8ADY/s42x7PwDkL5w/y1W/QM6fJ2y1gL8AZzuXoQySvwCd/VzaGI6/ABJHo8qSeT/AgtuFVGqPvwDOd2VX8YY/AHa2BtbWkD8AoHCYFe1kPwBQJpbhQza/ACVVvLtxgj8AQ2/Im7GEP4BORKsiPog/gHQqN3+liT8AIdR1nVSBPwAa9hzSHXk/\",\"dtype\":\"float64\",\"order\":\"little\",\"shape\":[153]}},\"selected\":{\"id\":\"1433\"},\"selection_policy\":{\"id\":\"1466\"}},\"id\":\"1432\",\"type\":\"ColumnDataSource\"},{\"attributes\":{\"source\":{\"id\":\"1297\"}},\"id\":\"1304\",\"type\":\"CDSView\"},{\"attributes\":{},\"id\":\"1282\",\"type\":\"UnionRenderers\"},{\"attributes\":{},\"id\":\"1433\",\"type\":\"Selection\"},{\"attributes\":{\"axis_label\":\"Date\",\"bounds\":\"auto\",\"formatter\":{\"id\":\"1048\"},\"major_label_orientation\":\"horizontal\",\"ticker\":{\"id\":\"1027\"}},\"id\":\"1026\",\"type\":\"DatetimeAxis\"},{\"attributes\":{\"line_color\":\"#004201\",\"line_width\":2,\"x\":{\"field\":\"Date\"},\"y\":{\"field\":\"value\"}},\"id\":\"1484\",\"type\":\"Line\"},{\"attributes\":{\"line_alpha\":0.2,\"line_color\":\"#1f77b3\",\"line_width\":2,\"x\":{\"field\":\"Date\"},\"y\":{\"field\":\"value\"}},\"id\":\"1056\",\"type\":\"Line\"},{\"attributes\":{\"source\":{\"id\":\"1112\"}},\"id\":\"1119\",\"type\":\"CDSView\"},{\"attributes\":{\"axis\":{\"id\":\"1030\"},\"dimension\":1,\"grid_line_color\":null,\"ticker\":null},\"id\":\"1033\",\"type\":\"Grid\"},{\"attributes\":{\"click_policy\":\"mute\",\"items\":[{\"id\":\"1080\"},{\"id\":\"1111\"},{\"id\":\"1144\"},{\"id\":\"1179\"},{\"id\":\"1216\"},{\"id\":\"1255\"},{\"id\":\"1296\"},{\"id\":\"1339\"},{\"id\":\"1384\"},{\"id\":\"1431\"},{\"id\":\"1480\"},{\"id\":\"1531\"}],\"location\":[0,0],\"title\":\"Variable\"},\"id\":\"1079\",\"type\":\"Legend\"},{\"attributes\":{\"label\":{\"value\":\"XLK\"},\"renderers\":[{\"id\":\"1391\"}]},\"id\":\"1431\",\"type\":\"LegendItem\"},{\"attributes\":{},\"id\":\"1466\",\"type\":\"UnionRenderers\"},{\"attributes\":{},\"id\":\"1417\",\"type\":\"UnionRenderers\"},{\"attributes\":{\"line_alpha\":0.2,\"line_color\":\"#3a0182\",\"line_width\":2,\"x\":{\"field\":\"Date\"},\"y\":{\"field\":\"value\"}},\"id\":\"1437\",\"type\":\"Line\"},{\"attributes\":{\"margin\":[5,5,5,5],\"name\":\"HSpacer01787\",\"sizing_mode\":\"stretch_width\"},\"id\":\"1002\",\"type\":\"Spacer\"},{\"attributes\":{\"data\":{\"Date\":{\"__ndarray__\":\"AAAAE9sJd0IAAMB4LQp3QgAAgN5/CndCAABARNIKd0IAAIB1yQt3QgAAQNsbDHdCAAAAQW4Md0IAAMCmwAx3QgAAgAwTDXdCAADAPQoOd0IAAICjXA53QgAAQAmvDndCAAAAbwEPd0IAAMDUUw93QgAAAAZLEHdCAADAa50Qd0IAAIDR7xB3QgAAQDdCEXdCAAAAnZQRd0IAAEDOixJ3QgAAADTeEndCAADAmTATd0IAAID/ghN3QgAAQGXVE3dCAACAlswUd0IAAED8HhV3QgAAAGJxFXdCAADAx8MVd0IAAMBeDRd3QgAAgMRfF3dCAABAKrIXd0IAAACQBBh3QgAAwPVWGHdCAAAAJ04Zd0IAAMCMoBl3QgAAgPLyGXdCAABAWEUad0IAAAC+lxp3QgAAQO+OG3dCAAAAVeEbd0IAAMC6Mxx3QgAAgCCGHHdCAABAhtgcd0IAAIC3zx13QgAAQB0iHndCAAAAg3Qed0IAAMDoxh53QgAAgE4ZH3dCAADAfxAgd0IAAIDlYiB3QgAAQEu1IHdCAAAAsQchd0IAAMAWWiF3QgAAAEhRIndCAADAraMid0IAAIAT9iJ3QgAAQHlII3dCAAAA35ojd0IAAAB25CR3QgAAwNs2JXdCAACAQYkld0IAAECn2yV3QgAAgNjSJndCAABAPiUnd0IAAACkdyd3QgAAwAnKJ3dCAACAbxwod0IAAMCgEyl3QgAAgAZmKXdCAABAbLgpd0IAAADSCip3QgAAwDddKndCAAAAaVQrd0IAAMDOpit3QgAAgDT5K3dCAABAmkssd0IAAAAAnix3QgAAQDGVLXdCAAAAl+ctd0IAAMD8OS53QgAAgGKMLndCAABAyN4ud0IAAID51S93QgAAQF8oMHdCAAAAxXowd0IAAMAqzTB3QgAAwMEWMndCAACAJ2kyd0IAAECNuzJ3QgAAAPMNM3dCAADAWGAzd0IAAACKVzR3QgAAwO+pNHdCAACAVfw0d0IAAEC7TjV3QgAAACGhNXdCAABAUpg2d0IAAAC46jZ3QgAAwB09N3dCAACAg483d0IAAEDp4Td3QgAAgBrZOHdCAABAgCs5d0IAAADmfTl3QgAAwEvQOXdCAACAsSI6d0IAAMDiGTt3QgAAgEhsO3dCAABArr47d0IAAAAUETx3QgAAwHljPHdCAAAAq1o9d0IAAMAQrT13QgAAgHb/PXdCAABA3FE+d0IAAABCpD53QgAAQHObP3dCAAAA2e0/d0IAAMA+QEB3QgAAgKSSQHdCAABACuVAd0IAAIA73EF3QgAAQKEuQndCAAAAB4FCd0IAAMBs00J3QgAAgNIlQ3dCAADAAx1Ed0IAAIBpb0R3QgAAQM/BRHdCAAAANRRFd0IAAMCaZkV3QgAAwDGwRndCAACAlwJHd0IAAED9VEd3QgAAAGOnR3dCAABAlJ5Id0IAAAD68Eh3QgAAwF9DSXdCAACAxZVJd0IAAEAr6El3QgAAgFzfSndCAABAwjFLd0IAAAAohEt3QgAAwI3WS3dCAACA8yhMd0IAAMAkIE13QgAAgIpyTXdCAABA8MRNd0IAAABWF053QgAAwLtpTndCAAAA7WBPd0IAAMBSs093QgAAgLgFUHdC\",\"dtype\":\"float64\",\"order\":\"little\",\"shape\":[153]},\"Variable\":[\"XLF\",\"XLF\",\"XLF\",\"XLF\",\"XLF\",\"XLF\",\"XLF\",\"XLF\",\"XLF\",\"XLF\",\"XLF\",\"XLF\",\"XLF\",\"XLF\",\"XLF\",\"XLF\",\"XLF\",\"XLF\",\"XLF\",\"XLF\",\"XLF\",\"XLF\",\"XLF\",\"XLF\",\"XLF\",\"XLF\",\"XLF\",\"XLF\",\"XLF\",\"XLF\",\"XLF\",\"XLF\",\"XLF\",\"XLF\",\"XLF\",\"XLF\",\"XLF\",\"XLF\",\"XLF\",\"XLF\",\"XLF\",\"XLF\",\"XLF\",\"XLF\",\"XLF\",\"XLF\",\"XLF\",\"XLF\",\"XLF\",\"XLF\",\"XLF\",\"XLF\",\"XLF\",\"XLF\",\"XLF\",\"XLF\",\"XLF\",\"XLF\",\"XLF\",\"XLF\",\"XLF\",\"XLF\",\"XLF\",\"XLF\",\"XLF\",\"XLF\",\"XLF\",\"XLF\",\"XLF\",\"XLF\",\"XLF\",\"XLF\",\"XLF\",\"XLF\",\"XLF\",\"XLF\",\"XLF\",\"XLF\",\"XLF\",\"XLF\",\"XLF\",\"XLF\",\"XLF\",\"XLF\",\"XLF\",\"XLF\",\"XLF\",\"XLF\",\"XLF\",\"XLF\",\"XLF\",\"XLF\",\"XLF\",\"XLF\",\"XLF\",\"XLF\",\"XLF\",\"XLF\",\"XLF\",\"XLF\",\"XLF\",\"XLF\",\"XLF\",\"XLF\",\"XLF\",\"XLF\",\"XLF\",\"XLF\",\"XLF\",\"XLF\",\"XLF\",\"XLF\",\"XLF\",\"XLF\",\"XLF\",\"XLF\",\"XLF\",\"XLF\",\"XLF\",\"XLF\",\"XLF\",\"XLF\",\"XLF\",\"XLF\",\"XLF\",\"XLF\",\"XLF\",\"XLF\",\"XLF\",\"XLF\",\"XLF\",\"XLF\",\"XLF\",\"XLF\",\"XLF\",\"XLF\",\"XLF\",\"XLF\",\"XLF\",\"XLF\",\"XLF\",\"XLF\",\"XLF\",\"XLF\",\"XLF\",\"XLF\",\"XLF\",\"XLF\",\"XLF\",\"XLF\",\"XLF\",\"XLF\",\"XLF\"],\"value\":{\"__ndarray__\":\"EBj0gf87o78gvRvblvCgP7AU6QcisKi/ECMbnOxrob+wBOldIHS7v0CGQG/6E64/YIqFLejFq7+g1yQmTK+7v3AmOyIn18A/iNTjukWMwb+AGioJCM2rP+CotUnmurW/QDVsnGNplj+w6Z+8wkaiv8i3xHUZ7LC/YAGxTw+/vz+ARy8tXNubP+CTlu8UErA/QF7oTxQwn78ALrRv1n6TP4BuIvj1N5y/IOcJ40Q7r7/A9X1GYqqZP+An/1RvcJS/kGz+K/pgsj+AsD2Vc26EP6AOZpShZaY/YBcv6hZ1qz8wE4gTOp2ivwCz5KQPLnI/4HlCsR0spr/gNnS4IfmRv0CpSE3D9ao/oPM+TiXWkb8wuuiiC4agvwBVNzT5H4Y/AMNJ3lAhcb8AFIRSLqCNPyAbkdaCbaE/AHKfJGDdhT/Aiv/YGL+dP8BibJE/15m/AN9h/nNmoL9ANqORQ5GCvwDsYTt2O2q/IA1ZLFYWlr9AWGSt1wOYP8CF8heQDpY/AGNp1BDBk7/AEZQtaLOav2CS7ak1TZ6/QNQDO+dEmj+A707t4w97v+BaQH/VRKo/4B7dPqL8mL9AGEplHcSWPwDvbDSQ+2m/AAAAAADKbb+AkkxysqCqPwBv+Hz0M6Y/APiM7UAskL+AR6689FmHv4Akvy/nnoc/ALaw57ZugD+ADGUBDhejP4C7G1cvVZY/INf3Jt8Foz/A8Qw7H4OTP2DXK0r105W/YIiWn08so7947/UqcO+0v0DmU5x2/Z4/gObf1mJcjD8AP3svIxuQPwBYsDDu4I6/AEYTjx9WVL8Ama9w9SV7vwBkI18rD4e/ADNfccgAcz+Qb6/yLw6iv4CNtaOSLps/wIhVANHrpb8AKpFzyKyGP4BSBAMZz4s/ACls5mqzgb8AyKDD6mxVP8CB+xR8nZM/QPoqvgL/lL8AE4X1hm+FPyDUbgXUp5W/4LChlMKboT8AYI+QpnVxPwCeiwDV3HQ/gMev9ARTlD8AAAAAAAAAAACO+KLn9YC/ACMKgwjQcr/Aqm+MGTCUPwAAAAAAAAAAALA2rIX1Sj8ABiHguDNkv0BTAVZ64IC/ALP/FZZrZL8AzHHrIzGTP8AC4p2Ta5K/AOA4iNhIOz8AOnW7B91nP4CDN0z0/nC/gFVVVfUojD8AiNxI2e86v0CyPcEO5ZU/AAfuv2OufT+A5jvA27yHPwBqr0IUqGa/ABj0dRH3eb8AVXrl8FRwP2CuF6WJFJG/gIBwye13er8AQFSZKaQ6vwBlGwPdJ4O/AM3f+5jQYL+AF5xIXG6YPwAEMH3zCWc/gLQXoy+xc79Ao+ciY1CRPwB4zuQlN3A/wKK1Kis6iL8ARr3p8OFmP4Ca5V+0Vo0/AHfs1qdVj78AYlk4cwF/P2A9Y4KaUZq/gM/1C3vHhD/AA3xccMyMvwD8jjnlX3w/AC6msAAujD/ARtyJFsyLvwA5eo70NIc/AIu1LshOhb8ALjFNCJBgv+DNM9RJHp+/gAtTHN0dgb/gze4L3t6WvwCAo6+np2E/AAAAAAAkhT8AfI08fWmYP0Bjm2j1i4m/gDDSjhWYiz8ACN4rVjpbPwDpAoKlI4A/QHA46CTbkD+AVoP8jrqEv4Cis3XeK5E/\",\"dtype\":\"float64\",\"order\":\"little\",\"shape\":[153]}},\"selected\":{\"id\":\"1181\"},\"selection_policy\":{\"id\":\"1202\"}},\"id\":\"1180\",\"type\":\"ColumnDataSource\"},{\"attributes\":{\"line_alpha\":0.1,\"line_color\":\"#16bdcf\",\"line_width\":2,\"x\":{\"field\":\"Date\"},\"y\":{\"field\":\"value\"}},\"id\":\"1389\",\"type\":\"Line\"},{\"attributes\":{\"line_alpha\":0.1,\"line_color\":\"#3a0182\",\"line_width\":2,\"x\":{\"field\":\"Date\"},\"y\":{\"field\":\"value\"}},\"id\":\"1436\",\"type\":\"Line\"},{\"attributes\":{\"axis\":{\"id\":\"1026\"},\"grid_line_color\":null,\"ticker\":null},\"id\":\"1029\",\"type\":\"Grid\"},{\"attributes\":{\"line_color\":\"#3a0182\",\"line_width\":2,\"x\":{\"field\":\"Date\"},\"y\":{\"field\":\"value\"}},\"id\":\"1435\",\"type\":\"Line\"},{\"attributes\":{\"data_source\":{\"id\":\"1432\"},\"glyph\":{\"id\":\"1435\"},\"hover_glyph\":null,\"muted_glyph\":{\"id\":\"1437\"},\"nonselection_glyph\":{\"id\":\"1436\"},\"selection_glyph\":null,\"view\":{\"id\":\"1439\"}},\"id\":\"1438\",\"type\":\"GlyphRenderer\"},{\"attributes\":{\"line_alpha\":0.2,\"line_color\":\"#16bdcf\",\"line_width\":2,\"x\":{\"field\":\"Date\"},\"y\":{\"field\":\"value\"}},\"id\":\"1390\",\"type\":\"Line\"},{\"attributes\":{\"base\":24,\"mantissas\":[1,2,4,6,8,12],\"max_interval\":43200000.0,\"min_interval\":3600000.0,\"num_minor_ticks\":0},\"id\":\"1069\",\"type\":\"AdaptiveTicker\"},{\"attributes\":{\"months\":[0,6]},\"id\":\"1077\",\"type\":\"MonthsTicker\"},{\"attributes\":{\"label\":{\"value\":\"XLU\"},\"renderers\":[{\"id\":\"1438\"}]},\"id\":\"1480\",\"type\":\"LegendItem\"},{\"attributes\":{\"line_color\":\"#8c564b\",\"line_width\":2,\"x\":{\"field\":\"Date\"},\"y\":{\"field\":\"value\"}},\"id\":\"1220\",\"type\":\"Line\"},{\"attributes\":{\"label\":{\"value\":\"XLC\"},\"renderers\":[{\"id\":\"1057\"}]},\"id\":\"1080\",\"type\":\"LegendItem\"},{\"attributes\":{\"data\":{\"Date\":{\"__ndarray__\":\"AAAAE9sJd0IAAMB4LQp3QgAAgN5/CndCAABARNIKd0IAAIB1yQt3QgAAQNsbDHdCAAAAQW4Md0IAAMCmwAx3QgAAgAwTDXdCAADAPQoOd0IAAICjXA53QgAAQAmvDndCAAAAbwEPd0IAAMDUUw93QgAAAAZLEHdCAADAa50Qd0IAAIDR7xB3QgAAQDdCEXdCAAAAnZQRd0IAAEDOixJ3QgAAADTeEndCAADAmTATd0IAAID/ghN3QgAAQGXVE3dCAACAlswUd0IAAED8HhV3QgAAAGJxFXdCAADAx8MVd0IAAMBeDRd3QgAAgMRfF3dCAABAKrIXd0IAAACQBBh3QgAAwPVWGHdCAAAAJ04Zd0IAAMCMoBl3QgAAgPLyGXdCAABAWEUad0IAAAC+lxp3QgAAQO+OG3dCAAAAVeEbd0IAAMC6Mxx3QgAAgCCGHHdCAABAhtgcd0IAAIC3zx13QgAAQB0iHndCAAAAg3Qed0IAAMDoxh53QgAAgE4ZH3dCAADAfxAgd0IAAIDlYiB3QgAAQEu1IHdCAAAAsQchd0IAAMAWWiF3QgAAAEhRIndCAADAraMid0IAAIAT9iJ3QgAAQHlII3dCAAAA35ojd0IAAAB25CR3QgAAwNs2JXdCAACAQYkld0IAAECn2yV3QgAAgNjSJndCAABAPiUnd0IAAACkdyd3QgAAwAnKJ3dCAACAbxwod0IAAMCgEyl3QgAAgAZmKXdCAABAbLgpd0IAAADSCip3QgAAwDddKndCAAAAaVQrd0IAAMDOpit3QgAAgDT5K3dCAABAmkssd0IAAAAAnix3QgAAQDGVLXdCAAAAl+ctd0IAAMD8OS53QgAAgGKMLndCAABAyN4ud0IAAID51S93QgAAQF8oMHdCAAAAxXowd0IAAMAqzTB3QgAAwMEWMndCAACAJ2kyd0IAAECNuzJ3QgAAAPMNM3dCAADAWGAzd0IAAACKVzR3QgAAwO+pNHdCAACAVfw0d0IAAEC7TjV3QgAAACGhNXdCAABAUpg2d0IAAAC46jZ3QgAAwB09N3dCAACAg483d0IAAEDp4Td3QgAAgBrZOHdCAABAgCs5d0IAAADmfTl3QgAAwEvQOXdCAACAsSI6d0IAAMDiGTt3QgAAgEhsO3dCAABArr47d0IAAAAUETx3QgAAwHljPHdCAAAAq1o9d0IAAMAQrT13QgAAgHb/PXdCAABA3FE+d0IAAABCpD53QgAAQHObP3dCAAAA2e0/d0IAAMA+QEB3QgAAgKSSQHdCAABACuVAd0IAAIA73EF3QgAAQKEuQndCAAAAB4FCd0IAAMBs00J3QgAAgNIlQ3dCAADAAx1Ed0IAAIBpb0R3QgAAQM/BRHdCAAAANRRFd0IAAMCaZkV3QgAAwDGwRndCAACAlwJHd0IAAED9VEd3QgAAAGOnR3dCAABAlJ5Id0IAAAD68Eh3QgAAwF9DSXdCAACAxZVJd0IAAEAr6El3QgAAgFzfSndCAABAwjFLd0IAAAAohEt3QgAAwI3WS3dCAACA8yhMd0IAAMAkIE13QgAAgIpyTXdCAABA8MRNd0IAAABWF053QgAAwLtpTndCAAAA7WBPd0IAAMBSs093QgAAgLgFUHdC\",\"dtype\":\"float64\",\"order\":\"little\",\"shape\":[153]},\"Variable\":[\"XLRE\",\"XLRE\",\"XLRE\",\"XLRE\",\"XLRE\",\"XLRE\",\"XLRE\",\"XLRE\",\"XLRE\",\"XLRE\",\"XLRE\",\"XLRE\",\"XLRE\",\"XLRE\",\"XLRE\",\"XLRE\",\"XLRE\",\"XLRE\",\"XLRE\",\"XLRE\",\"XLRE\",\"XLRE\",\"XLRE\",\"XLRE\",\"XLRE\",\"XLRE\",\"XLRE\",\"XLRE\",\"XLRE\",\"XLRE\",\"XLRE\",\"XLRE\",\"XLRE\",\"XLRE\",\"XLRE\",\"XLRE\",\"XLRE\",\"XLRE\",\"XLRE\",\"XLRE\",\"XLRE\",\"XLRE\",\"XLRE\",\"XLRE\",\"XLRE\",\"XLRE\",\"XLRE\",\"XLRE\",\"XLRE\",\"XLRE\",\"XLRE\",\"XLRE\",\"XLRE\",\"XLRE\",\"XLRE\",\"XLRE\",\"XLRE\",\"XLRE\",\"XLRE\",\"XLRE\",\"XLRE\",\"XLRE\",\"XLRE\",\"XLRE\",\"XLRE\",\"XLRE\",\"XLRE\",\"XLRE\",\"XLRE\",\"XLRE\",\"XLRE\",\"XLRE\",\"XLRE\",\"XLRE\",\"XLRE\",\"XLRE\",\"XLRE\",\"XLRE\",\"XLRE\",\"XLRE\",\"XLRE\",\"XLRE\",\"XLRE\",\"XLRE\",\"XLRE\",\"XLRE\",\"XLRE\",\"XLRE\",\"XLRE\",\"XLRE\",\"XLRE\",\"XLRE\",\"XLRE\",\"XLRE\",\"XLRE\",\"XLRE\",\"XLRE\",\"XLRE\",\"XLRE\",\"XLRE\",\"XLRE\",\"XLRE\",\"XLRE\",\"XLRE\",\"XLRE\",\"XLRE\",\"XLRE\",\"XLRE\",\"XLRE\",\"XLRE\",\"XLRE\",\"XLRE\",\"XLRE\",\"XLRE\",\"XLRE\",\"XLRE\",\"XLRE\",\"XLRE\",\"XLRE\",\"XLRE\",\"XLRE\",\"XLRE\",\"XLRE\",\"XLRE\",\"XLRE\",\"XLRE\",\"XLRE\",\"XLRE\",\"XLRE\",\"XLRE\",\"XLRE\",\"XLRE\",\"XLRE\",\"XLRE\",\"XLRE\",\"XLRE\",\"XLRE\",\"XLRE\",\"XLRE\",\"XLRE\",\"XLRE\",\"XLRE\",\"XLRE\",\"XLRE\",\"XLRE\",\"XLRE\",\"XLRE\",\"XLRE\",\"XLRE\",\"XLRE\",\"XLRE\",\"XLRE\",\"XLRE\"],\"value\":{\"__ndarray__\":\"AOiQkwB0Sb+g+6eXyuajP0BhchnKf5e/4JkHJ/GDkb9QiLPyExayvyC11xkb5qg/YInjvrhtq7/AvAyS+Py1v1AU3P0WerY/7EBRnkB7xL8g2mSjdxKvP7iHb07E+7G/IJmSKZkakL/wHKB25PysvyA3kMUIBrC/8PzLSXRStj9gAEQiXsCmP6BXz6mCqLM/AFKbQWYNZT8A+p0ffpOaPzDMS+9PT6C/gBBCCOEMr78Aayht3D2OP8AUds2ZU4G/IFbvHduFsj8AwKyXyNs0PyD+B3TvOLM/gMKcXntdqj8A3xDfJH2nv2CYOEwOEaE/AGZfj0y7o7+AaxH3Z8F6v4DsVOGphqA/MBMG1Vb5or8AU6VA/iuOvwDd8hy4z5E/wFLZb7RXh78A6iHmb9NtP0ALkJiOt50/AEBm2bbgTD8AfLB146NlPwAq15YYx3y/ADQ1eGlln78AjJ8dre5DvwCwDwMoLXo/gNEtpXDjkr8AlXfCCkyCP0DLiD6gwpI/AIDAsUaQiL9w5HsAE8GlvwC5fPFrOpC/AGCv+mkbVT8AyzOjAfxsv0Duowub9Kg/QK3jDCLbk7+A8RAtyUiDP4BXiIPKYHS/AAAAAGhmlj8gBKGCp0igPwAoy9oK2pU/AFbKtZothz8AVl2tj4F3v4DgKEUsZJQ/ADmrwlWoej/ARpDsUniYP+B1gTZ7HpO/4DHAsUDEoj8A20beF2OWP4DVPnEvzYe/IDFChcsnk7+wqGqOw6avv+B0NU0gM6A/AGwEdm/uiT9AOdzxRBKRP0AsZwRbEYi/QGFa5Jx8ib8APm5ld6WEv4CnieGUb4W/ADnOgvBxbr+A3p9qoiaav4CMjjjVtYU/QNH5VI6akb+A/lW+rZuRPwAzu1F02I0/QONinCbymz8AHlZKXH1rvwBkdwyFY1I/wHw3pVKlkL8ARHMTCKtCvwAb6nwABmy/ABQNtRW/Uj9gZmZmZheQvwCvs8ZlNoQ/APs/jGvWcj8Aw85/cQaIv4BpfbD8dYw/QDOjt31Mg78AwL8SXOUyPwD9QDnSyYg/gAMshUL+dL+A78sJfWlwvwC7uUP0IIg/AMLoIw6mlD/AyhKzo2KTP4AnPY9uyYC/AOZTsO0NUr/gbFgUImGQv4DLbm7ka44/ANEvbLmKfr8AcKXQK+lfP4ABlm4v3os/ANy5c+fuWr8A8KHerKuTv4CQ8RU7yYk/gIRO0Y3Eh78APCe2mZxkP4CyDgyHRoI/AL7LE0IdUr8gTeBAoPeUvwCa8cvo+4U/ABKfe6Z5az8AEJZEj9FWPwAgs4jpEGk/gFJjUallfL+AyGv8lnOLPwBdlwBimn8/wPwB47Hrgb8A6C2GdB5bv8CJZrRI65Y/wMEU+awokb8AEvvpAUZtv0DQ6ksF/Ym/gLaFpBpRhj+Aupzufd6MvwD2eOAdj2u/QOsBplQPmT+Aw/mf8P2KPwBZbg3yo3o/AEcKrcablr9gLToyskyUv9C8T5DirqC/AJJ1kIVhiD9gpsX6EGKdvwCv2UVWXHM/gBq8NC7fkz+AZZVjsLiRP4AJikRn53S/AIrAttoCdT+As1an1NaQP4DrSK4dkZA/AHvYGq98dj9A9ErEElWBvwDWlkQCjmY/\",\"dtype\":\"float64\",\"order\":\"little\",\"shape\":[153]}},\"selected\":{\"id\":\"1341\"},\"selection_policy\":{\"id\":\"1370\"}},\"id\":\"1340\",\"type\":\"ColumnDataSource\"},{\"attributes\":{\"label\":{\"value\":\"XLP\"},\"renderers\":[{\"id\":\"1118\"}]},\"id\":\"1144\",\"type\":\"LegendItem\"},{\"attributes\":{},\"id\":\"1181\",\"type\":\"Selection\"},{\"attributes\":{},\"id\":\"1341\",\"type\":\"Selection\"},{\"attributes\":{\"months\":[0,4,8]},\"id\":\"1076\",\"type\":\"MonthsTicker\"},{\"attributes\":{\"line_color\":\"#1f77b3\",\"line_width\":2,\"x\":{\"field\":\"Date\"},\"y\":{\"field\":\"value\"}},\"id\":\"1054\",\"type\":\"Line\"},{\"attributes\":{\"label\":{\"value\":\"XLY\"},\"renderers\":[{\"id\":\"1087\"}]},\"id\":\"1111\",\"type\":\"LegendItem\"},{\"attributes\":{\"source\":{\"id\":\"1432\"}},\"id\":\"1439\",\"type\":\"CDSView\"},{\"attributes\":{\"label\":{\"value\":\"XLRE\"},\"renderers\":[{\"id\":\"1346\"}]},\"id\":\"1384\",\"type\":\"LegendItem\"},{\"attributes\":{\"source\":{\"id\":\"1385\"}},\"id\":\"1392\",\"type\":\"CDSView\"},{\"attributes\":{},\"id\":\"1065\",\"type\":\"UnionRenderers\"},{\"attributes\":{},\"id\":\"1031\",\"type\":\"BasicTicker\"},{\"attributes\":{\"months\":[0,1,2,3,4,5,6,7,8,9,10,11]},\"id\":\"1074\",\"type\":\"MonthsTicker\"},{\"attributes\":{\"months\":[0,2,4,6,8,10]},\"id\":\"1075\",\"type\":\"MonthsTicker\"},{\"attributes\":{\"source\":{\"id\":\"1051\"}},\"id\":\"1058\",\"type\":\"CDSView\"},{\"attributes\":{\"line_alpha\":0.2,\"line_color\":\"#004201\",\"line_width\":2,\"x\":{\"field\":\"Date\"},\"y\":{\"field\":\"value\"}},\"id\":\"1486\",\"type\":\"Line\"},{\"attributes\":{\"label\":{\"value\":\"SPY\"},\"renderers\":[{\"id\":\"1487\"}]},\"id\":\"1531\",\"type\":\"LegendItem\"},{\"attributes\":{},\"id\":\"1038\",\"type\":\"ResetTool\"},{\"attributes\":{\"end\":1602028800000.0,\"reset_end\":1602028800000.0,\"reset_start\":1583193600000.0,\"start\":1583193600000.0,\"tags\":[[[\"Date\",\"Date\",null]]]},\"id\":\"1003\",\"type\":\"Range1d\"},{\"attributes\":{},\"id\":\"1078\",\"type\":\"YearsTicker\"},{\"attributes\":{\"line_alpha\":0.2,\"line_color\":\"#bcbc21\",\"line_width\":2,\"x\":{\"field\":\"Date\"},\"y\":{\"field\":\"value\"}},\"id\":\"1345\",\"type\":\"Line\"},{\"attributes\":{\"line_alpha\":0.1,\"line_color\":\"#bcbc21\",\"line_width\":2,\"x\":{\"field\":\"Date\"},\"y\":{\"field\":\"value\"}},\"id\":\"1344\",\"type\":\"Line\"},{\"attributes\":{\"label\":{\"value\":\"XLI\"},\"renderers\":[{\"id\":\"1262\"}]},\"id\":\"1296\",\"type\":\"LegendItem\"},{\"attributes\":{\"line_color\":\"#bcbc21\",\"line_width\":2,\"x\":{\"field\":\"Date\"},\"y\":{\"field\":\"value\"}},\"id\":\"1343\",\"type\":\"Line\"},{\"attributes\":{\"data_source\":{\"id\":\"1340\"},\"glyph\":{\"id\":\"1343\"},\"hover_glyph\":null,\"muted_glyph\":{\"id\":\"1345\"},\"nonselection_glyph\":{\"id\":\"1344\"},\"selection_glyph\":null,\"view\":{\"id\":\"1347\"}},\"id\":\"1346\",\"type\":\"GlyphRenderer\"}],\"root_ids\":[\"1001\"]},\"title\":\"Bokeh Application\",\"version\":\"2.1.1\"}};\n",
       "  var render_items = [{\"docid\":\"f7d1453a-888c-4725-ab8c-3d5b081aa74e\",\"root_ids\":[\"1001\"],\"roots\":{\"1001\":\"be3ecd0e-26b3-435a-a2ea-125151ca113d\"}}];\n",
       "  root.Bokeh.embed.embed_items_notebook(docs_json, render_items);\n",
       "  }\n",
       "if (root.Bokeh !== undefined) {\n",
       "    embed_document(root);\n",
       "  } else {\n",
       "    var attempts = 0;\n",
       "    var timer = setInterval(function(root) {\n",
       "      if (root.Bokeh !== undefined) {\n",
       "        clearInterval(timer);\n",
       "        embed_document(root);\n",
       "      } else if (document.readyState == \"complete\") {\n",
       "        attempts++;\n",
       "        if (attempts > 100) {\n",
       "          clearInterval(timer);\n",
       "          console.log(\"Bokeh: ERROR: Unable to run BokehJS code because BokehJS library is missing\");\n",
       "        }\n",
       "      }\n",
       "    }, 10, root)\n",
       "  }\n",
       "})(window);</script>"
      ],
      "text/plain": [
       ":NdOverlay   [Variable]\n",
       "   :Curve   [Date]   (value)"
      ]
     },
     "execution_count": 47,
     "metadata": {
      "application/vnd.holoviews_exec.v0+json": {
       "id": "1001"
      }
     },
     "output_type": "execute_result"
    }
   ],
   "source": [
    "change_comparison=market_comparison.pct_change()\n",
    "change_comparison.dropna(inplace=True)\n",
    "change_comparison.hvplot()"
   ]
  },
  {
   "cell_type": "code",
   "execution_count": 48,
   "metadata": {},
   "outputs": [
    {
     "data": {
      "application/vnd.holoviews_exec.v0+json": "",
      "text/html": [
       "<div id='2122'>\n",
       "\n",
       "\n",
       "\n",
       "\n",
       "\n",
       "  <div class=\"bk-root\" id=\"355f1a36-193f-4422-b443-37315e72af5e\" data-root-id=\"2122\"></div>\n",
       "</div>\n",
       "<script type=\"application/javascript\">(function(root) {\n",
       "  function embed_document(root) {\n",
       "  var docs_json = {\"127dba34-4dad-4056-ac89-7bb65c8500ac\":{\"roots\":{\"references\":[{\"attributes\":{\"data_source\":{\"id\":\"2377\"},\"glyph\":{\"id\":\"2380\"},\"hover_glyph\":null,\"muted_glyph\":{\"id\":\"2382\"},\"nonselection_glyph\":{\"id\":\"2381\"},\"selection_glyph\":null,\"view\":{\"id\":\"2384\"}},\"id\":\"2383\",\"type\":\"GlyphRenderer\"},{\"attributes\":{\"label\":{\"value\":\"XLF\"},\"renderers\":[{\"id\":\"2307\"}]},\"id\":\"2337\",\"type\":\"LegendItem\"},{\"attributes\":{},\"id\":\"2302\",\"type\":\"Selection\"},{\"attributes\":{},\"id\":\"2251\",\"type\":\"UnionRenderers\"},{\"attributes\":{\"data\":{\"Date\":{\"__ndarray__\":\"AABArYgJd0IAAAAT2wl3QgAAwHgtCndCAACA3n8Kd0IAAEBE0gp3QgAAgHXJC3dCAABA2xsMd0IAAABBbgx3QgAAwKbADHdCAACADBMNd0IAAMA9Cg53QgAAgKNcDndCAABACa8Od0IAAABvAQ93QgAAwNRTD3dCAAAABksQd0IAAMBrnRB3QgAAgNHvEHdCAABAN0IRd0IAAACdlBF3QgAAQM6LEndCAAAANN4Sd0IAAMCZMBN3QgAAgP+CE3dCAABAZdUTd0IAAICWzBR3QgAAQPweFXdCAAAAYnEVd0IAAMDHwxV3QgAAwF4NF3dCAACAxF8Xd0IAAEAqshd3QgAAAJAEGHdCAADA9VYYd0IAAAAnThl3QgAAwIygGXdCAACA8vIZd0IAAEBYRRp3QgAAAL6XGndCAABA744bd0IAAABV4Rt3QgAAwLozHHdCAACAIIYcd0IAAECG2Bx3QgAAgLfPHXdCAABAHSIed0IAAACDdB53QgAAwOjGHndCAACAThkfd0IAAMB/ECB3QgAAgOViIHdCAABAS7Ugd0IAAACxByF3QgAAwBZaIXdCAAAASFEid0IAAMCtoyJ3QgAAgBP2IndCAABAeUgjd0IAAADfmiN3QgAAAHbkJHdCAADA2zYld0IAAIBBiSV3QgAAQKfbJXdCAACA2NImd0IAAEA+JSd3QgAAAKR3J3dCAADACcond0IAAIBvHCh3QgAAwKATKXdCAACABmYpd0IAAEBsuCl3QgAAANIKKndCAADAN10qd0IAAABpVCt3QgAAwM6mK3dCAACANPkrd0IAAECaSyx3QgAAAACeLHdCAABAMZUtd0IAAACX5y13QgAAwPw5LndCAACAYowud0IAAEDI3i53QgAAgPnVL3dCAABAXygwd0IAAADFejB3QgAAwCrNMHdCAADAwRYyd0IAAIAnaTJ3QgAAQI27MndCAAAA8w0zd0IAAMBYYDN3QgAAAIpXNHdCAADA76k0d0IAAIBV/DR3QgAAQLtONXdCAAAAIaE1d0IAAEBSmDZ3QgAAALjqNndCAADAHT03d0IAAICDjzd3QgAAQOnhN3dCAACAGtk4d0IAAECAKzl3QgAAAOZ9OXdCAADAS9A5d0IAAICxIjp3QgAAwOIZO3dCAACASGw7d0IAAECuvjt3QgAAABQRPHdCAADAeWM8d0IAAACrWj13QgAAwBCtPXdCAACAdv89d0IAAEDcUT53QgAAAEKkPndCAABAc5s/d0IAAADZ7T93QgAAwD5AQHdCAACApJJAd0IAAEAK5UB3QgAAgDvcQXdCAABAoS5Cd0IAAAAHgUJ3QgAAwGzTQndCAACA0iVDd0IAAMADHUR3QgAAgGlvRHdCAABAz8FEd0IAAAA1FEV3QgAAwJpmRXdCAADAMbBGd0IAAICXAkd3QgAAQP1UR3dCAAAAY6dHd0IAAECUnkh3QgAAAPrwSHdCAADAX0NJd0IAAIDFlUl3QgAAQCvoSXdCAACAXN9Kd0IAAEDCMUt3QgAAACiES3dCAADAjdZLd0IAAIDzKEx3QgAAwCQgTXdCAACAinJNd0IAAEDwxE13QgAAAFYXTndCAADAu2lOd0IAAADtYE93QgAAwFKzT3dCAACAuAVQd0I=\",\"dtype\":\"float64\",\"order\":\"little\",\"shape\":[154]},\"Variable\":[\"XLB\",\"XLB\",\"XLB\",\"XLB\",\"XLB\",\"XLB\",\"XLB\",\"XLB\",\"XLB\",\"XLB\",\"XLB\",\"XLB\",\"XLB\",\"XLB\",\"XLB\",\"XLB\",\"XLB\",\"XLB\",\"XLB\",\"XLB\",\"XLB\",\"XLB\",\"XLB\",\"XLB\",\"XLB\",\"XLB\",\"XLB\",\"XLB\",\"XLB\",\"XLB\",\"XLB\",\"XLB\",\"XLB\",\"XLB\",\"XLB\",\"XLB\",\"XLB\",\"XLB\",\"XLB\",\"XLB\",\"XLB\",\"XLB\",\"XLB\",\"XLB\",\"XLB\",\"XLB\",\"XLB\",\"XLB\",\"XLB\",\"XLB\",\"XLB\",\"XLB\",\"XLB\",\"XLB\",\"XLB\",\"XLB\",\"XLB\",\"XLB\",\"XLB\",\"XLB\",\"XLB\",\"XLB\",\"XLB\",\"XLB\",\"XLB\",\"XLB\",\"XLB\",\"XLB\",\"XLB\",\"XLB\",\"XLB\",\"XLB\",\"XLB\",\"XLB\",\"XLB\",\"XLB\",\"XLB\",\"XLB\",\"XLB\",\"XLB\",\"XLB\",\"XLB\",\"XLB\",\"XLB\",\"XLB\",\"XLB\",\"XLB\",\"XLB\",\"XLB\",\"XLB\",\"XLB\",\"XLB\",\"XLB\",\"XLB\",\"XLB\",\"XLB\",\"XLB\",\"XLB\",\"XLB\",\"XLB\",\"XLB\",\"XLB\",\"XLB\",\"XLB\",\"XLB\",\"XLB\",\"XLB\",\"XLB\",\"XLB\",\"XLB\",\"XLB\",\"XLB\",\"XLB\",\"XLB\",\"XLB\",\"XLB\",\"XLB\",\"XLB\",\"XLB\",\"XLB\",\"XLB\",\"XLB\",\"XLB\",\"XLB\",\"XLB\",\"XLB\",\"XLB\",\"XLB\",\"XLB\",\"XLB\",\"XLB\",\"XLB\",\"XLB\",\"XLB\",\"XLB\",\"XLB\",\"XLB\",\"XLB\",\"XLB\",\"XLB\",\"XLB\",\"XLB\",\"XLB\",\"XLB\",\"XLB\",\"XLB\",\"XLB\",\"XLB\",\"XLB\",\"XLB\",\"XLB\",\"XLB\",\"XLB\",\"XLB\"],\"value\":{\"__ndarray__\":\"AAAAoHB9S0AAAAAAAEBLQAAAAKBHYUxAAAAAQOF6S0AAAAAA18NKQAAAAGCPQkhAAAAAYLg+SUAAAAAghQtIQAAAAEDhukVAAAAAoEdBR0AAAACA67FEQAAAAKCZ+UVAAAAAgOuRREAAAADgURhFQAAAAEAKV0RAAAAAwMwsQ0AAAACAFG5FQAAAAIAU7kVAAAAAgML1RkAAAACgRyFGQAAAAIDC1UZAAAAAwB6FRkAAAACgR4FFQAAAAOB61EVAAAAAgBRORUAAAAAA1+NGQAAAAAAAgEdAAAAAYGamSEAAAACAwrVJQAAAAMAeJUlAAAAA4FF4SUAAAADAzExIQAAAAMD1KEhAAAAAoEchSUAAAABgj4JIQAAAACCu50dAAAAAAABgSEAAAAAghYtIQAAAAIAU7khAAAAA4FGYSUAAAACA6xFKQAAAAAApvEpAAAAA4KPwSUAAAADAHmVJQAAAAAApfElAAAAAwMyMSUAAAAAAKRxJQAAAAAAAoElAAAAAoHA9SkAAAABACtdJQAAAAIDrcUlAAAAAwPXoSEAAAABACjdJQAAAACBcb0lAAAAA4FGYSkAAAABACldKQAAAAGCPwkpAAAAAoEeBSkAAAABACndKQAAAAOCjMEtAAAAAQAp3S0AAAADgUbhLQAAAAKCZuUtAAAAAgD3qS0AAAAAghWtMQAAAAOCjEE1AAAAAIIUrTUAAAACAPepNQAAAAOB69E1AAAAAQAqXTUAAAACgR0FNQAAAAGC4/kpAAAAAwB6FS0AAAAAgXM9LQAAAAADXY0xAAAAAIK4nTEAAAADAzCxMQAAAAEAKF0xAAAAAgD0KTEAAAABA4RpMQAAAAMD1SEtAAAAAAACgS0AAAABguD5LQAAAAGBmxktAAAAAwMwsTEAAAAAAKTxMQAAAAADXw0xAAAAAwMwsTUAAAAAgXC9NQAAAAMAexUxAAAAAAACATEAAAABguP5MQAAAAGC4/kxAAAAAoJm5TUAAAACgmTlOQAAAAEAzU05AAAAA4HqUTkAAAADgo1BOQAAAAOB6lE5AAAAAIFzvTkAAAABACtdOQAAAAAApvE5AAAAAgBQuT0AAAABguH5OQAAAAGC4vk5AAAAAYGYmTkAAAACAFC5OQAAAAGCPAk5AAAAAIFxvTkAAAACgR+FOQAAAAAAAwE5AAAAAQOHaTkAAAAAgridPQAAAAKCZGU9AAAAAwPVIT0AAAAAgrkdPQAAAAOCjUE9AAAAA4Hp0T0AAAABAM1NPQAAAAAApPE9AAAAAAAAgT0AAAACA6/FOQAAAAKBwfU9AAAAAoHBdT0AAAACA67FPQAAAAAApnE9AAAAAACn8T0AAAABguH5PQAAAAOCjMFBAAAAAYLiOUEAAAACgmRlQQAAAAAApHFBAAAAAoHCdT0AAAABACjdQQAAAAAAAEFBAAAAA4HpEUEAAAADgo4BQQAAAAMAelVBAAAAA4FGYUEAAAAAgrrdQQAAAAIAUblBAAAAAQOGaT0AAAACAPapPQAAAAAApvE5AAAAA4Hr0TkAAAABA4TpPQAAAAAApvE9AAAAAAACAT0AAAACA69FPQAAAAGC4Xk9AAAAAYGamT0AAAADgoyBQQAAAAKCZ2U9AAAAAgMJVUEA=\",\"dtype\":\"float64\",\"order\":\"little\",\"shape\":[154]}},\"selected\":{\"id\":\"2419\"},\"selection_policy\":{\"id\":\"2446\"}},\"id\":\"2418\",\"type\":\"ColumnDataSource\"},{\"attributes\":{\"days\":[1,2,3,4,5,6,7,8,9,10,11,12,13,14,15,16,17,18,19,20,21,22,23,24,25,26,27,28,29,30,31]},\"id\":\"2191\",\"type\":\"DaysTicker\"},{\"attributes\":{},\"id\":\"2157\",\"type\":\"WheelZoomTool\"},{\"attributes\":{},\"id\":\"2403\",\"type\":\"UnionRenderers\"},{\"attributes\":{\"months\":[0,6]},\"id\":\"2198\",\"type\":\"MonthsTicker\"},{\"attributes\":{\"line_alpha\":0.2,\"line_color\":\"#e277c1\",\"line_width\":2,\"x\":{\"field\":\"Date\"},\"y\":{\"field\":\"value\"}},\"id\":\"2382\",\"type\":\"Line\"},{\"attributes\":{},\"id\":\"2169\",\"type\":\"DatetimeTickFormatter\"},{\"attributes\":{\"data\":{\"Date\":{\"__ndarray__\":\"AABArYgJd0IAAAAT2wl3QgAAwHgtCndCAACA3n8Kd0IAAEBE0gp3QgAAgHXJC3dCAABA2xsMd0IAAABBbgx3QgAAwKbADHdCAACADBMNd0IAAMA9Cg53QgAAgKNcDndCAABACa8Od0IAAABvAQ93QgAAwNRTD3dCAAAABksQd0IAAMBrnRB3QgAAgNHvEHdCAABAN0IRd0IAAACdlBF3QgAAQM6LEndCAAAANN4Sd0IAAMCZMBN3QgAAgP+CE3dCAABAZdUTd0IAAICWzBR3QgAAQPweFXdCAAAAYnEVd0IAAMDHwxV3QgAAwF4NF3dCAACAxF8Xd0IAAEAqshd3QgAAAJAEGHdCAADA9VYYd0IAAAAnThl3QgAAwIygGXdCAACA8vIZd0IAAEBYRRp3QgAAAL6XGndCAABA744bd0IAAABV4Rt3QgAAwLozHHdCAACAIIYcd0IAAECG2Bx3QgAAgLfPHXdCAABAHSIed0IAAACDdB53QgAAwOjGHndCAACAThkfd0IAAMB/ECB3QgAAgOViIHdCAABAS7Ugd0IAAACxByF3QgAAwBZaIXdCAAAASFEid0IAAMCtoyJ3QgAAgBP2IndCAABAeUgjd0IAAADfmiN3QgAAAHbkJHdCAADA2zYld0IAAIBBiSV3QgAAQKfbJXdCAACA2NImd0IAAEA+JSd3QgAAAKR3J3dCAADACcond0IAAIBvHCh3QgAAwKATKXdCAACABmYpd0IAAEBsuCl3QgAAANIKKndCAADAN10qd0IAAABpVCt3QgAAwM6mK3dCAACANPkrd0IAAECaSyx3QgAAAACeLHdCAABAMZUtd0IAAACX5y13QgAAwPw5LndCAACAYowud0IAAEDI3i53QgAAgPnVL3dCAABAXygwd0IAAADFejB3QgAAwCrNMHdCAADAwRYyd0IAAIAnaTJ3QgAAQI27MndCAAAA8w0zd0IAAMBYYDN3QgAAAIpXNHdCAADA76k0d0IAAIBV/DR3QgAAQLtONXdCAAAAIaE1d0IAAEBSmDZ3QgAAALjqNndCAADAHT03d0IAAICDjzd3QgAAQOnhN3dCAACAGtk4d0IAAECAKzl3QgAAAOZ9OXdCAADAS9A5d0IAAICxIjp3QgAAwOIZO3dCAACASGw7d0IAAECuvjt3QgAAABQRPHdCAADAeWM8d0IAAACrWj13QgAAwBCtPXdCAACAdv89d0IAAEDcUT53QgAAAEKkPndCAABAc5s/d0IAAADZ7T93QgAAwD5AQHdCAACApJJAd0IAAEAK5UB3QgAAgDvcQXdCAABAoS5Cd0IAAAAHgUJ3QgAAwGzTQndCAACA0iVDd0IAAMADHUR3QgAAgGlvRHdCAABAz8FEd0IAAAA1FEV3QgAAwJpmRXdCAADAMbBGd0IAAICXAkd3QgAAQP1UR3dCAAAAY6dHd0IAAECUnkh3QgAAAPrwSHdCAADAX0NJd0IAAIDFlUl3QgAAQCvoSXdCAACAXN9Kd0IAAEDCMUt3QgAAACiES3dCAADAjdZLd0IAAIDzKEx3QgAAwCQgTXdCAACAinJNd0IAAEDwxE13QgAAAFYXTndCAADAu2lOd0IAAADtYE93QgAAwFKzT3dCAACAuAVQd0I=\",\"dtype\":\"float64\",\"order\":\"little\",\"shape\":[154]},\"Variable\":[\"XLF\",\"XLF\",\"XLF\",\"XLF\",\"XLF\",\"XLF\",\"XLF\",\"XLF\",\"XLF\",\"XLF\",\"XLF\",\"XLF\",\"XLF\",\"XLF\",\"XLF\",\"XLF\",\"XLF\",\"XLF\",\"XLF\",\"XLF\",\"XLF\",\"XLF\",\"XLF\",\"XLF\",\"XLF\",\"XLF\",\"XLF\",\"XLF\",\"XLF\",\"XLF\",\"XLF\",\"XLF\",\"XLF\",\"XLF\",\"XLF\",\"XLF\",\"XLF\",\"XLF\",\"XLF\",\"XLF\",\"XLF\",\"XLF\",\"XLF\",\"XLF\",\"XLF\",\"XLF\",\"XLF\",\"XLF\",\"XLF\",\"XLF\",\"XLF\",\"XLF\",\"XLF\",\"XLF\",\"XLF\",\"XLF\",\"XLF\",\"XLF\",\"XLF\",\"XLF\",\"XLF\",\"XLF\",\"XLF\",\"XLF\",\"XLF\",\"XLF\",\"XLF\",\"XLF\",\"XLF\",\"XLF\",\"XLF\",\"XLF\",\"XLF\",\"XLF\",\"XLF\",\"XLF\",\"XLF\",\"XLF\",\"XLF\",\"XLF\",\"XLF\",\"XLF\",\"XLF\",\"XLF\",\"XLF\",\"XLF\",\"XLF\",\"XLF\",\"XLF\",\"XLF\",\"XLF\",\"XLF\",\"XLF\",\"XLF\",\"XLF\",\"XLF\",\"XLF\",\"XLF\",\"XLF\",\"XLF\",\"XLF\",\"XLF\",\"XLF\",\"XLF\",\"XLF\",\"XLF\",\"XLF\",\"XLF\",\"XLF\",\"XLF\",\"XLF\",\"XLF\",\"XLF\",\"XLF\",\"XLF\",\"XLF\",\"XLF\",\"XLF\",\"XLF\",\"XLF\",\"XLF\",\"XLF\",\"XLF\",\"XLF\",\"XLF\",\"XLF\",\"XLF\",\"XLF\",\"XLF\",\"XLF\",\"XLF\",\"XLF\",\"XLF\",\"XLF\",\"XLF\",\"XLF\",\"XLF\",\"XLF\",\"XLF\",\"XLF\",\"XLF\",\"XLF\",\"XLF\",\"XLF\",\"XLF\",\"XLF\",\"XLF\",\"XLF\",\"XLF\",\"XLF\",\"XLF\",\"XLF\",\"XLF\",\"XLF\"],\"value\":{\"__ndarray__\":\"AAAAQDPzO0AAAABgZuY6QAAAAIA9yjtAAAAAQDNzOkAAAADAzIw5QAAAACBczzZAAAAAYGYmOEAAAABACtc2QAAAAGC4XjRAAAAAwMwMN0AAAAAA1+MzQAAAAOBR+DRAAAAA4KMwM0AAAAAAKZwzQAAAAMD16DJAAAAAwPWoMUAAAACgmdkzQAAAAADXYzRAAAAAIIWrNUAAAABgjwI1QAAAAMD1aDVAAAAAgOvRNEAAAADAzIwzQAAAAIA9CjRAAAAAANejM0AAAADAzAw1QAAAAGCPQjVAAAAA4KMwNkAAAACgR2E3QAAAACCuhzZAAAAAoEehNkAAAABgZqY1QAAAAMAeRTVAAAAAANdjNkAAAAAAAAA2QAAAAIA9SjVAAAAAwB6FNUAAAACAFG41QAAAAKBwvTVAAAAAQOF6NkAAAADgUbg2QAAAAKBHYTdAAAAAgD3KNkAAAAAgXA82QAAAAAAp3DVAAAAAgD3KNUAAAACA61E1QAAAAIDr0TVAAAAAgD1KNkAAAAAAKdw1QAAAAIA9SjVAAAAAwPWoNEAAAADgozA1QAAAAMDMDDVAAAAAoEchNkAAAABACpc1QAAAAIDrETZAAAAAAAAANkAAAAAghes1QAAAACBcDzdAAAAAIFwPOEAAAACAFK43QAAAAMD1aDdAAAAAgBSuN0AAAABguN43QAAAAGCPwjhAAAAAwMxMOUAAAACgcD06QAAAAKBwvTpAAAAAIIUrOkAAAADgozA5QAAAAKBHITdAAAAA4HrUN0AAAADA9Sg4QAAAAIA9ijhAAAAAIIUrOEAAAAAA1yM4QAAAAEDh+jdAAAAAgMK1N0AAAACA69E3QAAAAEDh+jZAAAAAQAqXN0AAAADgepQ2QAAAAOB61DZAAAAAANcjN0AAAADgo/A2QAAAAOBR+DZAAAAAwPVoN0AAAACAFO42QAAAACCFKzdAAAAAgBSuNkAAAACAwnU3QAAAACBcjzdAAAAAgBSuN0AAAABgZiY4QAAAAGBmJjhAAAAAQDPzN0AAAABACtc3QAAAACBcTzhAAAAAIFxPOEAAAADgelQ4QAAAAMAeRThAAAAAgOsROEAAAABgjwI4QAAAAIDCdThAAAAAwB4FOEAAAAAgrgc4QAAAAKCZGThAAAAAAAAAOEAAAADgelQ4QAAAAIDrUThAAAAAQArXOEAAAADAHgU5QAAAACBcTzlAAAAAoHA9OUAAAADgehQ5QAAAAIAULjlAAAAAYI/COEAAAACgmZk4QAAAAEAKlzhAAAAAAClcOEAAAAAgXE84QAAAAADX4zhAAAAAgML1OEAAAABACtc4QAAAAGCPQjlAAAAAAClcOUAAAAAgXA85QAAAAKBHITlAAAAAoHB9OUAAAACgmRk5QAAAAIA9SjlAAAAAANejOEAAAAAA1+M4QAAAAIA9ijhAAAAAgMK1OEAAAADAzAw5QAAAAIDCtThAAAAAoHD9OEAAAABA4bo4QAAAAIAUrjhAAAAAgBTuN0AAAABA4bo3QAAAAEAzMzdAAAAAAABAN0AAAACgcH03QAAAAMDMDDhAAAAAAADAN0AAAACA6xE4QAAAAAApHDhAAAAAwMxMOEAAAABAM7M4QAAAAEAzczhAAAAAACncOEA=\",\"dtype\":\"float64\",\"order\":\"little\",\"shape\":[154]}},\"selected\":{\"id\":\"2302\"},\"selection_policy\":{\"id\":\"2323\"}},\"id\":\"2301\",\"type\":\"ColumnDataSource\"},{\"attributes\":{\"line_color\":\"#e277c1\",\"line_width\":2,\"x\":{\"field\":\"Date\"},\"y\":{\"field\":\"value\"}},\"id\":\"2380\",\"type\":\"Line\"},{\"attributes\":{\"line_alpha\":0.1,\"line_color\":\"#e277c1\",\"line_width\":2,\"x\":{\"field\":\"Date\"},\"y\":{\"field\":\"value\"}},\"id\":\"2381\",\"type\":\"Line\"},{\"attributes\":{\"days\":[1,4,7,10,13,16,19,22,25,28]},\"id\":\"2192\",\"type\":\"DaysTicker\"},{\"attributes\":{\"data\":{\"Date\":{\"__ndarray__\":\"AABArYgJd0IAAAAT2wl3QgAAwHgtCndCAACA3n8Kd0IAAEBE0gp3QgAAgHXJC3dCAABA2xsMd0IAAABBbgx3QgAAwKbADHdCAACADBMNd0IAAMA9Cg53QgAAgKNcDndCAABACa8Od0IAAABvAQ93QgAAwNRTD3dCAAAABksQd0IAAMBrnRB3QgAAgNHvEHdCAABAN0IRd0IAAACdlBF3QgAAQM6LEndCAAAANN4Sd0IAAMCZMBN3QgAAgP+CE3dCAABAZdUTd0IAAICWzBR3QgAAQPweFXdCAAAAYnEVd0IAAMDHwxV3QgAAwF4NF3dCAACAxF8Xd0IAAEAqshd3QgAAAJAEGHdCAADA9VYYd0IAAAAnThl3QgAAwIygGXdCAACA8vIZd0IAAEBYRRp3QgAAAL6XGndCAABA744bd0IAAABV4Rt3QgAAwLozHHdCAACAIIYcd0IAAECG2Bx3QgAAgLfPHXdCAABAHSIed0IAAACDdB53QgAAwOjGHndCAACAThkfd0IAAMB/ECB3QgAAgOViIHdCAABAS7Ugd0IAAACxByF3QgAAwBZaIXdCAAAASFEid0IAAMCtoyJ3QgAAgBP2IndCAABAeUgjd0IAAADfmiN3QgAAAHbkJHdCAADA2zYld0IAAIBBiSV3QgAAQKfbJXdCAACA2NImd0IAAEA+JSd3QgAAAKR3J3dCAADACcond0IAAIBvHCh3QgAAwKATKXdCAACABmYpd0IAAEBsuCl3QgAAANIKKndCAADAN10qd0IAAABpVCt3QgAAwM6mK3dCAACANPkrd0IAAECaSyx3QgAAAACeLHdCAABAMZUtd0IAAACX5y13QgAAwPw5LndCAACAYowud0IAAEDI3i53QgAAgPnVL3dCAABAXygwd0IAAADFejB3QgAAwCrNMHdCAADAwRYyd0IAAIAnaTJ3QgAAQI27MndCAAAA8w0zd0IAAMBYYDN3QgAAAIpXNHdCAADA76k0d0IAAIBV/DR3QgAAQLtONXdCAAAAIaE1d0IAAEBSmDZ3QgAAALjqNndCAADAHT03d0IAAICDjzd3QgAAQOnhN3dCAACAGtk4d0IAAECAKzl3QgAAAOZ9OXdCAADAS9A5d0IAAICxIjp3QgAAwOIZO3dCAACASGw7d0IAAECuvjt3QgAAABQRPHdCAADAeWM8d0IAAACrWj13QgAAwBCtPXdCAACAdv89d0IAAEDcUT53QgAAAEKkPndCAABAc5s/d0IAAADZ7T93QgAAwD5AQHdCAACApJJAd0IAAEAK5UB3QgAAgDvcQXdCAABAoS5Cd0IAAAAHgUJ3QgAAwGzTQndCAACA0iVDd0IAAMADHUR3QgAAgGlvRHdCAABAz8FEd0IAAAA1FEV3QgAAwJpmRXdCAADAMbBGd0IAAICXAkd3QgAAQP1UR3dCAAAAY6dHd0IAAECUnkh3QgAAAPrwSHdCAADAX0NJd0IAAIDFlUl3QgAAQCvoSXdCAACAXN9Kd0IAAEDCMUt3QgAAACiES3dCAADAjdZLd0IAAIDzKEx3QgAAwCQgTXdCAACAinJNd0IAAEDwxE13QgAAAFYXTndCAADAu2lOd0IAAADtYE93QgAAwFKzT3dCAACAuAVQd0I=\",\"dtype\":\"float64\",\"order\":\"little\",\"shape\":[154]},\"Variable\":[\"XLI\",\"XLI\",\"XLI\",\"XLI\",\"XLI\",\"XLI\",\"XLI\",\"XLI\",\"XLI\",\"XLI\",\"XLI\",\"XLI\",\"XLI\",\"XLI\",\"XLI\",\"XLI\",\"XLI\",\"XLI\",\"XLI\",\"XLI\",\"XLI\",\"XLI\",\"XLI\",\"XLI\",\"XLI\",\"XLI\",\"XLI\",\"XLI\",\"XLI\",\"XLI\",\"XLI\",\"XLI\",\"XLI\",\"XLI\",\"XLI\",\"XLI\",\"XLI\",\"XLI\",\"XLI\",\"XLI\",\"XLI\",\"XLI\",\"XLI\",\"XLI\",\"XLI\",\"XLI\",\"XLI\",\"XLI\",\"XLI\",\"XLI\",\"XLI\",\"XLI\",\"XLI\",\"XLI\",\"XLI\",\"XLI\",\"XLI\",\"XLI\",\"XLI\",\"XLI\",\"XLI\",\"XLI\",\"XLI\",\"XLI\",\"XLI\",\"XLI\",\"XLI\",\"XLI\",\"XLI\",\"XLI\",\"XLI\",\"XLI\",\"XLI\",\"XLI\",\"XLI\",\"XLI\",\"XLI\",\"XLI\",\"XLI\",\"XLI\",\"XLI\",\"XLI\",\"XLI\",\"XLI\",\"XLI\",\"XLI\",\"XLI\",\"XLI\",\"XLI\",\"XLI\",\"XLI\",\"XLI\",\"XLI\",\"XLI\",\"XLI\",\"XLI\",\"XLI\",\"XLI\",\"XLI\",\"XLI\",\"XLI\",\"XLI\",\"XLI\",\"XLI\",\"XLI\",\"XLI\",\"XLI\",\"XLI\",\"XLI\",\"XLI\",\"XLI\",\"XLI\",\"XLI\",\"XLI\",\"XLI\",\"XLI\",\"XLI\",\"XLI\",\"XLI\",\"XLI\",\"XLI\",\"XLI\",\"XLI\",\"XLI\",\"XLI\",\"XLI\",\"XLI\",\"XLI\",\"XLI\",\"XLI\",\"XLI\",\"XLI\",\"XLI\",\"XLI\",\"XLI\",\"XLI\",\"XLI\",\"XLI\",\"XLI\",\"XLI\",\"XLI\",\"XLI\",\"XLI\",\"XLI\",\"XLI\",\"XLI\",\"XLI\",\"XLI\",\"XLI\",\"XLI\",\"XLI\",\"XLI\",\"XLI\",\"XLI\"],\"value\":{\"__ndarray__\":\"AAAAoJnpUkAAAABAM3NSQAAAAGBmNlNAAAAAgMJFUkAAAADAzBxSQAAAAKBHcVBAAAAAIIVLUUAAAAAgrkdQQAAAAOCjME1AAAAA4FF4T0AAAABgZuZLQAAAACBcL01AAAAAwPUIS0AAAACAFA5LQAAAAEAzs0lAAAAAYI9iSEAAAADgUXhLQAAAAIA96kxAAAAAoHC9TkAAAACA63FNQAAAAAAA4E1AAAAAoEeBTUAAAADAzCxMQAAAAMDMjExAAAAAIIUrTEAAAABguB5OQAAAAMDMDE5AAAAAANcjT0AAAAAAKZxPQAAAACBcr05AAAAAwB5FT0AAAAAgrmdOQAAAAGCPIk5AAAAAwMyMT0AAAACAwrVOQAAAAAAp/E1AAAAAwMxMTkAAAACAPYpOQAAAAMD1yE5AAAAAwMyMT0AAAACA6xFQQAAAAOCjYFBAAAAAoHANUEAAAABgjyJPQAAAAKBwvU5AAAAAACncTkAAAAAgXG9OQAAAAIA9yk5AAAAAgBSOT0AAAADA9ShPQAAAAMD1SE5AAAAAYGaGTUAAAACAwtVNQAAAAEDhuk1AAAAA4KOwT0AAAADA9UhPQAAAAGC43k9AAAAAgOvxT0AAAAAghetPQAAAAKBHoVBAAAAAIFwvUUAAAACAwgVRQAAAAEDh6lBAAAAA4Hr0UEAAAADAzCxRQAAAAOBR2FFAAAAAwPUIUkAAAABgj7JSQAAAAGCPElNAAAAAwPWYUkAAAABACidSQAAAAOCj4FBAAAAA4Ho0UUAAAAAAAGBRQAAAAEAKt1FAAAAAYGaWUUAAAACAwoVRQAAAAGC4TlFAAAAAYI9CUUAAAABAM0NRQAAAAKCZqVBAAAAAwPXYUEAAAADA9YhQQAAAAADXE1FAAAAAwMwsUUAAAADA9RhRQAAAAGC4PlFAAAAAgBR+UUAAAADgUShRQAAAAOBRKFFAAAAAwPXIUEAAAADgowBRQAAAAGCPElFAAAAAoEdxUUAAAABAM+NRQAAAAOB65FFAAAAAAAAAUkAAAAAgrsdRQAAAAADXA1JAAAAAwPUoUkAAAABA4RpSQAAAAIDC9VFAAAAAwPUIUkAAAADA9ehRQAAAAGC4LlJAAAAAAAAAUkAAAABguO5RQAAAAIDrAVJAAAAAoHANUkAAAACAwmVSQAAAACCud1JAAAAA4FHIUkAAAABguD5TQAAAAMD1WFNAAAAAwPVoU0AAAABguE5TQAAAAIDrYVNAAAAAQOFKU0AAAAAAADBTQAAAAEAzI1NAAAAAwPUIU0AAAADAzBxTQAAAAMAedVNAAAAAYLhuU0AAAACgR3FTQAAAAEAzg1NAAAAAYI+yU0AAAAAA13NTQAAAAGBmplNAAAAAoJn5U0AAAACAPWpTQAAAAIDCdVNAAAAA4FEYU0AAAAAA12NTQAAAAOB6JFNAAAAAQApnU0AAAACAPapTQAAAAKBwrVNAAAAA4KPgU0AAAABA4epTQAAAAIDrsVNAAAAAIK73UkAAAAAgridTQAAAAAAA0FJAAAAAQArXUkAAAAAgXB9TQAAAACCud1NAAAAAIIVLU0AAAABguD5TQAAAAAAAMFNAAAAAQApnU0AAAABACrdTQAAAAKCZeVNAAAAAIK7nU0A=\",\"dtype\":\"float64\",\"order\":\"little\",\"shape\":[154]}},\"selected\":{\"id\":\"2378\"},\"selection_policy\":{\"id\":\"2403\"}},\"id\":\"2377\",\"type\":\"ColumnDataSource\"},{\"attributes\":{\"label\":{\"value\":\"XLI\"},\"renderers\":[{\"id\":\"2383\"}]},\"id\":\"2417\",\"type\":\"LegendItem\"},{\"attributes\":{\"days\":[1,15]},\"id\":\"2194\",\"type\":\"DaysTicker\"},{\"attributes\":{},\"id\":\"2155\",\"type\":\"SaveTool\"},{\"attributes\":{\"label\":{\"value\":\"XLV\"},\"renderers\":[{\"id\":\"2344\"}]},\"id\":\"2376\",\"type\":\"LegendItem\"},{\"attributes\":{},\"id\":\"2446\",\"type\":\"UnionRenderers\"},{\"attributes\":{\"months\":[0,4,8]},\"id\":\"2197\",\"type\":\"MonthsTicker\"},{\"attributes\":{\"overlay\":{\"id\":\"2160\"}},\"id\":\"2158\",\"type\":\"BoxZoomTool\"},{\"attributes\":{\"click_policy\":\"mute\",\"items\":[{\"id\":\"2201\"},{\"id\":\"2232\"},{\"id\":\"2265\"},{\"id\":\"2300\"},{\"id\":\"2337\"},{\"id\":\"2376\"},{\"id\":\"2417\"},{\"id\":\"2460\"},{\"id\":\"2505\"},{\"id\":\"2552\"},{\"id\":\"2601\"},{\"id\":\"2652\"}],\"location\":[0,0],\"title\":\"Variable\"},\"id\":\"2200\",\"type\":\"Legend\"},{\"attributes\":{},\"id\":\"2173\",\"type\":\"Selection\"},{\"attributes\":{\"data_source\":{\"id\":\"2506\"},\"glyph\":{\"id\":\"2509\"},\"hover_glyph\":null,\"muted_glyph\":{\"id\":\"2511\"},\"nonselection_glyph\":{\"id\":\"2510\"},\"selection_glyph\":null,\"view\":{\"id\":\"2513\"}},\"id\":\"2512\",\"type\":\"GlyphRenderer\"},{\"attributes\":{\"data\":{\"Date\":{\"__ndarray__\":\"AABArYgJd0IAAAAT2wl3QgAAwHgtCndCAACA3n8Kd0IAAEBE0gp3QgAAgHXJC3dCAABA2xsMd0IAAABBbgx3QgAAwKbADHdCAACADBMNd0IAAMA9Cg53QgAAgKNcDndCAABACa8Od0IAAABvAQ93QgAAwNRTD3dCAAAABksQd0IAAMBrnRB3QgAAgNHvEHdCAABAN0IRd0IAAACdlBF3QgAAQM6LEndCAAAANN4Sd0IAAMCZMBN3QgAAgP+CE3dCAABAZdUTd0IAAICWzBR3QgAAQPweFXdCAAAAYnEVd0IAAMDHwxV3QgAAwF4NF3dCAACAxF8Xd0IAAEAqshd3QgAAAJAEGHdCAADA9VYYd0IAAAAnThl3QgAAwIygGXdCAACA8vIZd0IAAEBYRRp3QgAAAL6XGndCAABA744bd0IAAABV4Rt3QgAAwLozHHdCAACAIIYcd0IAAECG2Bx3QgAAgLfPHXdCAABAHSIed0IAAACDdB53QgAAwOjGHndCAACAThkfd0IAAMB/ECB3QgAAgOViIHdCAABAS7Ugd0IAAACxByF3QgAAwBZaIXdCAAAASFEid0IAAMCtoyJ3QgAAgBP2IndCAABAeUgjd0IAAADfmiN3QgAAAHbkJHdCAADA2zYld0IAAIBBiSV3QgAAQKfbJXdCAACA2NImd0IAAEA+JSd3QgAAAKR3J3dCAADACcond0IAAIBvHCh3QgAAwKATKXdCAACABmYpd0IAAEBsuCl3QgAAANIKKndCAADAN10qd0IAAABpVCt3QgAAwM6mK3dCAACANPkrd0IAAECaSyx3QgAAAACeLHdCAABAMZUtd0IAAACX5y13QgAAwPw5LndCAACAYowud0IAAEDI3i53QgAAgPnVL3dCAABAXygwd0IAAADFejB3QgAAwCrNMHdCAADAwRYyd0IAAIAnaTJ3QgAAQI27MndCAAAA8w0zd0IAAMBYYDN3QgAAAIpXNHdCAADA76k0d0IAAIBV/DR3QgAAQLtONXdCAAAAIaE1d0IAAEBSmDZ3QgAAALjqNndCAADAHT03d0IAAICDjzd3QgAAQOnhN3dCAACAGtk4d0IAAECAKzl3QgAAAOZ9OXdCAADAS9A5d0IAAICxIjp3QgAAwOIZO3dCAACASGw7d0IAAECuvjt3QgAAABQRPHdCAADAeWM8d0IAAACrWj13QgAAwBCtPXdCAACAdv89d0IAAEDcUT53QgAAAEKkPndCAABAc5s/d0IAAADZ7T93QgAAwD5AQHdCAACApJJAd0IAAEAK5UB3QgAAgDvcQXdCAABAoS5Cd0IAAAAHgUJ3QgAAwGzTQndCAACA0iVDd0IAAMADHUR3QgAAgGlvRHdCAABAz8FEd0IAAAA1FEV3QgAAwJpmRXdCAADAMbBGd0IAAICXAkd3QgAAQP1UR3dCAAAAY6dHd0IAAECUnkh3QgAAAPrwSHdCAADAX0NJd0IAAIDFlUl3QgAAQCvoSXdCAACAXN9Kd0IAAEDCMUt3QgAAACiES3dCAADAjdZLd0IAAIDzKEx3QgAAwCQgTXdCAACAinJNd0IAAEDwxE13QgAAAFYXTndCAADAu2lOd0IAAADtYE93QgAAwFKzT3dCAACAuAVQd0I=\",\"dtype\":\"float64\",\"order\":\"little\",\"shape\":[154]},\"Variable\":[\"XLC\",\"XLC\",\"XLC\",\"XLC\",\"XLC\",\"XLC\",\"XLC\",\"XLC\",\"XLC\",\"XLC\",\"XLC\",\"XLC\",\"XLC\",\"XLC\",\"XLC\",\"XLC\",\"XLC\",\"XLC\",\"XLC\",\"XLC\",\"XLC\",\"XLC\",\"XLC\",\"XLC\",\"XLC\",\"XLC\",\"XLC\",\"XLC\",\"XLC\",\"XLC\",\"XLC\",\"XLC\",\"XLC\",\"XLC\",\"XLC\",\"XLC\",\"XLC\",\"XLC\",\"XLC\",\"XLC\",\"XLC\",\"XLC\",\"XLC\",\"XLC\",\"XLC\",\"XLC\",\"XLC\",\"XLC\",\"XLC\",\"XLC\",\"XLC\",\"XLC\",\"XLC\",\"XLC\",\"XLC\",\"XLC\",\"XLC\",\"XLC\",\"XLC\",\"XLC\",\"XLC\",\"XLC\",\"XLC\",\"XLC\",\"XLC\",\"XLC\",\"XLC\",\"XLC\",\"XLC\",\"XLC\",\"XLC\",\"XLC\",\"XLC\",\"XLC\",\"XLC\",\"XLC\",\"XLC\",\"XLC\",\"XLC\",\"XLC\",\"XLC\",\"XLC\",\"XLC\",\"XLC\",\"XLC\",\"XLC\",\"XLC\",\"XLC\",\"XLC\",\"XLC\",\"XLC\",\"XLC\",\"XLC\",\"XLC\",\"XLC\",\"XLC\",\"XLC\",\"XLC\",\"XLC\",\"XLC\",\"XLC\",\"XLC\",\"XLC\",\"XLC\",\"XLC\",\"XLC\",\"XLC\",\"XLC\",\"XLC\",\"XLC\",\"XLC\",\"XLC\",\"XLC\",\"XLC\",\"XLC\",\"XLC\",\"XLC\",\"XLC\",\"XLC\",\"XLC\",\"XLC\",\"XLC\",\"XLC\",\"XLC\",\"XLC\",\"XLC\",\"XLC\",\"XLC\",\"XLC\",\"XLC\",\"XLC\",\"XLC\",\"XLC\",\"XLC\",\"XLC\",\"XLC\",\"XLC\",\"XLC\",\"XLC\",\"XLC\",\"XLC\",\"XLC\",\"XLC\",\"XLC\",\"XLC\",\"XLC\",\"XLC\",\"XLC\",\"XLC\",\"XLC\",\"XLC\",\"XLC\",\"XLC\",\"XLC\"],\"value\":{\"__ndarray__\":\"AAAAYI9CSkAAAADAHmVJQAAAACBcT0pAAAAAoJlZSUAAAADA9ehIQAAAAAAAQEdAAAAAIFxvSEAAAABgj2JHQAAAAOCjMEVAAAAA4FEYR0AAAACgcH1EQAAAAKBHYUVAAAAAIIWrREAAAACAPQpFQAAAAAApHERAAAAAwPUoREAAAABgZmZFQAAAAIDrEUVAAAAAwB5FRkAAAACgR2FFQAAAAMD1KEZAAAAAYLgeRkAAAACgcD1FQAAAAGCPgkVAAAAAQDMTRUAAAABACndGQAAAAKBHoUZAAAAAoHAdR0AAAADA9UhHQAAAAIDrUUdAAAAAYI8CSEAAAADA9chHQAAAAKBH4UdAAAAA4Ho0SEAAAAAAKfxHQAAAAEDhOkdAAAAAQOHaR0AAAABgZgZIQAAAAOB6VEhAAAAAIK6HSEAAAACAwhVIQAAAAAAAQElAAAAAANcjSUAAAACAPcpIQAAAACBc70hAAAAA4KMQSUAAAABguP5IQAAAAEAKd0lAAAAAgBTuSUAAAACA6/FJQAAAAOCjcElAAAAAoEcBSUAAAABgZkZJQAAAAAAAoElAAAAAgD0qSkAAAADA9ShKQAAAAGCP4kpAAAAAgOuxSkAAAABA4dpKQAAAAIAU7kpAAAAAYLgeS0AAAACgcN1KQAAAAGCPAktAAAAAgOtRS0AAAACAFG5LQAAAAADXg0tAAAAAIFxPS0AAAACgR8FLQAAAAGBmRkxAAAAA4Ho0TEAAAABguB5MQAAAAEAz00pAAAAAIFwPS0AAAABguH5LQAAAAOBRuEtAAAAAoEfBS0AAAADgUdhLQAAAAMAexUtAAAAAYGbGS0AAAADgevRLQAAAAEAzU0tAAAAAgOtxS0AAAAAAKTxKQAAAAOBRuEpAAAAAwB4FS0AAAADgo7BLQAAAAKCZmUtAAAAAIK4nTEAAAABAMxNMQAAAAEAzU0xAAAAAAClcTEAAAACgmdlMQAAAAMAeRUxAAAAAwMyMTEAAAADgUbhMQAAAAMAexUxAAAAA4Hq0TEAAAADAzAxNQAAAAMD16ExAAAAA4KPwTEAAAADgUXhMQAAAAMDMbExAAAAAYLieTEAAAABAM1NMQAAAAIDClUxAAAAAgD2qTEAAAADgoxBNQAAAAEAKF01AAAAAYGZGTUAAAABA4TpNQAAAAAAAAE5AAAAAQAr3TUAAAACgcN1NQAAAACCFa01AAAAAwB7FTUAAAAAghetNQAAAAIA96k1AAAAAQDPzTUAAAADgUThOQAAAAGCPIk5AAAAAYI+CTkAAAAAAAGBOQAAAAGC4vk5AAAAAwPUIT0AAAAAAKQxQQAAAAOB6tE9AAAAAIK7HT0AAAACgR6FPQAAAAADX409AAAAAwPVIUEAAAABACndPQAAAAADX405AAAAAQDMTTkAAAAAgXG9OQAAAAAAp/E1AAAAAANfjTUAAAACgRwFOQAAAAIA9ik5AAAAAgMI1TkAAAAAgrqdNQAAAAGC4Xk1AAAAAQAr3TEAAAABgZoZNQAAAAIDr0UxAAAAAAADgTEAAAABgj0JNQAAAAGBmpk1AAAAAgBSuTUAAAABAM7NNQAAAAAAAIE5AAAAAIK6HTUAAAAAA1wNOQAAAAGCPYk1AAAAAoJmZTUA=\",\"dtype\":\"float64\",\"order\":\"little\",\"shape\":[154]}},\"selected\":{\"id\":\"2173\"},\"selection_policy\":{\"id\":\"2186\"}},\"id\":\"2172\",\"type\":\"ColumnDataSource\"},{\"attributes\":{\"line_alpha\":0.2,\"line_color\":\"#9367bc\",\"line_width\":2,\"x\":{\"field\":\"Date\"},\"y\":{\"field\":\"value\"}},\"id\":\"2306\",\"type\":\"Line\"},{\"attributes\":{\"line_color\":\"#16bdcf\",\"line_width\":2,\"x\":{\"field\":\"Date\"},\"y\":{\"field\":\"value\"}},\"id\":\"2509\",\"type\":\"Line\"},{\"attributes\":{\"label\":{\"value\":\"XLY\"},\"renderers\":[{\"id\":\"2208\"}]},\"id\":\"2232\",\"type\":\"LegendItem\"},{\"attributes\":{\"source\":{\"id\":\"2172\"}},\"id\":\"2179\",\"type\":\"CDSView\"},{\"attributes\":{\"source\":{\"id\":\"2461\"}},\"id\":\"2468\",\"type\":\"CDSView\"},{\"attributes\":{\"data_source\":{\"id\":\"2301\"},\"glyph\":{\"id\":\"2304\"},\"hover_glyph\":null,\"muted_glyph\":{\"id\":\"2306\"},\"nonselection_glyph\":{\"id\":\"2305\"},\"selection_glyph\":null,\"view\":{\"id\":\"2308\"}},\"id\":\"2307\",\"type\":\"GlyphRenderer\"},{\"attributes\":{},\"id\":\"2156\",\"type\":\"PanTool\"},{\"attributes\":{\"margin\":[5,5,5,5],\"name\":\"HSpacer03802\",\"sizing_mode\":\"stretch_width\"},\"id\":\"2123\",\"type\":\"Spacer\"},{\"attributes\":{\"data_source\":{\"id\":\"2338\"},\"glyph\":{\"id\":\"2341\"},\"hover_glyph\":null,\"muted_glyph\":{\"id\":\"2343\"},\"nonselection_glyph\":{\"id\":\"2342\"},\"selection_glyph\":null,\"view\":{\"id\":\"2345\"}},\"id\":\"2344\",\"type\":\"GlyphRenderer\"},{\"attributes\":{\"children\":[{\"id\":\"2123\"},{\"id\":\"2138\"},{\"id\":\"3031\"}],\"margin\":[0,0,0,0],\"name\":\"Row03798\",\"tags\":[\"embedded\"]},\"id\":\"2122\",\"type\":\"Row\"},{\"attributes\":{\"data\":{\"Date\":{\"__ndarray__\":\"AABArYgJd0IAAAAT2wl3QgAAwHgtCndCAACA3n8Kd0IAAEBE0gp3QgAAgHXJC3dCAABA2xsMd0IAAABBbgx3QgAAwKbADHdCAACADBMNd0IAAMA9Cg53QgAAgKNcDndCAABACa8Od0IAAABvAQ93QgAAwNRTD3dCAAAABksQd0IAAMBrnRB3QgAAgNHvEHdCAABAN0IRd0IAAACdlBF3QgAAQM6LEndCAAAANN4Sd0IAAMCZMBN3QgAAgP+CE3dCAABAZdUTd0IAAICWzBR3QgAAQPweFXdCAAAAYnEVd0IAAMDHwxV3QgAAwF4NF3dCAACAxF8Xd0IAAEAqshd3QgAAAJAEGHdCAADA9VYYd0IAAAAnThl3QgAAwIygGXdCAACA8vIZd0IAAEBYRRp3QgAAAL6XGndCAABA744bd0IAAABV4Rt3QgAAwLozHHdCAACAIIYcd0IAAECG2Bx3QgAAgLfPHXdCAABAHSIed0IAAACDdB53QgAAwOjGHndCAACAThkfd0IAAMB/ECB3QgAAgOViIHdCAABAS7Ugd0IAAACxByF3QgAAwBZaIXdCAAAASFEid0IAAMCtoyJ3QgAAgBP2IndCAABAeUgjd0IAAADfmiN3QgAAAHbkJHdCAADA2zYld0IAAIBBiSV3QgAAQKfbJXdCAACA2NImd0IAAEA+JSd3QgAAAKR3J3dCAADACcond0IAAIBvHCh3QgAAwKATKXdCAACABmYpd0IAAEBsuCl3QgAAANIKKndCAADAN10qd0IAAABpVCt3QgAAwM6mK3dCAACANPkrd0IAAECaSyx3QgAAAACeLHdCAABAMZUtd0IAAACX5y13QgAAwPw5LndCAACAYowud0IAAEDI3i53QgAAgPnVL3dCAABAXygwd0IAAADFejB3QgAAwCrNMHdCAADAwRYyd0IAAIAnaTJ3QgAAQI27MndCAAAA8w0zd0IAAMBYYDN3QgAAAIpXNHdCAADA76k0d0IAAIBV/DR3QgAAQLtONXdCAAAAIaE1d0IAAEBSmDZ3QgAAALjqNndCAADAHT03d0IAAICDjzd3QgAAQOnhN3dCAACAGtk4d0IAAECAKzl3QgAAAOZ9OXdCAADAS9A5d0IAAICxIjp3QgAAwOIZO3dCAACASGw7d0IAAECuvjt3QgAAABQRPHdCAADAeWM8d0IAAACrWj13QgAAwBCtPXdCAACAdv89d0IAAEDcUT53QgAAAEKkPndCAABAc5s/d0IAAADZ7T93QgAAwD5AQHdCAACApJJAd0IAAEAK5UB3QgAAgDvcQXdCAABAoS5Cd0IAAAAHgUJ3QgAAwGzTQndCAACA0iVDd0IAAMADHUR3QgAAgGlvRHdCAABAz8FEd0IAAAA1FEV3QgAAwJpmRXdCAADAMbBGd0IAAICXAkd3QgAAQP1UR3dCAAAAY6dHd0IAAECUnkh3QgAAAPrwSHdCAADAX0NJd0IAAIDFlUl3QgAAQCvoSXdCAACAXN9Kd0IAAEDCMUt3QgAAACiES3dCAADAjdZLd0IAAIDzKEx3QgAAwCQgTXdCAACAinJNd0IAAEDwxE13QgAAAFYXTndCAADAu2lOd0IAAADtYE93QgAAwFKzT3dCAACAuAVQd0I=\",\"dtype\":\"float64\",\"order\":\"little\",\"shape\":[154]},\"Variable\":[\"XLK\",\"XLK\",\"XLK\",\"XLK\",\"XLK\",\"XLK\",\"XLK\",\"XLK\",\"XLK\",\"XLK\",\"XLK\",\"XLK\",\"XLK\",\"XLK\",\"XLK\",\"XLK\",\"XLK\",\"XLK\",\"XLK\",\"XLK\",\"XLK\",\"XLK\",\"XLK\",\"XLK\",\"XLK\",\"XLK\",\"XLK\",\"XLK\",\"XLK\",\"XLK\",\"XLK\",\"XLK\",\"XLK\",\"XLK\",\"XLK\",\"XLK\",\"XLK\",\"XLK\",\"XLK\",\"XLK\",\"XLK\",\"XLK\",\"XLK\",\"XLK\",\"XLK\",\"XLK\",\"XLK\",\"XLK\",\"XLK\",\"XLK\",\"XLK\",\"XLK\",\"XLK\",\"XLK\",\"XLK\",\"XLK\",\"XLK\",\"XLK\",\"XLK\",\"XLK\",\"XLK\",\"XLK\",\"XLK\",\"XLK\",\"XLK\",\"XLK\",\"XLK\",\"XLK\",\"XLK\",\"XLK\",\"XLK\",\"XLK\",\"XLK\",\"XLK\",\"XLK\",\"XLK\",\"XLK\",\"XLK\",\"XLK\",\"XLK\",\"XLK\",\"XLK\",\"XLK\",\"XLK\",\"XLK\",\"XLK\",\"XLK\",\"XLK\",\"XLK\",\"XLK\",\"XLK\",\"XLK\",\"XLK\",\"XLK\",\"XLK\",\"XLK\",\"XLK\",\"XLK\",\"XLK\",\"XLK\",\"XLK\",\"XLK\",\"XLK\",\"XLK\",\"XLK\",\"XLK\",\"XLK\",\"XLK\",\"XLK\",\"XLK\",\"XLK\",\"XLK\",\"XLK\",\"XLK\",\"XLK\",\"XLK\",\"XLK\",\"XLK\",\"XLK\",\"XLK\",\"XLK\",\"XLK\",\"XLK\",\"XLK\",\"XLK\",\"XLK\",\"XLK\",\"XLK\",\"XLK\",\"XLK\",\"XLK\",\"XLK\",\"XLK\",\"XLK\",\"XLK\",\"XLK\",\"XLK\",\"XLK\",\"XLK\",\"XLK\",\"XLK\",\"XLK\",\"XLK\",\"XLK\",\"XLK\",\"XLK\",\"XLK\",\"XLK\",\"XLK\",\"XLK\",\"XLK\",\"XLK\",\"XLK\",\"XLK\"],\"value\":{\"__ndarray__\":\"AAAAYLheV0AAAAAghXtWQAAAAGCPcldAAAAAwB61VkAAAACAPTpWQAAAAIA9ilRAAAAAwPXoVUAAAAAAAOBUQAAAAGBm1lJAAAAAACkMVUAAAAAA1yNSQAAAAAAAYFNAAAAAwB6lUkAAAABgZrZSQAAAAEDh2lFAAAAAoJmZUUAAAABACmdTQAAAAOCjYFNAAAAAANeTVEAAAACAwqVTQAAAAKCZeVRAAAAAIK4XVEAAAABgjyJTQAAAAMAelVNAAAAAIK5HU0AAAADAzOxUQAAAAMDMvFRAAAAAIIVLVUAAAADAzExVQAAAAMD1WFVAAAAAgBQ+VkAAAACA68FVQAAAAIDCBVZAAAAA4KNQVkAAAADAHvVVQAAAAKCZCVVAAAAAwPXYVUAAAABgj7JVQAAAAOBRKFZAAAAAwPVYVkAAAADAzAxWQAAAAOB69FZAAAAAgD3aVkAAAACgmTlWQAAAAMAehVZAAAAA4HrUVkAAAACA6wFXQAAAAIA9WldAAAAAgOuxV0AAAACAPdpXQAAAAAApXFdAAAAAwB71VkAAAAAAAEBXQAAAAIAUXldAAAAA4KPwV0AAAACAPdpXQAAAAAAAYFhAAAAAwPUIWEAAAAAgXB9YQAAAAMD1GFhAAAAAACk8WEAAAAAAADBYQAAAAIAUflhAAAAAACl8WEAAAABACrdYQAAAAOBR6FhAAAAAANezWEAAAACAPVpZQAAAAEDhellAAAAAoJmZWUAAAABACgdaQAAAAMD1iFhAAAAAgD3aWEAAAAAgrhdZQAAAAOCjoFlAAAAAIFyfWUAAAADAzLxZQAAAACBcj1lAAAAA4FH4WUAAAADgUShaQAAAAKBHkVlAAAAAwB7lWUAAAABgj2JZQAAAAKCZqVlAAAAAIFwfWkAAAACAPSpaQAAAAKBHUVpAAAAAQArHWkAAAAAgXH9aQAAAAIAU7lpAAAAAQAoHW0AAAADAHgVbQAAAAIDCdVpAAAAAANfDWkAAAADA9ehaQAAAAADXk1pAAAAAwB61WkAAAAAA12NbQAAAAKBwHVtAAAAAwB5VW0AAAAAgXJ9aQAAAAMDMTFpAAAAAQAq3WkAAAABACmdaQAAAAMD1yFpAAAAAIFzvWkAAAAAghZtbQAAAAKCZSVxAAAAAAClcXEAAAABACndcQAAAAKBw3VxAAAAAIFxvXEAAAABA4VpcQAAAAOBR2FtAAAAAgD16XEAAAACgcH1cQAAAAOBReFxAAAAAwPWoXEAAAADgesRcQAAAACCFu1xAAAAAoHAdXUAAAAAAKXxdQAAAAKBwvV1AAAAAANfjXUAAAAAgXH9eQAAAAIDChV5AAAAAgD3KXkAAAABAM+NeQAAAAIA9el9AAAAAgOvBX0AAAABgj/JdQAAAACCuh11AAAAAgOsxXEAAAACgcB1dQAAAAMAedVxAAAAAoHA9XEAAAADAHtVcQAAAAIAUHl1AAAAAQOGqXEAAAACAFG5cQAAAAOCj8FtAAAAAACkcXEAAAACAFI5cQAAAAIA9qltAAAAAgOvRW0AAAAAAKXxcQAAAACCuB11AAAAAYLjuXEAAAADAzCxdQAAAACCFe11AAAAAACm8XEAAAACgcF1dQAAAAMD16FxAAAAA4KNwXUA=\",\"dtype\":\"float64\",\"order\":\"little\",\"shape\":[154]}},\"selected\":{\"id\":\"2507\"},\"selection_policy\":{\"id\":\"2538\"}},\"id\":\"2506\",\"type\":\"ColumnDataSource\"},{\"attributes\":{\"label\":{\"value\":\"XLP\"},\"renderers\":[{\"id\":\"2239\"}]},\"id\":\"2265\",\"type\":\"LegendItem\"},{\"attributes\":{},\"id\":\"2378\",\"type\":\"Selection\"},{\"attributes\":{\"line_alpha\":0.1,\"line_color\":\"#16bdcf\",\"line_width\":2,\"x\":{\"field\":\"Date\"},\"y\":{\"field\":\"value\"}},\"id\":\"2510\",\"type\":\"Line\"},{\"attributes\":{\"margin\":[5,5,5,5],\"name\":\"HSpacer03803\",\"sizing_mode\":\"stretch_width\"},\"id\":\"3031\",\"type\":\"Spacer\"},{\"attributes\":{\"line_alpha\":0.1,\"line_color\":\"#1f77b3\",\"line_width\":2,\"x\":{\"field\":\"Date\"},\"y\":{\"field\":\"value\"}},\"id\":\"2176\",\"type\":\"Line\"},{\"attributes\":{\"line_alpha\":0.1,\"line_color\":\"#9367bc\",\"line_width\":2,\"x\":{\"field\":\"Date\"},\"y\":{\"field\":\"value\"}},\"id\":\"2305\",\"type\":\"Line\"},{\"attributes\":{\"line_alpha\":0.2,\"line_color\":\"#16bdcf\",\"line_width\":2,\"x\":{\"field\":\"Date\"},\"y\":{\"field\":\"value\"}},\"id\":\"2511\",\"type\":\"Line\"},{\"attributes\":{\"source\":{\"id\":\"2506\"}},\"id\":\"2513\",\"type\":\"CDSView\"},{\"attributes\":{\"label\":{\"value\":\"XLC\"},\"renderers\":[{\"id\":\"2178\"}]},\"id\":\"2201\",\"type\":\"LegendItem\"},{\"attributes\":{\"label\":{\"value\":\"XLRE\"},\"renderers\":[{\"id\":\"2467\"}]},\"id\":\"2505\",\"type\":\"LegendItem\"},{\"attributes\":{},\"id\":\"2323\",\"type\":\"UnionRenderers\"},{\"attributes\":{},\"id\":\"2159\",\"type\":\"ResetTool\"},{\"attributes\":{\"source\":{\"id\":\"2301\"}},\"id\":\"2308\",\"type\":\"CDSView\"},{\"attributes\":{},\"id\":\"2538\",\"type\":\"UnionRenderers\"},{\"attributes\":{\"days\":[1,8,15,22]},\"id\":\"2193\",\"type\":\"DaysTicker\"},{\"attributes\":{},\"id\":\"2362\",\"type\":\"UnionRenderers\"},{\"attributes\":{},\"id\":\"2199\",\"type\":\"YearsTicker\"},{\"attributes\":{},\"id\":\"2491\",\"type\":\"UnionRenderers\"},{\"attributes\":{\"base\":24,\"mantissas\":[1,2,4,6,8,12],\"max_interval\":43200000.0,\"min_interval\":3600000.0,\"num_minor_ticks\":0},\"id\":\"2190\",\"type\":\"AdaptiveTicker\"},{\"attributes\":{\"months\":[0,1,2,3,4,5,6,7,8,9,10,11]},\"id\":\"2195\",\"type\":\"MonthsTicker\"},{\"attributes\":{\"line_color\":\"#9367bc\",\"line_width\":2,\"x\":{\"field\":\"Date\"},\"y\":{\"field\":\"value\"}},\"id\":\"2304\",\"type\":\"Line\"},{\"attributes\":{\"source\":{\"id\":\"2233\"}},\"id\":\"2240\",\"type\":\"CDSView\"},{\"attributes\":{\"data\":{\"Date\":{\"__ndarray__\":\"AABArYgJd0IAAAAT2wl3QgAAwHgtCndCAACA3n8Kd0IAAEBE0gp3QgAAgHXJC3dCAABA2xsMd0IAAABBbgx3QgAAwKbADHdCAACADBMNd0IAAMA9Cg53QgAAgKNcDndCAABACa8Od0IAAABvAQ93QgAAwNRTD3dCAAAABksQd0IAAMBrnRB3QgAAgNHvEHdCAABAN0IRd0IAAACdlBF3QgAAQM6LEndCAAAANN4Sd0IAAMCZMBN3QgAAgP+CE3dCAABAZdUTd0IAAICWzBR3QgAAQPweFXdCAAAAYnEVd0IAAMDHwxV3QgAAwF4NF3dCAACAxF8Xd0IAAEAqshd3QgAAAJAEGHdCAADA9VYYd0IAAAAnThl3QgAAwIygGXdCAACA8vIZd0IAAEBYRRp3QgAAAL6XGndCAABA744bd0IAAABV4Rt3QgAAwLozHHdCAACAIIYcd0IAAECG2Bx3QgAAgLfPHXdCAABAHSIed0IAAACDdB53QgAAwOjGHndCAACAThkfd0IAAMB/ECB3QgAAgOViIHdCAABAS7Ugd0IAAACxByF3QgAAwBZaIXdCAAAASFEid0IAAMCtoyJ3QgAAgBP2IndCAABAeUgjd0IAAADfmiN3QgAAAHbkJHdCAADA2zYld0IAAIBBiSV3QgAAQKfbJXdCAACA2NImd0IAAEA+JSd3QgAAAKR3J3dCAADACcond0IAAIBvHCh3QgAAwKATKXdCAACABmYpd0IAAEBsuCl3QgAAANIKKndCAADAN10qd0IAAABpVCt3QgAAwM6mK3dCAACANPkrd0IAAECaSyx3QgAAAACeLHdCAABAMZUtd0IAAACX5y13QgAAwPw5LndCAACAYowud0IAAEDI3i53QgAAgPnVL3dCAABAXygwd0IAAADFejB3QgAAwCrNMHdCAADAwRYyd0IAAIAnaTJ3QgAAQI27MndCAAAA8w0zd0IAAMBYYDN3QgAAAIpXNHdCAADA76k0d0IAAIBV/DR3QgAAQLtONXdCAAAAIaE1d0IAAEBSmDZ3QgAAALjqNndCAADAHT03d0IAAICDjzd3QgAAQOnhN3dCAACAGtk4d0IAAECAKzl3QgAAAOZ9OXdCAADAS9A5d0IAAICxIjp3QgAAwOIZO3dCAACASGw7d0IAAECuvjt3QgAAABQRPHdCAADAeWM8d0IAAACrWj13QgAAwBCtPXdCAACAdv89d0IAAEDcUT53QgAAAEKkPndCAABAc5s/d0IAAADZ7T93QgAAwD5AQHdCAACApJJAd0IAAEAK5UB3QgAAgDvcQXdCAABAoS5Cd0IAAAAHgUJ3QgAAwGzTQndCAACA0iVDd0IAAMADHUR3QgAAgGlvRHdCAABAz8FEd0IAAAA1FEV3QgAAwJpmRXdCAADAMbBGd0IAAICXAkd3QgAAQP1UR3dCAAAAY6dHd0IAAECUnkh3QgAAAPrwSHdCAADAX0NJd0IAAIDFlUl3QgAAQCvoSXdCAACAXN9Kd0IAAEDCMUt3QgAAACiES3dCAADAjdZLd0IAAIDzKEx3QgAAwCQgTXdCAACAinJNd0IAAEDwxE13QgAAAFYXTndCAADAu2lOd0IAAADtYE93QgAAwFKzT3dCAACAuAVQd0I=\",\"dtype\":\"float64\",\"order\":\"little\",\"shape\":[154]},\"Variable\":[\"XLRE\",\"XLRE\",\"XLRE\",\"XLRE\",\"XLRE\",\"XLRE\",\"XLRE\",\"XLRE\",\"XLRE\",\"XLRE\",\"XLRE\",\"XLRE\",\"XLRE\",\"XLRE\",\"XLRE\",\"XLRE\",\"XLRE\",\"XLRE\",\"XLRE\",\"XLRE\",\"XLRE\",\"XLRE\",\"XLRE\",\"XLRE\",\"XLRE\",\"XLRE\",\"XLRE\",\"XLRE\",\"XLRE\",\"XLRE\",\"XLRE\",\"XLRE\",\"XLRE\",\"XLRE\",\"XLRE\",\"XLRE\",\"XLRE\",\"XLRE\",\"XLRE\",\"XLRE\",\"XLRE\",\"XLRE\",\"XLRE\",\"XLRE\",\"XLRE\",\"XLRE\",\"XLRE\",\"XLRE\",\"XLRE\",\"XLRE\",\"XLRE\",\"XLRE\",\"XLRE\",\"XLRE\",\"XLRE\",\"XLRE\",\"XLRE\",\"XLRE\",\"XLRE\",\"XLRE\",\"XLRE\",\"XLRE\",\"XLRE\",\"XLRE\",\"XLRE\",\"XLRE\",\"XLRE\",\"XLRE\",\"XLRE\",\"XLRE\",\"XLRE\",\"XLRE\",\"XLRE\",\"XLRE\",\"XLRE\",\"XLRE\",\"XLRE\",\"XLRE\",\"XLRE\",\"XLRE\",\"XLRE\",\"XLRE\",\"XLRE\",\"XLRE\",\"XLRE\",\"XLRE\",\"XLRE\",\"XLRE\",\"XLRE\",\"XLRE\",\"XLRE\",\"XLRE\",\"XLRE\",\"XLRE\",\"XLRE\",\"XLRE\",\"XLRE\",\"XLRE\",\"XLRE\",\"XLRE\",\"XLRE\",\"XLRE\",\"XLRE\",\"XLRE\",\"XLRE\",\"XLRE\",\"XLRE\",\"XLRE\",\"XLRE\",\"XLRE\",\"XLRE\",\"XLRE\",\"XLRE\",\"XLRE\",\"XLRE\",\"XLRE\",\"XLRE\",\"XLRE\",\"XLRE\",\"XLRE\",\"XLRE\",\"XLRE\",\"XLRE\",\"XLRE\",\"XLRE\",\"XLRE\",\"XLRE\",\"XLRE\",\"XLRE\",\"XLRE\",\"XLRE\",\"XLRE\",\"XLRE\",\"XLRE\",\"XLRE\",\"XLRE\",\"XLRE\",\"XLRE\",\"XLRE\",\"XLRE\",\"XLRE\",\"XLRE\",\"XLRE\",\"XLRE\",\"XLRE\",\"XLRE\",\"XLRE\",\"XLRE\",\"XLRE\",\"XLRE\",\"XLRE\",\"XLRE\",\"XLRE\",\"XLRE\"],\"value\":{\"__ndarray__\":\"AAAAIFxPQ0AAAAAghUtDQAAAACCFC0RAAAAAgMKVQ0AAAAAAAEBDQAAAAADX40FAAAAAYI/CQkAAAACgR8FBQAAAAEDhOkBAAAAAIK6nQUAAAADA9ag9QAAAAIDCdT9AAAAAAABAPUAAAACAPco8QAAAAMD1KDtAAAAAgMJ1OUAAAACAFK47QAAAAMD16DxAAAAAoEchP0AAAACAwjU/QAAAAGCPAkBAAAAAAAAAP0AAAABguB49QAAAAMDMjD1AAAAAwMxMPUAAAAAghWs/QAAAAIAUbj9AAAAAwB7lQEAAAAAA18NBQAAAAEAz80BAAAAAANeDQUAAAABACtdAQAAAAEDhukBAAAAAwB5FQUAAAACgR6FAQAAAAGCPYkBAAAAAIIWrQEAAAABA4XpAQAAAAIA9ikBAAAAAwB4FQUAAAADA9QhBQAAAAOB6FEFAAAAAgML1QEAAAADgo3BAQAAAAIAUbkBAAAAAwPWIQEAAAABA4TpAQAAAAAAAYEBAAAAAwMysQEAAAACgmXlAQAAAAMDMjD9AAAAAwMwMP0AAAABAChc/QAAAAEDh+j5AAAAAYLg+QEAAAAAAKdw/QAAAAOB6FEBAAAAAAAAAQEAAAACgmVlAQAAAAGC43kBAAAAAQOE6QUAAAADAzGxBQAAAAEAzU0FAAAAAIIWrQUAAAADA9chBQAAAAIDCNUJAAAAAYLjeQUAAAABgZoZCQAAAAIAU7kJAAAAAgMK1QkAAAAAAKVxCQAAAAKCZOUFAAAAAwB7FQUAAAABguP5BQAAAACCFS0JAAAAA4HoUQkAAAABA4dpBQAAAAMDMrEFAAAAAoHB9QUAAAADAzGxBQAAAAEDh+kBAAAAAwPUoQUAAAACgcN1AQAAAACCuJ0FAAAAAIK5nQUAAAACgR+FBQAAAAIDr0UFAAAAAQArXQUAAAADAzIxBQAAAAIA9ikFAAAAAQOF6QUAAAAAAAIBBQAAAAKCZOUFAAAAAwB5lQUAAAACgmXlBQAAAAMAeRUFAAAAAYI+CQUAAAADgUVhBQAAAAKCZWUFAAAAAIFyPQUAAAADgUXhBQAAAAGBmZkFAAAAAQOGaQUAAAACAwvVBQAAAAMDMTEJAAAAAYGYmQkAAAACgRyFCQAAAAEAK10FAAAAAQOEaQkAAAADgUfhBQAAAAKBHAUJAAAAAAABAQkAAAADgUThCQAAAAGC43kFAAAAA4FEYQkAAAABgj+JBQAAAAIAU7kFAAAAAQAoXQkAAAACA6xFCQAAAAEAzs0FAAAAAANfjQUAAAABAM/NBQAAAAKCZ+UFAAAAAIK4HQkAAAAAgrudBQAAAAMAeJUJAAAAAwPVIQkAAAAAAACBCQAAAAOBRGEJAAAAAAACAQkAAAADgozBCQAAAAAAAIEJAAAAAwB7lQUAAAABAChdCQAAAAIDC1UFAAAAAYGbGQUAAAACAwjVCQAAAAEAzc0JAAAAAgOuRQkAAAADA9ShCQAAAAMDMzEFAAAAA4FE4QUAAAADAzGxBQAAAAMDM7EBAAAAAoEcBQUAAAACAwlVBQAAAAGCPokFAAAAAIIWLQUAAAABgj6JBQAAAAMDM7EFAAAAAQAo3QkAAAADgo1BCQAAAAMD1KEJAAAAAgMI1QkA=\",\"dtype\":\"float64\",\"order\":\"little\",\"shape\":[154]}},\"selected\":{\"id\":\"2462\"},\"selection_policy\":{\"id\":\"2491\"}},\"id\":\"2461\",\"type\":\"ColumnDataSource\"},{\"attributes\":{},\"id\":\"2462\",\"type\":\"Selection\"},{\"attributes\":{\"active_drag\":\"auto\",\"active_inspect\":\"auto\",\"active_multi\":null,\"active_scroll\":\"auto\",\"active_tap\":\"auto\",\"tools\":[{\"id\":\"2126\"},{\"id\":\"2155\"},{\"id\":\"2156\"},{\"id\":\"2157\"},{\"id\":\"2158\"},{\"id\":\"2159\"}]},\"id\":\"2161\",\"type\":\"Toolbar\"},{\"attributes\":{\"line_color\":\"#2ba02b\",\"line_width\":2,\"x\":{\"field\":\"Date\"},\"y\":{\"field\":\"value\"}},\"id\":\"2236\",\"type\":\"Line\"},{\"attributes\":{\"source\":{\"id\":\"2602\"}},\"id\":\"2609\",\"type\":\"CDSView\"},{\"attributes\":{\"data\":{\"Date\":{\"__ndarray__\":\"AABArYgJd0IAAAAT2wl3QgAAwHgtCndCAACA3n8Kd0IAAEBE0gp3QgAAgHXJC3dCAABA2xsMd0IAAABBbgx3QgAAwKbADHdCAACADBMNd0IAAMA9Cg53QgAAgKNcDndCAABACa8Od0IAAABvAQ93QgAAwNRTD3dCAAAABksQd0IAAMBrnRB3QgAAgNHvEHdCAABAN0IRd0IAAACdlBF3QgAAQM6LEndCAAAANN4Sd0IAAMCZMBN3QgAAgP+CE3dCAABAZdUTd0IAAICWzBR3QgAAQPweFXdCAAAAYnEVd0IAAMDHwxV3QgAAwF4NF3dCAACAxF8Xd0IAAEAqshd3QgAAAJAEGHdCAADA9VYYd0IAAAAnThl3QgAAwIygGXdCAACA8vIZd0IAAEBYRRp3QgAAAL6XGndCAABA744bd0IAAABV4Rt3QgAAwLozHHdCAACAIIYcd0IAAECG2Bx3QgAAgLfPHXdCAABAHSIed0IAAACDdB53QgAAwOjGHndCAACAThkfd0IAAMB/ECB3QgAAgOViIHdCAABAS7Ugd0IAAACxByF3QgAAwBZaIXdCAAAASFEid0IAAMCtoyJ3QgAAgBP2IndCAABAeUgjd0IAAADfmiN3QgAAAHbkJHdCAADA2zYld0IAAIBBiSV3QgAAQKfbJXdCAACA2NImd0IAAEA+JSd3QgAAAKR3J3dCAADACcond0IAAIBvHCh3QgAAwKATKXdCAACABmYpd0IAAEBsuCl3QgAAANIKKndCAADAN10qd0IAAABpVCt3QgAAwM6mK3dCAACANPkrd0IAAECaSyx3QgAAAACeLHdCAABAMZUtd0IAAACX5y13QgAAwPw5LndCAACAYowud0IAAEDI3i53QgAAgPnVL3dCAABAXygwd0IAAADFejB3QgAAwCrNMHdCAADAwRYyd0IAAIAnaTJ3QgAAQI27MndCAAAA8w0zd0IAAMBYYDN3QgAAAIpXNHdCAADA76k0d0IAAIBV/DR3QgAAQLtONXdCAAAAIaE1d0IAAEBSmDZ3QgAAALjqNndCAADAHT03d0IAAICDjzd3QgAAQOnhN3dCAACAGtk4d0IAAECAKzl3QgAAAOZ9OXdCAADAS9A5d0IAAICxIjp3QgAAwOIZO3dCAACASGw7d0IAAECuvjt3QgAAABQRPHdCAADAeWM8d0IAAACrWj13QgAAwBCtPXdCAACAdv89d0IAAEDcUT53QgAAAEKkPndCAABAc5s/d0IAAADZ7T93QgAAwD5AQHdCAACApJJAd0IAAEAK5UB3QgAAgDvcQXdCAABAoS5Cd0IAAAAHgUJ3QgAAwGzTQndCAACA0iVDd0IAAMADHUR3QgAAgGlvRHdCAABAz8FEd0IAAAA1FEV3QgAAwJpmRXdCAADAMbBGd0IAAICXAkd3QgAAQP1UR3dCAAAAY6dHd0IAAECUnkh3QgAAAPrwSHdCAADAX0NJd0IAAIDFlUl3QgAAQCvoSXdCAACAXN9Kd0IAAEDCMUt3QgAAACiES3dCAADAjdZLd0IAAIDzKEx3QgAAwCQgTXdCAACAinJNd0IAAEDwxE13QgAAAFYXTndCAADAu2lOd0IAAADtYE93QgAAwFKzT3dCAACAuAVQd0I=\",\"dtype\":\"float64\",\"order\":\"little\",\"shape\":[154]},\"Variable\":[\"XLU\",\"XLU\",\"XLU\",\"XLU\",\"XLU\",\"XLU\",\"XLU\",\"XLU\",\"XLU\",\"XLU\",\"XLU\",\"XLU\",\"XLU\",\"XLU\",\"XLU\",\"XLU\",\"XLU\",\"XLU\",\"XLU\",\"XLU\",\"XLU\",\"XLU\",\"XLU\",\"XLU\",\"XLU\",\"XLU\",\"XLU\",\"XLU\",\"XLU\",\"XLU\",\"XLU\",\"XLU\",\"XLU\",\"XLU\",\"XLU\",\"XLU\",\"XLU\",\"XLU\",\"XLU\",\"XLU\",\"XLU\",\"XLU\",\"XLU\",\"XLU\",\"XLU\",\"XLU\",\"XLU\",\"XLU\",\"XLU\",\"XLU\",\"XLU\",\"XLU\",\"XLU\",\"XLU\",\"XLU\",\"XLU\",\"XLU\",\"XLU\",\"XLU\",\"XLU\",\"XLU\",\"XLU\",\"XLU\",\"XLU\",\"XLU\",\"XLU\",\"XLU\",\"XLU\",\"XLU\",\"XLU\",\"XLU\",\"XLU\",\"XLU\",\"XLU\",\"XLU\",\"XLU\",\"XLU\",\"XLU\",\"XLU\",\"XLU\",\"XLU\",\"XLU\",\"XLU\",\"XLU\",\"XLU\",\"XLU\",\"XLU\",\"XLU\",\"XLU\",\"XLU\",\"XLU\",\"XLU\",\"XLU\",\"XLU\",\"XLU\",\"XLU\",\"XLU\",\"XLU\",\"XLU\",\"XLU\",\"XLU\",\"XLU\",\"XLU\",\"XLU\",\"XLU\",\"XLU\",\"XLU\",\"XLU\",\"XLU\",\"XLU\",\"XLU\",\"XLU\",\"XLU\",\"XLU\",\"XLU\",\"XLU\",\"XLU\",\"XLU\",\"XLU\",\"XLU\",\"XLU\",\"XLU\",\"XLU\",\"XLU\",\"XLU\",\"XLU\",\"XLU\",\"XLU\",\"XLU\",\"XLU\",\"XLU\",\"XLU\",\"XLU\",\"XLU\",\"XLU\",\"XLU\",\"XLU\",\"XLU\",\"XLU\",\"XLU\",\"XLU\",\"XLU\",\"XLU\",\"XLU\",\"XLU\",\"XLU\",\"XLU\",\"XLU\",\"XLU\",\"XLU\",\"XLU\",\"XLU\",\"XLU\",\"XLU\"],\"value\":{\"__ndarray__\":\"AAAAgMJ1UEAAAACA60FQQAAAAIAULlFAAAAAgD3qUEAAAABACsdQQAAAAEDhuk9AAAAAQDMDUEAAAACAPWpOQAAAAOBRWEtAAAAAgMLVTEAAAAAgXI9JQAAAAOB61ExAAAAAQDOTS0AAAADgUfhJQAAAAMD16EdAAAAAQAp3RkAAAACgR+FIQAAAAADXg0lAAAAA4KOwS0AAAABACtdLQAAAAGC43kxAAAAA4Hq0S0AAAACAPQpKQAAAAEDh2kpAAAAAwB7lSUAAAADAHuVLQAAAACCFi0tAAAAAIIULTUAAAACAPWpOQAAAAEAzc01AAAAA4KNQTkAAAADgo1BNQAAAAIDrUU1AAAAAANdDTkAAAABguB5NQAAAAADXo0xAAAAAoJl5TUAAAABA4fpMQAAAAMD1KE1AAAAAQAp3TUAAAABAM5NNQAAAAIAUTk1AAAAAoEehTEAAAADgo/BLQAAAAGBmJkxAAAAAoEdhTEAAAACAPWpLQAAAAGBmhktAAAAA4HoUTEAAAACAwvVLQAAAAEAKt0tAAAAAQOF6S0AAAABgZsZLQAAAACCuZ0tAAAAAIK6HTEAAAAAgXA9MQAAAAEAKN0xAAAAAgBTuS0AAAACgcD1MQAAAAMDMbExAAAAAANfDTEAAAACgcJ1NQAAAAOBR2E1AAAAAQDMzTkAAAADAHmVOQAAAAGCPwk5AAAAAgMI1TkAAAADgUZhOQAAAAIA9ak9AAAAAwPXITkAAAABA4ZpOQAAAAMD1aE1AAAAAgMJVTUAAAADA9YhNQAAAACCFq01AAAAA4HqUTUAAAABAM5NNQAAAAGC4vkxAAAAAwPXITEAAAABguH5MQAAAAAApPExAAAAAYI/iS0AAAABACpdLQAAAAAApHExAAAAAQAo3TEAAAAAAAOBMQAAAAEAz80xAAAAA4FGYTEAAAABA4XpMQAAAAAApvExAAAAAoJlZTEAAAABgj+JMQAAAAIA96kxAAAAAIFwvTUAAAACA6xFNQAAAAOCjcE1AAAAAQOEaTkAAAACAwrVNQAAAAOBR2E1AAAAAgBROTkAAAABACldOQAAAAADXI05AAAAAYGbGTUAAAACgmTlOQAAAAKBwXU5AAAAAoHBdTkAAAACAPWpOQAAAAIDCFU5AAAAAgD1qTkAAAABgZgZOQAAAAEAzM05AAAAAYLi+TkAAAAAAKbxOQAAAAIDrEU5AAAAAoEeBTkAAAADgenROQAAAAOCjME5AAAAAYGYmTkAAAAAA1wNOQAAAAMDM7E1AAAAAwPWoTUAAAACAwrVNQAAAAOBR+E1AAAAAIFyvTUAAAABA4VpNQAAAAEAzc01AAAAAwPWITUAAAAAAAKBNQAAAAMD1SE1AAAAAgOsxTkAAAABA4dpNQAAAACBcr01AAAAAwB6FTUAAAADA9ehNQAAAAMAeZU1AAAAAQAp3TUAAAABguN5NQAAAAIDrEU5AAAAAIK4HTkAAAADA9chNQAAAAGCPQk1AAAAA4HrUTEAAAABgjwJNQAAAAOCjkExAAAAAYI/iTEAAAAAAKVxNQAAAACBcb01AAAAAwMxsTUAAAADgo7BNQAAAAKBw/U1AAAAA4FFYTkAAAACgmblOQAAAAAAp/E5AAAAAwMwsT0A=\",\"dtype\":\"float64\",\"order\":\"little\",\"shape\":[154]}},\"selected\":{\"id\":\"2554\"},\"selection_policy\":{\"id\":\"2587\"}},\"id\":\"2553\",\"type\":\"ColumnDataSource\"},{\"attributes\":{\"line_alpha\":0.1,\"line_color\":\"#2ba02b\",\"line_width\":2,\"x\":{\"field\":\"Date\"},\"y\":{\"field\":\"value\"}},\"id\":\"2237\",\"type\":\"Line\"},{\"attributes\":{\"line_alpha\":0.2,\"line_color\":\"#1f77b3\",\"line_width\":2,\"x\":{\"field\":\"Date\"},\"y\":{\"field\":\"value\"}},\"id\":\"2177\",\"type\":\"Line\"},{\"attributes\":{\"data_source\":{\"id\":\"2202\"},\"glyph\":{\"id\":\"2205\"},\"hover_glyph\":null,\"muted_glyph\":{\"id\":\"2207\"},\"nonselection_glyph\":{\"id\":\"2206\"},\"selection_glyph\":null,\"view\":{\"id\":\"2209\"}},\"id\":\"2208\",\"type\":\"GlyphRenderer\"},{\"attributes\":{},\"id\":\"2419\",\"type\":\"Selection\"},{\"attributes\":{\"line_alpha\":0.2,\"line_color\":\"#004201\",\"line_width\":2,\"x\":{\"field\":\"Date\"},\"y\":{\"field\":\"value\"}},\"id\":\"2607\",\"type\":\"Line\"},{\"attributes\":{\"bottom_units\":\"screen\",\"fill_alpha\":0.5,\"fill_color\":\"lightgrey\",\"left_units\":\"screen\",\"level\":\"overlay\",\"line_alpha\":1.0,\"line_color\":\"black\",\"line_dash\":[4,4],\"line_width\":2,\"right_units\":\"screen\",\"top_units\":\"screen\"},\"id\":\"2160\",\"type\":\"BoxAnnotation\"},{\"attributes\":{\"line_alpha\":0.1,\"line_color\":\"#004201\",\"line_width\":2,\"x\":{\"field\":\"Date\"},\"y\":{\"field\":\"value\"}},\"id\":\"2606\",\"type\":\"Line\"},{\"attributes\":{\"label\":{\"value\":\"XLE\"},\"renderers\":[{\"id\":\"2272\"}]},\"id\":\"2300\",\"type\":\"LegendItem\"},{\"attributes\":{\"text\":\"\",\"text_color\":{\"value\":\"black\"},\"text_font_size\":{\"value\":\"12pt\"}},\"id\":\"2139\",\"type\":\"Title\"},{\"attributes\":{\"line_color\":\"#004201\",\"line_width\":2,\"x\":{\"field\":\"Date\"},\"y\":{\"field\":\"value\"}},\"id\":\"2605\",\"type\":\"Line\"},{\"attributes\":{\"line_alpha\":0.2,\"line_color\":\"#bcbc21\",\"line_width\":2,\"x\":{\"field\":\"Date\"},\"y\":{\"field\":\"value\"}},\"id\":\"2466\",\"type\":\"Line\"},{\"attributes\":{\"line_alpha\":0.1,\"line_color\":\"#bcbc21\",\"line_width\":2,\"x\":{\"field\":\"Date\"},\"y\":{\"field\":\"value\"}},\"id\":\"2465\",\"type\":\"Line\"},{\"attributes\":{\"data_source\":{\"id\":\"2602\"},\"glyph\":{\"id\":\"2605\"},\"hover_glyph\":null,\"muted_glyph\":{\"id\":\"2607\"},\"nonselection_glyph\":{\"id\":\"2606\"},\"selection_glyph\":null,\"view\":{\"id\":\"2609\"}},\"id\":\"2608\",\"type\":\"GlyphRenderer\"},{\"attributes\":{\"data\":{\"Date\":{\"__ndarray__\":\"AABArYgJd0IAAAAT2wl3QgAAwHgtCndCAACA3n8Kd0IAAEBE0gp3QgAAgHXJC3dCAABA2xsMd0IAAABBbgx3QgAAwKbADHdCAACADBMNd0IAAMA9Cg53QgAAgKNcDndCAABACa8Od0IAAABvAQ93QgAAwNRTD3dCAAAABksQd0IAAMBrnRB3QgAAgNHvEHdCAABAN0IRd0IAAACdlBF3QgAAQM6LEndCAAAANN4Sd0IAAMCZMBN3QgAAgP+CE3dCAABAZdUTd0IAAICWzBR3QgAAQPweFXdCAAAAYnEVd0IAAMDHwxV3QgAAwF4NF3dCAACAxF8Xd0IAAEAqshd3QgAAAJAEGHdCAADA9VYYd0IAAAAnThl3QgAAwIygGXdCAACA8vIZd0IAAEBYRRp3QgAAAL6XGndCAABA744bd0IAAABV4Rt3QgAAwLozHHdCAACAIIYcd0IAAECG2Bx3QgAAgLfPHXdCAABAHSIed0IAAACDdB53QgAAwOjGHndCAACAThkfd0IAAMB/ECB3QgAAgOViIHdCAABAS7Ugd0IAAACxByF3QgAAwBZaIXdCAAAASFEid0IAAMCtoyJ3QgAAgBP2IndCAABAeUgjd0IAAADfmiN3QgAAAHbkJHdCAADA2zYld0IAAIBBiSV3QgAAQKfbJXdCAACA2NImd0IAAEA+JSd3QgAAAKR3J3dCAADACcond0IAAIBvHCh3QgAAwKATKXdCAACABmYpd0IAAEBsuCl3QgAAANIKKndCAADAN10qd0IAAABpVCt3QgAAwM6mK3dCAACANPkrd0IAAECaSyx3QgAAAACeLHdCAABAMZUtd0IAAACX5y13QgAAwPw5LndCAACAYowud0IAAEDI3i53QgAAgPnVL3dCAABAXygwd0IAAADFejB3QgAAwCrNMHdCAADAwRYyd0IAAIAnaTJ3QgAAQI27MndCAAAA8w0zd0IAAMBYYDN3QgAAAIpXNHdCAADA76k0d0IAAIBV/DR3QgAAQLtONXdCAAAAIaE1d0IAAEBSmDZ3QgAAALjqNndCAADAHT03d0IAAICDjzd3QgAAQOnhN3dCAACAGtk4d0IAAECAKzl3QgAAAOZ9OXdCAADAS9A5d0IAAICxIjp3QgAAwOIZO3dCAACASGw7d0IAAECuvjt3QgAAABQRPHdCAADAeWM8d0IAAACrWj13QgAAwBCtPXdCAACAdv89d0IAAEDcUT53QgAAAEKkPndCAABAc5s/d0IAAADZ7T93QgAAwD5AQHdCAACApJJAd0IAAEAK5UB3QgAAgDvcQXdCAABAoS5Cd0IAAAAHgUJ3QgAAwGzTQndCAACA0iVDd0IAAMADHUR3QgAAgGlvRHdCAABAz8FEd0IAAAA1FEV3QgAAwJpmRXdCAADAMbBGd0IAAICXAkd3QgAAQP1UR3dCAAAAY6dHd0IAAECUnkh3QgAAAPrwSHdCAADAX0NJd0IAAIDFlUl3QgAAQCvoSXdCAACAXN9Kd0IAAEDCMUt3QgAAACiES3dCAADAjdZLd0IAAIDzKEx3QgAAwCQgTXdCAACAinJNd0IAAEDwxE13QgAAAFYXTndCAADAu2lOd0IAAADtYE93QgAAwFKzT3dCAACAuAVQd0I=\",\"dtype\":\"float64\",\"order\":\"little\",\"shape\":[154]},\"Variable\":[\"XLY\",\"XLY\",\"XLY\",\"XLY\",\"XLY\",\"XLY\",\"XLY\",\"XLY\",\"XLY\",\"XLY\",\"XLY\",\"XLY\",\"XLY\",\"XLY\",\"XLY\",\"XLY\",\"XLY\",\"XLY\",\"XLY\",\"XLY\",\"XLY\",\"XLY\",\"XLY\",\"XLY\",\"XLY\",\"XLY\",\"XLY\",\"XLY\",\"XLY\",\"XLY\",\"XLY\",\"XLY\",\"XLY\",\"XLY\",\"XLY\",\"XLY\",\"XLY\",\"XLY\",\"XLY\",\"XLY\",\"XLY\",\"XLY\",\"XLY\",\"XLY\",\"XLY\",\"XLY\",\"XLY\",\"XLY\",\"XLY\",\"XLY\",\"XLY\",\"XLY\",\"XLY\",\"XLY\",\"XLY\",\"XLY\",\"XLY\",\"XLY\",\"XLY\",\"XLY\",\"XLY\",\"XLY\",\"XLY\",\"XLY\",\"XLY\",\"XLY\",\"XLY\",\"XLY\",\"XLY\",\"XLY\",\"XLY\",\"XLY\",\"XLY\",\"XLY\",\"XLY\",\"XLY\",\"XLY\",\"XLY\",\"XLY\",\"XLY\",\"XLY\",\"XLY\",\"XLY\",\"XLY\",\"XLY\",\"XLY\",\"XLY\",\"XLY\",\"XLY\",\"XLY\",\"XLY\",\"XLY\",\"XLY\",\"XLY\",\"XLY\",\"XLY\",\"XLY\",\"XLY\",\"XLY\",\"XLY\",\"XLY\",\"XLY\",\"XLY\",\"XLY\",\"XLY\",\"XLY\",\"XLY\",\"XLY\",\"XLY\",\"XLY\",\"XLY\",\"XLY\",\"XLY\",\"XLY\",\"XLY\",\"XLY\",\"XLY\",\"XLY\",\"XLY\",\"XLY\",\"XLY\",\"XLY\",\"XLY\",\"XLY\",\"XLY\",\"XLY\",\"XLY\",\"XLY\",\"XLY\",\"XLY\",\"XLY\",\"XLY\",\"XLY\",\"XLY\",\"XLY\",\"XLY\",\"XLY\",\"XLY\",\"XLY\",\"XLY\",\"XLY\",\"XLY\",\"XLY\",\"XLY\",\"XLY\",\"XLY\",\"XLY\",\"XLY\",\"XLY\",\"XLY\",\"XLY\",\"XLY\",\"XLY\",\"XLY\"],\"value\":{\"__ndarray__\":\"AAAAANfzXUAAAACAPTpdQAAAAMDMPF5AAAAAACkcXUAAAACgmalcQAAAACCF21pAAAAAIK5XXEAAAABA4cpaQAAAAIDCFVhAAAAAQDOTWUAAAACAwlVWQAAAAIDrMVdAAAAAwMzcVUAAAAAAAKBWQAAAAADX81VAAAAAgOvhVUAAAAAgXO9XQAAAAEDhWlhAAAAAwMxcWUAAAABAM4NYQAAAAGBmBllAAAAAwB6FWEAAAADAzGxXQAAAAEAzg1dAAAAAgD0aV0AAAABgZgZZQAAAAIDCZVlAAAAAYI8yWkAAAAAghataQAAAAKCZqVpAAAAA4Hq0W0AAAADA9RhbQAAAAAApbFtAAAAAIIU7XEAAAACgcL1bQAAAAMAeBVtAAAAAgD2aW0AAAADgUZhbQAAAAAAAEFxAAAAAYGaWXEAAAABAM7NcQAAAAMAeVV1AAAAAYGYmXUAAAAAgXA9cQAAAAGBmNlxAAAAA4KNQXEAAAAAgXE9cQAAAAKBHwVxAAAAA4KNQXUAAAAAAAEBdQAAAAAApnFxAAAAAgBQeXEAAAACgmYlcQAAAAGC43lxAAAAAYGb2XUAAAABA4dpdQAAAAGC4Pl5AAAAAgD1aXkAAAABguE5eQAAAAKCZyV5AAAAA4KNQX0AAAAAgXO9eQAAAAAApDF9AAAAAIK5XX0AAAAAAKZxfQAAAAGCPGmBAAAAAgMIFYEAAAAAAAGhgQAAAAAAAqGBAAAAAYLiGYEAAAABACl9gQAAAAEAKB19AAAAAgMJVX0AAAACA66FfQAAAAIAUJmBAAAAAQDMbYEAAAAAAKQxgQAAAAOBR2F9AAAAA4HoMYEAAAADAzCxgQAAAAEAzo19AAAAAgBSuX0AAAAAAAPBeQAAAAGBmhl9AAAAAoHDtX0AAAAAAACBgQAAAAOBRMGBAAAAAYI+SYEAAAAAAAFBgQAAAAOB6fGBAAAAAIK53YEAAAACA66lgQAAAAADXc2BAAAAAgMKdYEAAAABgj9pgQAAAAEAKz2BAAAAAQOG6YEAAAAAgXP9gQAAAAIAUBmFAAAAAIIUrYUAAAACgmelgQAAAAKBH8WBAAAAAACkMYUAAAADA9eBgQAAAAMDMDGFAAAAAoEcJYUAAAAAAACBhQAAAAGC4FmFAAAAAgOs5YUAAAAAgrm9hQAAAAKBwhWFAAAAAACmMYUAAAACA68FhQAAAAMD1uGFAAAAAwB71YUAAAABAM/NhQAAAAEDh8mFAAAAAgBQuYkAAAABA4UpiQAAAAMDMNGJAAAAAgMItYkAAAACAwkViQAAAAMDMjGJAAAAA4HqcYkAAAAAghctiQAAAAKCZsWJAAAAAwPXQYkAAAABA4cJiQAAAAMAe9WJAAAAA4FE4Y0AAAAAAKZxiQAAAAMAeZWJAAAAAIFwnYkAAAABACn9iQAAAAEAzO2JAAAAAgD1CYkAAAAAA13NiQAAAAGCPmmJAAAAAAACAYkAAAACgcD1iQAAAAOB6/GFAAAAA4FGwYUAAAAAAABBiQAAAAAApxGFAAAAAgD3CYUAAAACgcP1hQAAAAIDCXWJAAAAAoEc5YkAAAAAgXF9iQAAAAMDMnGJAAAAA4KOIYkAAAAAgXMdiQAAAAGBmbmJAAAAAgD3aYkA=\",\"dtype\":\"float64\",\"order\":\"little\",\"shape\":[154]}},\"selected\":{\"id\":\"2203\"},\"selection_policy\":{\"id\":\"2218\"}},\"id\":\"2202\",\"type\":\"ColumnDataSource\"},{\"attributes\":{\"line_color\":\"#bcbc21\",\"line_width\":2,\"x\":{\"field\":\"Date\"},\"y\":{\"field\":\"value\"}},\"id\":\"2464\",\"type\":\"Line\"},{\"attributes\":{\"data_source\":{\"id\":\"2461\"},\"glyph\":{\"id\":\"2464\"},\"hover_glyph\":null,\"muted_glyph\":{\"id\":\"2466\"},\"nonselection_glyph\":{\"id\":\"2465\"},\"selection_glyph\":null,\"view\":{\"id\":\"2468\"}},\"id\":\"2467\",\"type\":\"GlyphRenderer\"},{\"attributes\":{\"line_alpha\":0.1,\"line_color\":\"#8c564b\",\"line_width\":2,\"x\":{\"field\":\"Date\"},\"y\":{\"field\":\"value\"}},\"id\":\"2342\",\"type\":\"Line\"},{\"attributes\":{\"source\":{\"id\":\"2266\"}},\"id\":\"2273\",\"type\":\"CDSView\"},{\"attributes\":{\"line_alpha\":0.2,\"line_color\":\"#7e7e7e\",\"line_width\":2,\"x\":{\"field\":\"Date\"},\"y\":{\"field\":\"value\"}},\"id\":\"2423\",\"type\":\"Line\"},{\"attributes\":{\"line_color\":\"#7e7e7e\",\"line_width\":2,\"x\":{\"field\":\"Date\"},\"y\":{\"field\":\"value\"}},\"id\":\"2421\",\"type\":\"Line\"},{\"attributes\":{\"label\":{\"value\":\"XLB\"},\"renderers\":[{\"id\":\"2424\"}]},\"id\":\"2460\",\"type\":\"LegendItem\"},{\"attributes\":{},\"id\":\"2554\",\"type\":\"Selection\"},{\"attributes\":{},\"id\":\"2638\",\"type\":\"UnionRenderers\"},{\"attributes\":{},\"id\":\"2143\",\"type\":\"LinearScale\"},{\"attributes\":{\"line_alpha\":0.2,\"line_color\":\"#ff7e0e\",\"line_width\":2,\"x\":{\"field\":\"Date\"},\"y\":{\"field\":\"value\"}},\"id\":\"2207\",\"type\":\"Line\"},{\"attributes\":{},\"id\":\"2171\",\"type\":\"BasicTickFormatter\"},{\"attributes\":{\"source\":{\"id\":\"2377\"}},\"id\":\"2384\",\"type\":\"CDSView\"},{\"attributes\":{\"data_source\":{\"id\":\"2266\"},\"glyph\":{\"id\":\"2269\"},\"hover_glyph\":null,\"muted_glyph\":{\"id\":\"2271\"},\"nonselection_glyph\":{\"id\":\"2270\"},\"selection_glyph\":null,\"view\":{\"id\":\"2273\"}},\"id\":\"2272\",\"type\":\"GlyphRenderer\"},{\"attributes\":{\"data_source\":{\"id\":\"2172\"},\"glyph\":{\"id\":\"2175\"},\"hover_glyph\":null,\"muted_glyph\":{\"id\":\"2177\"},\"nonselection_glyph\":{\"id\":\"2176\"},\"selection_glyph\":null,\"view\":{\"id\":\"2179\"}},\"id\":\"2178\",\"type\":\"GlyphRenderer\"},{\"attributes\":{\"months\":[0,2,4,6,8,10]},\"id\":\"2196\",\"type\":\"MonthsTicker\"},{\"attributes\":{},\"id\":\"2267\",\"type\":\"Selection\"},{\"attributes\":{\"base\":60,\"mantissas\":[1,2,5,10,15,20,30],\"max_interval\":1800000.0,\"min_interval\":1000.0,\"num_minor_ticks\":0},\"id\":\"2189\",\"type\":\"AdaptiveTicker\"},{\"attributes\":{\"data_source\":{\"id\":\"2233\"},\"glyph\":{\"id\":\"2236\"},\"hover_glyph\":null,\"muted_glyph\":{\"id\":\"2238\"},\"nonselection_glyph\":{\"id\":\"2237\"},\"selection_glyph\":null,\"view\":{\"id\":\"2240\"}},\"id\":\"2239\",\"type\":\"GlyphRenderer\"},{\"attributes\":{\"axis_label\":\"\",\"bounds\":\"auto\",\"formatter\":{\"id\":\"2171\"},\"major_label_orientation\":\"horizontal\",\"ticker\":{\"id\":\"2152\"}},\"id\":\"2151\",\"type\":\"LinearAxis\"},{\"attributes\":{\"mantissas\":[1,2,5],\"max_interval\":500.0,\"num_minor_ticks\":0},\"id\":\"2188\",\"type\":\"AdaptiveTicker\"},{\"attributes\":{\"axis\":{\"id\":\"2151\"},\"dimension\":1,\"grid_line_color\":null,\"ticker\":null},\"id\":\"2154\",\"type\":\"Grid\"},{\"attributes\":{\"source\":{\"id\":\"2202\"}},\"id\":\"2209\",\"type\":\"CDSView\"},{\"attributes\":{},\"id\":\"2587\",\"type\":\"UnionRenderers\"},{\"attributes\":{},\"id\":\"2145\",\"type\":\"LinearScale\"},{\"attributes\":{\"line_alpha\":0.1,\"line_color\":\"#7e7e7e\",\"line_width\":2,\"x\":{\"field\":\"Date\"},\"y\":{\"field\":\"value\"}},\"id\":\"2422\",\"type\":\"Line\"},{\"attributes\":{\"axis\":{\"id\":\"2147\"},\"grid_line_color\":null,\"ticker\":null},\"id\":\"2150\",\"type\":\"Grid\"},{\"attributes\":{\"end\":1602028800000.0,\"reset_end\":1602028800000.0,\"reset_start\":1583107200000.0,\"start\":1583107200000.0,\"tags\":[[[\"Date\",\"Date\",null]]]},\"id\":\"2124\",\"type\":\"Range1d\"},{\"attributes\":{\"source\":{\"id\":\"2418\"}},\"id\":\"2425\",\"type\":\"CDSView\"},{\"attributes\":{\"line_alpha\":0.1,\"line_color\":\"#d62628\",\"line_width\":2,\"x\":{\"field\":\"Date\"},\"y\":{\"field\":\"value\"}},\"id\":\"2270\",\"type\":\"Line\"},{\"attributes\":{\"line_alpha\":0.2,\"line_color\":\"#8c564b\",\"line_width\":2,\"x\":{\"field\":\"Date\"},\"y\":{\"field\":\"value\"}},\"id\":\"2343\",\"type\":\"Line\"},{\"attributes\":{\"line_alpha\":0.2,\"line_color\":\"#3a0182\",\"line_width\":2,\"x\":{\"field\":\"Date\"},\"y\":{\"field\":\"value\"}},\"id\":\"2558\",\"type\":\"Line\"},{\"attributes\":{\"label\":{\"value\":\"XLK\"},\"renderers\":[{\"id\":\"2512\"}]},\"id\":\"2552\",\"type\":\"LegendItem\"},{\"attributes\":{\"line_color\":\"#d62628\",\"line_width\":2,\"x\":{\"field\":\"Date\"},\"y\":{\"field\":\"value\"}},\"id\":\"2269\",\"type\":\"Line\"},{\"attributes\":{\"source\":{\"id\":\"2338\"}},\"id\":\"2345\",\"type\":\"CDSView\"},{\"attributes\":{\"line_alpha\":0.1,\"line_color\":\"#3a0182\",\"line_width\":2,\"x\":{\"field\":\"Date\"},\"y\":{\"field\":\"value\"}},\"id\":\"2557\",\"type\":\"Line\"},{\"attributes\":{\"line_color\":\"#3a0182\",\"line_width\":2,\"x\":{\"field\":\"Date\"},\"y\":{\"field\":\"value\"}},\"id\":\"2556\",\"type\":\"Line\"},{\"attributes\":{\"data_source\":{\"id\":\"2553\"},\"glyph\":{\"id\":\"2556\"},\"hover_glyph\":null,\"muted_glyph\":{\"id\":\"2558\"},\"nonselection_glyph\":{\"id\":\"2557\"},\"selection_glyph\":null,\"view\":{\"id\":\"2560\"}},\"id\":\"2559\",\"type\":\"GlyphRenderer\"},{\"attributes\":{},\"id\":\"2203\",\"type\":\"Selection\"},{\"attributes\":{},\"id\":\"2152\",\"type\":\"BasicTicker\"},{\"attributes\":{},\"id\":\"2186\",\"type\":\"UnionRenderers\"},{\"attributes\":{},\"id\":\"2603\",\"type\":\"Selection\"},{\"attributes\":{\"line_alpha\":0.1,\"line_color\":\"#ff7e0e\",\"line_width\":2,\"x\":{\"field\":\"Date\"},\"y\":{\"field\":\"value\"}},\"id\":\"2206\",\"type\":\"Line\"},{\"attributes\":{},\"id\":\"2339\",\"type\":\"Selection\"},{\"attributes\":{\"callback\":null,\"formatters\":{\"@{Date}\":\"datetime\"},\"renderers\":[{\"id\":\"2178\"},{\"id\":\"2208\"},{\"id\":\"2239\"},{\"id\":\"2272\"},{\"id\":\"2307\"},{\"id\":\"2344\"},{\"id\":\"2383\"},{\"id\":\"2424\"},{\"id\":\"2467\"},{\"id\":\"2512\"},{\"id\":\"2559\"},{\"id\":\"2608\"}],\"tags\":[\"hv_created\"],\"tooltips\":[[\"Variable\",\"@{Variable}\"],[\"Date\",\"@{Date}{%F %T}\"],[\"value\",\"@{value}\"]]},\"id\":\"2126\",\"type\":\"HoverTool\"},{\"attributes\":{},\"id\":\"2507\",\"type\":\"Selection\"},{\"attributes\":{\"end\":391.7040134429932,\"reset_end\":391.7040134429932,\"reset_start\":-16.344001388549806,\"start\":-16.344001388549806,\"tags\":[[[\"value\",\"value\",null]]]},\"id\":\"2125\",\"type\":\"Range1d\"},{\"attributes\":{\"data\":{\"Date\":{\"__ndarray__\":\"AABArYgJd0IAAAAT2wl3QgAAwHgtCndCAACA3n8Kd0IAAEBE0gp3QgAAgHXJC3dCAABA2xsMd0IAAABBbgx3QgAAwKbADHdCAACADBMNd0IAAMA9Cg53QgAAgKNcDndCAABACa8Od0IAAABvAQ93QgAAwNRTD3dCAAAABksQd0IAAMBrnRB3QgAAgNHvEHdCAABAN0IRd0IAAACdlBF3QgAAQM6LEndCAAAANN4Sd0IAAMCZMBN3QgAAgP+CE3dCAABAZdUTd0IAAICWzBR3QgAAQPweFXdCAAAAYnEVd0IAAMDHwxV3QgAAwF4NF3dCAACAxF8Xd0IAAEAqshd3QgAAAJAEGHdCAADA9VYYd0IAAAAnThl3QgAAwIygGXdCAACA8vIZd0IAAEBYRRp3QgAAAL6XGndCAABA744bd0IAAABV4Rt3QgAAwLozHHdCAACAIIYcd0IAAECG2Bx3QgAAgLfPHXdCAABAHSIed0IAAACDdB53QgAAwOjGHndCAACAThkfd0IAAMB/ECB3QgAAgOViIHdCAABAS7Ugd0IAAACxByF3QgAAwBZaIXdCAAAASFEid0IAAMCtoyJ3QgAAgBP2IndCAABAeUgjd0IAAADfmiN3QgAAAHbkJHdCAADA2zYld0IAAIBBiSV3QgAAQKfbJXdCAACA2NImd0IAAEA+JSd3QgAAAKR3J3dCAADACcond0IAAIBvHCh3QgAAwKATKXdCAACABmYpd0IAAEBsuCl3QgAAANIKKndCAADAN10qd0IAAABpVCt3QgAAwM6mK3dCAACANPkrd0IAAECaSyx3QgAAAACeLHdCAABAMZUtd0IAAACX5y13QgAAwPw5LndCAACAYowud0IAAEDI3i53QgAAgPnVL3dCAABAXygwd0IAAADFejB3QgAAwCrNMHdCAADAwRYyd0IAAIAnaTJ3QgAAQI27MndCAAAA8w0zd0IAAMBYYDN3QgAAAIpXNHdCAADA76k0d0IAAIBV/DR3QgAAQLtONXdCAAAAIaE1d0IAAEBSmDZ3QgAAALjqNndCAADAHT03d0IAAICDjzd3QgAAQOnhN3dCAACAGtk4d0IAAECAKzl3QgAAAOZ9OXdCAADAS9A5d0IAAICxIjp3QgAAwOIZO3dCAACASGw7d0IAAECuvjt3QgAAABQRPHdCAADAeWM8d0IAAACrWj13QgAAwBCtPXdCAACAdv89d0IAAEDcUT53QgAAAEKkPndCAABAc5s/d0IAAADZ7T93QgAAwD5AQHdCAACApJJAd0IAAEAK5UB3QgAAgDvcQXdCAABAoS5Cd0IAAAAHgUJ3QgAAwGzTQndCAACA0iVDd0IAAMADHUR3QgAAgGlvRHdCAABAz8FEd0IAAAA1FEV3QgAAwJpmRXdCAADAMbBGd0IAAICXAkd3QgAAQP1UR3dCAAAAY6dHd0IAAECUnkh3QgAAAPrwSHdCAADAX0NJd0IAAIDFlUl3QgAAQCvoSXdCAACAXN9Kd0IAAEDCMUt3QgAAACiES3dCAADAjdZLd0IAAIDzKEx3QgAAwCQgTXdCAACAinJNd0IAAEDwxE13QgAAAFYXTndCAADAu2lOd0IAAADtYE93QgAAwFKzT3dCAACAuAVQd0I=\",\"dtype\":\"float64\",\"order\":\"little\",\"shape\":[154]},\"Variable\":[\"XLV\",\"XLV\",\"XLV\",\"XLV\",\"XLV\",\"XLV\",\"XLV\",\"XLV\",\"XLV\",\"XLV\",\"XLV\",\"XLV\",\"XLV\",\"XLV\",\"XLV\",\"XLV\",\"XLV\",\"XLV\",\"XLV\",\"XLV\",\"XLV\",\"XLV\",\"XLV\",\"XLV\",\"XLV\",\"XLV\",\"XLV\",\"XLV\",\"XLV\",\"XLV\",\"XLV\",\"XLV\",\"XLV\",\"XLV\",\"XLV\",\"XLV\",\"XLV\",\"XLV\",\"XLV\",\"XLV\",\"XLV\",\"XLV\",\"XLV\",\"XLV\",\"XLV\",\"XLV\",\"XLV\",\"XLV\",\"XLV\",\"XLV\",\"XLV\",\"XLV\",\"XLV\",\"XLV\",\"XLV\",\"XLV\",\"XLV\",\"XLV\",\"XLV\",\"XLV\",\"XLV\",\"XLV\",\"XLV\",\"XLV\",\"XLV\",\"XLV\",\"XLV\",\"XLV\",\"XLV\",\"XLV\",\"XLV\",\"XLV\",\"XLV\",\"XLV\",\"XLV\",\"XLV\",\"XLV\",\"XLV\",\"XLV\",\"XLV\",\"XLV\",\"XLV\",\"XLV\",\"XLV\",\"XLV\",\"XLV\",\"XLV\",\"XLV\",\"XLV\",\"XLV\",\"XLV\",\"XLV\",\"XLV\",\"XLV\",\"XLV\",\"XLV\",\"XLV\",\"XLV\",\"XLV\",\"XLV\",\"XLV\",\"XLV\",\"XLV\",\"XLV\",\"XLV\",\"XLV\",\"XLV\",\"XLV\",\"XLV\",\"XLV\",\"XLV\",\"XLV\",\"XLV\",\"XLV\",\"XLV\",\"XLV\",\"XLV\",\"XLV\",\"XLV\",\"XLV\",\"XLV\",\"XLV\",\"XLV\",\"XLV\",\"XLV\",\"XLV\",\"XLV\",\"XLV\",\"XLV\",\"XLV\",\"XLV\",\"XLV\",\"XLV\",\"XLV\",\"XLV\",\"XLV\",\"XLV\",\"XLV\",\"XLV\",\"XLV\",\"XLV\",\"XLV\",\"XLV\",\"XLV\",\"XLV\",\"XLV\",\"XLV\",\"XLV\",\"XLV\",\"XLV\",\"XLV\",\"XLV\",\"XLV\",\"XLV\"],\"value\":{\"__ndarray__\":\"AAAAwMw8WEAAAABgj6JXQAAAACBc/1hAAAAAQOFqWEAAAACgmUlYQAAAAGBmBldAAAAA4KPQV0AAAAAgrudWQAAAAIDrMVVAAAAAgD2qVkAAAACAFG5UQAAAAGBmtlVAAAAAgBT+VEAAAAAAAJBUQAAAAIDCxVNAAAAAIK6nUkAAAAAgrhdUQAAAAAApXFRAAAAAYGa2VUAAAAAgXD9VQAAAAIAUPlZAAAAAwB4lVkAAAACgcE1VQAAAAOB65FVAAAAAgOuxVUAAAADAHtVWQAAAAMAepVZAAAAAANeTV0AAAADAHrVXQAAAAAAAgFdAAAAAIK5HWEAAAAAgridYQAAAAGC4rlhAAAAAgOsxWUAAAABguP5YQAAAAAApPFhAAAAAQOGaWEAAAACgcL1YQAAAAGCPEllAAAAAwB5lWUAAAACA6+FYQAAAAAApDFlAAAAAYLjuWEAAAADAHnVYQAAAAIDrcVhAAAAAoJn5WEAAAACAPbpYQAAAAKCZuVhAAAAAgD3aWEAAAAAgrkdZQAAAAMAe5VhAAAAAAACgWEAAAADAHuVYQAAAAEDhGllAAAAAAABQWUAAAACA6wFZQAAAAKCZCVlAAAAAgD3aWEAAAAAgrudYQAAAAAAp3FhAAAAAgBQeWUAAAACA63FZQAAAAOCjwFlAAAAAIFx/WUAAAADAHqVZQAAAAOBRmFlAAAAA4HpkWUAAAACgcM1ZQAAAAEDh+llAAAAAgMK1WUAAAAAghatZQAAAAIAUPlhAAAAAYGZmWEAAAADgenRYQAAAAGC4DllAAAAA4FEIWUAAAABgj/JYQAAAAAAAMFlAAAAAACn8WEAAAAAgrhdZQAAAAAAAcFhAAAAAoHCtWEAAAADgo2BYQAAAAMD1mFhAAAAA4HoEWUAAAACAwjVZQAAAAGBmZllAAAAA4FGoWUAAAAAgXG9ZQAAAAAAAcFlAAAAAwMw8WUAAAACgcC1ZQAAAAIDrUVlAAAAAYI/SWUAAAADgUShaQAAAAKBwHVpAAAAAwPV4WkAAAAAgrndaQAAAAEAzc1pAAAAAAACwWkAAAACgR5FaQAAAAGBmRlpAAAAAwPV4WkAAAACgR3FaQAAAAOBRuFpAAAAAwPWIWkAAAACA62FaQAAAACCup1pAAAAAoJmJWkAAAADA9ahaQAAAAOB6hFpAAAAAgD2aWkAAAABAM4NaQAAAAOBRWFpAAAAAoJnJWkAAAADgo8BaQAAAAEAzs1pAAAAAIIXbWkAAAACgmdlaQAAAAEAzw1pAAAAAoHCtWkAAAADgerRaQAAAAMAelVpAAAAAQDPDWkAAAABA4bpaQAAAAOCj8FpAAAAAAAAAW0AAAADgoxBbQAAAAGCP0lpAAAAAAClcW0AAAACgcJ1aQAAAAMDMbFpAAAAAoHD9WUAAAABAM3NaQAAAACCFC1pAAAAAgMIlWkAAAACAwoVaQAAAAGC4jlpAAAAAQDODWkAAAADAzGxaQAAAAGCPYlpAAAAAIIXLWUAAAACgcL1ZQAAAAKCZeVlAAAAAwPVYWUAAAACgR8FZQAAAAMDM/FlAAAAA4Hr0WUAAAABguF5aQAAAACCuR1pAAAAAgD0KWkAAAABAM5NaQAAAAMD1OFpAAAAAIK63WkA=\",\"dtype\":\"float64\",\"order\":\"little\",\"shape\":[154]}},\"selected\":{\"id\":\"2339\"},\"selection_policy\":{\"id\":\"2362\"}},\"id\":\"2338\",\"type\":\"ColumnDataSource\"},{\"attributes\":{},\"id\":\"2234\",\"type\":\"Selection\"},{\"attributes\":{\"align\":null,\"below\":[{\"id\":\"2147\"}],\"center\":[{\"id\":\"2150\"},{\"id\":\"2154\"}],\"left\":[{\"id\":\"2151\"}],\"margin\":null,\"min_border_bottom\":10,\"min_border_left\":10,\"min_border_right\":10,\"min_border_top\":10,\"plot_height\":300,\"plot_width\":700,\"renderers\":[{\"id\":\"2178\"},{\"id\":\"2208\"},{\"id\":\"2239\"},{\"id\":\"2272\"},{\"id\":\"2307\"},{\"id\":\"2344\"},{\"id\":\"2383\"},{\"id\":\"2424\"},{\"id\":\"2467\"},{\"id\":\"2512\"},{\"id\":\"2559\"},{\"id\":\"2608\"}],\"right\":[{\"id\":\"2200\"}],\"sizing_mode\":\"fixed\",\"title\":{\"id\":\"2139\"},\"toolbar\":{\"id\":\"2161\"},\"x_range\":{\"id\":\"2124\"},\"x_scale\":{\"id\":\"2143\"},\"y_range\":{\"id\":\"2125\"},\"y_scale\":{\"id\":\"2145\"}},\"id\":\"2138\",\"subtype\":\"Figure\",\"type\":\"Plot\"},{\"attributes\":{\"data\":{\"Date\":{\"__ndarray__\":\"AABArYgJd0IAAAAT2wl3QgAAwHgtCndCAACA3n8Kd0IAAEBE0gp3QgAAgHXJC3dCAABA2xsMd0IAAABBbgx3QgAAwKbADHdCAACADBMNd0IAAMA9Cg53QgAAgKNcDndCAABACa8Od0IAAABvAQ93QgAAwNRTD3dCAAAABksQd0IAAMBrnRB3QgAAgNHvEHdCAABAN0IRd0IAAACdlBF3QgAAQM6LEndCAAAANN4Sd0IAAMCZMBN3QgAAgP+CE3dCAABAZdUTd0IAAICWzBR3QgAAQPweFXdCAAAAYnEVd0IAAMDHwxV3QgAAwF4NF3dCAACAxF8Xd0IAAEAqshd3QgAAAJAEGHdCAADA9VYYd0IAAAAnThl3QgAAwIygGXdCAACA8vIZd0IAAEBYRRp3QgAAAL6XGndCAABA744bd0IAAABV4Rt3QgAAwLozHHdCAACAIIYcd0IAAECG2Bx3QgAAgLfPHXdCAABAHSIed0IAAACDdB53QgAAwOjGHndCAACAThkfd0IAAMB/ECB3QgAAgOViIHdCAABAS7Ugd0IAAACxByF3QgAAwBZaIXdCAAAASFEid0IAAMCtoyJ3QgAAgBP2IndCAABAeUgjd0IAAADfmiN3QgAAAHbkJHdCAADA2zYld0IAAIBBiSV3QgAAQKfbJXdCAACA2NImd0IAAEA+JSd3QgAAAKR3J3dCAADACcond0IAAIBvHCh3QgAAwKATKXdCAACABmYpd0IAAEBsuCl3QgAAANIKKndCAADAN10qd0IAAABpVCt3QgAAwM6mK3dCAACANPkrd0IAAECaSyx3QgAAAACeLHdCAABAMZUtd0IAAACX5y13QgAAwPw5LndCAACAYowud0IAAEDI3i53QgAAgPnVL3dCAABAXygwd0IAAADFejB3QgAAwCrNMHdCAADAwRYyd0IAAIAnaTJ3QgAAQI27MndCAAAA8w0zd0IAAMBYYDN3QgAAAIpXNHdCAADA76k0d0IAAIBV/DR3QgAAQLtONXdCAAAAIaE1d0IAAEBSmDZ3QgAAALjqNndCAADAHT03d0IAAICDjzd3QgAAQOnhN3dCAACAGtk4d0IAAECAKzl3QgAAAOZ9OXdCAADAS9A5d0IAAICxIjp3QgAAwOIZO3dCAACASGw7d0IAAECuvjt3QgAAABQRPHdCAADAeWM8d0IAAACrWj13QgAAwBCtPXdCAACAdv89d0IAAEDcUT53QgAAAEKkPndCAABAc5s/d0IAAADZ7T93QgAAwD5AQHdCAACApJJAd0IAAEAK5UB3QgAAgDvcQXdCAABAoS5Cd0IAAAAHgUJ3QgAAwGzTQndCAACA0iVDd0IAAMADHUR3QgAAgGlvRHdCAABAz8FEd0IAAAA1FEV3QgAAwJpmRXdCAADAMbBGd0IAAICXAkd3QgAAQP1UR3dCAAAAY6dHd0IAAECUnkh3QgAAAPrwSHdCAADAX0NJd0IAAIDFlUl3QgAAQCvoSXdCAACAXN9Kd0IAAEDCMUt3QgAAACiES3dCAADAjdZLd0IAAIDzKEx3QgAAwCQgTXdCAACAinJNd0IAAEDwxE13QgAAAFYXTndCAADAu2lOd0IAAADtYE93QgAAwFKzT3dCAACAuAVQd0I=\",\"dtype\":\"float64\",\"order\":\"little\",\"shape\":[154]},\"Variable\":[\"XLP\",\"XLP\",\"XLP\",\"XLP\",\"XLP\",\"XLP\",\"XLP\",\"XLP\",\"XLP\",\"XLP\",\"XLP\",\"XLP\",\"XLP\",\"XLP\",\"XLP\",\"XLP\",\"XLP\",\"XLP\",\"XLP\",\"XLP\",\"XLP\",\"XLP\",\"XLP\",\"XLP\",\"XLP\",\"XLP\",\"XLP\",\"XLP\",\"XLP\",\"XLP\",\"XLP\",\"XLP\",\"XLP\",\"XLP\",\"XLP\",\"XLP\",\"XLP\",\"XLP\",\"XLP\",\"XLP\",\"XLP\",\"XLP\",\"XLP\",\"XLP\",\"XLP\",\"XLP\",\"XLP\",\"XLP\",\"XLP\",\"XLP\",\"XLP\",\"XLP\",\"XLP\",\"XLP\",\"XLP\",\"XLP\",\"XLP\",\"XLP\",\"XLP\",\"XLP\",\"XLP\",\"XLP\",\"XLP\",\"XLP\",\"XLP\",\"XLP\",\"XLP\",\"XLP\",\"XLP\",\"XLP\",\"XLP\",\"XLP\",\"XLP\",\"XLP\",\"XLP\",\"XLP\",\"XLP\",\"XLP\",\"XLP\",\"XLP\",\"XLP\",\"XLP\",\"XLP\",\"XLP\",\"XLP\",\"XLP\",\"XLP\",\"XLP\",\"XLP\",\"XLP\",\"XLP\",\"XLP\",\"XLP\",\"XLP\",\"XLP\",\"XLP\",\"XLP\",\"XLP\",\"XLP\",\"XLP\",\"XLP\",\"XLP\",\"XLP\",\"XLP\",\"XLP\",\"XLP\",\"XLP\",\"XLP\",\"XLP\",\"XLP\",\"XLP\",\"XLP\",\"XLP\",\"XLP\",\"XLP\",\"XLP\",\"XLP\",\"XLP\",\"XLP\",\"XLP\",\"XLP\",\"XLP\",\"XLP\",\"XLP\",\"XLP\",\"XLP\",\"XLP\",\"XLP\",\"XLP\",\"XLP\",\"XLP\",\"XLP\",\"XLP\",\"XLP\",\"XLP\",\"XLP\",\"XLP\",\"XLP\",\"XLP\",\"XLP\",\"XLP\",\"XLP\",\"XLP\",\"XLP\",\"XLP\",\"XLP\",\"XLP\",\"XLP\",\"XLP\",\"XLP\",\"XLP\",\"XLP\",\"XLP\",\"XLP\"],\"value\":{\"__ndarray__\":\"AAAAIIWLTkAAAACgRyFOQAAAAAApnE9AAAAAANcDT0AAAADAHsVOQAAAAIAUbk1AAAAAYGZGTkAAAACAPcpMQAAAAIDCFUpAAAAAgBROTEAAAABgj2JKQAAAAAApnExAAAAAAADgS0AAAACA6/FKQAAAAEAzM0lAAAAA4KNQSEAAAACAFI5JQAAAAAApfElAAAAAoEfhSkAAAACgR8FKQAAAAMDMzEtAAAAAACk8S0AAAABgZsZKQAAAAIDCdUtAAAAAwMysS0AAAADgerRMQAAAAAAAYExAAAAAIIXLTEAAAADgoxBNQAAAAKCZ2UxAAAAAQDMTTkAAAACgmZlNQAAAACCFy01AAAAAAABATkAAAAAgrqdNQAAAAGBmBk1AAAAAgBROTUAAAAAghQtNQAAAAEDhWk1AAAAA4KNwTUAAAABA4ZpNQAAAAEDhek1AAAAAoEchTUAAAAAgXM9MQAAAACCFy0xAAAAAgOvRTEAAAACgR4FMQAAAAMDMbExAAAAAIFwPTUAAAADAHgVNQAAAAGBmxkxAAAAAANeDTEAAAACA63FMQAAAAIDrsUxAAAAAYGYmTUAAAACgcJ1MQAAAAOB69ExAAAAAYI+iTEAAAAAAKbxMQAAAAADX40xAAAAAQDNTTUAAAACAwpVNQAAAAKBwnU1AAAAAgOvRTUAAAABgZuZNQAAAAOCj8E1AAAAAIIXLTUAAAACAwjVOQAAAAMD1iE5AAAAAwPVITkAAAABAMzNOQAAAAIAUDk1AAAAAIFwPTUAAAADAHmVNQAAAAEDh2k1AAAAAIFzPTUAAAABACvdNQAAAACBcz01AAAAAYLh+TUAAAABAM3NNQAAAAOB69ExAAAAAwPUoTUAAAADgo5BMQAAAAEDhGk1AAAAAgOtRTUAAAADgUVhNQAAAAGC4fk1AAAAAANejTUAAAADA9ehNQAAAAIDC1U1AAAAAoJmZTUAAAADAHiVOQAAAAKCZGU5AAAAAgD2KTkAAAADgo5BOQAAAAKBHoU5AAAAAIIXLTkAAAAAAKXxOQAAAAAAAwE5AAAAAYLj+TkAAAABA4RpPQAAAAOCjEE9AAAAA4FE4T0AAAACAwlVPQAAAAKBHYU9AAAAAoEdhT0AAAACgmVlPQAAAAADXQ09AAAAAIK6nT0AAAABACpdPQAAAAIDClU9AAAAAoEfBT0AAAAAghetPQAAAAEAzs09AAAAAgBQOUEAAAABA4QpQQAAAAIA9ClBAAAAAoEchUEAAAACA6zFQQAAAAKBHEVBAAAAAwPUIUEAAAABAMxNQQAAAAGBmNlBAAAAAoHAtUEAAAABgjzJQQAAAAAApTFBAAAAAoEdxUEAAAADAHmVQQAAAAKCZaVBAAAAAgMK1UEAAAAAAKWxQQAAAAGCPYlBAAAAAgD0KUEAAAACAwkVQQAAAAGCPElBAAAAAoJkpUEAAAADgekRQQAAAAGC4PlBAAAAAACksUEAAAACA6xFQQAAAAOBR2E9AAAAAgD1qT0AAAACgmZlPQAAAAAAAIE9AAAAAQOFaT0AAAADAHoVPQAAAAAAA4E9AAAAAgD2qT0AAAABgZgZQQAAAAKBwHVBAAAAAYGYGUEAAAACA6yFQQAAAAEAKB1BAAAAAQDMzUEA=\",\"dtype\":\"float64\",\"order\":\"little\",\"shape\":[154]}},\"selected\":{\"id\":\"2234\"},\"selection_policy\":{\"id\":\"2251\"}},\"id\":\"2233\",\"type\":\"ColumnDataSource\"},{\"attributes\":{\"label\":{\"value\":\"XLU\"},\"renderers\":[{\"id\":\"2559\"}]},\"id\":\"2601\",\"type\":\"LegendItem\"},{\"attributes\":{\"data\":{\"Date\":{\"__ndarray__\":\"AABArYgJd0IAAAAT2wl3QgAAwHgtCndCAACA3n8Kd0IAAEBE0gp3QgAAgHXJC3dCAABA2xsMd0IAAABBbgx3QgAAwKbADHdCAACADBMNd0IAAMA9Cg53QgAAgKNcDndCAABACa8Od0IAAABvAQ93QgAAwNRTD3dCAAAABksQd0IAAMBrnRB3QgAAgNHvEHdCAABAN0IRd0IAAACdlBF3QgAAQM6LEndCAAAANN4Sd0IAAMCZMBN3QgAAgP+CE3dCAABAZdUTd0IAAICWzBR3QgAAQPweFXdCAAAAYnEVd0IAAMDHwxV3QgAAwF4NF3dCAACAxF8Xd0IAAEAqshd3QgAAAJAEGHdCAADA9VYYd0IAAAAnThl3QgAAwIygGXdCAACA8vIZd0IAAEBYRRp3QgAAAL6XGndCAABA744bd0IAAABV4Rt3QgAAwLozHHdCAACAIIYcd0IAAECG2Bx3QgAAgLfPHXdCAABAHSIed0IAAACDdB53QgAAwOjGHndCAACAThkfd0IAAMB/ECB3QgAAgOViIHdCAABAS7Ugd0IAAACxByF3QgAAwBZaIXdCAAAASFEid0IAAMCtoyJ3QgAAgBP2IndCAABAeUgjd0IAAADfmiN3QgAAAHbkJHdCAADA2zYld0IAAIBBiSV3QgAAQKfbJXdCAACA2NImd0IAAEA+JSd3QgAAAKR3J3dCAADACcond0IAAIBvHCh3QgAAwKATKXdCAACABmYpd0IAAEBsuCl3QgAAANIKKndCAADAN10qd0IAAABpVCt3QgAAwM6mK3dCAACANPkrd0IAAECaSyx3QgAAAACeLHdCAABAMZUtd0IAAACX5y13QgAAwPw5LndCAACAYowud0IAAEDI3i53QgAAgPnVL3dCAABAXygwd0IAAADFejB3QgAAwCrNMHdCAADAwRYyd0IAAIAnaTJ3QgAAQI27MndCAAAA8w0zd0IAAMBYYDN3QgAAAIpXNHdCAADA76k0d0IAAIBV/DR3QgAAQLtONXdCAAAAIaE1d0IAAEBSmDZ3QgAAALjqNndCAADAHT03d0IAAICDjzd3QgAAQOnhN3dCAACAGtk4d0IAAECAKzl3QgAAAOZ9OXdCAADAS9A5d0IAAICxIjp3QgAAwOIZO3dCAACASGw7d0IAAECuvjt3QgAAABQRPHdCAADAeWM8d0IAAACrWj13QgAAwBCtPXdCAACAdv89d0IAAEDcUT53QgAAAEKkPndCAABAc5s/d0IAAADZ7T93QgAAwD5AQHdCAACApJJAd0IAAEAK5UB3QgAAgDvcQXdCAABAoS5Cd0IAAAAHgUJ3QgAAwGzTQndCAACA0iVDd0IAAMADHUR3QgAAgGlvRHdCAABAz8FEd0IAAAA1FEV3QgAAwJpmRXdCAADAMbBGd0IAAICXAkd3QgAAQP1UR3dCAAAAY6dHd0IAAECUnkh3QgAAAPrwSHdCAADAX0NJd0IAAIDFlUl3QgAAQCvoSXdCAACAXN9Kd0IAAEDCMUt3QgAAACiES3dCAADAjdZLd0IAAIDzKEx3QgAAwCQgTXdCAACAinJNd0IAAEDwxE13QgAAAFYXTndCAADAu2lOd0IAAADtYE93QgAAwFKzT3dCAACAuAVQd0I=\",\"dtype\":\"float64\",\"order\":\"little\",\"shape\":[154]},\"Variable\":[\"XLE\",\"XLE\",\"XLE\",\"XLE\",\"XLE\",\"XLE\",\"XLE\",\"XLE\",\"XLE\",\"XLE\",\"XLE\",\"XLE\",\"XLE\",\"XLE\",\"XLE\",\"XLE\",\"XLE\",\"XLE\",\"XLE\",\"XLE\",\"XLE\",\"XLE\",\"XLE\",\"XLE\",\"XLE\",\"XLE\",\"XLE\",\"XLE\",\"XLE\",\"XLE\",\"XLE\",\"XLE\",\"XLE\",\"XLE\",\"XLE\",\"XLE\",\"XLE\",\"XLE\",\"XLE\",\"XLE\",\"XLE\",\"XLE\",\"XLE\",\"XLE\",\"XLE\",\"XLE\",\"XLE\",\"XLE\",\"XLE\",\"XLE\",\"XLE\",\"XLE\",\"XLE\",\"XLE\",\"XLE\",\"XLE\",\"XLE\",\"XLE\",\"XLE\",\"XLE\",\"XLE\",\"XLE\",\"XLE\",\"XLE\",\"XLE\",\"XLE\",\"XLE\",\"XLE\",\"XLE\",\"XLE\",\"XLE\",\"XLE\",\"XLE\",\"XLE\",\"XLE\",\"XLE\",\"XLE\",\"XLE\",\"XLE\",\"XLE\",\"XLE\",\"XLE\",\"XLE\",\"XLE\",\"XLE\",\"XLE\",\"XLE\",\"XLE\",\"XLE\",\"XLE\",\"XLE\",\"XLE\",\"XLE\",\"XLE\",\"XLE\",\"XLE\",\"XLE\",\"XLE\",\"XLE\",\"XLE\",\"XLE\",\"XLE\",\"XLE\",\"XLE\",\"XLE\",\"XLE\",\"XLE\",\"XLE\",\"XLE\",\"XLE\",\"XLE\",\"XLE\",\"XLE\",\"XLE\",\"XLE\",\"XLE\",\"XLE\",\"XLE\",\"XLE\",\"XLE\",\"XLE\",\"XLE\",\"XLE\",\"XLE\",\"XLE\",\"XLE\",\"XLE\",\"XLE\",\"XLE\",\"XLE\",\"XLE\",\"XLE\",\"XLE\",\"XLE\",\"XLE\",\"XLE\",\"XLE\",\"XLE\",\"XLE\",\"XLE\",\"XLE\",\"XLE\",\"XLE\",\"XLE\",\"XLE\",\"XLE\",\"XLE\",\"XLE\",\"XLE\",\"XLE\",\"XLE\",\"XLE\",\"XLE\",\"XLE\"],\"value\":{\"__ndarray__\":\"AAAAwMyMR0AAAADgetRGQAAAAGC4XkdAAAAAANeDRkAAAAAAAEBFQAAAAOBR+EBAAAAAYGbGQUAAAACAwtVAQAAAAOBReD1AAAAA4FEYQEAAAAAgXM87QAAAAAAAADxAAAAAQOH6N0AAAAAAKZw5QAAAAAAp3DlAAAAAgOuRN0AAAACgmVk7QAAAAADXozxAAAAAANdjPkAAAADgelQ8QAAAAGC4njxAAAAAIFwPPUAAAABguJ47QAAAAGBmJj5AAAAA4HrUPUAAAADA9Wg/QAAAAIA9CkBAAAAAACkcQUAAAADgevRAQAAAAGBm5kBAAAAAgOvRQEAAAAAgrgdAQAAAAOCjsD5AAAAAoJn5QEAAAACA63FAQAAAACCuJ0BAAAAAQOG6QEAAAADAHkVBQAAAACBcT0FAAAAAIFyvQUAAAABAChdCQAAAAIAUbkNAAAAAAAAAQ0AAAADAzOxBQAAAACCFi0JAAAAAIFyPQkAAAABAMxNCQAAAACCFi0JAAAAAANdjQ0AAAADAzAxDQAAAAEAKt0JAAAAAoHDdQUAAAADgoxBCQAAAAGC4/kFAAAAAQAp3Q0AAAAAghetCQAAAAMDMrENAAAAAAClcQ0AAAACgcD1DQAAAAGBmxkNAAAAAIK4HREAAAADgUXhDQAAAAKBHYUNAAAAA4FG4Q0AAAADAHkVEQAAAAKBw3URAAAAAYLjeREAAAAAghWtGQAAAAIAUbkdAAAAAwMyMRkAAAADgo3BFQAAAACCFa0NAAAAAwPXoQ0AAAADgUfhDQAAAACCFi0RAAAAA4FHYQ0AAAABAChdEQAAAAMD1yENAAAAAAACgQ0AAAADAHqVDQAAAAIAUjkJAAAAAwPXoQkAAAACgR0FCQAAAAAAAgEJAAAAAwMzsQkAAAABACndCQAAAACCFq0JAAAAAoJm5QkAAAACgRyFCQAAAAKBwHUJAAAAA4FE4QUAAAADAHsVBQAAAAMDMrEFAAAAAIIVLQkAAAADgo7BCQAAAAEDhmkJAAAAA4FFYQkAAAACAPQpCQAAAAKBHIUNAAAAAwB7lQkAAAAAAKdxCQAAAAKBHwUJAAAAAYGbGQkAAAADgenRCQAAAAEAK10JAAAAAoJkZQkAAAAAA1wNCQAAAAOB6FEJAAAAAwB6FQkAAAABACrdCQAAAAOCjkEJAAAAAQAqXQkAAAACAPSpDQAAAAKCZGUNAAAAAgD1KQ0AAAACAPepCQAAAAOBRGENAAAAAACn8QkAAAABguL5CQAAAACCuh0JAAAAAoEchQkAAAAAA1wNCQAAAAGCPgkJAAAAAAABAQkAAAACgcN1BQAAAAGBm5kFAAAAA4FE4QkAAAABAM9NBQAAAAOB6tEFAAAAAYLieQUAAAACgcH1BQAAAACBcb0FAAAAAwMzMQEAAAACAPepAQAAAACCFS0BAAAAAIFxPQEAAAAAgXG9AQAAAAOCjUEBAAAAA4FH4QEAAAABguP5AQAAAAIAUzkBAAAAA4FH4P0AAAAAA16M/QAAAAIDCNT5AAAAAQDMzPkAAAACAFC4+QAAAAADX4z5AAAAAgD0KPkAAAABAM/M9QAAAACCuBz1AAAAAIFxPPUAAAADgozA+QAAAAKBwvT1AAAAAwPUoPkA=\",\"dtype\":\"float64\",\"order\":\"little\",\"shape\":[154]}},\"selected\":{\"id\":\"2267\"},\"selection_policy\":{\"id\":\"2286\"}},\"id\":\"2266\",\"type\":\"ColumnDataSource\"},{\"attributes\":{\"num_minor_ticks\":5,\"tickers\":[{\"id\":\"2188\"},{\"id\":\"2189\"},{\"id\":\"2190\"},{\"id\":\"2191\"},{\"id\":\"2192\"},{\"id\":\"2193\"},{\"id\":\"2194\"},{\"id\":\"2195\"},{\"id\":\"2196\"},{\"id\":\"2197\"},{\"id\":\"2198\"},{\"id\":\"2199\"}]},\"id\":\"2148\",\"type\":\"DatetimeTicker\"},{\"attributes\":{\"line_color\":\"#1f77b3\",\"line_width\":2,\"x\":{\"field\":\"Date\"},\"y\":{\"field\":\"value\"}},\"id\":\"2175\",\"type\":\"Line\"},{\"attributes\":{\"line_color\":\"#8c564b\",\"line_width\":2,\"x\":{\"field\":\"Date\"},\"y\":{\"field\":\"value\"}},\"id\":\"2341\",\"type\":\"Line\"},{\"attributes\":{\"data_source\":{\"id\":\"2418\"},\"glyph\":{\"id\":\"2421\"},\"hover_glyph\":null,\"muted_glyph\":{\"id\":\"2423\"},\"nonselection_glyph\":{\"id\":\"2422\"},\"selection_glyph\":null,\"view\":{\"id\":\"2425\"}},\"id\":\"2424\",\"type\":\"GlyphRenderer\"},{\"attributes\":{\"axis_label\":\"Date\",\"bounds\":\"auto\",\"formatter\":{\"id\":\"2169\"},\"major_label_orientation\":\"horizontal\",\"ticker\":{\"id\":\"2148\"}},\"id\":\"2147\",\"type\":\"DatetimeAxis\"},{\"attributes\":{\"line_color\":\"#ff7e0e\",\"line_width\":2,\"x\":{\"field\":\"Date\"},\"y\":{\"field\":\"value\"}},\"id\":\"2205\",\"type\":\"Line\"},{\"attributes\":{\"line_alpha\":0.2,\"line_color\":\"#2ba02b\",\"line_width\":2,\"x\":{\"field\":\"Date\"},\"y\":{\"field\":\"value\"}},\"id\":\"2238\",\"type\":\"Line\"},{\"attributes\":{\"label\":{\"value\":\"SPY\"},\"renderers\":[{\"id\":\"2608\"}]},\"id\":\"2652\",\"type\":\"LegendItem\"},{\"attributes\":{\"source\":{\"id\":\"2553\"}},\"id\":\"2560\",\"type\":\"CDSView\"},{\"attributes\":{\"data\":{\"Date\":{\"__ndarray__\":\"AABArYgJd0IAAAAT2wl3QgAAwHgtCndCAACA3n8Kd0IAAEBE0gp3QgAAgHXJC3dCAABA2xsMd0IAAABBbgx3QgAAwKbADHdCAACADBMNd0IAAMA9Cg53QgAAgKNcDndCAABACa8Od0IAAABvAQ93QgAAwNRTD3dCAAAABksQd0IAAMBrnRB3QgAAgNHvEHdCAABAN0IRd0IAAACdlBF3QgAAQM6LEndCAAAANN4Sd0IAAMCZMBN3QgAAgP+CE3dCAABAZdUTd0IAAICWzBR3QgAAQPweFXdCAAAAYnEVd0IAAMDHwxV3QgAAwF4NF3dCAACAxF8Xd0IAAEAqshd3QgAAAJAEGHdCAADA9VYYd0IAAAAnThl3QgAAwIygGXdCAACA8vIZd0IAAEBYRRp3QgAAAL6XGndCAABA744bd0IAAABV4Rt3QgAAwLozHHdCAACAIIYcd0IAAECG2Bx3QgAAgLfPHXdCAABAHSIed0IAAACDdB53QgAAwOjGHndCAACAThkfd0IAAMB/ECB3QgAAgOViIHdCAABAS7Ugd0IAAACxByF3QgAAwBZaIXdCAAAASFEid0IAAMCtoyJ3QgAAgBP2IndCAABAeUgjd0IAAADfmiN3QgAAAHbkJHdCAADA2zYld0IAAIBBiSV3QgAAQKfbJXdCAACA2NImd0IAAEA+JSd3QgAAAKR3J3dCAADACcond0IAAIBvHCh3QgAAwKATKXdCAACABmYpd0IAAEBsuCl3QgAAANIKKndCAADAN10qd0IAAABpVCt3QgAAwM6mK3dCAACANPkrd0IAAECaSyx3QgAAAACeLHdCAABAMZUtd0IAAACX5y13QgAAwPw5LndCAACAYowud0IAAEDI3i53QgAAgPnVL3dCAABAXygwd0IAAADFejB3QgAAwCrNMHdCAADAwRYyd0IAAIAnaTJ3QgAAQI27MndCAAAA8w0zd0IAAMBYYDN3QgAAAIpXNHdCAADA76k0d0IAAIBV/DR3QgAAQLtONXdCAAAAIaE1d0IAAEBSmDZ3QgAAALjqNndCAADAHT03d0IAAICDjzd3QgAAQOnhN3dCAACAGtk4d0IAAECAKzl3QgAAAOZ9OXdCAADAS9A5d0IAAICxIjp3QgAAwOIZO3dCAACASGw7d0IAAECuvjt3QgAAABQRPHdCAADAeWM8d0IAAACrWj13QgAAwBCtPXdCAACAdv89d0IAAEDcUT53QgAAAEKkPndCAABAc5s/d0IAAADZ7T93QgAAwD5AQHdCAACApJJAd0IAAEAK5UB3QgAAgDvcQXdCAABAoS5Cd0IAAAAHgUJ3QgAAwGzTQndCAACA0iVDd0IAAMADHUR3QgAAgGlvRHdCAABAz8FEd0IAAAA1FEV3QgAAwJpmRXdCAADAMbBGd0IAAICXAkd3QgAAQP1UR3dCAAAAY6dHd0IAAECUnkh3QgAAAPrwSHdCAADAX0NJd0IAAIDFlUl3QgAAQCvoSXdCAACAXN9Kd0IAAEDCMUt3QgAAACiES3dCAADAjdZLd0IAAIDzKEx3QgAAwCQgTXdCAACAinJNd0IAAEDwxE13QgAAAFYXTndCAADAu2lOd0IAAADtYE93QgAAwFKzT3dCAACAuAVQd0I=\",\"dtype\":\"float64\",\"order\":\"little\",\"shape\":[154]},\"Variable\":[\"SPY\",\"SPY\",\"SPY\",\"SPY\",\"SPY\",\"SPY\",\"SPY\",\"SPY\",\"SPY\",\"SPY\",\"SPY\",\"SPY\",\"SPY\",\"SPY\",\"SPY\",\"SPY\",\"SPY\",\"SPY\",\"SPY\",\"SPY\",\"SPY\",\"SPY\",\"SPY\",\"SPY\",\"SPY\",\"SPY\",\"SPY\",\"SPY\",\"SPY\",\"SPY\",\"SPY\",\"SPY\",\"SPY\",\"SPY\",\"SPY\",\"SPY\",\"SPY\",\"SPY\",\"SPY\",\"SPY\",\"SPY\",\"SPY\",\"SPY\",\"SPY\",\"SPY\",\"SPY\",\"SPY\",\"SPY\",\"SPY\",\"SPY\",\"SPY\",\"SPY\",\"SPY\",\"SPY\",\"SPY\",\"SPY\",\"SPY\",\"SPY\",\"SPY\",\"SPY\",\"SPY\",\"SPY\",\"SPY\",\"SPY\",\"SPY\",\"SPY\",\"SPY\",\"SPY\",\"SPY\",\"SPY\",\"SPY\",\"SPY\",\"SPY\",\"SPY\",\"SPY\",\"SPY\",\"SPY\",\"SPY\",\"SPY\",\"SPY\",\"SPY\",\"SPY\",\"SPY\",\"SPY\",\"SPY\",\"SPY\",\"SPY\",\"SPY\",\"SPY\",\"SPY\",\"SPY\",\"SPY\",\"SPY\",\"SPY\",\"SPY\",\"SPY\",\"SPY\",\"SPY\",\"SPY\",\"SPY\",\"SPY\",\"SPY\",\"SPY\",\"SPY\",\"SPY\",\"SPY\",\"SPY\",\"SPY\",\"SPY\",\"SPY\",\"SPY\",\"SPY\",\"SPY\",\"SPY\",\"SPY\",\"SPY\",\"SPY\",\"SPY\",\"SPY\",\"SPY\",\"SPY\",\"SPY\",\"SPY\",\"SPY\",\"SPY\",\"SPY\",\"SPY\",\"SPY\",\"SPY\",\"SPY\",\"SPY\",\"SPY\",\"SPY\",\"SPY\",\"SPY\",\"SPY\",\"SPY\",\"SPY\",\"SPY\",\"SPY\",\"SPY\",\"SPY\",\"SPY\",\"SPY\",\"SPY\",\"SPY\",\"SPY\",\"SPY\",\"SPY\",\"SPY\",\"SPY\",\"SPY\",\"SPY\",\"SPY\"],\"value\":{\"__ndarray__\":\"AAAAoHBRc0AAAAAA18NyQAAAAIDCjXNAAAAAIFznckAAAAAgXJdyQAAAACCuI3FAAAAAYLgGckAAAACAwiVxQAAAACCFA29AAAAAwB7VcEAAAABAM/ttQAAAAKCZmW9AAAAAAAAAbkAAAADgURBuQAAAAKCZmWxAAAAAYGbea0AAAADAzGRuQAAAAKBH2W5AAAAAQDNTcEAAAACgcK1vQAAAAGBmWnBAAAAAAAAccEAAAADAzMRuQAAAAGCPem9AAAAAgBQGb0AAAACAwo1wQAAAAIAUknBAAAAA4HogcUAAAABAM2NxQAAAAGCPOnFAAAAA4KO8cUAAAAAAKVxxQAAAAKCZcXFAAAAAgD3qcUAAAACgcJlxQAAAAOCjEHFAAAAAoJlxcUAAAACgR3FxQAAAACCFr3FAAAAAwMzwcUAAAAAgrttxQAAAACBcU3JAAAAAIK4nckAAAADgo6xxQAAAAMAeuXFAAAAAQArjcUAAAAAAAMRxQAAAAEDh+nFAAAAAQApHckAAAAAAAEhyQAAAAGC46nFAAAAAoJmZcUAAAAAghc9xQAAAAOB65HFAAAAAAABwckAAAAAghT9yQAAAAEDhjnJAAAAAgBRuckAAAABACndyQAAAAKBHsXJAAAAA4Hr4ckAAAAAghe9yQAAAAMAeBXNAAAAAwMwYc0AAAACgR0FzQAAAAEDhgnNAAAAAgMJ1c0AAAACgcPVzQAAAAEAzM3RAAAAA4KMMdEAAAAAAAPBzQAAAAIDCyXJAAAAAIFwDc0AAAADAzDBzQAAAACBcj3NAAAAAYI96c0AAAADgenxzQAAAAIA9SnNAAAAAgOtpc0AAAADAzIBzQAAAAKBwAXNAAAAAoJk1c0AAAADAzMByQAAAACBcB3NAAAAAgMJFc0AAAADgUWhzQAAAACCug3NAAAAAwMzQc0AAAADgepxzQAAAAEDhwnNAAAAAgBSmc0AAAACgcNlzQAAAAKBwrXNAAAAAYLjuc0AAAACgmR10QAAAAOCjDHRAAAAAIIUbdEAAAADAHkV0QAAAAAApUHRAAAAAgMJtdEAAAAAgXC90QAAAAIAUDnRAAAAAIIUzdEAAAABguBJ0QAAAAIDrUXRAAAAAIFw/dEAAAADgUWh0QAAAAOCjjHRAAAAAwPWgdEAAAACAwsF0QAAAAKBH5XRAAAAAwB7pdEAAAADAHvl0QAAAAMDMzHRAAAAAQAoXdUAAAACgRw11QAAAAKBwDXVAAAAAYI8edUAAAACAPSp1QAAAACCuE3VAAAAA4HokdUAAAAAgrjd1QAAAAGC4bnVAAAAAgOuBdUAAAADAHrl1QAAAAKBHxXVAAAAAoEfpdUAAAADA9dR1QAAAAKCZCXZAAAAAQDNbdkAAAACAPZZ1QAAAAMAeaXVAAAAAIFzTdEAAAADgozx1QAAAAIA93nRAAAAAwPXgdEAAAAAgXCd1QAAAAGC4QnVAAAAAwB4tdUAAAACgcP10QAAAAGBmqnRAAAAAIIVvdEAAAADAzKR0QAAAAIA9KnRAAAAAAAA4dEAAAAAgrot0QAAAAEAK43RAAAAAgOvFdEAAAACAPe50QAAAAOCjEHVAAAAAoHDddEAAAAAAKTx1QAAAAEDh7nRAAAAAAClMdUA=\",\"dtype\":\"float64\",\"order\":\"little\",\"shape\":[154]}},\"selected\":{\"id\":\"2603\"},\"selection_policy\":{\"id\":\"2638\"}},\"id\":\"2602\",\"type\":\"ColumnDataSource\"},{\"attributes\":{},\"id\":\"2218\",\"type\":\"UnionRenderers\"},{\"attributes\":{\"line_alpha\":0.2,\"line_color\":\"#d62628\",\"line_width\":2,\"x\":{\"field\":\"Date\"},\"y\":{\"field\":\"value\"}},\"id\":\"2271\",\"type\":\"Line\"},{\"attributes\":{},\"id\":\"2286\",\"type\":\"UnionRenderers\"}],\"root_ids\":[\"2122\"]},\"title\":\"Bokeh Application\",\"version\":\"2.1.1\"}};\n",
       "  var render_items = [{\"docid\":\"127dba34-4dad-4056-ac89-7bb65c8500ac\",\"root_ids\":[\"2122\"],\"roots\":{\"2122\":\"355f1a36-193f-4422-b443-37315e72af5e\"}}];\n",
       "  root.Bokeh.embed.embed_items_notebook(docs_json, render_items);\n",
       "  }\n",
       "if (root.Bokeh !== undefined) {\n",
       "    embed_document(root);\n",
       "  } else {\n",
       "    var attempts = 0;\n",
       "    var timer = setInterval(function(root) {\n",
       "      if (root.Bokeh !== undefined) {\n",
       "        clearInterval(timer);\n",
       "        embed_document(root);\n",
       "      } else if (document.readyState == \"complete\") {\n",
       "        attempts++;\n",
       "        if (attempts > 100) {\n",
       "          clearInterval(timer);\n",
       "          console.log(\"Bokeh: ERROR: Unable to run BokehJS code because BokehJS library is missing\");\n",
       "        }\n",
       "      }\n",
       "    }, 10, root)\n",
       "  }\n",
       "})(window);</script>"
      ],
      "text/plain": [
       ":NdOverlay   [Variable]\n",
       "   :Curve   [Date]   (value)"
      ]
     },
     "execution_count": 48,
     "metadata": {
      "application/vnd.holoviews_exec.v0+json": {
       "id": "2122"
      }
     },
     "output_type": "execute_result"
    }
   ],
   "source": [
    "market_comparison.hvplot()"
   ]
  },
  {
   "cell_type": "code",
   "execution_count": 49,
   "metadata": {},
   "outputs": [
    {
     "data": {
      "text/plain": [
       "<matplotlib.axes._subplots.AxesSubplot at 0x2e0aa7c7388>"
      ]
     },
     "execution_count": 49,
     "metadata": {},
     "output_type": "execute_result"
    },
    {
     "data": {
      "image/png": "[encoded data removed]",
      "text/plain": [
       "<Figure size 1008x792 with 2 Axes>"
      ]
     },
     "metadata": {
      "needs_background": "light"
     },
     "output_type": "display_data"
    }
   ],
   "source": [
    "fig, ax = plt.subplots(figsize=(14,11))\n",
    "sns.heatmap(market_comparison.corr(), annot=True, cmap='coolwarm', linewidth=1, linecolor='black')"
   ]
  },
  {
   "cell_type": "code",
   "execution_count": 50,
   "metadata": {},
   "outputs": [],
   "source": [
    "def beta(ticker1, ticker2, window_size,df):\n",
    "    covariance = df[ticker1].rolling(window=window_size).cov(df[ticker2])\n",
    "    variance = df[ticker1].rolling(window=window_size).var()\n",
    "    return covariance / variance\n",
    "\n",
    "XLB_beta = beta('XLB','SPY',7,market_comparison)\n",
    "XLC_beta = beta('XLC','SPY',7,market_comparison)\n",
    "XLE_beta = beta('XLE','SPY',7,market_comparison)\n",
    "XLF_beta = beta('XLF','SPY',7,market_comparison)\n",
    "XLY_beta = beta('XLY','SPY',7,market_comparison)\n",
    "XLP_beta = beta('XLP','SPY',7,market_comparison)\n",
    "XLV_beta = beta('XLV','SPY',7,market_comparison)\n",
    "XLI_beta = beta('XLI','SPY',7,market_comparison)\n",
    "XLRE_beta = beta('XLRE','SPY',7,market_comparison)\n",
    "XLK_beta = beta('XLK','SPY',7,market_comparison)\n",
    "XLU_beta = beta('XLU','SPY',7,market_comparison)"
   ]
  },
  {
   "cell_type": "code",
   "execution_count": 51,
   "metadata": {},
   "outputs": [
    {
     "data": {
      "application/vnd.holoviews_exec.v0+json": "",
      "text/html": [
       "<div id='3243'>\n",
       "\n",
       "\n",
       "\n",
       "\n",
       "\n",
       "  <div class=\"bk-root\" id=\"4d9e609d-8393-4a79-bf54-b2e088d64cef\" data-root-id=\"3243\"></div>\n",
       "</div>\n",
       "<script type=\"application/javascript\">(function(root) {\n",
       "  function embed_document(root) {\n",
       "  var docs_json = {\"e9086b71-e4fb-47c2-8754-3dacaa921e88\":{\"roots\":{\"references\":[{\"attributes\":{\"data\":{\"0\":{\"__ndarray__\":\"AAAAAAAA+H8AAAAAAAD4fwAAAAAAAPh/AAAAAAAA+H8AAAAAAAD4fwAAAAAAAPh/KwvMh04OEkDdP5UcpO0RQE9vqvrZBhFAOeaebc2TEEBqmv2Zq8UNQLFObAxRIw1AXlh+oLyXDkDAqmelmM0MQHfaPKpHxApA0TfwYxD3BkDaVa4IeoICQEDmNYdMpAJArl3SAuHgBkAqTrviO1gJQJLZlux3kgdAiA5NkLV+BED9Smh9ECYAQGfjsXDmTP0/tCHag4cVBECJDBmNOEMFQLzgE0Y9gAxAoZSoYC8pCkAoL8RilA4LQJbZvFLqlAxA+4c7zcpfC0AJeZBXM88FQFR3VxKGk/4/StdEfBL39z9Kz+zEHL3yP/Nv0CjYwfY/7nB9BEbD/D/GIPpF1T8DQB/Lrz1CAAlA39vNUlFLCEBUiyePslQHQOFadOJ5QAxAhplMS8eAB0DbIRB/IWP9P5HLwriTj/U/V8PCbo1l+j+w1PJOvigJQHz9iudYVQpAScQ4C/xRCEBsuwbXQbwFQNpqZ8q50wNAFwE7mtAyCkAD+Y5JiKcLQNFJ9LVflQRAtV6ujp2NDUAogZ/S4IwRQPBCISqlzBNAM9llqM3GD0B6SkwD8szpP93g9ZewiAHA0oWAVPKk3T+9onYzFkIKQJOK3kdV7wJAZoNaL5cfBEArIOrijJ0DQPNVF2jlJwJAmp1bvzJ88D8Mu4A4kb0NQHjPFnpEOBZAa6Fe90nPG0ASGr/nRGcXQDFUYZO5cglA07X923CPCECAxEGrZpAHQB0ZLw0ZPAhAR6Vkga2ECEB6arhQ3SAIQBZPFfC5ggRAsTkGhoCU/z/LSogIv4j1P8ZGIrHXRANAJynnxw4lAkBkHvbLXOgHQJR8rJPM5wZAF6gl/oOxCkDjPdKV0wgHQHmmM8Zl9ANAsFBjO3XyBkBKW7q+kYkIQCrFOVeNbghAw3Ia8I3vCUCMnyQh41jyP4BGS0+5t8I/EOlThAyt8T9Aq9zRJpL6P9HnBfza4vg/X8JK6xvh9T8inaDakfz1P65HRQoEr/4/fBdA6iXsAECvtzblyaj/P2qZgsVbRgNAVkllcphrCEDO7wsF7KIJQI/HJaQcOgZAG+XFCLGtCEBsYRmeujL3Pxa4Nc7vQgZAJmi6GuQmAUBVoHsVsXoJQCsTEoM6cqQ/o51Qu2C8D0BFhN8QtmEDQMvuWRAx7v2/b34Um8jx/j8pOsa+E8v/PzW0+irt+wNAODDdLqtKA0DjbLdUr6UDQACgukDNNAVAObcrRdUw8D8cfy32h6fDP+oF5dAsBAnA6VWpyHB7CMCZ/P773UsDwBJ9+pK41xJAZ6LMKyjOF0DuFGm3J+sRQFb+0suTIQtAN5om6vY5D0B8JnrOTUkLQF3SXpiphwxAe3ncvMKsEEAJ4283UFsRQPI4Yn1gBRNANj6BuHt/EkAnfVL2dUIRQBnPTFhbiQtAuaYPKFzsB0CFNIyMkb8HQPbyhq8q0wVAGixO4pIyDkDpGUSJBrQIQKiOuCL2LQpAI2YQAF3UBkBGTYQsoDoDQNLBXl29VQJAhnEiwKsCEUCr54dHjKYKQImTUp7BPwxApKpi1m2OCUDULSbqX+AGQMpDt7u/BgNAALtOw6J8BUA=\",\"dtype\":\"float64\",\"order\":\"little\",\"shape\":[154]},\"A_0\":{\"__ndarray__\":\"AAAAAAAA+H8AAAAAAAD4fwAAAAAAAPh/AAAAAAAA+H8AAAAAAAD4fwAAAAAAAPh/KwvMh04OEkDdP5UcpO0RQE9vqvrZBhFAOeaebc2TEEBqmv2Zq8UNQLFObAxRIw1AXlh+oLyXDkDAqmelmM0MQHfaPKpHxApA0TfwYxD3BkDaVa4IeoICQEDmNYdMpAJArl3SAuHgBkAqTrviO1gJQJLZlux3kgdAiA5NkLV+BED9Smh9ECYAQGfjsXDmTP0/tCHag4cVBECJDBmNOEMFQLzgE0Y9gAxAoZSoYC8pCkAoL8RilA4LQJbZvFLqlAxA+4c7zcpfC0AJeZBXM88FQFR3VxKGk/4/StdEfBL39z9Kz+zEHL3yP/Nv0CjYwfY/7nB9BEbD/D/GIPpF1T8DQB/Lrz1CAAlA39vNUlFLCEBUiyePslQHQOFadOJ5QAxAhplMS8eAB0DbIRB/IWP9P5HLwriTj/U/V8PCbo1l+j+w1PJOvigJQHz9iudYVQpAScQ4C/xRCEBsuwbXQbwFQNpqZ8q50wNAFwE7mtAyCkAD+Y5JiKcLQNFJ9LVflQRAtV6ujp2NDUAogZ/S4IwRQPBCISqlzBNAM9llqM3GD0B6SkwD8szpP93g9ZewiAHA0oWAVPKk3T+9onYzFkIKQJOK3kdV7wJAZoNaL5cfBEArIOrijJ0DQPNVF2jlJwJAmp1bvzJ88D8Mu4A4kb0NQHjPFnpEOBZAa6Fe90nPG0ASGr/nRGcXQDFUYZO5cglA07X923CPCECAxEGrZpAHQB0ZLw0ZPAhAR6Vkga2ECEB6arhQ3SAIQBZPFfC5ggRAsTkGhoCU/z/LSogIv4j1P8ZGIrHXRANAJynnxw4lAkBkHvbLXOgHQJR8rJPM5wZAF6gl/oOxCkDjPdKV0wgHQHmmM8Zl9ANAsFBjO3XyBkBKW7q+kYkIQCrFOVeNbghAw3Ia8I3vCUCMnyQh41jyP4BGS0+5t8I/EOlThAyt8T9Aq9zRJpL6P9HnBfza4vg/X8JK6xvh9T8inaDakfz1P65HRQoEr/4/fBdA6iXsAECvtzblyaj/P2qZgsVbRgNAVkllcphrCEDO7wsF7KIJQI/HJaQcOgZAG+XFCLGtCEBsYRmeujL3Pxa4Nc7vQgZAJmi6GuQmAUBVoHsVsXoJQCsTEoM6cqQ/o51Qu2C8D0BFhN8QtmEDQMvuWRAx7v2/b34Um8jx/j8pOsa+E8v/PzW0+irt+wNAODDdLqtKA0DjbLdUr6UDQACgukDNNAVAObcrRdUw8D8cfy32h6fDP+oF5dAsBAnA6VWpyHB7CMCZ/P773UsDwBJ9+pK41xJAZ6LMKyjOF0DuFGm3J+sRQFb+0suTIQtAN5om6vY5D0B8JnrOTUkLQF3SXpiphwxAe3ncvMKsEEAJ4283UFsRQPI4Yn1gBRNANj6BuHt/EkAnfVL2dUIRQBnPTFhbiQtAuaYPKFzsB0CFNIyMkb8HQPbyhq8q0wVAGixO4pIyDkDpGUSJBrQIQKiOuCL2LQpAI2YQAF3UBkBGTYQsoDoDQNLBXl29VQJAhnEiwKsCEUCr54dHjKYKQImTUp7BPwxApKpi1m2OCUDULSbqX+AGQMpDt7u/BgNAALtOw6J8BUA=\",\"dtype\":\"float64\",\"order\":\"little\",\"shape\":[154]},\"Date\":{\"__ndarray__\":\"AABArYgJd0IAAAAT2wl3QgAAwHgtCndCAACA3n8Kd0IAAEBE0gp3QgAAgHXJC3dCAABA2xsMd0IAAABBbgx3QgAAwKbADHdCAACADBMNd0IAAMA9Cg53QgAAgKNcDndCAABACa8Od0IAAABvAQ93QgAAwNRTD3dCAAAABksQd0IAAMBrnRB3QgAAgNHvEHdCAABAN0IRd0IAAACdlBF3QgAAQM6LEndCAAAANN4Sd0IAAMCZMBN3QgAAgP+CE3dCAABAZdUTd0IAAICWzBR3QgAAQPweFXdCAAAAYnEVd0IAAMDHwxV3QgAAwF4NF3dCAACAxF8Xd0IAAEAqshd3QgAAAJAEGHdCAADA9VYYd0IAAAAnThl3QgAAwIygGXdCAACA8vIZd0IAAEBYRRp3QgAAAL6XGndCAABA744bd0IAAABV4Rt3QgAAwLozHHdCAACAIIYcd0IAAECG2Bx3QgAAgLfPHXdCAABAHSIed0IAAACDdB53QgAAwOjGHndCAACAThkfd0IAAMB/ECB3QgAAgOViIHdCAABAS7Ugd0IAAACxByF3QgAAwBZaIXdCAAAASFEid0IAAMCtoyJ3QgAAgBP2IndCAABAeUgjd0IAAADfmiN3QgAAAHbkJHdCAADA2zYld0IAAIBBiSV3QgAAQKfbJXdCAACA2NImd0IAAEA+JSd3QgAAAKR3J3dCAADACcond0IAAIBvHCh3QgAAwKATKXdCAACABmYpd0IAAEBsuCl3QgAAANIKKndCAADAN10qd0IAAABpVCt3QgAAwM6mK3dCAACANPkrd0IAAECaSyx3QgAAAACeLHdCAABAMZUtd0IAAACX5y13QgAAwPw5LndCAACAYowud0IAAEDI3i53QgAAgPnVL3dCAABAXygwd0IAAADFejB3QgAAwCrNMHdCAADAwRYyd0IAAIAnaTJ3QgAAQI27MndCAAAA8w0zd0IAAMBYYDN3QgAAAIpXNHdCAADA76k0d0IAAIBV/DR3QgAAQLtONXdCAAAAIaE1d0IAAEBSmDZ3QgAAALjqNndCAADAHT03d0IAAICDjzd3QgAAQOnhN3dCAACAGtk4d0IAAECAKzl3QgAAAOZ9OXdCAADAS9A5d0IAAICxIjp3QgAAwOIZO3dCAACASGw7d0IAAECuvjt3QgAAABQRPHdCAADAeWM8d0IAAACrWj13QgAAwBCtPXdCAACAdv89d0IAAEDcUT53QgAAAEKkPndCAABAc5s/d0IAAADZ7T93QgAAwD5AQHdCAACApJJAd0IAAEAK5UB3QgAAgDvcQXdCAABAoS5Cd0IAAAAHgUJ3QgAAwGzTQndCAACA0iVDd0IAAMADHUR3QgAAgGlvRHdCAABAz8FEd0IAAAA1FEV3QgAAwJpmRXdCAADAMbBGd0IAAICXAkd3QgAAQP1UR3dCAAAAY6dHd0IAAECUnkh3QgAAAPrwSHdCAADAX0NJd0IAAIDFlUl3QgAAQCvoSXdCAACAXN9Kd0IAAEDCMUt3QgAAACiES3dCAADAjdZLd0IAAIDzKEx3QgAAwCQgTXdCAACAinJNd0IAAEDwxE13QgAAAFYXTndCAADAu2lOd0IAAADtYE93QgAAwFKzT3dCAACAuAVQd0I=\",\"dtype\":\"float64\",\"order\":\"little\",\"shape\":[154]}},\"selected\":{\"id\":\"3498\"},\"selection_policy\":{\"id\":\"3523\"}},\"id\":\"3497\",\"type\":\"ColumnDataSource\"},{\"attributes\":{\"source\":{\"id\":\"3292\"}},\"id\":\"3299\",\"type\":\"CDSView\"},{\"attributes\":{},\"id\":\"3523\",\"type\":\"UnionRenderers\"},{\"attributes\":{},\"id\":\"3293\",\"type\":\"Selection\"},{\"attributes\":{\"click_policy\":\"mute\",\"items\":[{\"id\":\"3321\"},{\"id\":\"3352\"},{\"id\":\"3385\"},{\"id\":\"3420\"},{\"id\":\"3457\"},{\"id\":\"3496\"},{\"id\":\"3537\"},{\"id\":\"3580\"},{\"id\":\"3625\"},{\"id\":\"3672\"},{\"id\":\"3721\"}]},\"id\":\"3320\",\"type\":\"Legend\"},{\"attributes\":{\"source\":{\"id\":\"3322\"}},\"id\":\"3329\",\"type\":\"CDSView\"},{\"attributes\":{\"line_alpha\":0.2,\"line_color\":\"#e277c1\",\"line_width\":2,\"x\":{\"field\":\"Date\"},\"y\":{\"field\":\"0\"}},\"id\":\"3502\",\"type\":\"Line\"},{\"attributes\":{\"line_alpha\":0.1,\"line_color\":\"#e277c1\",\"line_width\":2,\"x\":{\"field\":\"Date\"},\"y\":{\"field\":\"0\"}},\"id\":\"3501\",\"type\":\"Line\"},{\"attributes\":{\"line_color\":\"#e277c1\",\"line_width\":2,\"x\":{\"field\":\"Date\"},\"y\":{\"field\":\"0\"}},\"id\":\"3500\",\"type\":\"Line\"},{\"attributes\":{\"margin\":[5,5,5,5],\"name\":\"HSpacer06294\",\"sizing_mode\":\"stretch_width\"},\"id\":\"4082\",\"type\":\"Spacer\"},{\"attributes\":{\"data_source\":{\"id\":\"3497\"},\"glyph\":{\"id\":\"3500\"},\"hover_glyph\":null,\"muted_glyph\":{\"id\":\"3502\"},\"nonselection_glyph\":{\"id\":\"3501\"},\"selection_glyph\":null,\"view\":{\"id\":\"3504\"}},\"id\":\"3503\",\"type\":\"GlyphRenderer\"},{\"attributes\":{\"data\":{\"0\":{\"__ndarray__\":\"AAAAAAAA+H8AAAAAAAD4fwAAAAAAAPh/AAAAAAAA+H8AAAAAAAD4fwAAAAAAAPh/bjrm9fO/EUB9Z8BlyxkRQCqMQzQ9yxJAgKGXqlBrEkAnAGy1FskTQJVzhGIXOxVANAFFTy9HFUBd1Iwjj6kVQLV0wAlBiBhAZdTbFtsxF0DnxiCh68UUQDONWNddsRNA5VZQ3szbE0ApEIa5TP0UQNWSQDeGthVAE6+8eEDeFEC59pa7xFoYQJrJSGRKVxZA1QQZpDKKEkCMQLFyj0MVQHrIIJcFuBJAPhy3hrm7EEDdHBzYrqANQOf54EW9fwtAISlNHtB4DEBlosbZUcQHQK0XVl8HUwRAfRGDBQXl8j8E6bUGX6XiPw8s3Rjt4ANAi9SxA33PC0BFLQQnojUUQNkO62RSrhJAH/I2X8PFEEAZ6yQ98cwGQB7MR/jcCQlAKIcb7+WJB0Ar7bpw5zwIQG2B/uiKDQhAo8Sq9OTXCkBCrqp9xWsIQINPrfW8sQpAgzKoKgjwEUB3LAFnQn8TQO9ftv0xqxFAFrtY1xc6EUCEgcT6rjURQOJjZRM0hRFAZOSSFVXaD0AMxeglGz8OQGhwbJizkg5Aa8YN844tD0AECx6zHucOQCFcrYs1Pg5AzsZ8iB48EUCmPiCJz6EOQF1q/xp7nwxA7iML/h/WDECFuXxOlMoKQCqQECMAswlAD/jHv5qBBUAInwbCZ2QKQKEuh2IkLg5AGa2QffDNEEDY8lOi2/wSQFr37mez9wxA0t97uqivDED5k4ho/DcNQM5oZRyoOQ9AvewUCpsBEEDw4NfeTgQRQOnPjorHbhJA26jwbbEXFUD5l4Mkr+cUQNa9Wq/bcBBA02Dpuk9XEEDi5olDaG0UQJ9MGY4JCBRAEbhPoIqeEkBjd0Aqk14RQPvTIZMchgtAx1TI579vD0BknZMIov0OQJv6DC2TJw5AnaJhhGE4B0DAoN0jn3oDQNRwR7gwkvM/6z2h4HDq9z8kXXT76F4AQG/QqMOL8P0/74FIJ3m//T9Oj/TvseoAQC3quXrr+AVAY2Dl/oltCEBNALbPfqQCQEocmCJ2rfs/gaTDLkdAyT+AuwdGRr3dPyQw2Rp0Y/Q/bWr2OouX4z/UotL6mcLvv6QJX71mj/+/MuksCNoB+7/zgUgJxtrzP6v75yOEigZAi0HIu0h6EkAacpGFvncNQJ2FTtK79wRA2Mfz1YfwCkBt8EF3NJoIQJaGYlKIgARAvWOhv/TXDEAa7HlqIA8cQD2mjpqE0BxAEf2Zy+r2v7/SgwtuzAT8v8T9B7agkPQ/DW8qJ4LDA0A+/hrlGWAYQAIWls/XNRxAqQy+fISxGEDofVowPtUVQFtJQLsvyA9A7e9N6YZ7CkB1xhCl87MFQEZuCt/IlANAGp1yOKgLE0ChmpvnCakRQGB4oM8Z+iBAfSExwtqOHEAPJfY6aJXyP+CM9g2YD/s/wCi5bR5GAECiAEbqmXzyP5f9B5ZZXP8/uH/E5VSDCUDhdeDu+1sGQDtlsZl3SgZA+2TGD22MBECuvjIP6V4AQHYSitdBIwBA9VoPTJg7E0BGU7U8P58WQDAaI1ZN7RhAGhebjmGbF0BEwgPs3u8OQDe1tLi/5gNA5L/d2wucBUA=\",\"dtype\":\"float64\",\"order\":\"little\",\"shape\":[154]},\"A_0\":{\"__ndarray__\":\"AAAAAAAA+H8AAAAAAAD4fwAAAAAAAPh/AAAAAAAA+H8AAAAAAAD4fwAAAAAAAPh/bjrm9fO/EUB9Z8BlyxkRQCqMQzQ9yxJAgKGXqlBrEkAnAGy1FskTQJVzhGIXOxVANAFFTy9HFUBd1Iwjj6kVQLV0wAlBiBhAZdTbFtsxF0DnxiCh68UUQDONWNddsRNA5VZQ3szbE0ApEIa5TP0UQNWSQDeGthVAE6+8eEDeFEC59pa7xFoYQJrJSGRKVxZA1QQZpDKKEkCMQLFyj0MVQHrIIJcFuBJAPhy3hrm7EEDdHBzYrqANQOf54EW9fwtAISlNHtB4DEBlosbZUcQHQK0XVl8HUwRAfRGDBQXl8j8E6bUGX6XiPw8s3Rjt4ANAi9SxA33PC0BFLQQnojUUQNkO62RSrhJAH/I2X8PFEEAZ6yQ98cwGQB7MR/jcCQlAKIcb7+WJB0Ar7bpw5zwIQG2B/uiKDQhAo8Sq9OTXCkBCrqp9xWsIQINPrfW8sQpAgzKoKgjwEUB3LAFnQn8TQO9ftv0xqxFAFrtY1xc6EUCEgcT6rjURQOJjZRM0hRFAZOSSFVXaD0AMxeglGz8OQGhwbJizkg5Aa8YN844tD0AECx6zHucOQCFcrYs1Pg5AzsZ8iB48EUCmPiCJz6EOQF1q/xp7nwxA7iML/h/WDECFuXxOlMoKQCqQECMAswlAD/jHv5qBBUAInwbCZ2QKQKEuh2IkLg5AGa2QffDNEEDY8lOi2/wSQFr37mez9wxA0t97uqivDED5k4ho/DcNQM5oZRyoOQ9AvewUCpsBEEDw4NfeTgQRQOnPjorHbhJA26jwbbEXFUD5l4Mkr+cUQNa9Wq/bcBBA02Dpuk9XEEDi5olDaG0UQJ9MGY4JCBRAEbhPoIqeEkBjd0Aqk14RQPvTIZMchgtAx1TI579vD0BknZMIov0OQJv6DC2TJw5AnaJhhGE4B0DAoN0jn3oDQNRwR7gwkvM/6z2h4HDq9z8kXXT76F4AQG/QqMOL8P0/74FIJ3m//T9Oj/TvseoAQC3quXrr+AVAY2Dl/oltCEBNALbPfqQCQEocmCJ2rfs/gaTDLkdAyT+AuwdGRr3dPyQw2Rp0Y/Q/bWr2OouX4z/UotL6mcLvv6QJX71mj/+/MuksCNoB+7/zgUgJxtrzP6v75yOEigZAi0HIu0h6EkAacpGFvncNQJ2FTtK79wRA2Mfz1YfwCkBt8EF3NJoIQJaGYlKIgARAvWOhv/TXDEAa7HlqIA8cQD2mjpqE0BxAEf2Zy+r2v7/SgwtuzAT8v8T9B7agkPQ/DW8qJ4LDA0A+/hrlGWAYQAIWls/XNRxAqQy+fISxGEDofVowPtUVQFtJQLsvyA9A7e9N6YZ7CkB1xhCl87MFQEZuCt/IlANAGp1yOKgLE0ChmpvnCakRQGB4oM8Z+iBAfSExwtqOHEAPJfY6aJXyP+CM9g2YD/s/wCi5bR5GAECiAEbqmXzyP5f9B5ZZXP8/uH/E5VSDCUDhdeDu+1sGQDtlsZl3SgZA+2TGD22MBECuvjIP6V4AQHYSitdBIwBA9VoPTJg7E0BGU7U8P58WQDAaI1ZN7RhAGhebjmGbF0BEwgPs3u8OQDe1tLi/5gNA5L/d2wucBUA=\",\"dtype\":\"float64\",\"order\":\"little\",\"shape\":[154]},\"Date\":{\"__ndarray__\":\"AABArYgJd0IAAAAT2wl3QgAAwHgtCndCAACA3n8Kd0IAAEBE0gp3QgAAgHXJC3dCAABA2xsMd0IAAABBbgx3QgAAwKbADHdCAACADBMNd0IAAMA9Cg53QgAAgKNcDndCAABACa8Od0IAAABvAQ93QgAAwNRTD3dCAAAABksQd0IAAMBrnRB3QgAAgNHvEHdCAABAN0IRd0IAAACdlBF3QgAAQM6LEndCAAAANN4Sd0IAAMCZMBN3QgAAgP+CE3dCAABAZdUTd0IAAICWzBR3QgAAQPweFXdCAAAAYnEVd0IAAMDHwxV3QgAAwF4NF3dCAACAxF8Xd0IAAEAqshd3QgAAAJAEGHdCAADA9VYYd0IAAAAnThl3QgAAwIygGXdCAACA8vIZd0IAAEBYRRp3QgAAAL6XGndCAABA744bd0IAAABV4Rt3QgAAwLozHHdCAACAIIYcd0IAAECG2Bx3QgAAgLfPHXdCAABAHSIed0IAAACDdB53QgAAwOjGHndCAACAThkfd0IAAMB/ECB3QgAAgOViIHdCAABAS7Ugd0IAAACxByF3QgAAwBZaIXdCAAAASFEid0IAAMCtoyJ3QgAAgBP2IndCAABAeUgjd0IAAADfmiN3QgAAAHbkJHdCAADA2zYld0IAAIBBiSV3QgAAQKfbJXdCAACA2NImd0IAAEA+JSd3QgAAAKR3J3dCAADACcond0IAAIBvHCh3QgAAwKATKXdCAACABmYpd0IAAEBsuCl3QgAAANIKKndCAADAN10qd0IAAABpVCt3QgAAwM6mK3dCAACANPkrd0IAAECaSyx3QgAAAACeLHdCAABAMZUtd0IAAACX5y13QgAAwPw5LndCAACAYowud0IAAEDI3i53QgAAgPnVL3dCAABAXygwd0IAAADFejB3QgAAwCrNMHdCAADAwRYyd0IAAIAnaTJ3QgAAQI27MndCAAAA8w0zd0IAAMBYYDN3QgAAAIpXNHdCAADA76k0d0IAAIBV/DR3QgAAQLtONXdCAAAAIaE1d0IAAEBSmDZ3QgAAALjqNndCAADAHT03d0IAAICDjzd3QgAAQOnhN3dCAACAGtk4d0IAAECAKzl3QgAAAOZ9OXdCAADAS9A5d0IAAICxIjp3QgAAwOIZO3dCAACASGw7d0IAAECuvjt3QgAAABQRPHdCAADAeWM8d0IAAACrWj13QgAAwBCtPXdCAACAdv89d0IAAEDcUT53QgAAAEKkPndCAABAc5s/d0IAAADZ7T93QgAAwD5AQHdCAACApJJAd0IAAEAK5UB3QgAAgDvcQXdCAABAoS5Cd0IAAAAHgUJ3QgAAwGzTQndCAACA0iVDd0IAAMADHUR3QgAAgGlvRHdCAABAz8FEd0IAAAA1FEV3QgAAwJpmRXdCAADAMbBGd0IAAICXAkd3QgAAQP1UR3dCAAAAY6dHd0IAAECUnkh3QgAAAPrwSHdCAADAX0NJd0IAAIDFlUl3QgAAQCvoSXdCAACAXN9Kd0IAAEDCMUt3QgAAACiES3dCAADAjdZLd0IAAIDzKEx3QgAAwCQgTXdCAACAinJNd0IAAEDwxE13QgAAAFYXTndCAADAu2lOd0IAAADtYE93QgAAwFKzT3dCAACAuAVQd0I=\",\"dtype\":\"float64\",\"order\":\"little\",\"shape\":[154]}},\"selected\":{\"id\":\"3293\"},\"selection_policy\":{\"id\":\"3306\"}},\"id\":\"3292\",\"type\":\"ColumnDataSource\"},{\"attributes\":{},\"id\":\"3582\",\"type\":\"Selection\"},{\"attributes\":{\"line_color\":\"#1f77b3\",\"line_width\":2,\"x\":{\"field\":\"Date\"},\"y\":{\"field\":\"0\"}},\"id\":\"3295\",\"type\":\"Line\"},{\"attributes\":{\"months\":[0,4,8]},\"id\":\"3317\",\"type\":\"MonthsTicker\"},{\"attributes\":{\"source\":{\"id\":\"3538\"}},\"id\":\"3545\",\"type\":\"CDSView\"},{\"attributes\":{\"label\":{\"value\":\"XLV\"},\"renderers\":[{\"id\":\"3503\"}]},\"id\":\"3537\",\"type\":\"LegendItem\"},{\"attributes\":{\"line_alpha\":0.1,\"line_color\":\"#7e7e7e\",\"line_width\":2,\"x\":{\"field\":\"Date\"},\"y\":{\"field\":\"0\"}},\"id\":\"3542\",\"type\":\"Line\"},{\"attributes\":{\"line_color\":\"#7e7e7e\",\"line_width\":2,\"x\":{\"field\":\"Date\"},\"y\":{\"field\":\"0\"}},\"id\":\"3541\",\"type\":\"Line\"},{\"attributes\":{},\"id\":\"3319\",\"type\":\"YearsTicker\"},{\"attributes\":{\"line_alpha\":0.2,\"line_color\":\"#8c564b\",\"line_width\":2,\"x\":{\"field\":\"Date\"},\"y\":{\"field\":\"0\"}},\"id\":\"3463\",\"type\":\"Line\"},{\"attributes\":{\"data\":{\"0\":{\"__ndarray__\":\"AAAAAAAA+H8AAAAAAAD4fwAAAAAAAPh/AAAAAAAA+H8AAAAAAAD4fwAAAAAAAPh/B15pFggBB0CCDOUohOUGQOJ56ffbdwVAA9m5vq8+BEAzwO6JU7UBQLnaalEa6f4/jtfJeq9x/j8+t+JD6WH+P700OMHcoQFAdoR+Dfc7BUBsUAx9h78AQJuR/s7VEPw/XyKm35ny/j82XO0o7KkCQGO7SY3uBgVAUT7H1Mx4B0Beasi1N2wEQBrAMwrFjfw/BzRPdDxJ+j804KM8i9f/P2zvRBJ3fABA3jgIL51jAUBE0FfO8YwBQJQO+luSGABAWsWIQnhs/z81gO16uy79P9ibuBdVavw/VQPwnd5E+D8YqFl5ZUb4P9rjezJEXQBAQXSo6MvJA0CC/dAUJt4CQF+i8kItaQRAsfMDb96tAkBd86OlLMr+P+lgPniQVwBAYSJFlGNz/j9lfDpqZ1X+P0Hfnndej/4/GnN54Jq3/T8RS9v+dAn+P+dYw9s9dv4/t/wNdJ0l/T8rQ232lC//P4l0IHs8Nf8/Sb0DOjquAEC2BmLRFSoCQHI0fadgTgJA9RIzgnjW/j/zS2tF71/6P3GT7VYcrfo/KVEhdIX9+T87fh4W7z/5P6utSaI2Y/o/qGCZiPM6/D/iIP1OmZkAQOGi1PFp0wFA0IRdhg/vA0Cw13ZzZc8CQCDmH+8qjABAst+X4CA3/j/yhiwTFZkAQC8ySwFqUAFAa15Fd6wtAkCXJystmqUCQHIraPf5HwRAWryrlAj5A0CAkJXg0P4DQMsYwfQX1gNAkwozbkIGBEBiaZ8tQVEEQKR8pUQ9AANAjL5BLgvEAUD9a3ey6Kb/P+zPWyp+lgZAoxLsI5cdBECxYWFhXY0CQMtmtaxL/wFA8d7mMwvKAUDrGW8l++UAQIXqfWTE3QBAOHQVLf7p/j+ROgW6FKH/P9oMmocQCv8/v7H6alhg+z84Ri2+EVL5P4NBIIUQIfc/3WlXsNx+/D+y9Dg6Lz//P14QmuRO7QBAUc+vRFbCAkDlgXaio94AQHhHCAg3VwBALEwc85gD/D/O0NaLB6b7P2RimDNb5/o/L9cVYIQR9z/pjtoq+7UCQK2CWLScRgNAwvJHE5bTAkAGOBnke+IDQKo74qZGgAxAvWHFiL6/CkAHmMYjWSYEQEv+Jc3QNgJAjxcjTcl0AUBS0+skX+35P3JkGstk6/E/xmmQOmbL8T+q04snhlHvP9bbM0LBies/z49v5DvG7D/tKer9xTnwP77YG9X/MfA/o/X5stkf3z/RVEY8OjLnP/lkZajbt/Q/RrI+Tnf7/D8R3E+lzZT/Py0Ib6pIIAFAzmYK20zeAUBa0KDaTt4DQFsWRtZEzAdASbVR0SipBEA7LMawo3MDQFOzml25pAJAC9P1wAAEBkAPeGv0Mn4GQEynHbKHLAdAVdksGQOYB0DHdGJxyVIKQM52PErBvAJA7RcmecPBAUBWA/Syv8AAQHKdFPLpvP8/Lr1XQue+/T+inW9rh9X+P/0gLVB9mQFAdsdIZQFIA0D3Isj7cJUEQPgZiGNiCv8/P79BtwLe/j9A+pDULsECQPugkR59HQFA1ts4fXcM/T+b7lbaZoj5PzMy0f9S/vc/P59vMz4l+j8=\",\"dtype\":\"float64\",\"order\":\"little\",\"shape\":[154]},\"A_0\":{\"__ndarray__\":\"AAAAAAAA+H8AAAAAAAD4fwAAAAAAAPh/AAAAAAAA+H8AAAAAAAD4fwAAAAAAAPh/B15pFggBB0CCDOUohOUGQOJ56ffbdwVAA9m5vq8+BEAzwO6JU7UBQLnaalEa6f4/jtfJeq9x/j8+t+JD6WH+P700OMHcoQFAdoR+Dfc7BUBsUAx9h78AQJuR/s7VEPw/XyKm35ny/j82XO0o7KkCQGO7SY3uBgVAUT7H1Mx4B0Beasi1N2wEQBrAMwrFjfw/BzRPdDxJ+j804KM8i9f/P2zvRBJ3fABA3jgIL51jAUBE0FfO8YwBQJQO+luSGABAWsWIQnhs/z81gO16uy79P9ibuBdVavw/VQPwnd5E+D8YqFl5ZUb4P9rjezJEXQBAQXSo6MvJA0CC/dAUJt4CQF+i8kItaQRAsfMDb96tAkBd86OlLMr+P+lgPniQVwBAYSJFlGNz/j9lfDpqZ1X+P0Hfnndej/4/GnN54Jq3/T8RS9v+dAn+P+dYw9s9dv4/t/wNdJ0l/T8rQ232lC//P4l0IHs8Nf8/Sb0DOjquAEC2BmLRFSoCQHI0fadgTgJA9RIzgnjW/j/zS2tF71/6P3GT7VYcrfo/KVEhdIX9+T87fh4W7z/5P6utSaI2Y/o/qGCZiPM6/D/iIP1OmZkAQOGi1PFp0wFA0IRdhg/vA0Cw13ZzZc8CQCDmH+8qjABAst+X4CA3/j/yhiwTFZkAQC8ySwFqUAFAa15Fd6wtAkCXJystmqUCQHIraPf5HwRAWryrlAj5A0CAkJXg0P4DQMsYwfQX1gNAkwozbkIGBEBiaZ8tQVEEQKR8pUQ9AANAjL5BLgvEAUD9a3ey6Kb/P+zPWyp+lgZAoxLsI5cdBECxYWFhXY0CQMtmtaxL/wFA8d7mMwvKAUDrGW8l++UAQIXqfWTE3QBAOHQVLf7p/j+ROgW6FKH/P9oMmocQCv8/v7H6alhg+z84Ri2+EVL5P4NBIIUQIfc/3WlXsNx+/D+y9Dg6Lz//P14QmuRO7QBAUc+vRFbCAkDlgXaio94AQHhHCAg3VwBALEwc85gD/D/O0NaLB6b7P2RimDNb5/o/L9cVYIQR9z/pjtoq+7UCQK2CWLScRgNAwvJHE5bTAkAGOBnke+IDQKo74qZGgAxAvWHFiL6/CkAHmMYjWSYEQEv+Jc3QNgJAjxcjTcl0AUBS0+skX+35P3JkGstk6/E/xmmQOmbL8T+q04snhlHvP9bbM0LBies/z49v5DvG7D/tKer9xTnwP77YG9X/MfA/o/X5stkf3z/RVEY8OjLnP/lkZajbt/Q/RrI+Tnf7/D8R3E+lzZT/Py0Ib6pIIAFAzmYK20zeAUBa0KDaTt4DQFsWRtZEzAdASbVR0SipBEA7LMawo3MDQFOzml25pAJAC9P1wAAEBkAPeGv0Mn4GQEynHbKHLAdAVdksGQOYB0DHdGJxyVIKQM52PErBvAJA7RcmecPBAUBWA/Syv8AAQHKdFPLpvP8/Lr1XQue+/T+inW9rh9X+P/0gLVB9mQFAdsdIZQFIA0D3Isj7cJUEQPgZiGNiCv8/P79BtwLe/j9A+pDULsECQPugkR59HQFA1ts4fXcM/T+b7lbaZoj5PzMy0f9S/vc/P59vMz4l+j8=\",\"dtype\":\"float64\",\"order\":\"little\",\"shape\":[154]},\"Date\":{\"__ndarray__\":\"AABArYgJd0IAAAAT2wl3QgAAwHgtCndCAACA3n8Kd0IAAEBE0gp3QgAAgHXJC3dCAABA2xsMd0IAAABBbgx3QgAAwKbADHdCAACADBMNd0IAAMA9Cg53QgAAgKNcDndCAABACa8Od0IAAABvAQ93QgAAwNRTD3dCAAAABksQd0IAAMBrnRB3QgAAgNHvEHdCAABAN0IRd0IAAACdlBF3QgAAQM6LEndCAAAANN4Sd0IAAMCZMBN3QgAAgP+CE3dCAABAZdUTd0IAAICWzBR3QgAAQPweFXdCAAAAYnEVd0IAAMDHwxV3QgAAwF4NF3dCAACAxF8Xd0IAAEAqshd3QgAAAJAEGHdCAADA9VYYd0IAAAAnThl3QgAAwIygGXdCAACA8vIZd0IAAEBYRRp3QgAAAL6XGndCAABA744bd0IAAABV4Rt3QgAAwLozHHdCAACAIIYcd0IAAECG2Bx3QgAAgLfPHXdCAABAHSIed0IAAACDdB53QgAAwOjGHndCAACAThkfd0IAAMB/ECB3QgAAgOViIHdCAABAS7Ugd0IAAACxByF3QgAAwBZaIXdCAAAASFEid0IAAMCtoyJ3QgAAgBP2IndCAABAeUgjd0IAAADfmiN3QgAAAHbkJHdCAADA2zYld0IAAIBBiSV3QgAAQKfbJXdCAACA2NImd0IAAEA+JSd3QgAAAKR3J3dCAADACcond0IAAIBvHCh3QgAAwKATKXdCAACABmYpd0IAAEBsuCl3QgAAANIKKndCAADAN10qd0IAAABpVCt3QgAAwM6mK3dCAACANPkrd0IAAECaSyx3QgAAAACeLHdCAABAMZUtd0IAAACX5y13QgAAwPw5LndCAACAYowud0IAAEDI3i53QgAAgPnVL3dCAABAXygwd0IAAADFejB3QgAAwCrNMHdCAADAwRYyd0IAAIAnaTJ3QgAAQI27MndCAAAA8w0zd0IAAMBYYDN3QgAAAIpXNHdCAADA76k0d0IAAIBV/DR3QgAAQLtONXdCAAAAIaE1d0IAAEBSmDZ3QgAAALjqNndCAADAHT03d0IAAICDjzd3QgAAQOnhN3dCAACAGtk4d0IAAECAKzl3QgAAAOZ9OXdCAADAS9A5d0IAAICxIjp3QgAAwOIZO3dCAACASGw7d0IAAECuvjt3QgAAABQRPHdCAADAeWM8d0IAAACrWj13QgAAwBCtPXdCAACAdv89d0IAAEDcUT53QgAAAEKkPndCAABAc5s/d0IAAADZ7T93QgAAwD5AQHdCAACApJJAd0IAAEAK5UB3QgAAgDvcQXdCAABAoS5Cd0IAAAAHgUJ3QgAAwGzTQndCAACA0iVDd0IAAMADHUR3QgAAgGlvRHdCAABAz8FEd0IAAAA1FEV3QgAAwJpmRXdCAADAMbBGd0IAAICXAkd3QgAAQP1UR3dCAAAAY6dHd0IAAECUnkh3QgAAAPrwSHdCAADAX0NJd0IAAIDFlUl3QgAAQCvoSXdCAACAXN9Kd0IAAEDCMUt3QgAAACiES3dCAADAjdZLd0IAAIDzKEx3QgAAwCQgTXdCAACAinJNd0IAAEDwxE13QgAAAFYXTndCAADAu2lOd0IAAADtYE93QgAAwFKzT3dCAACAuAVQd0I=\",\"dtype\":\"float64\",\"order\":\"little\",\"shape\":[154]}},\"selected\":{\"id\":\"3422\"},\"selection_policy\":{\"id\":\"3443\"}},\"id\":\"3421\",\"type\":\"ColumnDataSource\"},{\"attributes\":{\"label\":{\"value\":\"XLP\"},\"renderers\":[{\"id\":\"3464\"}]},\"id\":\"3496\",\"type\":\"LegendItem\"},{\"attributes\":{\"data_source\":{\"id\":\"3538\"},\"glyph\":{\"id\":\"3541\"},\"hover_glyph\":null,\"muted_glyph\":{\"id\":\"3543\"},\"nonselection_glyph\":{\"id\":\"3542\"},\"selection_glyph\":null,\"view\":{\"id\":\"3545\"}},\"id\":\"3544\",\"type\":\"GlyphRenderer\"},{\"attributes\":{\"line_color\":\"#9367bc\",\"line_width\":2,\"x\":{\"field\":\"Date\"},\"y\":{\"field\":\"0\"}},\"id\":\"3424\",\"type\":\"Line\"},{\"attributes\":{\"months\":[0,6]},\"id\":\"3318\",\"type\":\"MonthsTicker\"},{\"attributes\":{\"line_alpha\":0.2,\"line_color\":\"#bcbc21\",\"line_width\":2,\"x\":{\"field\":\"Date\"},\"y\":{\"field\":\"0\"}},\"id\":\"3586\",\"type\":\"Line\"},{\"attributes\":{\"label\":{\"value\":\"XLRE\"},\"renderers\":[{\"id\":\"3587\"}]},\"id\":\"3625\",\"type\":\"LegendItem\"},{\"attributes\":{},\"id\":\"3674\",\"type\":\"Selection\"},{\"attributes\":{},\"id\":\"3627\",\"type\":\"Selection\"},{\"attributes\":{\"margin\":[5,5,5,5],\"name\":\"HSpacer06293\",\"sizing_mode\":\"stretch_width\"},\"id\":\"3244\",\"type\":\"Spacer\"},{\"attributes\":{\"children\":[{\"id\":\"3244\"},{\"id\":\"3258\"},{\"id\":\"4082\"}],\"margin\":[0,0,0,0],\"name\":\"Row06289\",\"tags\":[\"embedded\"]},\"id\":\"3243\",\"type\":\"Row\"},{\"attributes\":{\"label\":{\"value\":\"XLU\"},\"renderers\":[{\"id\":\"3679\"}]},\"id\":\"3721\",\"type\":\"LegendItem\"},{\"attributes\":{\"source\":{\"id\":\"3581\"}},\"id\":\"3588\",\"type\":\"CDSView\"},{\"attributes\":{\"data\":{\"0\":{\"__ndarray__\":\"AAAAAAAA+H8AAAAAAAD4fwAAAAAAAPh/AAAAAAAA+H8AAAAAAAD4fwAAAAAAAPh/uhPAncWkFUAp93rkYVETQI1SJSBnZhFAKL4Op0LCDUAd9kKgBRcMQOxzsL8GsQtAMfDGFjJiEEBEWNz8BYsNQO3SBPWtTwhAoGdAYkKvBkAtBBhkkyIAQNurJy9nCwBAKCu74kJpBUCO667jY+MJQEtX2kcX7ghAu71trWqlB0D9lYybg3kDQIBF281V6wNAKXk9xXySBEDqj5/YWwEGQBa2kiHaBQlAWjgaZGyqEUB4LR+eBwsOQHvvaYP+0QxAj3FwpbMcDECv1Bf7nxMIQDOzOlMGCQZAkPEGcEp2BkAqyX1L0p/5P9Q+T1q0AgpAqyipGvi7CUCVNqHaUjQMQFdURZY2+QpAjjuNIZldDUD6b2a1uCsXQDaVW0YmIBpAVwNyQlsJ9b+AC8IggVnwP053kw2EmfM/EmWnrBJl9z9aJpF9Esz4P1Y+moNrUgFABoAgqkyq9z/xbJcHFPHlP3PP4whAEes/rlgtuIWpB0BWE7HUnXMbQMD+gVM1/xdADCVBqwIpFkAELMD41PkVQHEA9PFrhRhAam/jyDaQGECdGNFpqbQUQCfVyaPy5RJAdyDEzXg3FEDO744au9kIQIhxe7goRQNAxPdHntflAUBkwr+gkGcBQMR0zOamWQFAUzob/8PfAUCJR2zJm3AWQEMto08dTRhAjhUPHdgPGkCx2JfgV5UVQIbz+/3b4BZA8S8TOraeFkARKxBhyt4VQJWlZw2cIhRAgWTDnPO/FkB8y45pZ6cXQEG5VSfWCf8/Eit8ZZyk7D+sK3oh3eHKP15k7kL7mv0/uqKqLyo0+T9LTItF6CUFQK4qzKBqGA5A8LVIJlxKEUApt1iXd9MPQDtYSASCJQ1AF/vrMbklEUD3WxY5IH4TQIaJSN6ChRBAmB1pN54v7T+G0Xxrawryv4HTBAJAarg/aHM4ZMJ4A0Bbgg0Iw+gNQMG/iOqAQgpAoq+p2EfbAUApLntwVJMDQMhR2n7+WwZAMwYjurEwAUBTI/yZncryP47qZwuAle8/ugrdrfdGxr9npFLfJkjhv87rQ09r19g/v+Kb0QYv+T9+cl3VDw7/PzChPjHquPA/ZaA/lkdEAECtmN3s+RISwNR+IFydFBvA9sS01JHS5T/yLsgHhR0DQKeabKBr+gFAwEfITuTd/j88IfUydXMBQFVxD1LhNO4/QRcvtBg3pb9DCnkbjarJv6YuVTc7atc/l3JlGYKs5b/HVT8/XqP0v4nQ0RR2B/K/1Foj16yrAcD2ULK1XiUVwMivQInhVxvAFviJwYHbGsDmw2Cc7aMYwPG3uTu2ohfAqAIC6lKmDUAE+h2WxjgGQGgdy8uQ/AFAU1h4BzRDEkDW4EV5CDwNQNUbaI6KyhhAcUAFfxQ4LED8q07Zi/EgQDLke7KdsRVA2I+1/32gFEASHCyR3/USQAGnz+1qTRRAPeD3ILrsFEBkCU5pJNoTQJfD4YhT9RRAM20XdpazFUCi1/55EkYUQInaOWLEHBZAjNvqaKAXFkAXOe5MV8UWQHDIqgc7shZA3PAgxzLwDUChoFl4B3UEQCsImrJkmfA/xu61d/dz+T8=\",\"dtype\":\"float64\",\"order\":\"little\",\"shape\":[154]},\"A_0\":{\"__ndarray__\":\"AAAAAAAA+H8AAAAAAAD4fwAAAAAAAPh/AAAAAAAA+H8AAAAAAAD4fwAAAAAAAPh/uhPAncWkFUAp93rkYVETQI1SJSBnZhFAKL4Op0LCDUAd9kKgBRcMQOxzsL8GsQtAMfDGFjJiEEBEWNz8BYsNQO3SBPWtTwhAoGdAYkKvBkAtBBhkkyIAQNurJy9nCwBAKCu74kJpBUCO667jY+MJQEtX2kcX7ghAu71trWqlB0D9lYybg3kDQIBF281V6wNAKXk9xXySBEDqj5/YWwEGQBa2kiHaBQlAWjgaZGyqEUB4LR+eBwsOQHvvaYP+0QxAj3FwpbMcDECv1Bf7nxMIQDOzOlMGCQZAkPEGcEp2BkAqyX1L0p/5P9Q+T1q0AgpAqyipGvi7CUCVNqHaUjQMQFdURZY2+QpAjjuNIZldDUD6b2a1uCsXQDaVW0YmIBpAVwNyQlsJ9b+AC8IggVnwP053kw2EmfM/EmWnrBJl9z9aJpF9Esz4P1Y+moNrUgFABoAgqkyq9z/xbJcHFPHlP3PP4whAEes/rlgtuIWpB0BWE7HUnXMbQMD+gVM1/xdADCVBqwIpFkAELMD41PkVQHEA9PFrhRhAam/jyDaQGECdGNFpqbQUQCfVyaPy5RJAdyDEzXg3FEDO744au9kIQIhxe7goRQNAxPdHntflAUBkwr+gkGcBQMR0zOamWQFAUzob/8PfAUCJR2zJm3AWQEMto08dTRhAjhUPHdgPGkCx2JfgV5UVQIbz+/3b4BZA8S8TOraeFkARKxBhyt4VQJWlZw2cIhRAgWTDnPO/FkB8y45pZ6cXQEG5VSfWCf8/Eit8ZZyk7D+sK3oh3eHKP15k7kL7mv0/uqKqLyo0+T9LTItF6CUFQK4qzKBqGA5A8LVIJlxKEUApt1iXd9MPQDtYSASCJQ1AF/vrMbklEUD3WxY5IH4TQIaJSN6ChRBAmB1pN54v7T+G0Xxrawryv4HTBAJAarg/aHM4ZMJ4A0Bbgg0Iw+gNQMG/iOqAQgpAoq+p2EfbAUApLntwVJMDQMhR2n7+WwZAMwYjurEwAUBTI/yZncryP47qZwuAle8/ugrdrfdGxr9npFLfJkjhv87rQ09r19g/v+Kb0QYv+T9+cl3VDw7/PzChPjHquPA/ZaA/lkdEAECtmN3s+RISwNR+IFydFBvA9sS01JHS5T/yLsgHhR0DQKeabKBr+gFAwEfITuTd/j88IfUydXMBQFVxD1LhNO4/QRcvtBg3pb9DCnkbjarJv6YuVTc7atc/l3JlGYKs5b/HVT8/XqP0v4nQ0RR2B/K/1Foj16yrAcD2ULK1XiUVwMivQInhVxvAFviJwYHbGsDmw2Cc7aMYwPG3uTu2ohfAqAIC6lKmDUAE+h2WxjgGQGgdy8uQ/AFAU1h4BzRDEkDW4EV5CDwNQNUbaI6KyhhAcUAFfxQ4LED8q07Zi/EgQDLke7KdsRVA2I+1/32gFEASHCyR3/USQAGnz+1qTRRAPeD3ILrsFEBkCU5pJNoTQJfD4YhT9RRAM20XdpazFUCi1/55EkYUQInaOWLEHBZAjNvqaKAXFkAXOe5MV8UWQHDIqgc7shZA3PAgxzLwDUChoFl4B3UEQCsImrJkmfA/xu61d/dz+T8=\",\"dtype\":\"float64\",\"order\":\"little\",\"shape\":[154]},\"Date\":{\"__ndarray__\":\"AABArYgJd0IAAAAT2wl3QgAAwHgtCndCAACA3n8Kd0IAAEBE0gp3QgAAgHXJC3dCAABA2xsMd0IAAABBbgx3QgAAwKbADHdCAACADBMNd0IAAMA9Cg53QgAAgKNcDndCAABACa8Od0IAAABvAQ93QgAAwNRTD3dCAAAABksQd0IAAMBrnRB3QgAAgNHvEHdCAABAN0IRd0IAAACdlBF3QgAAQM6LEndCAAAANN4Sd0IAAMCZMBN3QgAAgP+CE3dCAABAZdUTd0IAAICWzBR3QgAAQPweFXdCAAAAYnEVd0IAAMDHwxV3QgAAwF4NF3dCAACAxF8Xd0IAAEAqshd3QgAAAJAEGHdCAADA9VYYd0IAAAAnThl3QgAAwIygGXdCAACA8vIZd0IAAEBYRRp3QgAAAL6XGndCAABA744bd0IAAABV4Rt3QgAAwLozHHdCAACAIIYcd0IAAECG2Bx3QgAAgLfPHXdCAABAHSIed0IAAACDdB53QgAAwOjGHndCAACAThkfd0IAAMB/ECB3QgAAgOViIHdCAABAS7Ugd0IAAACxByF3QgAAwBZaIXdCAAAASFEid0IAAMCtoyJ3QgAAgBP2IndCAABAeUgjd0IAAADfmiN3QgAAAHbkJHdCAADA2zYld0IAAIBBiSV3QgAAQKfbJXdCAACA2NImd0IAAEA+JSd3QgAAAKR3J3dCAADACcond0IAAIBvHCh3QgAAwKATKXdCAACABmYpd0IAAEBsuCl3QgAAANIKKndCAADAN10qd0IAAABpVCt3QgAAwM6mK3dCAACANPkrd0IAAECaSyx3QgAAAACeLHdCAABAMZUtd0IAAACX5y13QgAAwPw5LndCAACAYowud0IAAEDI3i53QgAAgPnVL3dCAABAXygwd0IAAADFejB3QgAAwCrNMHdCAADAwRYyd0IAAIAnaTJ3QgAAQI27MndCAAAA8w0zd0IAAMBYYDN3QgAAAIpXNHdCAADA76k0d0IAAIBV/DR3QgAAQLtONXdCAAAAIaE1d0IAAEBSmDZ3QgAAALjqNndCAADAHT03d0IAAICDjzd3QgAAQOnhN3dCAACAGtk4d0IAAECAKzl3QgAAAOZ9OXdCAADAS9A5d0IAAICxIjp3QgAAwOIZO3dCAACASGw7d0IAAECuvjt3QgAAABQRPHdCAADAeWM8d0IAAACrWj13QgAAwBCtPXdCAACAdv89d0IAAEDcUT53QgAAAEKkPndCAABAc5s/d0IAAADZ7T93QgAAwD5AQHdCAACApJJAd0IAAEAK5UB3QgAAgDvcQXdCAABAoS5Cd0IAAAAHgUJ3QgAAwGzTQndCAACA0iVDd0IAAMADHUR3QgAAgGlvRHdCAABAz8FEd0IAAAA1FEV3QgAAwJpmRXdCAADAMbBGd0IAAICXAkd3QgAAQP1UR3dCAAAAY6dHd0IAAECUnkh3QgAAAPrwSHdCAADAX0NJd0IAAIDFlUl3QgAAQCvoSXdCAACAXN9Kd0IAAEDCMUt3QgAAACiES3dCAADAjdZLd0IAAIDzKEx3QgAAwCQgTXdCAACAinJNd0IAAEDwxE13QgAAAFYXTndCAADAu2lOd0IAAADtYE93QgAAwFKzT3dCAACAuAVQd0I=\",\"dtype\":\"float64\",\"order\":\"little\",\"shape\":[154]}},\"selected\":{\"id\":\"3674\"},\"selection_policy\":{\"id\":\"3707\"}},\"id\":\"3673\",\"type\":\"ColumnDataSource\"},{\"attributes\":{\"source\":{\"id\":\"3386\"}},\"id\":\"3393\",\"type\":\"CDSView\"},{\"attributes\":{\"line_alpha\":0.2,\"line_color\":\"#3a0182\",\"line_width\":2,\"x\":{\"field\":\"Date\"},\"y\":{\"field\":\"0\"}},\"id\":\"3678\",\"type\":\"Line\"},{\"attributes\":{\"line_alpha\":0.1,\"line_color\":\"#3a0182\",\"line_width\":2,\"x\":{\"field\":\"Date\"},\"y\":{\"field\":\"0\"}},\"id\":\"3677\",\"type\":\"Line\"},{\"attributes\":{\"line_color\":\"#3a0182\",\"line_width\":2,\"x\":{\"field\":\"Date\"},\"y\":{\"field\":\"0\"}},\"id\":\"3676\",\"type\":\"Line\"},{\"attributes\":{\"data_source\":{\"id\":\"3673\"},\"glyph\":{\"id\":\"3676\"},\"hover_glyph\":null,\"muted_glyph\":{\"id\":\"3678\"},\"nonselection_glyph\":{\"id\":\"3677\"},\"selection_glyph\":null,\"view\":{\"id\":\"3680\"}},\"id\":\"3679\",\"type\":\"GlyphRenderer\"},{\"attributes\":{},\"id\":\"3707\",\"type\":\"UnionRenderers\"},{\"attributes\":{\"source\":{\"id\":\"3673\"}},\"id\":\"3680\",\"type\":\"CDSView\"},{\"attributes\":{},\"id\":\"3482\",\"type\":\"UnionRenderers\"},{\"attributes\":{},\"id\":\"3265\",\"type\":\"LinearScale\"},{\"attributes\":{\"data_source\":{\"id\":\"3458\"},\"glyph\":{\"id\":\"3461\"},\"hover_glyph\":null,\"muted_glyph\":{\"id\":\"3463\"},\"nonselection_glyph\":{\"id\":\"3462\"},\"selection_glyph\":null,\"view\":{\"id\":\"3465\"}},\"id\":\"3464\",\"type\":\"GlyphRenderer\"},{\"attributes\":{\"line_color\":\"#16bdcf\",\"line_width\":2,\"x\":{\"field\":\"Date\"},\"y\":{\"field\":\"0\"}},\"id\":\"3629\",\"type\":\"Line\"},{\"attributes\":{\"data_source\":{\"id\":\"3421\"},\"glyph\":{\"id\":\"3424\"},\"hover_glyph\":null,\"muted_glyph\":{\"id\":\"3426\"},\"nonselection_glyph\":{\"id\":\"3425\"},\"selection_glyph\":null,\"view\":{\"id\":\"3428\"}},\"id\":\"3427\",\"type\":\"GlyphRenderer\"},{\"attributes\":{\"days\":[1,2,3,4,5,6,7,8,9,10,11,12,13,14,15,16,17,18,19,20,21,22,23,24,25,26,27,28,29,30,31]},\"id\":\"3311\",\"type\":\"DaysTicker\"},{\"attributes\":{\"data_source\":{\"id\":\"3353\"},\"glyph\":{\"id\":\"3356\"},\"hover_glyph\":null,\"muted_glyph\":{\"id\":\"3358\"},\"nonselection_glyph\":{\"id\":\"3357\"},\"selection_glyph\":null,\"view\":{\"id\":\"3360\"}},\"id\":\"3359\",\"type\":\"GlyphRenderer\"},{\"attributes\":{\"text\":\"\",\"text_color\":{\"value\":\"black\"},\"text_font_size\":{\"value\":\"12pt\"}},\"id\":\"3259\",\"type\":\"Title\"},{\"attributes\":{\"data_source\":{\"id\":\"3626\"},\"glyph\":{\"id\":\"3629\"},\"hover_glyph\":null,\"muted_glyph\":{\"id\":\"3631\"},\"nonselection_glyph\":{\"id\":\"3630\"},\"selection_glyph\":null,\"view\":{\"id\":\"3633\"}},\"id\":\"3632\",\"type\":\"GlyphRenderer\"},{\"attributes\":{\"data\":{\"0\":{\"__ndarray__\":\"AAAAAAAA+H8AAAAAAAD4fwAAAAAAAPh/AAAAAAAA+H8AAAAAAAD4fwAAAAAAAPh/q13XDc9NIkDvCSNQRPcgQGf0K80RlyBAEZmkMoFGIEB9M0jT470aQGt0+o90GxhA/XZGJtkWF0ByaN79oNkTQNP5ZwnzVBJAZcZMwGxIE0D1nS0tDiwSQOXLDJ3tuBNAQ/BrMd+kGUAXZl1YDhYYQIQ0Cur2lxdAjZtTnqQ4FkBZh4zoahISQFmg1V8DOBNAU1doZYt+E0D7qm+V4gMVQJdFBgla3hhAmRKLmDUkGEAs9c7WzR8UQDStzfe8XRNAWKtIxiUXFECKBqzKcjYQQGz/C/bPfw1ADZ3XrAnZA0CfNzV4GwnxP1NXS1ctDxJAX5+UM+M+EkCeMGZQZV4XQHo1m9q3kRZAm2dGFj6cGUABABnqRaIfQLxidWHruiNAiAm5m13BIUC59z+rA9cbQPVcfr4wdBVAjkF2KZFyEkAvaw9bMI0RQEYG39UQMRVA8lYH91f5FUDOooVCjVEhQMyBMHFrCARAyi6uYocwDEA5fJZx/7IMQLWw5BK79gpA/tT6hVcQEUCBmP0nz6gVQGyKTE3maSFAcQOGDKTpIUANDfPIsIsaQAbHBcUJMRFA21WQceYsDEDPSHBsQTcKQEzThhI7EwlAFmF+McbgC0Cmq9bD7bYQQNyixdwdrxJAn/ixzH02FEDcU44sSdIZQGUFZVNtExlAEJrHxlcRG0DJ4ZK7fdgZQFUYepFbqxpAn3O7j8lzHEBewf2sRPgdQMS07We4Wh1ALT9TEd7BHUCHd9W5c4kcQH8CIwAZKRZAcbWoimofAUB4jgfTVQjbP4VS9HWksAVA+8MxMXXjB0CLpuB0o68UQFMrDsr0IxhAZo11WsxWIECzk8pS8mkUQOKVOKQDfxNAwcw/9S5iGECJ8Ac7TYkaQB0jVgl4bxVAtn4K5xQ98z/vrC/WXc4MwB4L9hjjn9m/NE5fypHU5j8l5+HUr0zZP2pM58GY8eC/eE/wjMOlCUA32Lt8MPAQQFZ9jPDuJxxAmWxkhRITEUD53UPQIIAKQNwdQ23yzxFA1gcjguGx6D+wTYoxCvL7vxjtVIK5rc0/vHWVX3pz5j+mugPcLYz9P68t4RUlI/4/NtvhFUkU9D9DzacfdHoJwFJINuM0rx7AdOWXrCsF17/YcUNuBbgSQIJUa/CZExNAZ0mGf5orCUAWilkoQOH6P4hOnpnIvc4/LjrEzTpF2j+EWi6xV1cGQMmoCtxoIAVAQll+RGOr8D8m1yPa/V/5P9YElDjrqgBAjIckeV5BDEDEr331u3MTQMeyJDmlQydAZb2lhn4nKEA8KhlRvwclQCK3ldHx9x9Avl2kAIkXIkAGWhTXsSoeQEP+Lp6zfCdA2v5Ea/u8MUDjPUo9SqMyQI7+MByJojJA1lNupb8kMUCqOem6eWwmQHV/anQFHRhA/U0nASBVEEDTHCqOFMoMQJUJrgE3vRJAiwMvSv+vE0D5v2dnEDkTQHLj1Cq52hNAvZoEc1k0E0COLracMesTQCKpbqDFehdAls3rextDIEBoJQFMe8ogQOEhfIX8Dh9AgFIUrzZjE0ABRtAOKkEOQO1VuOnPbwJANaUJVuojCUA=\",\"dtype\":\"float64\",\"order\":\"little\",\"shape\":[154]},\"A_0\":{\"__ndarray__\":\"AAAAAAAA+H8AAAAAAAD4fwAAAAAAAPh/AAAAAAAA+H8AAAAAAAD4fwAAAAAAAPh/q13XDc9NIkDvCSNQRPcgQGf0K80RlyBAEZmkMoFGIEB9M0jT470aQGt0+o90GxhA/XZGJtkWF0ByaN79oNkTQNP5ZwnzVBJAZcZMwGxIE0D1nS0tDiwSQOXLDJ3tuBNAQ/BrMd+kGUAXZl1YDhYYQIQ0Cur2lxdAjZtTnqQ4FkBZh4zoahISQFmg1V8DOBNAU1doZYt+E0D7qm+V4gMVQJdFBgla3hhAmRKLmDUkGEAs9c7WzR8UQDStzfe8XRNAWKtIxiUXFECKBqzKcjYQQGz/C/bPfw1ADZ3XrAnZA0CfNzV4GwnxP1NXS1ctDxJAX5+UM+M+EkCeMGZQZV4XQHo1m9q3kRZAm2dGFj6cGUABABnqRaIfQLxidWHruiNAiAm5m13BIUC59z+rA9cbQPVcfr4wdBVAjkF2KZFyEkAvaw9bMI0RQEYG39UQMRVA8lYH91f5FUDOooVCjVEhQMyBMHFrCARAyi6uYocwDEA5fJZx/7IMQLWw5BK79gpA/tT6hVcQEUCBmP0nz6gVQGyKTE3maSFAcQOGDKTpIUANDfPIsIsaQAbHBcUJMRFA21WQceYsDEDPSHBsQTcKQEzThhI7EwlAFmF+McbgC0Cmq9bD7bYQQNyixdwdrxJAn/ixzH02FEDcU44sSdIZQGUFZVNtExlAEJrHxlcRG0DJ4ZK7fdgZQFUYepFbqxpAn3O7j8lzHEBewf2sRPgdQMS07We4Wh1ALT9TEd7BHUCHd9W5c4kcQH8CIwAZKRZAcbWoimofAUB4jgfTVQjbP4VS9HWksAVA+8MxMXXjB0CLpuB0o68UQFMrDsr0IxhAZo11WsxWIECzk8pS8mkUQOKVOKQDfxNAwcw/9S5iGECJ8Ac7TYkaQB0jVgl4bxVAtn4K5xQ98z/vrC/WXc4MwB4L9hjjn9m/NE5fypHU5j8l5+HUr0zZP2pM58GY8eC/eE/wjMOlCUA32Lt8MPAQQFZ9jPDuJxxAmWxkhRITEUD53UPQIIAKQNwdQ23yzxFA1gcjguGx6D+wTYoxCvL7vxjtVIK5rc0/vHWVX3pz5j+mugPcLYz9P68t4RUlI/4/NtvhFUkU9D9DzacfdHoJwFJINuM0rx7AdOWXrCsF17/YcUNuBbgSQIJUa/CZExNAZ0mGf5orCUAWilkoQOH6P4hOnpnIvc4/LjrEzTpF2j+EWi6xV1cGQMmoCtxoIAVAQll+RGOr8D8m1yPa/V/5P9YElDjrqgBAjIckeV5BDEDEr331u3MTQMeyJDmlQydAZb2lhn4nKEA8KhlRvwclQCK3ldHx9x9Avl2kAIkXIkAGWhTXsSoeQEP+Lp6zfCdA2v5Ea/u8MUDjPUo9SqMyQI7+MByJojJA1lNupb8kMUCqOem6eWwmQHV/anQFHRhA/U0nASBVEEDTHCqOFMoMQJUJrgE3vRJAiwMvSv+vE0D5v2dnEDkTQHLj1Cq52hNAvZoEc1k0E0COLracMesTQCKpbqDFehdAls3rextDIEBoJQFMe8ogQOEhfIX8Dh9AgFIUrzZjE0ABRtAOKkEOQO1VuOnPbwJANaUJVuojCUA=\",\"dtype\":\"float64\",\"order\":\"little\",\"shape\":[154]},\"Date\":{\"__ndarray__\":\"AABArYgJd0IAAAAT2wl3QgAAwHgtCndCAACA3n8Kd0IAAEBE0gp3QgAAgHXJC3dCAABA2xsMd0IAAABBbgx3QgAAwKbADHdCAACADBMNd0IAAMA9Cg53QgAAgKNcDndCAABACa8Od0IAAABvAQ93QgAAwNRTD3dCAAAABksQd0IAAMBrnRB3QgAAgNHvEHdCAABAN0IRd0IAAACdlBF3QgAAQM6LEndCAAAANN4Sd0IAAMCZMBN3QgAAgP+CE3dCAABAZdUTd0IAAICWzBR3QgAAQPweFXdCAAAAYnEVd0IAAMDHwxV3QgAAwF4NF3dCAACAxF8Xd0IAAEAqshd3QgAAAJAEGHdCAADA9VYYd0IAAAAnThl3QgAAwIygGXdCAACA8vIZd0IAAEBYRRp3QgAAAL6XGndCAABA744bd0IAAABV4Rt3QgAAwLozHHdCAACAIIYcd0IAAECG2Bx3QgAAgLfPHXdCAABAHSIed0IAAACDdB53QgAAwOjGHndCAACAThkfd0IAAMB/ECB3QgAAgOViIHdCAABAS7Ugd0IAAACxByF3QgAAwBZaIXdCAAAASFEid0IAAMCtoyJ3QgAAgBP2IndCAABAeUgjd0IAAADfmiN3QgAAAHbkJHdCAADA2zYld0IAAIBBiSV3QgAAQKfbJXdCAACA2NImd0IAAEA+JSd3QgAAAKR3J3dCAADACcond0IAAIBvHCh3QgAAwKATKXdCAACABmYpd0IAAEBsuCl3QgAAANIKKndCAADAN10qd0IAAABpVCt3QgAAwM6mK3dCAACANPkrd0IAAECaSyx3QgAAAACeLHdCAABAMZUtd0IAAACX5y13QgAAwPw5LndCAACAYowud0IAAEDI3i53QgAAgPnVL3dCAABAXygwd0IAAADFejB3QgAAwCrNMHdCAADAwRYyd0IAAIAnaTJ3QgAAQI27MndCAAAA8w0zd0IAAMBYYDN3QgAAAIpXNHdCAADA76k0d0IAAIBV/DR3QgAAQLtONXdCAAAAIaE1d0IAAEBSmDZ3QgAAALjqNndCAADAHT03d0IAAICDjzd3QgAAQOnhN3dCAACAGtk4d0IAAECAKzl3QgAAAOZ9OXdCAADAS9A5d0IAAICxIjp3QgAAwOIZO3dCAACASGw7d0IAAECuvjt3QgAAABQRPHdCAADAeWM8d0IAAACrWj13QgAAwBCtPXdCAACAdv89d0IAAEDcUT53QgAAAEKkPndCAABAc5s/d0IAAADZ7T93QgAAwD5AQHdCAACApJJAd0IAAEAK5UB3QgAAgDvcQXdCAABAoS5Cd0IAAAAHgUJ3QgAAwGzTQndCAACA0iVDd0IAAMADHUR3QgAAgGlvRHdCAABAz8FEd0IAAAA1FEV3QgAAwJpmRXdCAADAMbBGd0IAAICXAkd3QgAAQP1UR3dCAAAAY6dHd0IAAECUnkh3QgAAAPrwSHdCAADAX0NJd0IAAIDFlUl3QgAAQCvoSXdCAACAXN9Kd0IAAEDCMUt3QgAAACiES3dCAADAjdZLd0IAAIDzKEx3QgAAwCQgTXdCAACAinJNd0IAAEDwxE13QgAAAFYXTndCAADAu2lOd0IAAADtYE93QgAAwFKzT3dCAACAuAVQd0I=\",\"dtype\":\"float64\",\"order\":\"little\",\"shape\":[154]}},\"selected\":{\"id\":\"3582\"},\"selection_policy\":{\"id\":\"3611\"}},\"id\":\"3581\",\"type\":\"ColumnDataSource\"},{\"attributes\":{\"overlay\":{\"id\":\"3280\"}},\"id\":\"3278\",\"type\":\"BoxZoomTool\"},{\"attributes\":{},\"id\":\"3387\",\"type\":\"Selection\"},{\"attributes\":{},\"id\":\"3277\",\"type\":\"WheelZoomTool\"},{\"attributes\":{\"data\":{\"0\":{\"__ndarray__\":\"AAAAAAAA+H8AAAAAAAD4fwAAAAAAAPh/AAAAAAAA+H8AAAAAAAD4fwAAAAAAAPh/opS42ywzCkBN8vS/70MMQHnddgj3AwxATcgUUJgfDEDidPk3NYgKQCHTTi+kHwlABGzoZdChCUAAlBpNM4EIQIAUpFJ3zAdAG2lX0G+kCUD1QRnR/tIIQOO/6d+tOQpAE2f2jQULCEDwrArz3AUJQLb4qy+PoAlAoxBcdUzZCkD0w9Fux1QJQHt/sCSioQZATHkJawBrBUBPUn/e5w0FQB21Unsy3wVAlfQyfUHGB0ABFvvGRAQKQC2Tv/MNpQpABLjGcutrCUBZxrYWT3AJQOPV/zTGgQRAeyK3tsijAUCbrtUxmVkAQIgtsbVl9wJAg5hbRRFuA0B6gPJtzh4DQDk1Y/I08AJAWU0t6zkGBUA4R8UqWiYFQKjHYEh7lgVAoIsBG4iXBUCBVlgQA5UEQEIkjqmi9gJADAjiTPfC/T+9nkcYidD0PwZr5sFXHfY/K6zyarUz9z+228gonV/5P3A1o4T9v/s/2VJgXd+FAkBV/5RyhTIIQNkGKMH2UgpAAXWeUipGC0AEvlD4bJAJQC/U9VJ63QZAW1rDe+BEB0Dzkhj+uPUGQCDjG8ck0AdAZjps3+sfC0Crh4gxXKsPQKeocatWWAtABso7aNDPE0A630+aaM8OQMea//rZ8QpAg0ID2qB0CkB2r8azMcINQDAUTm+qXRFAWmYIpDkODkACUCcOCNwCQGWBiUXuLghA4QX9g/QzC0C6FQuo8eQPQDMNqGQ/Sw1AYRpihA0ACkD5fzEmIkoGQL7eZ/GRxAJAsplDkjlo+z8OnvOkmwrxP5ZHLTqbv/U/hxKnB/OD9z/9//BU+XsJQGkcVPefXApArkhrhq7KCkDJMeeXhjYJQMw6ROVjnAdAXggSa7b2B0DuM2/sDhAIQIKRgTNUOQRAoPPZz33o/D/zC/BzBV/5P9jUu3y8o/I/HxtgH26q5z8o36he/ALzPyWSwUf1Lc+/RppbpwLc0r/V2BhxPYz5P8W2hMWVkwFAseONULQp/T9aAgOfdEL1P+NS/33GXvM/LYORx3aS8T9fRu5OPIPxP4vaMjWEvfY/NtFMS7td9z/TXgEPQFfxPx83KgaXvu4/XwpmGFXA7j+zdogf9RLxP55xnGW8yvE/iLbq7ABp9j8EtU644Qb7P/TWCFMoruA/WtFLHQPC3z+MPCPBCDnfP5mbM9k45+I/nVpKnyEK+T86jnUO5Lj5P8a4CnPuOPc/1idbu4Ru4T9vSFj2IiHjP3YP5nGKDe8/Dh+kbEIg8z8QoDgFmaT2P4ND5HU8/vk/WNzHgha0/T+EbIAdWWj8P7EdbqJhmPY/eN2ObgtQ+j+qEDcjC/D4P9DypnizKvg/sc2TDylA+T+LhK2CiPP4Pw7gn6tKFvo/utZO9/Gv+z9L/AplZxT8P9Plbr2O6vw/v+aqAaUQ/j/mq6xDV4H8PxdYSPV6iwBAg+4WJTNdBEBMfNKf0tUEQLQhpsSQHAdArPAe373YCkBSQqw5urICQIfjc7z6+Pw/KdmjGnNJAECJ+jytzYoAQBoPsw6dVwBAtLGZhslyAED+8ONnX88BQGn0+nPGM/w/Opn2JAIrAUA=\",\"dtype\":\"float64\",\"order\":\"little\",\"shape\":[154]},\"A_0\":{\"__ndarray__\":\"AAAAAAAA+H8AAAAAAAD4fwAAAAAAAPh/AAAAAAAA+H8AAAAAAAD4fwAAAAAAAPh/opS42ywzCkBN8vS/70MMQHnddgj3AwxATcgUUJgfDEDidPk3NYgKQCHTTi+kHwlABGzoZdChCUAAlBpNM4EIQIAUpFJ3zAdAG2lX0G+kCUD1QRnR/tIIQOO/6d+tOQpAE2f2jQULCEDwrArz3AUJQLb4qy+PoAlAoxBcdUzZCkD0w9Fux1QJQHt/sCSioQZATHkJawBrBUBPUn/e5w0FQB21Unsy3wVAlfQyfUHGB0ABFvvGRAQKQC2Tv/MNpQpABLjGcutrCUBZxrYWT3AJQOPV/zTGgQRAeyK3tsijAUCbrtUxmVkAQIgtsbVl9wJAg5hbRRFuA0B6gPJtzh4DQDk1Y/I08AJAWU0t6zkGBUA4R8UqWiYFQKjHYEh7lgVAoIsBG4iXBUCBVlgQA5UEQEIkjqmi9gJADAjiTPfC/T+9nkcYidD0PwZr5sFXHfY/K6zyarUz9z+228gonV/5P3A1o4T9v/s/2VJgXd+FAkBV/5RyhTIIQNkGKMH2UgpAAXWeUipGC0AEvlD4bJAJQC/U9VJ63QZAW1rDe+BEB0Dzkhj+uPUGQCDjG8ck0AdAZjps3+sfC0Crh4gxXKsPQKeocatWWAtABso7aNDPE0A630+aaM8OQMea//rZ8QpAg0ID2qB0CkB2r8azMcINQDAUTm+qXRFAWmYIpDkODkACUCcOCNwCQGWBiUXuLghA4QX9g/QzC0C6FQuo8eQPQDMNqGQ/Sw1AYRpihA0ACkD5fzEmIkoGQL7eZ/GRxAJAsplDkjlo+z8OnvOkmwrxP5ZHLTqbv/U/hxKnB/OD9z/9//BU+XsJQGkcVPefXApArkhrhq7KCkDJMeeXhjYJQMw6ROVjnAdAXggSa7b2B0DuM2/sDhAIQIKRgTNUOQRAoPPZz33o/D/zC/BzBV/5P9jUu3y8o/I/HxtgH26q5z8o36he/ALzPyWSwUf1Lc+/RppbpwLc0r/V2BhxPYz5P8W2hMWVkwFAseONULQp/T9aAgOfdEL1P+NS/33GXvM/LYORx3aS8T9fRu5OPIPxP4vaMjWEvfY/NtFMS7td9z/TXgEPQFfxPx83KgaXvu4/XwpmGFXA7j+zdogf9RLxP55xnGW8yvE/iLbq7ABp9j8EtU644Qb7P/TWCFMoruA/WtFLHQPC3z+MPCPBCDnfP5mbM9k45+I/nVpKnyEK+T86jnUO5Lj5P8a4CnPuOPc/1idbu4Ru4T9vSFj2IiHjP3YP5nGKDe8/Dh+kbEIg8z8QoDgFmaT2P4ND5HU8/vk/WNzHgha0/T+EbIAdWWj8P7EdbqJhmPY/eN2ObgtQ+j+qEDcjC/D4P9DypnizKvg/sc2TDylA+T+LhK2CiPP4Pw7gn6tKFvo/utZO9/Gv+z9L/AplZxT8P9Plbr2O6vw/v+aqAaUQ/j/mq6xDV4H8PxdYSPV6iwBAg+4WJTNdBEBMfNKf0tUEQLQhpsSQHAdArPAe373YCkBSQqw5urICQIfjc7z6+Pw/KdmjGnNJAECJ+jytzYoAQBoPsw6dVwBAtLGZhslyAED+8ONnX88BQGn0+nPGM/w/Opn2JAIrAUA=\",\"dtype\":\"float64\",\"order\":\"little\",\"shape\":[154]},\"Date\":{\"__ndarray__\":\"AABArYgJd0IAAAAT2wl3QgAAwHgtCndCAACA3n8Kd0IAAEBE0gp3QgAAgHXJC3dCAABA2xsMd0IAAABBbgx3QgAAwKbADHdCAACADBMNd0IAAMA9Cg53QgAAgKNcDndCAABACa8Od0IAAABvAQ93QgAAwNRTD3dCAAAABksQd0IAAMBrnRB3QgAAgNHvEHdCAABAN0IRd0IAAACdlBF3QgAAQM6LEndCAAAANN4Sd0IAAMCZMBN3QgAAgP+CE3dCAABAZdUTd0IAAICWzBR3QgAAQPweFXdCAAAAYnEVd0IAAMDHwxV3QgAAwF4NF3dCAACAxF8Xd0IAAEAqshd3QgAAAJAEGHdCAADA9VYYd0IAAAAnThl3QgAAwIygGXdCAACA8vIZd0IAAEBYRRp3QgAAAL6XGndCAABA744bd0IAAABV4Rt3QgAAwLozHHdCAACAIIYcd0IAAECG2Bx3QgAAgLfPHXdCAABAHSIed0IAAACDdB53QgAAwOjGHndCAACAThkfd0IAAMB/ECB3QgAAgOViIHdCAABAS7Ugd0IAAACxByF3QgAAwBZaIXdCAAAASFEid0IAAMCtoyJ3QgAAgBP2IndCAABAeUgjd0IAAADfmiN3QgAAAHbkJHdCAADA2zYld0IAAIBBiSV3QgAAQKfbJXdCAACA2NImd0IAAEA+JSd3QgAAAKR3J3dCAADACcond0IAAIBvHCh3QgAAwKATKXdCAACABmYpd0IAAEBsuCl3QgAAANIKKndCAADAN10qd0IAAABpVCt3QgAAwM6mK3dCAACANPkrd0IAAECaSyx3QgAAAACeLHdCAABAMZUtd0IAAACX5y13QgAAwPw5LndCAACAYowud0IAAEDI3i53QgAAgPnVL3dCAABAXygwd0IAAADFejB3QgAAwCrNMHdCAADAwRYyd0IAAIAnaTJ3QgAAQI27MndCAAAA8w0zd0IAAMBYYDN3QgAAAIpXNHdCAADA76k0d0IAAIBV/DR3QgAAQLtONXdCAAAAIaE1d0IAAEBSmDZ3QgAAALjqNndCAADAHT03d0IAAICDjzd3QgAAQOnhN3dCAACAGtk4d0IAAECAKzl3QgAAAOZ9OXdCAADAS9A5d0IAAICxIjp3QgAAwOIZO3dCAACASGw7d0IAAECuvjt3QgAAABQRPHdCAADAeWM8d0IAAACrWj13QgAAwBCtPXdCAACAdv89d0IAAEDcUT53QgAAAEKkPndCAABAc5s/d0IAAADZ7T93QgAAwD5AQHdCAACApJJAd0IAAEAK5UB3QgAAgDvcQXdCAABAoS5Cd0IAAAAHgUJ3QgAAwGzTQndCAACA0iVDd0IAAMADHUR3QgAAgGlvRHdCAABAz8FEd0IAAAA1FEV3QgAAwJpmRXdCAADAMbBGd0IAAICXAkd3QgAAQP1UR3dCAAAAY6dHd0IAAECUnkh3QgAAAPrwSHdCAADAX0NJd0IAAIDFlUl3QgAAQCvoSXdCAACAXN9Kd0IAAEDCMUt3QgAAACiES3dCAADAjdZLd0IAAIDzKEx3QgAAwCQgTXdCAACAinJNd0IAAEDwxE13QgAAAFYXTndCAADAu2lOd0IAAADtYE93QgAAwFKzT3dCAACAuAVQd0I=\",\"dtype\":\"float64\",\"order\":\"little\",\"shape\":[154]}},\"selected\":{\"id\":\"3627\"},\"selection_policy\":{\"id\":\"3658\"}},\"id\":\"3626\",\"type\":\"ColumnDataSource\"},{\"attributes\":{\"months\":[0,2,4,6,8,10]},\"id\":\"3316\",\"type\":\"MonthsTicker\"},{\"attributes\":{\"data_source\":{\"id\":\"3322\"},\"glyph\":{\"id\":\"3325\"},\"hover_glyph\":null,\"muted_glyph\":{\"id\":\"3327\"},\"nonselection_glyph\":{\"id\":\"3326\"},\"selection_glyph\":null,\"view\":{\"id\":\"3329\"}},\"id\":\"3328\",\"type\":\"GlyphRenderer\"},{\"attributes\":{\"source\":{\"id\":\"3497\"}},\"id\":\"3504\",\"type\":\"CDSView\"},{\"attributes\":{\"line_alpha\":0.1,\"line_color\":\"#d62628\",\"line_width\":2,\"x\":{\"field\":\"Date\"},\"y\":{\"field\":\"0\"}},\"id\":\"3390\",\"type\":\"Line\"},{\"attributes\":{\"end\":1602028800000.0,\"reset_end\":1602028800000.0,\"reset_start\":1583107200000.0,\"start\":1583107200000.0,\"tags\":[[[\"Date\",\"Date\",null]]]},\"id\":\"3245\",\"type\":\"Range1d\"},{\"attributes\":{\"data\":{\"0\":{\"__ndarray__\":\"AAAAAAAA+H8AAAAAAAD4fwAAAAAAAPh/AAAAAAAA+H8AAAAAAAD4fwAAAAAAAPh/dN0unWEvAkDZILYvWwoDQBOnaHcOLQlApQnVyeuZCEDbxSd1PycQQEHEy3fvmBVAbavLLYysEUAT4NqYwLcOQLcrPLauMQ9AtMPNuCZdEkB2JlEI7TQOQHFxMd7jAxBA5I/XZ0QbEUC+tf5MUggWQMWMgwbHRBlAb25UPPTUF0Bv/R2SLsAXQGBGK2AWZglAgAlK6ZS3+z+qko1jWR4FQKcbtpN+pQlAWVnyctMpEUArW5DqGrAUQP4oejq07hhAZh9mBWidGkB4xfedIQ0QQPaI3FMQY+E/TNxcWOV1wT/3pWNsgjDrPwrtcMk0Ifo/a7p5djIyAkCclxqf/0r0PztT/ra+kfU/Fv0UV5YkCkB9OWfnhKIGQIDH03w25QdAvWKaHgvuBED3Yzj5oGEFQHO/dmtTDwFAydCgd3v4AUB3LUcR9IYJQPKSrtUTwAtAh0QllxqmCkBa8Pu4ucUMQK2vLNYBEA5Ap4rA++ZADUDK+FLdHs0LQEFi80dvCglAT9wvYhz3CkBDDT09QnQNQDvc1cMIuw1AkWeRQ+YMDkB7VkQdqLQLQJAXTnlx0ApAEimttxz4EkD5bEbzJHMSQIJTwpQ2BgZATlgQ+zaAD0AvPOG/li4NQCCj9o+RlQhAv36PMKp3BkCrTtEvow0FQMxrsk0UNwNAvtLar6bIA0AQ3oAueOYCQMxe5opOIAZAeGbhc2AjB0Ds0APzsqwGQAeicgIhSwZAhkX/V01nCEDjpStSGpIQQMy3M5i0UxRANQrZJ/AcAEDFF155u8HwP9uOmnvf4wFA71tQ718iA0DO4NPNcpwHQJsYs/YGFAhAPxfigqw2DUDaaNRuoFYKQJZamyMmShJAqVId4SvxFUDX0Vzp+OsEQJqvD8OC5gLAb5y8e2vJ8L+NWNqh6Grjvy21BG4sJMK/DqX/IvXx7T8aETc/Q6EBQCmxN/WB8wNAO393uQqIBUCdeupydD4DQON0U8UU0gNASu1gx6xW+z82PqVfW5XuP+vZEfU/iuo/pHx68/GE5j/Uj+IlcQPnPzAvQwZaFQ1AY4ROt4L97D/6FiT4F8bzvwzRj3JJGQLAKqAh912Z878nM9qLpXvwP7a591w1vABALiJvvbe3FkAf0NR03t0NQEKnQciaqAJA+4scTYwjA0Badsr9sTL5P83+dx4m6fM/4AgLmNhf7z+iPJsnKY8BwNpYtq8e4fK/Qiq6hG6W2r+IfNXhkNnqv/LyyK2tjuy/ZF9oy+AE8r8utvJ0mUsIwEp62Vl8ixLAFmjt/9UMAMBibbbKNuMGwMb+0MIZ6RHAzKLakERbGcB+S8ZvRvfdv3q3jTi3xAVA4p4UROWaG0AXhAriZM8hQPZ42lTkbR5A99HErvzoGkBVQDlbKqgPQEHmYFD2FgNAtjZexf6a9D9+bF98h430P8TvO/DjH9q/uob/eQMsAkACK7U/9AQFQOyMESKekQtAvHE5tEyPCkBSw39uDGwCQDJGK1yznPY/koq868GP7j+JsHQhVwHyP8BuV0lz4gzAzcY446hRB8CP0i8onH3xv6kclXg+B9i/O10iSXzJAEA=\",\"dtype\":\"float64\",\"order\":\"little\",\"shape\":[154]},\"A_0\":{\"__ndarray__\":\"AAAAAAAA+H8AAAAAAAD4fwAAAAAAAPh/AAAAAAAA+H8AAAAAAAD4fwAAAAAAAPh/dN0unWEvAkDZILYvWwoDQBOnaHcOLQlApQnVyeuZCEDbxSd1PycQQEHEy3fvmBVAbavLLYysEUAT4NqYwLcOQLcrPLauMQ9AtMPNuCZdEkB2JlEI7TQOQHFxMd7jAxBA5I/XZ0QbEUC+tf5MUggWQMWMgwbHRBlAb25UPPTUF0Bv/R2SLsAXQGBGK2AWZglAgAlK6ZS3+z+qko1jWR4FQKcbtpN+pQlAWVnyctMpEUArW5DqGrAUQP4oejq07hhAZh9mBWidGkB4xfedIQ0QQPaI3FMQY+E/TNxcWOV1wT/3pWNsgjDrPwrtcMk0Ifo/a7p5djIyAkCclxqf/0r0PztT/ra+kfU/Fv0UV5YkCkB9OWfnhKIGQIDH03w25QdAvWKaHgvuBED3Yzj5oGEFQHO/dmtTDwFAydCgd3v4AUB3LUcR9IYJQPKSrtUTwAtAh0QllxqmCkBa8Pu4ucUMQK2vLNYBEA5Ap4rA++ZADUDK+FLdHs0LQEFi80dvCglAT9wvYhz3CkBDDT09QnQNQDvc1cMIuw1AkWeRQ+YMDkB7VkQdqLQLQJAXTnlx0ApAEimttxz4EkD5bEbzJHMSQIJTwpQ2BgZATlgQ+zaAD0AvPOG/li4NQCCj9o+RlQhAv36PMKp3BkCrTtEvow0FQMxrsk0UNwNAvtLar6bIA0AQ3oAueOYCQMxe5opOIAZAeGbhc2AjB0Ds0APzsqwGQAeicgIhSwZAhkX/V01nCEDjpStSGpIQQMy3M5i0UxRANQrZJ/AcAEDFF155u8HwP9uOmnvf4wFA71tQ718iA0DO4NPNcpwHQJsYs/YGFAhAPxfigqw2DUDaaNRuoFYKQJZamyMmShJAqVId4SvxFUDX0Vzp+OsEQJqvD8OC5gLAb5y8e2vJ8L+NWNqh6Grjvy21BG4sJMK/DqX/IvXx7T8aETc/Q6EBQCmxN/WB8wNAO393uQqIBUCdeupydD4DQON0U8UU0gNASu1gx6xW+z82PqVfW5XuP+vZEfU/iuo/pHx68/GE5j/Uj+IlcQPnPzAvQwZaFQ1AY4ROt4L97D/6FiT4F8bzvwzRj3JJGQLAKqAh912Z878nM9qLpXvwP7a591w1vABALiJvvbe3FkAf0NR03t0NQEKnQciaqAJA+4scTYwjA0Badsr9sTL5P83+dx4m6fM/4AgLmNhf7z+iPJsnKY8BwNpYtq8e4fK/Qiq6hG6W2r+IfNXhkNnqv/LyyK2tjuy/ZF9oy+AE8r8utvJ0mUsIwEp62Vl8ixLAFmjt/9UMAMBibbbKNuMGwMb+0MIZ6RHAzKLakERbGcB+S8ZvRvfdv3q3jTi3xAVA4p4UROWaG0AXhAriZM8hQPZ42lTkbR5A99HErvzoGkBVQDlbKqgPQEHmYFD2FgNAtjZexf6a9D9+bF98h430P8TvO/DjH9q/uob/eQMsAkACK7U/9AQFQOyMESKekQtAvHE5tEyPCkBSw39uDGwCQDJGK1yznPY/koq868GP7j+JsHQhVwHyP8BuV0lz4gzAzcY446hRB8CP0i8onH3xv6kclXg+B9i/O10iSXzJAEA=\",\"dtype\":\"float64\",\"order\":\"little\",\"shape\":[154]},\"Date\":{\"__ndarray__\":\"AABArYgJd0IAAAAT2wl3QgAAwHgtCndCAACA3n8Kd0IAAEBE0gp3QgAAgHXJC3dCAABA2xsMd0IAAABBbgx3QgAAwKbADHdCAACADBMNd0IAAMA9Cg53QgAAgKNcDndCAABACa8Od0IAAABvAQ93QgAAwNRTD3dCAAAABksQd0IAAMBrnRB3QgAAgNHvEHdCAABAN0IRd0IAAACdlBF3QgAAQM6LEndCAAAANN4Sd0IAAMCZMBN3QgAAgP+CE3dCAABAZdUTd0IAAICWzBR3QgAAQPweFXdCAAAAYnEVd0IAAMDHwxV3QgAAwF4NF3dCAACAxF8Xd0IAAEAqshd3QgAAAJAEGHdCAADA9VYYd0IAAAAnThl3QgAAwIygGXdCAACA8vIZd0IAAEBYRRp3QgAAAL6XGndCAABA744bd0IAAABV4Rt3QgAAwLozHHdCAACAIIYcd0IAAECG2Bx3QgAAgLfPHXdCAABAHSIed0IAAACDdB53QgAAwOjGHndCAACAThkfd0IAAMB/ECB3QgAAgOViIHdCAABAS7Ugd0IAAACxByF3QgAAwBZaIXdCAAAASFEid0IAAMCtoyJ3QgAAgBP2IndCAABAeUgjd0IAAADfmiN3QgAAAHbkJHdCAADA2zYld0IAAIBBiSV3QgAAQKfbJXdCAACA2NImd0IAAEA+JSd3QgAAAKR3J3dCAADACcond0IAAIBvHCh3QgAAwKATKXdCAACABmYpd0IAAEBsuCl3QgAAANIKKndCAADAN10qd0IAAABpVCt3QgAAwM6mK3dCAACANPkrd0IAAECaSyx3QgAAAACeLHdCAABAMZUtd0IAAACX5y13QgAAwPw5LndCAACAYowud0IAAEDI3i53QgAAgPnVL3dCAABAXygwd0IAAADFejB3QgAAwCrNMHdCAADAwRYyd0IAAIAnaTJ3QgAAQI27MndCAAAA8w0zd0IAAMBYYDN3QgAAAIpXNHdCAADA76k0d0IAAIBV/DR3QgAAQLtONXdCAAAAIaE1d0IAAEBSmDZ3QgAAALjqNndCAADAHT03d0IAAICDjzd3QgAAQOnhN3dCAACAGtk4d0IAAECAKzl3QgAAAOZ9OXdCAADAS9A5d0IAAICxIjp3QgAAwOIZO3dCAACASGw7d0IAAECuvjt3QgAAABQRPHdCAADAeWM8d0IAAACrWj13QgAAwBCtPXdCAACAdv89d0IAAEDcUT53QgAAAEKkPndCAABAc5s/d0IAAADZ7T93QgAAwD5AQHdCAACApJJAd0IAAEAK5UB3QgAAgDvcQXdCAABAoS5Cd0IAAAAHgUJ3QgAAwGzTQndCAACA0iVDd0IAAMADHUR3QgAAgGlvRHdCAABAz8FEd0IAAAA1FEV3QgAAwJpmRXdCAADAMbBGd0IAAICXAkd3QgAAQP1UR3dCAAAAY6dHd0IAAECUnkh3QgAAAPrwSHdCAADAX0NJd0IAAIDFlUl3QgAAQCvoSXdCAACAXN9Kd0IAAEDCMUt3QgAAACiES3dCAADAjdZLd0IAAIDzKEx3QgAAwCQgTXdCAACAinJNd0IAAEDwxE13QgAAAFYXTndCAADAu2lOd0IAAADtYE93QgAAwFKzT3dCAACAuAVQd0I=\",\"dtype\":\"float64\",\"order\":\"little\",\"shape\":[154]}},\"selected\":{\"id\":\"3354\"},\"selection_policy\":{\"id\":\"3371\"}},\"id\":\"3353\",\"type\":\"ColumnDataSource\"},{\"attributes\":{\"align\":null,\"below\":[{\"id\":\"3267\"}],\"center\":[{\"id\":\"3270\"},{\"id\":\"3274\"},{\"id\":\"3320\"}],\"left\":[{\"id\":\"3271\"}],\"margin\":null,\"min_border_bottom\":10,\"min_border_left\":10,\"min_border_right\":10,\"min_border_top\":10,\"plot_height\":300,\"plot_width\":700,\"renderers\":[{\"id\":\"3298\"},{\"id\":\"3328\"},{\"id\":\"3359\"},{\"id\":\"3392\"},{\"id\":\"3427\"},{\"id\":\"3464\"},{\"id\":\"3503\"},{\"id\":\"3544\"},{\"id\":\"3587\"},{\"id\":\"3632\"},{\"id\":\"3679\"}],\"sizing_mode\":\"fixed\",\"title\":{\"id\":\"3259\"},\"toolbar\":{\"id\":\"3281\"},\"x_range\":{\"id\":\"3245\"},\"x_scale\":{\"id\":\"3263\"},\"y_range\":{\"id\":\"3246\"},\"y_scale\":{\"id\":\"3265\"}},\"id\":\"3258\",\"subtype\":\"Figure\",\"type\":\"Plot\"},{\"attributes\":{\"source\":{\"id\":\"3421\"}},\"id\":\"3428\",\"type\":\"CDSView\"},{\"attributes\":{\"mantissas\":[1,2,5],\"max_interval\":500.0,\"num_minor_ticks\":0},\"id\":\"3308\",\"type\":\"AdaptiveTicker\"},{\"attributes\":{},\"id\":\"3276\",\"type\":\"PanTool\"},{\"attributes\":{\"source\":{\"id\":\"3353\"}},\"id\":\"3360\",\"type\":\"CDSView\"},{\"attributes\":{\"line_color\":\"#bcbc21\",\"line_width\":2,\"x\":{\"field\":\"Date\"},\"y\":{\"field\":\"0\"}},\"id\":\"3584\",\"type\":\"Line\"},{\"attributes\":{\"line_color\":\"#ff7e0e\",\"line_width\":2,\"x\":{\"field\":\"Date\"},\"y\":{\"field\":\"0\"}},\"id\":\"3325\",\"type\":\"Line\"},{\"attributes\":{\"days\":[1,4,7,10,13,16,19,22,25,28]},\"id\":\"3312\",\"type\":\"DaysTicker\"},{\"attributes\":{\"line_alpha\":0.2,\"line_color\":\"#7e7e7e\",\"line_width\":2,\"x\":{\"field\":\"Date\"},\"y\":{\"field\":\"0\"}},\"id\":\"3543\",\"type\":\"Line\"},{\"attributes\":{},\"id\":\"3263\",\"type\":\"LinearScale\"},{\"attributes\":{\"callback\":null,\"formatters\":{\"@{Date}\":\"datetime\"},\"renderers\":[{\"id\":\"3298\"},{\"id\":\"3328\"},{\"id\":\"3359\"},{\"id\":\"3392\"},{\"id\":\"3427\"},{\"id\":\"3464\"},{\"id\":\"3503\"},{\"id\":\"3544\"},{\"id\":\"3587\"},{\"id\":\"3632\"},{\"id\":\"3679\"}],\"tags\":[\"hv_created\"],\"tooltips\":[[\"Date\",\"@{Date}{%F %T}\"],[\"0\",\"@{A_0}\"]]},\"id\":\"3247\",\"type\":\"HoverTool\"},{\"attributes\":{\"axis_label\":\"Date\",\"bounds\":\"auto\",\"formatter\":{\"id\":\"3289\"},\"major_label_orientation\":\"horizontal\",\"ticker\":{\"id\":\"3268\"}},\"id\":\"3267\",\"type\":\"DatetimeAxis\"},{\"attributes\":{\"label\":{\"value\":\"XLI\"},\"renderers\":[{\"id\":\"3544\"}]},\"id\":\"3580\",\"type\":\"LegendItem\"},{\"attributes\":{\"data\":{\"0\":{\"__ndarray__\":\"AAAAAAAA+H8AAAAAAAD4fwAAAAAAAPh/AAAAAAAA+H8AAAAAAAD4fwAAAAAAAPh//c129ExAGECLhj4c6xUaQBSSlu7Y2xlAdU45wr6JGkBUvumjp2oZQAdUtUHB9xdA6p5rXHlOGEAcs6ywnm0YQIj17Y124BlAHbf9qpVdHEABFhtF+7kfQH1chD8UdyFAHMnkic94H0Dv31OisswgQDciWGyb5yBAV65iGVtHIUBMtVIdqkEbQOc9QZLIqhhACWTxuqmNF0Cq0yj0Xb4YQCA0rErALxlAlxzSQ55QGkCxzLtLGbwbQDG54WjsShpAafOWg+gmGUBEA1E+1sQXQBQGKbJlqhVA8XX62E8EE0DAkq0dWFQSQP8sjPs/VhhAX4J8gO4yG0Br1UgXWEQYQK/iBPMWcxVAd8yL822tFUAEahuZ4vMUQKUGOQnJGBRAkCiDiltIEkC7xI8ePOcPQIg8ukRALgZAQoiBGEYyAUBpepYc1csBQOOCcKfD8BdAcq5MsAX9D0BXJVbZoqoQQE0geovKjRBAcMyDb7aJEkAbi0VSHpgUQLLXxhWvTBZAOL5Y1BIKF0CrhTMnY6IUQCXDaklZ5BBAAa4GXN07EEC7uV1wur0MQAP4oRXjAg5AdftdjygsD0BZjTcXglAWQAMPv4O//CZA6WDd7mNTIUBQqxAsgR4eQA/Nr2ejyRxAKs9GHn5oGkCGcA97PfIgQDxeDylgPSBADknP9oq2HkAKon8q8CoaQOJcAGVwDxxA6X6TU7APHUBOE5vy6cIeQO8tjObiTh5AMiUlIQ+VHECS0O/yLgoaQJvkFXo6TRVAjrHTPTKoE0BnnbA1G4cUQP9m/1N5KhpAwNpM9DI/GEAi4Q7dPRgMQKYsWGV40whAnVSJkIGOCEBqwVov+eEIQFjnokFL8QpAw2XkasAhEEBO80orGFkPQGcXyYKsgAxAQt8lCdzyBkDE5/P6qZIEQEHKOPkDQgBA9byV9pMOAkBZhoAiZbQQQB3NHMpFzxJAedW/86+GFUCiiDlQBk8UQKEDs4YmPRpA4XVWDWnNG0BjQ620Wn0JQMLG9422jglAEeAM3oCYCUCMcVZuBWUJQOGUwc1fYxBAdZqF/ao9E0C9GKe19uENQKkNDj809hFAOTBx/VuAEUC9fm85XWsTQEiqNYvgxg1APCTVM38nDkB7tHRCM8IMQJG7eiUYOwdACM3TMaYCBkCuxpUIVvcBQBzfb3N3uv4/ywpoJSs5CUA5Reo6YJYMQJjJHDsFVAlAlkCXGNUk7T8PAG12+R/5P0/hohHN2AZA9MEUPBbYCUCN5sXWHC0FQFLo+QXtRwdAIIN/x+0PCUDoq4gMfj4HQD+1VlaYMAdApKW1bXkpD0Bm06Of+OcRQLGx+oKJ/xJAkNGinG+9E0B5sAsxL7ESQK22jTp3khJAJizu0YDBEUCvrAR+vYYNQDjXiYs9gRFAIvk4z/2VE0BaB90BgaEKQPSV6X3BzA5ASUmGzLBXEUD52LqkrDUSQPRYDfUjxhNA31lcqtooF0D35ADTaj0aQAm8exHsDBhAPEHRSM1pFkB0WApD0j8ZQL4isjB+RRdAFIxGsTdIFkDxi/WVypkVQKVbRp7d3QlAP2udxho/AkA=\",\"dtype\":\"float64\",\"order\":\"little\",\"shape\":[154]},\"A_0\":{\"__ndarray__\":\"AAAAAAAA+H8AAAAAAAD4fwAAAAAAAPh/AAAAAAAA+H8AAAAAAAD4fwAAAAAAAPh//c129ExAGECLhj4c6xUaQBSSlu7Y2xlAdU45wr6JGkBUvumjp2oZQAdUtUHB9xdA6p5rXHlOGEAcs6ywnm0YQIj17Y124BlAHbf9qpVdHEABFhtF+7kfQH1chD8UdyFAHMnkic94H0Dv31OisswgQDciWGyb5yBAV65iGVtHIUBMtVIdqkEbQOc9QZLIqhhACWTxuqmNF0Cq0yj0Xb4YQCA0rErALxlAlxzSQ55QGkCxzLtLGbwbQDG54WjsShpAafOWg+gmGUBEA1E+1sQXQBQGKbJlqhVA8XX62E8EE0DAkq0dWFQSQP8sjPs/VhhAX4J8gO4yG0Br1UgXWEQYQK/iBPMWcxVAd8yL822tFUAEahuZ4vMUQKUGOQnJGBRAkCiDiltIEkC7xI8ePOcPQIg8ukRALgZAQoiBGEYyAUBpepYc1csBQOOCcKfD8BdAcq5MsAX9D0BXJVbZoqoQQE0geovKjRBAcMyDb7aJEkAbi0VSHpgUQLLXxhWvTBZAOL5Y1BIKF0CrhTMnY6IUQCXDaklZ5BBAAa4GXN07EEC7uV1wur0MQAP4oRXjAg5AdftdjygsD0BZjTcXglAWQAMPv4O//CZA6WDd7mNTIUBQqxAsgR4eQA/Nr2ejyRxAKs9GHn5oGkCGcA97PfIgQDxeDylgPSBADknP9oq2HkAKon8q8CoaQOJcAGVwDxxA6X6TU7APHUBOE5vy6cIeQO8tjObiTh5AMiUlIQ+VHECS0O/yLgoaQJvkFXo6TRVAjrHTPTKoE0BnnbA1G4cUQP9m/1N5KhpAwNpM9DI/GEAi4Q7dPRgMQKYsWGV40whAnVSJkIGOCEBqwVov+eEIQFjnokFL8QpAw2XkasAhEEBO80orGFkPQGcXyYKsgAxAQt8lCdzyBkDE5/P6qZIEQEHKOPkDQgBA9byV9pMOAkBZhoAiZbQQQB3NHMpFzxJAedW/86+GFUCiiDlQBk8UQKEDs4YmPRpA4XVWDWnNG0BjQ620Wn0JQMLG9422jglAEeAM3oCYCUCMcVZuBWUJQOGUwc1fYxBAdZqF/ao9E0C9GKe19uENQKkNDj809hFAOTBx/VuAEUC9fm85XWsTQEiqNYvgxg1APCTVM38nDkB7tHRCM8IMQJG7eiUYOwdACM3TMaYCBkCuxpUIVvcBQBzfb3N3uv4/ywpoJSs5CUA5Reo6YJYMQJjJHDsFVAlAlkCXGNUk7T8PAG12+R/5P0/hohHN2AZA9MEUPBbYCUCN5sXWHC0FQFLo+QXtRwdAIIN/x+0PCUDoq4gMfj4HQD+1VlaYMAdApKW1bXkpD0Bm06Of+OcRQLGx+oKJ/xJAkNGinG+9E0B5sAsxL7ESQK22jTp3khJAJizu0YDBEUCvrAR+vYYNQDjXiYs9gRFAIvk4z/2VE0BaB90BgaEKQPSV6X3BzA5ASUmGzLBXEUD52LqkrDUSQPRYDfUjxhNA31lcqtooF0D35ADTaj0aQAm8exHsDBhAPEHRSM1pFkB0WApD0j8ZQL4isjB+RRdAFIxGsTdIFkDxi/WVypkVQKVbRp7d3QlAP2udxho/AkA=\",\"dtype\":\"float64\",\"order\":\"little\",\"shape\":[154]},\"Date\":{\"__ndarray__\":\"AABArYgJd0IAAAAT2wl3QgAAwHgtCndCAACA3n8Kd0IAAEBE0gp3QgAAgHXJC3dCAABA2xsMd0IAAABBbgx3QgAAwKbADHdCAACADBMNd0IAAMA9Cg53QgAAgKNcDndCAABACa8Od0IAAABvAQ93QgAAwNRTD3dCAAAABksQd0IAAMBrnRB3QgAAgNHvEHdCAABAN0IRd0IAAACdlBF3QgAAQM6LEndCAAAANN4Sd0IAAMCZMBN3QgAAgP+CE3dCAABAZdUTd0IAAICWzBR3QgAAQPweFXdCAAAAYnEVd0IAAMDHwxV3QgAAwF4NF3dCAACAxF8Xd0IAAEAqshd3QgAAAJAEGHdCAADA9VYYd0IAAAAnThl3QgAAwIygGXdCAACA8vIZd0IAAEBYRRp3QgAAAL6XGndCAABA744bd0IAAABV4Rt3QgAAwLozHHdCAACAIIYcd0IAAECG2Bx3QgAAgLfPHXdCAABAHSIed0IAAACDdB53QgAAwOjGHndCAACAThkfd0IAAMB/ECB3QgAAgOViIHdCAABAS7Ugd0IAAACxByF3QgAAwBZaIXdCAAAASFEid0IAAMCtoyJ3QgAAgBP2IndCAABAeUgjd0IAAADfmiN3QgAAAHbkJHdCAADA2zYld0IAAIBBiSV3QgAAQKfbJXdCAACA2NImd0IAAEA+JSd3QgAAAKR3J3dCAADACcond0IAAIBvHCh3QgAAwKATKXdCAACABmYpd0IAAEBsuCl3QgAAANIKKndCAADAN10qd0IAAABpVCt3QgAAwM6mK3dCAACANPkrd0IAAECaSyx3QgAAAACeLHdCAABAMZUtd0IAAACX5y13QgAAwPw5LndCAACAYowud0IAAEDI3i53QgAAgPnVL3dCAABAXygwd0IAAADFejB3QgAAwCrNMHdCAADAwRYyd0IAAIAnaTJ3QgAAQI27MndCAAAA8w0zd0IAAMBYYDN3QgAAAIpXNHdCAADA76k0d0IAAIBV/DR3QgAAQLtONXdCAAAAIaE1d0IAAEBSmDZ3QgAAALjqNndCAADAHT03d0IAAICDjzd3QgAAQOnhN3dCAACAGtk4d0IAAECAKzl3QgAAAOZ9OXdCAADAS9A5d0IAAICxIjp3QgAAwOIZO3dCAACASGw7d0IAAECuvjt3QgAAABQRPHdCAADAeWM8d0IAAACrWj13QgAAwBCtPXdCAACAdv89d0IAAEDcUT53QgAAAEKkPndCAABAc5s/d0IAAADZ7T93QgAAwD5AQHdCAACApJJAd0IAAEAK5UB3QgAAgDvcQXdCAABAoS5Cd0IAAAAHgUJ3QgAAwGzTQndCAACA0iVDd0IAAMADHUR3QgAAgGlvRHdCAABAz8FEd0IAAAA1FEV3QgAAwJpmRXdCAADAMbBGd0IAAICXAkd3QgAAQP1UR3dCAAAAY6dHd0IAAECUnkh3QgAAAPrwSHdCAADAX0NJd0IAAIDFlUl3QgAAQCvoSXdCAACAXN9Kd0IAAEDCMUt3QgAAACiES3dCAADAjdZLd0IAAIDzKEx3QgAAwCQgTXdCAACAinJNd0IAAEDwxE13QgAAAFYXTndCAADAu2lOd0IAAADtYE93QgAAwFKzT3dCAACAuAVQd0I=\",\"dtype\":\"float64\",\"order\":\"little\",\"shape\":[154]}},\"selected\":{\"id\":\"3323\"},\"selection_policy\":{\"id\":\"3338\"}},\"id\":\"3322\",\"type\":\"ColumnDataSource\"},{\"attributes\":{\"num_minor_ticks\":5,\"tickers\":[{\"id\":\"3308\"},{\"id\":\"3309\"},{\"id\":\"3310\"},{\"id\":\"3311\"},{\"id\":\"3312\"},{\"id\":\"3313\"},{\"id\":\"3314\"},{\"id\":\"3315\"},{\"id\":\"3316\"},{\"id\":\"3317\"},{\"id\":\"3318\"},{\"id\":\"3319\"}]},\"id\":\"3268\",\"type\":\"DatetimeTicker\"},{\"attributes\":{},\"id\":\"3272\",\"type\":\"BasicTicker\"},{\"attributes\":{\"days\":[1,8,15,22]},\"id\":\"3313\",\"type\":\"DaysTicker\"},{\"attributes\":{\"line_alpha\":0.1,\"line_color\":\"#16bdcf\",\"line_width\":2,\"x\":{\"field\":\"Date\"},\"y\":{\"field\":\"0\"}},\"id\":\"3630\",\"type\":\"Line\"},{\"attributes\":{},\"id\":\"3306\",\"type\":\"UnionRenderers\"},{\"attributes\":{},\"id\":\"3611\",\"type\":\"UnionRenderers\"},{\"attributes\":{\"line_color\":\"#d62628\",\"line_width\":2,\"x\":{\"field\":\"Date\"},\"y\":{\"field\":\"0\"}},\"id\":\"3389\",\"type\":\"Line\"},{\"attributes\":{\"label\":{\"value\":\"XLY\"},\"renderers\":[{\"id\":\"3427\"}]},\"id\":\"3457\",\"type\":\"LegendItem\"},{\"attributes\":{},\"id\":\"3422\",\"type\":\"Selection\"},{\"attributes\":{\"axis\":{\"id\":\"3271\"},\"dimension\":1,\"grid_line_color\":null,\"ticker\":null},\"id\":\"3274\",\"type\":\"Grid\"},{\"attributes\":{\"source\":{\"id\":\"3626\"}},\"id\":\"3633\",\"type\":\"CDSView\"},{\"attributes\":{},\"id\":\"3443\",\"type\":\"UnionRenderers\"},{\"attributes\":{\"axis\":{\"id\":\"3267\"},\"grid_line_color\":null,\"ticker\":null},\"id\":\"3270\",\"type\":\"Grid\"},{\"attributes\":{\"line_alpha\":0.1,\"line_color\":\"#bcbc21\",\"line_width\":2,\"x\":{\"field\":\"Date\"},\"y\":{\"field\":\"0\"}},\"id\":\"3585\",\"type\":\"Line\"},{\"attributes\":{\"label\":{\"value\":\"XLB\"},\"renderers\":[{\"id\":\"3298\"}]},\"id\":\"3321\",\"type\":\"LegendItem\"},{\"attributes\":{\"line_alpha\":0.2,\"line_color\":\"#ff7e0e\",\"line_width\":2,\"x\":{\"field\":\"Date\"},\"y\":{\"field\":\"0\"}},\"id\":\"3327\",\"type\":\"Line\"},{\"attributes\":{\"line_color\":\"#8c564b\",\"line_width\":2,\"x\":{\"field\":\"Date\"},\"y\":{\"field\":\"0\"}},\"id\":\"3461\",\"type\":\"Line\"},{\"attributes\":{\"label\":{\"value\":\"XLK\"},\"renderers\":[{\"id\":\"3632\"}]},\"id\":\"3672\",\"type\":\"LegendItem\"},{\"attributes\":{\"months\":[0,1,2,3,4,5,6,7,8,9,10,11]},\"id\":\"3315\",\"type\":\"MonthsTicker\"},{\"attributes\":{\"line_alpha\":0.2,\"line_color\":\"#d62628\",\"line_width\":2,\"x\":{\"field\":\"Date\"},\"y\":{\"field\":\"0\"}},\"id\":\"3391\",\"type\":\"Line\"},{\"attributes\":{},\"id\":\"3289\",\"type\":\"DatetimeTickFormatter\"},{\"attributes\":{\"data_source\":{\"id\":\"3581\"},\"glyph\":{\"id\":\"3584\"},\"hover_glyph\":null,\"muted_glyph\":{\"id\":\"3586\"},\"nonselection_glyph\":{\"id\":\"3585\"},\"selection_glyph\":null,\"view\":{\"id\":\"3588\"}},\"id\":\"3587\",\"type\":\"GlyphRenderer\"},{\"attributes\":{},\"id\":\"3279\",\"type\":\"ResetTool\"},{\"attributes\":{\"data\":{\"0\":{\"__ndarray__\":\"AAAAAAAA+H8AAAAAAAD4fwAAAAAAAPh/AAAAAAAA+H8AAAAAAAD4fwAAAAAAAPh/kuEk7l7JGkC86nC8a94cQA7tOD2VGSFAFpO2OXQ+IkDvIzIgHGQkQLlrLaOjbiVAImmyflvJI0DgbNEwFEoiQADqNxEc4CFAorl6fRaWIUDpLkiyg0oiQAn9gxi6hSJAgM3bLmxdI0Bx9hrmrLEjQM+/jG3RliRAWwpbiRDhI0ATsLS7L9ohQOXZt4ajxh1A5TqzG7giG0DIvoq7ikwgQGAiTu34WyNA/XoTimAeJUAgXohUf4ohQP9ZriL0AyFAgIBqXVjUIUDBc6+mVtgZQKByvaEcpwpAfcN1C2aG5T+srQISlhPUP8HItFTDHxJANtH25qrqG0DpBs9qBR0hQCi0S5LneyFAZDX5wY4qI0DMgUEQ56YeQIBEPt2jUh9AU42TKAAXHEASt6KTHngbQFduPmpidRlA7vZdhRLAFUBs4GT8nZ4RQESe2jyPeBJAH7u1DjJXFEDSEQA+uAsXQJp2A6fGMRlAA0MaQjiYGkB3MkaoeTscQPclYWjE3BlAVIs3IV3IHkBvkiPQMqwiQNvOOG5HcCRAO3D+/sMsJEBz0Mq4VdckQLU9/2Uq6RhA13GknGi0EEBbqx5e+jkRQBPhSuzxEhFAHOJF7Lw4E0BeTJBICHUUQK8C/fpA2hpAkEb0/rVqEkDjx+Wx060UQL1ZK9M6KBVAEcNMP8jpFUCLuQB7DLsUQDJQS7vNbhhAKJZ/x1xrGUB+FsvtEsAZQPGvNsjTXxpA0h5vkS3UHECo/Y/nWIAiQMNkyWV+qSJAEQ7+O0rPGECxO059HDT8P/e3g9mvwRVA4Oa7xzXnGEAvRPsUFFUdQLOW4gCE0RtAXAISZq4nIEAxhyp5txscQM7ZqaWn2xdA8NF15p3xIkASFR2OYHIyQB3y5uBUyi5AxFySsOFgDUB1eQVMq1IaQGGFveGWjQ1Ab/zZaVu7DkAByLABL1kUQFEwX4KNUBNAMBdP4uMNFUCfGYp3GV8fQNhNEEXxrCJAtc8eKReXHUD75KDKrX0MQGmDzW9wOAFAWndBbfpMAECiycczGesAQCzXUscY8B5AfCX2cd0fFECiYJGw8bXDPyKGCxWTxN+/507A26Z+4L9YpV+cmnsUQBt5p0OhzhVAHFGCTeQzJEAKxaSAVUEcQIB6ghCkjgpABBDED1gWCkAdB1W+yAEDQBjx0GB3qfU/07fyadZKBcBWYB3BHVcUwGpuk5hZnQ/AkV2BzlST97/Gt7tuneIDwEQvZX9Nxcu/6GhhLXiBHEBzP2QFAN8lQHigbi3wwiVAB1XOiBYmJUAdXWw/o1IkQH+V+bdjuiZAfasE4+5qLEA2/qTepqQpQJReaJ1q4yxADeMXXs9wN0DWvz3sUAs5QPjDdo+rkzdAPUaMgjHiNkAS7xcYE2wuQKaL1vXmeSZANbEDIFzSJUBXwFhM5q8iQGTu04353SVAJur+ocqmJUAU3ieIkwwgQNrtepD26CBAxzmiecNaHkBSgrOAMXEYQC4bO/3OnhZAncsipA7EJUAKnb+okUQrQNzwpJCbXixApbwIVjMJJkCythNbuWIgQD3nvKNukxdAlmPS1GZEG0A=\",\"dtype\":\"float64\",\"order\":\"little\",\"shape\":[154]},\"A_0\":{\"__ndarray__\":\"AAAAAAAA+H8AAAAAAAD4fwAAAAAAAPh/AAAAAAAA+H8AAAAAAAD4fwAAAAAAAPh/kuEk7l7JGkC86nC8a94cQA7tOD2VGSFAFpO2OXQ+IkDvIzIgHGQkQLlrLaOjbiVAImmyflvJI0DgbNEwFEoiQADqNxEc4CFAorl6fRaWIUDpLkiyg0oiQAn9gxi6hSJAgM3bLmxdI0Bx9hrmrLEjQM+/jG3RliRAWwpbiRDhI0ATsLS7L9ohQOXZt4ajxh1A5TqzG7giG0DIvoq7ikwgQGAiTu34WyNA/XoTimAeJUAgXohUf4ohQP9ZriL0AyFAgIBqXVjUIUDBc6+mVtgZQKByvaEcpwpAfcN1C2aG5T+srQISlhPUP8HItFTDHxJANtH25qrqG0DpBs9qBR0hQCi0S5LneyFAZDX5wY4qI0DMgUEQ56YeQIBEPt2jUh9AU42TKAAXHEASt6KTHngbQFduPmpidRlA7vZdhRLAFUBs4GT8nZ4RQESe2jyPeBJAH7u1DjJXFEDSEQA+uAsXQJp2A6fGMRlAA0MaQjiYGkB3MkaoeTscQPclYWjE3BlAVIs3IV3IHkBvkiPQMqwiQNvOOG5HcCRAO3D+/sMsJEBz0Mq4VdckQLU9/2Uq6RhA13GknGi0EEBbqx5e+jkRQBPhSuzxEhFAHOJF7Lw4E0BeTJBICHUUQK8C/fpA2hpAkEb0/rVqEkDjx+Wx060UQL1ZK9M6KBVAEcNMP8jpFUCLuQB7DLsUQDJQS7vNbhhAKJZ/x1xrGUB+FsvtEsAZQPGvNsjTXxpA0h5vkS3UHECo/Y/nWIAiQMNkyWV+qSJAEQ7+O0rPGECxO059HDT8P/e3g9mvwRVA4Oa7xzXnGEAvRPsUFFUdQLOW4gCE0RtAXAISZq4nIEAxhyp5txscQM7ZqaWn2xdA8NF15p3xIkASFR2OYHIyQB3y5uBUyi5AxFySsOFgDUB1eQVMq1IaQGGFveGWjQ1Ab/zZaVu7DkAByLABL1kUQFEwX4KNUBNAMBdP4uMNFUCfGYp3GV8fQNhNEEXxrCJAtc8eKReXHUD75KDKrX0MQGmDzW9wOAFAWndBbfpMAECiycczGesAQCzXUscY8B5AfCX2cd0fFECiYJGw8bXDPyKGCxWTxN+/507A26Z+4L9YpV+cmnsUQBt5p0OhzhVAHFGCTeQzJEAKxaSAVUEcQIB6ghCkjgpABBDED1gWCkAdB1W+yAEDQBjx0GB3qfU/07fyadZKBcBWYB3BHVcUwGpuk5hZnQ/AkV2BzlST97/Gt7tuneIDwEQvZX9Nxcu/6GhhLXiBHEBzP2QFAN8lQHigbi3wwiVAB1XOiBYmJUAdXWw/o1IkQH+V+bdjuiZAfasE4+5qLEA2/qTepqQpQJReaJ1q4yxADeMXXs9wN0DWvz3sUAs5QPjDdo+rkzdAPUaMgjHiNkAS7xcYE2wuQKaL1vXmeSZANbEDIFzSJUBXwFhM5q8iQGTu04353SVAJur+ocqmJUAU3ieIkwwgQNrtepD26CBAxzmiecNaHkBSgrOAMXEYQC4bO/3OnhZAncsipA7EJUAKnb+okUQrQNzwpJCbXixApbwIVjMJJkCythNbuWIgQD3nvKNukxdAlmPS1GZEG0A=\",\"dtype\":\"float64\",\"order\":\"little\",\"shape\":[154]},\"Date\":{\"__ndarray__\":\"AABArYgJd0IAAAAT2wl3QgAAwHgtCndCAACA3n8Kd0IAAEBE0gp3QgAAgHXJC3dCAABA2xsMd0IAAABBbgx3QgAAwKbADHdCAACADBMNd0IAAMA9Cg53QgAAgKNcDndCAABACa8Od0IAAABvAQ93QgAAwNRTD3dCAAAABksQd0IAAMBrnRB3QgAAgNHvEHdCAABAN0IRd0IAAACdlBF3QgAAQM6LEndCAAAANN4Sd0IAAMCZMBN3QgAAgP+CE3dCAABAZdUTd0IAAICWzBR3QgAAQPweFXdCAAAAYnEVd0IAAMDHwxV3QgAAwF4NF3dCAACAxF8Xd0IAAEAqshd3QgAAAJAEGHdCAADA9VYYd0IAAAAnThl3QgAAwIygGXdCAACA8vIZd0IAAEBYRRp3QgAAAL6XGndCAABA744bd0IAAABV4Rt3QgAAwLozHHdCAACAIIYcd0IAAECG2Bx3QgAAgLfPHXdCAABAHSIed0IAAACDdB53QgAAwOjGHndCAACAThkfd0IAAMB/ECB3QgAAgOViIHdCAABAS7Ugd0IAAACxByF3QgAAwBZaIXdCAAAASFEid0IAAMCtoyJ3QgAAgBP2IndCAABAeUgjd0IAAADfmiN3QgAAAHbkJHdCAADA2zYld0IAAIBBiSV3QgAAQKfbJXdCAACA2NImd0IAAEA+JSd3QgAAAKR3J3dCAADACcond0IAAIBvHCh3QgAAwKATKXdCAACABmYpd0IAAEBsuCl3QgAAANIKKndCAADAN10qd0IAAABpVCt3QgAAwM6mK3dCAACANPkrd0IAAECaSyx3QgAAAACeLHdCAABAMZUtd0IAAACX5y13QgAAwPw5LndCAACAYowud0IAAEDI3i53QgAAgPnVL3dCAABAXygwd0IAAADFejB3QgAAwCrNMHdCAADAwRYyd0IAAIAnaTJ3QgAAQI27MndCAAAA8w0zd0IAAMBYYDN3QgAAAIpXNHdCAADA76k0d0IAAIBV/DR3QgAAQLtONXdCAAAAIaE1d0IAAEBSmDZ3QgAAALjqNndCAADAHT03d0IAAICDjzd3QgAAQOnhN3dCAACAGtk4d0IAAECAKzl3QgAAAOZ9OXdCAADAS9A5d0IAAICxIjp3QgAAwOIZO3dCAACASGw7d0IAAECuvjt3QgAAABQRPHdCAADAeWM8d0IAAACrWj13QgAAwBCtPXdCAACAdv89d0IAAEDcUT53QgAAAEKkPndCAABAc5s/d0IAAADZ7T93QgAAwD5AQHdCAACApJJAd0IAAEAK5UB3QgAAgDvcQXdCAABAoS5Cd0IAAAAHgUJ3QgAAwGzTQndCAACA0iVDd0IAAMADHUR3QgAAgGlvRHdCAABAz8FEd0IAAAA1FEV3QgAAwJpmRXdCAADAMbBGd0IAAICXAkd3QgAAQP1UR3dCAAAAY6dHd0IAAECUnkh3QgAAAPrwSHdCAADAX0NJd0IAAIDFlUl3QgAAQCvoSXdCAACAXN9Kd0IAAEDCMUt3QgAAACiES3dCAADAjdZLd0IAAIDzKEx3QgAAwCQgTXdCAACAinJNd0IAAEDwxE13QgAAAFYXTndCAADAu2lOd0IAAADtYE93QgAAwFKzT3dCAACAuAVQd0I=\",\"dtype\":\"float64\",\"order\":\"little\",\"shape\":[154]}},\"selected\":{\"id\":\"3387\"},\"selection_policy\":{\"id\":\"3406\"}},\"id\":\"3386\",\"type\":\"ColumnDataSource\"},{\"attributes\":{\"line_alpha\":0.2,\"line_color\":\"#16bdcf\",\"line_width\":2,\"x\":{\"field\":\"Date\"},\"y\":{\"field\":\"0\"}},\"id\":\"3631\",\"type\":\"Line\"},{\"attributes\":{\"bottom_units\":\"screen\",\"fill_alpha\":0.5,\"fill_color\":\"lightgrey\",\"left_units\":\"screen\",\"level\":\"overlay\",\"line_alpha\":1.0,\"line_color\":\"black\",\"line_dash\":[4,4],\"line_width\":2,\"right_units\":\"screen\",\"top_units\":\"screen\"},\"id\":\"3280\",\"type\":\"BoxAnnotation\"},{\"attributes\":{\"label\":{\"value\":\"XLC\"},\"renderers\":[{\"id\":\"3328\"}]},\"id\":\"3352\",\"type\":\"LegendItem\"},{\"attributes\":{\"line_alpha\":0.2,\"line_color\":\"#1f77b3\",\"line_width\":2,\"x\":{\"field\":\"Date\"},\"y\":{\"field\":\"0\"}},\"id\":\"3297\",\"type\":\"Line\"},{\"attributes\":{\"line_alpha\":0.1,\"line_color\":\"#ff7e0e\",\"line_width\":2,\"x\":{\"field\":\"Date\"},\"y\":{\"field\":\"0\"}},\"id\":\"3326\",\"type\":\"Line\"},{\"attributes\":{\"source\":{\"id\":\"3458\"}},\"id\":\"3465\",\"type\":\"CDSView\"},{\"attributes\":{},\"id\":\"3459\",\"type\":\"Selection\"},{\"attributes\":{},\"id\":\"3323\",\"type\":\"Selection\"},{\"attributes\":{},\"id\":\"3539\",\"type\":\"Selection\"},{\"attributes\":{},\"id\":\"3275\",\"type\":\"SaveTool\"},{\"attributes\":{},\"id\":\"3566\",\"type\":\"UnionRenderers\"},{\"attributes\":{},\"id\":\"3658\",\"type\":\"UnionRenderers\"},{\"attributes\":{\"end\":28.315733906366248,\"reset_end\":28.315733906366248,\"reset_start\":-10.942630559648999,\"start\":-10.942630559648999,\"tags\":[[[\"0\",\"0\",null]]]},\"id\":\"3246\",\"type\":\"Range1d\"},{\"attributes\":{\"line_alpha\":0.1,\"line_color\":\"#1f77b3\",\"line_width\":2,\"x\":{\"field\":\"Date\"},\"y\":{\"field\":\"0\"}},\"id\":\"3296\",\"type\":\"Line\"},{\"attributes\":{\"line_color\":\"#2ba02b\",\"line_width\":2,\"x\":{\"field\":\"Date\"},\"y\":{\"field\":\"0\"}},\"id\":\"3356\",\"type\":\"Line\"},{\"attributes\":{\"data\":{\"0\":{\"__ndarray__\":\"AAAAAAAA+H8AAAAAAAD4fwAAAAAAAPh/AAAAAAAA+H8AAAAAAAD4fwAAAAAAAPh/8EDE11JAC0DKsyQGfqUKQCkPYXpyKwxAC/DovQULDEBeWkQosxsMQBuEC21PYQxAwsTCSQBqC0BiH7ChPmMKQPuQC8gcdgpAn+zDoG04CkBSAt0Af5MIQFRqh7rv3wdA1R6mL7KsB0AB7d+YBOIHQJNtMz/xdAlA/H0lHsQ6CUD58Z0oE9UJQBTH8oQW0glAq47jzWi0B0BL0w1RXEIQQO+haX7GqhFA9BUU9dj2EUDHQ4Ry8+YRQBbMEKlBDBJADiSVZsKJE0Ax271NVL4RQO2bCdc8GQNALYHRk1rH+D8NKSFlaLb7P1lDhM/YfwxACzx5IDGrC0DpV0gxtTgNQA3sQcH/qQ1Ae1OGZlmfD0DBpGWjWW0GQFqYzjpgJAhA6PZnR3zlBUA0h9EYJVQGQH4yS5vyxAJA7eUQslQ+AEATdX/Y49b8P39B+E5qS/8/84jvNZQ6AkDlRL5RUkwNQIUKgu0FfgpAWqFCOfRKBkCFoevwMFsFQMZHjV+A7gJAkhk6r/GgBEDR6JiFnJQFQF8nKICXWQZAs/2XlxcgBUAD2SBWvvACQDcL8vG9RP4/6sGiasRn+j81saTt4pb7P/eMWeiesPs/Bg48ZH5GAEAWWh3zGq0BQBcfIVmk3wNAlPd9EgaZ/T9q0PNlFgsAQP2WrOswNgBAU0WJp1epAEAXyqR26swAQDd393hA6ARApcjI87VUBUBrwBB82DAFQAMcIW7OsQVAbU0uiCAnCUAWILkGBRgOQJUoYr+jhw9AOjrXllQ6CkDm7FM8+vr3P0tQD5VlIABAoIVYlxBW/z8TaMLoNdQFQFtTl+HYyAZAJdlfMdyWCEDgaiCH+IgJQBnR533X9wlAz8LFx9VDEED1/IhH/tYRQPhy2H67dhRAxvvR6PSi6T9TZ/fEtGHaP6QG0C5mwdE/NbTChyEJ8j/sq0znuIr7P+kbvlb7tfg/R8J+perT9z/+To2VP8T5P/cbSWhXTQFAvcGlAlwJAkCmWNn0c2T9PwFaBkT3jvw//045yGnq8j+aM8dOyST6P/5OFfsPQRFAo44igrNlEUDuE1kAyW/4P7JKJaRYEQFAuVG25IbvAUClJjsws+QMQE3scyDEDwtA30STOL6HBUCkoNl2BJP5P6nTxcTbs+s/QKf9KCoG6z/+BIMvgvblP8xJrh+xgOA/iabr1DED6D8v+pWv51f7v0eGYwlfpvq//gubtrSN5798EYGr5Kz0vxT6vCfFbvU/3ibTvoFUCkDNqzAHZW4SQDnt9pr09hNAoIgFRoyXEkCBQZenoXUTQL62DQdOdRdAeNLeqUf8E0CQ+ZYfvfwSQMS9xv9vDBZABe821kcxG0BIlg+ftZYcQEmnzLuaoR1A7R2GLNRVHEA5RKgvF/EKQJAgywEanwZAQW+wz1syAEBLE471ZinwP64apjKWq/I/k8mxFBZkBUDL5EY+6s4FQA0UmLzWcQhAjyfTAUDVBkCAKyvNlGcDQCDkVscVKQVAivMiPlbREUBIDTVAmHoTQP+wqo8+YxRARjNmxA4OEUBYsBr6dVYHQEqOUGaVbPs/mA4sOPALAkA=\",\"dtype\":\"float64\",\"order\":\"little\",\"shape\":[154]},\"A_0\":{\"__ndarray__\":\"AAAAAAAA+H8AAAAAAAD4fwAAAAAAAPh/AAAAAAAA+H8AAAAAAAD4fwAAAAAAAPh/8EDE11JAC0DKsyQGfqUKQCkPYXpyKwxAC/DovQULDEBeWkQosxsMQBuEC21PYQxAwsTCSQBqC0BiH7ChPmMKQPuQC8gcdgpAn+zDoG04CkBSAt0Af5MIQFRqh7rv3wdA1R6mL7KsB0AB7d+YBOIHQJNtMz/xdAlA/H0lHsQ6CUD58Z0oE9UJQBTH8oQW0glAq47jzWi0B0BL0w1RXEIQQO+haX7GqhFA9BUU9dj2EUDHQ4Ry8+YRQBbMEKlBDBJADiSVZsKJE0Ax271NVL4RQO2bCdc8GQNALYHRk1rH+D8NKSFlaLb7P1lDhM/YfwxACzx5IDGrC0DpV0gxtTgNQA3sQcH/qQ1Ae1OGZlmfD0DBpGWjWW0GQFqYzjpgJAhA6PZnR3zlBUA0h9EYJVQGQH4yS5vyxAJA7eUQslQ+AEATdX/Y49b8P39B+E5qS/8/84jvNZQ6AkDlRL5RUkwNQIUKgu0FfgpAWqFCOfRKBkCFoevwMFsFQMZHjV+A7gJAkhk6r/GgBEDR6JiFnJQFQF8nKICXWQZAs/2XlxcgBUAD2SBWvvACQDcL8vG9RP4/6sGiasRn+j81saTt4pb7P/eMWeiesPs/Bg48ZH5GAEAWWh3zGq0BQBcfIVmk3wNAlPd9EgaZ/T9q0PNlFgsAQP2WrOswNgBAU0WJp1epAEAXyqR26swAQDd393hA6ARApcjI87VUBUBrwBB82DAFQAMcIW7OsQVAbU0uiCAnCUAWILkGBRgOQJUoYr+jhw9AOjrXllQ6CkDm7FM8+vr3P0tQD5VlIABAoIVYlxBW/z8TaMLoNdQFQFtTl+HYyAZAJdlfMdyWCEDgaiCH+IgJQBnR533X9wlAz8LFx9VDEED1/IhH/tYRQPhy2H67dhRAxvvR6PSi6T9TZ/fEtGHaP6QG0C5mwdE/NbTChyEJ8j/sq0znuIr7P+kbvlb7tfg/R8J+perT9z/+To2VP8T5P/cbSWhXTQFAvcGlAlwJAkCmWNn0c2T9PwFaBkT3jvw//045yGnq8j+aM8dOyST6P/5OFfsPQRFAo44igrNlEUDuE1kAyW/4P7JKJaRYEQFAuVG25IbvAUClJjsws+QMQE3scyDEDwtA30STOL6HBUCkoNl2BJP5P6nTxcTbs+s/QKf9KCoG6z/+BIMvgvblP8xJrh+xgOA/iabr1DED6D8v+pWv51f7v0eGYwlfpvq//gubtrSN5798EYGr5Kz0vxT6vCfFbvU/3ibTvoFUCkDNqzAHZW4SQDnt9pr09hNAoIgFRoyXEkCBQZenoXUTQL62DQdOdRdAeNLeqUf8E0CQ+ZYfvfwSQMS9xv9vDBZABe821kcxG0BIlg+ftZYcQEmnzLuaoR1A7R2GLNRVHEA5RKgvF/EKQJAgywEanwZAQW+wz1syAEBLE471ZinwP64apjKWq/I/k8mxFBZkBUDL5EY+6s4FQA0UmLzWcQhAjyfTAUDVBkCAKyvNlGcDQCDkVscVKQVAivMiPlbREUBIDTVAmHoTQP+wqo8+YxRARjNmxA4OEUBYsBr6dVYHQEqOUGaVbPs/mA4sOPALAkA=\",\"dtype\":\"float64\",\"order\":\"little\",\"shape\":[154]},\"Date\":{\"__ndarray__\":\"AABArYgJd0IAAAAT2wl3QgAAwHgtCndCAACA3n8Kd0IAAEBE0gp3QgAAgHXJC3dCAABA2xsMd0IAAABBbgx3QgAAwKbADHdCAACADBMNd0IAAMA9Cg53QgAAgKNcDndCAABACa8Od0IAAABvAQ93QgAAwNRTD3dCAAAABksQd0IAAMBrnRB3QgAAgNHvEHdCAABAN0IRd0IAAACdlBF3QgAAQM6LEndCAAAANN4Sd0IAAMCZMBN3QgAAgP+CE3dCAABAZdUTd0IAAICWzBR3QgAAQPweFXdCAAAAYnEVd0IAAMDHwxV3QgAAwF4NF3dCAACAxF8Xd0IAAEAqshd3QgAAAJAEGHdCAADA9VYYd0IAAAAnThl3QgAAwIygGXdCAACA8vIZd0IAAEBYRRp3QgAAAL6XGndCAABA744bd0IAAABV4Rt3QgAAwLozHHdCAACAIIYcd0IAAECG2Bx3QgAAgLfPHXdCAABAHSIed0IAAACDdB53QgAAwOjGHndCAACAThkfd0IAAMB/ECB3QgAAgOViIHdCAABAS7Ugd0IAAACxByF3QgAAwBZaIXdCAAAASFEid0IAAMCtoyJ3QgAAgBP2IndCAABAeUgjd0IAAADfmiN3QgAAAHbkJHdCAADA2zYld0IAAIBBiSV3QgAAQKfbJXdCAACA2NImd0IAAEA+JSd3QgAAAKR3J3dCAADACcond0IAAIBvHCh3QgAAwKATKXdCAACABmYpd0IAAEBsuCl3QgAAANIKKndCAADAN10qd0IAAABpVCt3QgAAwM6mK3dCAACANPkrd0IAAECaSyx3QgAAAACeLHdCAABAMZUtd0IAAACX5y13QgAAwPw5LndCAACAYowud0IAAEDI3i53QgAAgPnVL3dCAABAXygwd0IAAADFejB3QgAAwCrNMHdCAADAwRYyd0IAAIAnaTJ3QgAAQI27MndCAAAA8w0zd0IAAMBYYDN3QgAAAIpXNHdCAADA76k0d0IAAIBV/DR3QgAAQLtONXdCAAAAIaE1d0IAAEBSmDZ3QgAAALjqNndCAADAHT03d0IAAICDjzd3QgAAQOnhN3dCAACAGtk4d0IAAECAKzl3QgAAAOZ9OXdCAADAS9A5d0IAAICxIjp3QgAAwOIZO3dCAACASGw7d0IAAECuvjt3QgAAABQRPHdCAADAeWM8d0IAAACrWj13QgAAwBCtPXdCAACAdv89d0IAAEDcUT53QgAAAEKkPndCAABAc5s/d0IAAADZ7T93QgAAwD5AQHdCAACApJJAd0IAAEAK5UB3QgAAgDvcQXdCAABAoS5Cd0IAAAAHgUJ3QgAAwGzTQndCAACA0iVDd0IAAMADHUR3QgAAgGlvRHdCAABAz8FEd0IAAAA1FEV3QgAAwJpmRXdCAADAMbBGd0IAAICXAkd3QgAAQP1UR3dCAAAAY6dHd0IAAECUnkh3QgAAAPrwSHdCAADAX0NJd0IAAIDFlUl3QgAAQCvoSXdCAACAXN9Kd0IAAEDCMUt3QgAAACiES3dCAADAjdZLd0IAAIDzKEx3QgAAwCQgTXdCAACAinJNd0IAAEDwxE13QgAAAFYXTndCAADAu2lOd0IAAADtYE93QgAAwFKzT3dCAACAuAVQd0I=\",\"dtype\":\"float64\",\"order\":\"little\",\"shape\":[154]}},\"selected\":{\"id\":\"3539\"},\"selection_policy\":{\"id\":\"3566\"}},\"id\":\"3538\",\"type\":\"ColumnDataSource\"},{\"attributes\":{},\"id\":\"3338\",\"type\":\"UnionRenderers\"},{\"attributes\":{},\"id\":\"3354\",\"type\":\"Selection\"},{\"attributes\":{\"line_alpha\":0.1,\"line_color\":\"#9367bc\",\"line_width\":2,\"x\":{\"field\":\"Date\"},\"y\":{\"field\":\"0\"}},\"id\":\"3425\",\"type\":\"Line\"},{\"attributes\":{\"axis_label\":\"\",\"bounds\":\"auto\",\"formatter\":{\"id\":\"3291\"},\"major_label_orientation\":\"horizontal\",\"ticker\":{\"id\":\"3272\"}},\"id\":\"3271\",\"type\":\"LinearAxis\"},{\"attributes\":{},\"id\":\"3291\",\"type\":\"BasicTickFormatter\"},{\"attributes\":{\"line_alpha\":0.2,\"line_color\":\"#2ba02b\",\"line_width\":2,\"x\":{\"field\":\"Date\"},\"y\":{\"field\":\"0\"}},\"id\":\"3358\",\"type\":\"Line\"},{\"attributes\":{\"label\":{\"value\":\"XLF\"},\"renderers\":[{\"id\":\"3392\"}]},\"id\":\"3420\",\"type\":\"LegendItem\"},{\"attributes\":{\"base\":60,\"mantissas\":[1,2,5,10,15,20,30],\"max_interval\":1800000.0,\"min_interval\":1000.0,\"num_minor_ticks\":0},\"id\":\"3309\",\"type\":\"AdaptiveTicker\"},{\"attributes\":{\"data_source\":{\"id\":\"3292\"},\"glyph\":{\"id\":\"3295\"},\"hover_glyph\":null,\"muted_glyph\":{\"id\":\"3297\"},\"nonselection_glyph\":{\"id\":\"3296\"},\"selection_glyph\":null,\"view\":{\"id\":\"3299\"}},\"id\":\"3298\",\"type\":\"GlyphRenderer\"},{\"attributes\":{\"days\":[1,15]},\"id\":\"3314\",\"type\":\"DaysTicker\"},{\"attributes\":{\"active_drag\":\"auto\",\"active_inspect\":\"auto\",\"active_multi\":null,\"active_scroll\":\"auto\",\"active_tap\":\"auto\",\"tools\":[{\"id\":\"3247\"},{\"id\":\"3275\"},{\"id\":\"3276\"},{\"id\":\"3277\"},{\"id\":\"3278\"},{\"id\":\"3279\"}]},\"id\":\"3281\",\"type\":\"Toolbar\"},{\"attributes\":{\"line_alpha\":0.2,\"line_color\":\"#9367bc\",\"line_width\":2,\"x\":{\"field\":\"Date\"},\"y\":{\"field\":\"0\"}},\"id\":\"3426\",\"type\":\"Line\"},{\"attributes\":{},\"id\":\"3498\",\"type\":\"Selection\"},{\"attributes\":{\"base\":24,\"mantissas\":[1,2,4,6,8,12],\"max_interval\":43200000.0,\"min_interval\":3600000.0,\"num_minor_ticks\":0},\"id\":\"3310\",\"type\":\"AdaptiveTicker\"},{\"attributes\":{\"data_source\":{\"id\":\"3386\"},\"glyph\":{\"id\":\"3389\"},\"hover_glyph\":null,\"muted_glyph\":{\"id\":\"3391\"},\"nonselection_glyph\":{\"id\":\"3390\"},\"selection_glyph\":null,\"view\":{\"id\":\"3393\"}},\"id\":\"3392\",\"type\":\"GlyphRenderer\"},{\"attributes\":{\"line_alpha\":0.1,\"line_color\":\"#2ba02b\",\"line_width\":2,\"x\":{\"field\":\"Date\"},\"y\":{\"field\":\"0\"}},\"id\":\"3357\",\"type\":\"Line\"},{\"attributes\":{},\"id\":\"3371\",\"type\":\"UnionRenderers\"},{\"attributes\":{\"line_alpha\":0.1,\"line_color\":\"#8c564b\",\"line_width\":2,\"x\":{\"field\":\"Date\"},\"y\":{\"field\":\"0\"}},\"id\":\"3462\",\"type\":\"Line\"},{\"attributes\":{},\"id\":\"3406\",\"type\":\"UnionRenderers\"},{\"attributes\":{\"data\":{\"0\":{\"__ndarray__\":\"AAAAAAAA+H8AAAAAAAD4fwAAAAAAAPh/AAAAAAAA+H8AAAAAAAD4fwAAAAAAAPh/u3EdRXHCH0AdT1Pr0V8cQLIv/4ZrzRZAjzU3uGBAFUBbqz0fES4WQGDsl6boSRRALTkIO1klFUBeMH1OIusRQGeB1mthOw1AuulwZslWEEA2r1iFQakFQLic+M4cqAJAQ3XbpBO7BkD0pLgdZB8VQLFPqCW/mBdACS9wBrZVFUAKsR8M5ZcNQKwnbR08CgZA5OpfRlSd8j/DajZHHd8MQGn4M7CrQBNAs0xaEqwYF0BrsfgPIZ8cQNH7Y16yFCJA1EDebtLhHUCn8cZ/Q58UQDg/+Tw8uhBABNHNaoiEC0BXolUrB5QKQH38Zvhi0RBAqzew84gZE0AJ4Dne5V0OQGp5R4dOAg1Aygol28rBEECL4jmlyV4cQNorPlwXcShAtiQoB9MHFECtTiVy6Z4PQHye6Nhv6QVA/Cczk/kUB0DRs9wRiL0HQBJ887sMZA5A+qDqA+NUDkB7YU2zpIISQAFiRXh4ixNAY89bV8bKGEAViajJzvoYQAfVoBk5ThhAu76K4TvOIEAi3mA0sbQdQE3xQd7iCyJAHeG5TqvlIEBtme1FvQ0aQANmCBQKBBNAHGHf1BQ0FUDogl7fU7YVQCjut5SN+RJATrGJUcHAEUCMj3OPI/MRQM4fHBhRiRNAzWFgkHRXGkBeBpeIc70oQAGRdrEuqCVAV6Lad16uJkBU1aQIPJwkQBRmfCTzAiBAr/AuG3gMHUC5Z5OLGAYdQA/b024f2xxAGWlEIDAGHUD/vbLxoxoaQE9NJLaGsBVAAcTrJKCrEEDv1Wv/bKEAQLDZl7W7kgpA3Bv0639zCEDW35sRJqQPQB8KF6kEkRFAjL5BkK/5GEAT8hkad6EaQHEGqxnCRBpAQh0/wPc5HkCq+UQawvMYQFE4zLJ5bhpA7FiRU6qwFEC677WV6d8MQHKEbfK5Cf0/tK+GqYry+j8SXbS/+mkLQFIznKDX8AlAKZnhcFOZC0CMmw1B+UUSQLeg0b53pxZAL9cjCkmFEkDPl2BQ63v5PwPzx+tWkH+/EyfZTTUr7b8MWdb68vr9vws8SMwKw/q/uEXr/qTM57+QzAJEQ/kRQDN1f4xashNA+LAJG6cpGEAuOwvxk4QgQN5fI/6BPCFADqRgnsuqIECMEutXUyoZQP/+SxmYyRNACjfcmYXNE0C2RqaNZz8QQCer7/ZcogxAp1aL6lMxEUDj01PUc7gQQE9KHYMVMRFA5q2QF6MDAEDOKMACOCH9P4jXzaovQBNA5+Rw8LlOGEB/aY8AqmwhQHIBrR+9VSVAPrWrfaQ1H0B2UQbrAcobQOQAFUMqWBpASounHD6tFkB8Qka16wkUQMaHk2ZUyxtA9zsOUWemIkDzWoDcSgQjQGqFeHis3SJATjTJq0ZzIkBgLrpQPi4fQGQxSAhc1BxATCqBmfjHHEA+MnxW54kYQNfZeC9M5xhAX99c1CyPFkD3TbJtyqcWQBZHObnCORlAkfNRugy7GkA5mX+DLAAaQCV/F5xRwRxAhvoodwxaIUAQFu2JAUQeQGqmgBPbAhxACisBmvXYGkAukPj9PjwXQEAWVg6AaRRAsdl/OYYKGEA=\",\"dtype\":\"float64\",\"order\":\"little\",\"shape\":[154]},\"A_0\":{\"__ndarray__\":\"AAAAAAAA+H8AAAAAAAD4fwAAAAAAAPh/AAAAAAAA+H8AAAAAAAD4fwAAAAAAAPh/u3EdRXHCH0AdT1Pr0V8cQLIv/4ZrzRZAjzU3uGBAFUBbqz0fES4WQGDsl6boSRRALTkIO1klFUBeMH1OIusRQGeB1mthOw1AuulwZslWEEA2r1iFQakFQLic+M4cqAJAQ3XbpBO7BkD0pLgdZB8VQLFPqCW/mBdACS9wBrZVFUAKsR8M5ZcNQKwnbR08CgZA5OpfRlSd8j/DajZHHd8MQGn4M7CrQBNAs0xaEqwYF0BrsfgPIZ8cQNH7Y16yFCJA1EDebtLhHUCn8cZ/Q58UQDg/+Tw8uhBABNHNaoiEC0BXolUrB5QKQH38Zvhi0RBAqzew84gZE0AJ4Dne5V0OQGp5R4dOAg1Aygol28rBEECL4jmlyV4cQNorPlwXcShAtiQoB9MHFECtTiVy6Z4PQHye6Nhv6QVA/Cczk/kUB0DRs9wRiL0HQBJ887sMZA5A+qDqA+NUDkB7YU2zpIISQAFiRXh4ixNAY89bV8bKGEAViajJzvoYQAfVoBk5ThhAu76K4TvOIEAi3mA0sbQdQE3xQd7iCyJAHeG5TqvlIEBtme1FvQ0aQANmCBQKBBNAHGHf1BQ0FUDogl7fU7YVQCjut5SN+RJATrGJUcHAEUCMj3OPI/MRQM4fHBhRiRNAzWFgkHRXGkBeBpeIc70oQAGRdrEuqCVAV6Lad16uJkBU1aQIPJwkQBRmfCTzAiBAr/AuG3gMHUC5Z5OLGAYdQA/b024f2xxAGWlEIDAGHUD/vbLxoxoaQE9NJLaGsBVAAcTrJKCrEEDv1Wv/bKEAQLDZl7W7kgpA3Bv0639zCEDW35sRJqQPQB8KF6kEkRFAjL5BkK/5GEAT8hkad6EaQHEGqxnCRBpAQh0/wPc5HkCq+UQawvMYQFE4zLJ5bhpA7FiRU6qwFEC677WV6d8MQHKEbfK5Cf0/tK+GqYry+j8SXbS/+mkLQFIznKDX8AlAKZnhcFOZC0CMmw1B+UUSQLeg0b53pxZAL9cjCkmFEkDPl2BQ63v5PwPzx+tWkH+/EyfZTTUr7b8MWdb68vr9vws8SMwKw/q/uEXr/qTM57+QzAJEQ/kRQDN1f4xashNA+LAJG6cpGEAuOwvxk4QgQN5fI/6BPCFADqRgnsuqIECMEutXUyoZQP/+SxmYyRNACjfcmYXNE0C2RqaNZz8QQCer7/ZcogxAp1aL6lMxEUDj01PUc7gQQE9KHYMVMRFA5q2QF6MDAEDOKMACOCH9P4jXzaovQBNA5+Rw8LlOGEB/aY8AqmwhQHIBrR+9VSVAPrWrfaQ1H0B2UQbrAcobQOQAFUMqWBpASounHD6tFkB8Qka16wkUQMaHk2ZUyxtA9zsOUWemIkDzWoDcSgQjQGqFeHis3SJATjTJq0ZzIkBgLrpQPi4fQGQxSAhc1BxATCqBmfjHHEA+MnxW54kYQNfZeC9M5xhAX99c1CyPFkD3TbJtyqcWQBZHObnCORlAkfNRugy7GkA5mX+DLAAaQCV/F5xRwRxAhvoodwxaIUAQFu2JAUQeQGqmgBPbAhxACisBmvXYGkAukPj9PjwXQEAWVg6AaRRAsdl/OYYKGEA=\",\"dtype\":\"float64\",\"order\":\"little\",\"shape\":[154]},\"Date\":{\"__ndarray__\":\"AABArYgJd0IAAAAT2wl3QgAAwHgtCndCAACA3n8Kd0IAAEBE0gp3QgAAgHXJC3dCAABA2xsMd0IAAABBbgx3QgAAwKbADHdCAACADBMNd0IAAMA9Cg53QgAAgKNcDndCAABACa8Od0IAAABvAQ93QgAAwNRTD3dCAAAABksQd0IAAMBrnRB3QgAAgNHvEHdCAABAN0IRd0IAAACdlBF3QgAAQM6LEndCAAAANN4Sd0IAAMCZMBN3QgAAgP+CE3dCAABAZdUTd0IAAICWzBR3QgAAQPweFXdCAAAAYnEVd0IAAMDHwxV3QgAAwF4NF3dCAACAxF8Xd0IAAEAqshd3QgAAAJAEGHdCAADA9VYYd0IAAAAnThl3QgAAwIygGXdCAACA8vIZd0IAAEBYRRp3QgAAAL6XGndCAABA744bd0IAAABV4Rt3QgAAwLozHHdCAACAIIYcd0IAAECG2Bx3QgAAgLfPHXdCAABAHSIed0IAAACDdB53QgAAwOjGHndCAACAThkfd0IAAMB/ECB3QgAAgOViIHdCAABAS7Ugd0IAAACxByF3QgAAwBZaIXdCAAAASFEid0IAAMCtoyJ3QgAAgBP2IndCAABAeUgjd0IAAADfmiN3QgAAAHbkJHdCAADA2zYld0IAAIBBiSV3QgAAQKfbJXdCAACA2NImd0IAAEA+JSd3QgAAAKR3J3dCAADACcond0IAAIBvHCh3QgAAwKATKXdCAACABmYpd0IAAEBsuCl3QgAAANIKKndCAADAN10qd0IAAABpVCt3QgAAwM6mK3dCAACANPkrd0IAAECaSyx3QgAAAACeLHdCAABAMZUtd0IAAACX5y13QgAAwPw5LndCAACAYowud0IAAEDI3i53QgAAgPnVL3dCAABAXygwd0IAAADFejB3QgAAwCrNMHdCAADAwRYyd0IAAIAnaTJ3QgAAQI27MndCAAAA8w0zd0IAAMBYYDN3QgAAAIpXNHdCAADA76k0d0IAAIBV/DR3QgAAQLtONXdCAAAAIaE1d0IAAEBSmDZ3QgAAALjqNndCAADAHT03d0IAAICDjzd3QgAAQOnhN3dCAACAGtk4d0IAAECAKzl3QgAAAOZ9OXdCAADAS9A5d0IAAICxIjp3QgAAwOIZO3dCAACASGw7d0IAAECuvjt3QgAAABQRPHdCAADAeWM8d0IAAACrWj13QgAAwBCtPXdCAACAdv89d0IAAEDcUT53QgAAAEKkPndCAABAc5s/d0IAAADZ7T93QgAAwD5AQHdCAACApJJAd0IAAEAK5UB3QgAAgDvcQXdCAABAoS5Cd0IAAAAHgUJ3QgAAwGzTQndCAACA0iVDd0IAAMADHUR3QgAAgGlvRHdCAABAz8FEd0IAAAA1FEV3QgAAwJpmRXdCAADAMbBGd0IAAICXAkd3QgAAQP1UR3dCAAAAY6dHd0IAAECUnkh3QgAAAPrwSHdCAADAX0NJd0IAAIDFlUl3QgAAQCvoSXdCAACAXN9Kd0IAAEDCMUt3QgAAACiES3dCAADAjdZLd0IAAIDzKEx3QgAAwCQgTXdCAACAinJNd0IAAEDwxE13QgAAAFYXTndCAADAu2lOd0IAAADtYE93QgAAwFKzT3dCAACAuAVQd0I=\",\"dtype\":\"float64\",\"order\":\"little\",\"shape\":[154]}},\"selected\":{\"id\":\"3459\"},\"selection_policy\":{\"id\":\"3482\"}},\"id\":\"3458\",\"type\":\"ColumnDataSource\"},{\"attributes\":{\"label\":{\"value\":\"XLE\"},\"renderers\":[{\"id\":\"3359\"}]},\"id\":\"3385\",\"type\":\"LegendItem\"}],\"root_ids\":[\"3243\"]},\"title\":\"Bokeh Application\",\"version\":\"2.1.1\"}};\n",
       "  var render_items = [{\"docid\":\"e9086b71-e4fb-47c2-8754-3dacaa921e88\",\"root_ids\":[\"3243\"],\"roots\":{\"3243\":\"4d9e609d-8393-4a79-bf54-b2e088d64cef\"}}];\n",
       "  root.Bokeh.embed.embed_items_notebook(docs_json, render_items);\n",
       "  }\n",
       "if (root.Bokeh !== undefined) {\n",
       "    embed_document(root);\n",
       "  } else {\n",
       "    var attempts = 0;\n",
       "    var timer = setInterval(function(root) {\n",
       "      if (root.Bokeh !== undefined) {\n",
       "        clearInterval(timer);\n",
       "        embed_document(root);\n",
       "      } else if (document.readyState == \"complete\") {\n",
       "        attempts++;\n",
       "        if (attempts > 100) {\n",
       "          clearInterval(timer);\n",
       "          console.log(\"Bokeh: ERROR: Unable to run BokehJS code because BokehJS library is missing\");\n",
       "        }\n",
       "      }\n",
       "    }, 10, root)\n",
       "  }\n",
       "})(window);</script>"
      ],
      "text/plain": [
       ":Overlay\n",
       "   .Curve.XLB  :Curve   [Date]   (0)\n",
       "   .Curve.XLC  :Curve   [Date]   (0)\n",
       "   .Curve.XLE  :Curve   [Date]   (0)\n",
       "   .Curve.XLF  :Curve   [Date]   (0)\n",
       "   .Curve.XLY  :Curve   [Date]   (0)\n",
       "   .Curve.XLP  :Curve   [Date]   (0)\n",
       "   .Curve.XLV  :Curve   [Date]   (0)\n",
       "   .Curve.XLI  :Curve   [Date]   (0)\n",
       "   .Curve.XLRE :Curve   [Date]   (0)\n",
       "   .Curve.XLK  :Curve   [Date]   (0)\n",
       "   .Curve.XLU  :Curve   [Date]   (0)"
      ]
     },
     "execution_count": 51,
     "metadata": {
      "application/vnd.holoviews_exec.v0+json": {
       "id": "3243"
      }
     },
     "output_type": "execute_result"
    }
   ],
   "source": [
    "XLB_beta.hvplot(label = \"XLB\") * XLC_beta.hvplot(label = \"XLC\") *  XLE_beta.hvplot(label = \"XLE\") * XLF_beta.hvplot(label = \"XLF\") *XLY_beta.hvplot(label = \"XLY\") * XLP_beta.hvplot(label = \"XLP\") * XLV_beta.hvplot(label = \"XLV\") * XLI_beta.hvplot(label = \"XLI\") * XLRE_beta.hvplot(label = \"XLRE\") * XLK_beta.hvplot(label = \"XLK\") * XLU_beta.hvplot(label = \"XLU\")"
   ]
  },
  {
   "cell_type": "code",
   "execution_count": 52,
   "metadata": {},
   "outputs": [
    {
     "data": {
      "text/plain": [
       "<matplotlib.axes._subplots.AxesSubplot at 0x2e0ab002808>"
      ]
     },
     "execution_count": 52,
     "metadata": {},
     "output_type": "execute_result"
    },
    {
     "data": {
      "image/png": "[encoded data removed]",
      "text/plain": [
       "<Figure size 432x288 with 1 Axes>"
      ]
     },
     "metadata": {
      "needs_background": "light"
     },
     "output_type": "display_data"
    }
   ],
   "source": [
    "sharpe_ratios = (change_comparison.mean() * 252) / (change_comparison.std() * np.sqrt(252))\n",
    "sharpe_ratios.plot.bar()"
   ]
  },
  {
   "cell_type": "code",
   "execution_count": 53,
   "metadata": {},
   "outputs": [
    {
     "data": {
      "image/png": "[encoded data removed]",
      "text/plain": [
       "<Figure size 720x360 with 1 Axes>"
      ]
     },
     "metadata": {
      "needs_background": "light"
     },
     "output_type": "display_data"
    }
   ],
   "source": [
    "boxplot = market_comparison.boxplot(column=['SPY','XLB','XLC','XLE','XLF'],figsize=(10,5))"
   ]
  },
  {
   "cell_type": "code",
   "execution_count": 54,
   "metadata": {},
   "outputs": [
    {
     "data": {
      "text/plain": [
       "XLC      6.031620\n",
       "XLY     17.391173\n",
       "XLP      3.580788\n",
       "XLE      4.423494\n",
       "XLF      1.778775\n",
       "XLV      6.874101\n",
       "XLI      7.337224\n",
       "XLB      6.885635\n",
       "XLRE     2.366047\n",
       "XLK     13.556117\n",
       "XLU      3.184740\n",
       "SPY     29.740234\n",
       "dtype: float64"
      ]
     },
     "execution_count": 54,
     "metadata": {},
     "output_type": "execute_result"
    }
   ],
   "source": [
    "market_comparison.std()"
   ]
  },
  {
   "cell_type": "code",
   "execution_count": 61,
   "metadata": {},
   "outputs": [
    {
     "data": {
      "text/plain": [
       "SPY             NaN\n",
       "XLB             NaN\n",
       "XLC             NaN\n",
       "XLE             NaN\n",
       "XLF             NaN\n",
       "XLI             NaN\n",
       "XLK             NaN\n",
       "XLP             NaN\n",
       "XLRE            NaN\n",
       "XLU             NaN\n",
       "XLV             NaN\n",
       "XLY             NaN\n",
       "deathIncrease   NaN\n",
       "dtype: float64"
      ]
     },
     "execution_count": 61,
     "metadata": {},
     "output_type": "execute_result"
    }
   ],
   "source": [
    "pos_march = march_df[['deathIncrease']]\n",
    "pos_march.corrwith(market_comparison, axis=0)\n",
    "\n",
    "#positive_df.corrwith(market_comparison, axis = 0)"
   ]
  },
  {
   "cell_type": "code",
   "execution_count": null,
   "metadata": {},
   "outputs": [],
   "source": [
    "neg_march = march_df[['date','negative']]\n",
    "neg_march.corrwith(market_comparison, axis=0)\n",
    "\n",
    "#negative_df.corrwith(market_comparison, axis = 0)"
   ]
  },
  {
   "cell_type": "code",
   "execution_count": null,
   "metadata": {},
   "outputs": [],
   "source": [
    "death_df.corrwith(market_comparison, axis = 0)"
   ]
  },
  {
   "cell_type": "code",
   "execution_count": null,
   "metadata": {},
   "outputs": [],
   "source": [
    "hospitalized_df.corrwith(market_comparison, axis = 0)"
   ]
  },
  {
   "cell_type": "code",
   "execution_count": null,
   "metadata": {},
   "outputs": [],
   "source": [
    "## Comparison by individual sectors with stocks and ETFs"
   ]
  },
  {
   "cell_type": "markdown",
   "metadata": {},
   "source": [
    "### Materials"
   ]
  },
  {
   "cell_type": "code",
   "execution_count": null,
   "metadata": {},
   "outputs": [],
   "source": [
    "materials_df = yf.download(['HUN','EXP','NEM','FCX','SMG','SPY','XLB'],\n",
    "                      start='2020-01-01',\n",
    "                      end='2020-12-31',\n",
    "                      progress=False)\n",
    "materials_df = materials_df['Close']\n",
    "materials_df.head()"
   ]
  },
  {
   "cell_type": "code",
   "execution_count": null,
   "metadata": {},
   "outputs": [],
   "source": [
    "materials_change = materials_df.pct_change()\n",
    "materials_change.plot(figsize = (18,10))"
   ]
  },
  {
   "cell_type": "code",
   "execution_count": null,
   "metadata": {},
   "outputs": [],
   "source": [
    "fig, ax = plt.subplots(figsize=(10,6))\n",
    "sns.heatmap(materials_df.corr(), annot=True, cmap='coolwarm', linewidth=1, linecolor='black')"
   ]
  },
  {
   "cell_type": "code",
   "execution_count": null,
   "metadata": {},
   "outputs": [],
   "source": [
    "EXP_beta = beta('EXP','SPY',7,materials_df)\n",
    "FCX_beta = beta('FCX','SPY',7,materials_df)\n",
    "HUN_beta = beta('HUN','SPY',7,materials_df)\n",
    "NEM_beta = beta('NEM','SPY',7,materials_df)\n",
    "SMG_beta = beta('SMG','SPY',7,materials_df)"
   ]
  },
  {
   "cell_type": "code",
   "execution_count": null,
   "metadata": {},
   "outputs": [],
   "source": [
    "XLB_beta.hvplot(label = \"XLB\") * EXP_beta.hvplot(label = \"EXP\") * FCX_beta.hvplot(label = \"FCX\") * HUN_beta.hvplot(label = \"HUN\") * NEM_beta.hvplot(label = \"NEM\") * SMG_beta.hvplot(label = \"SMG\")"
   ]
  },
  {
   "cell_type": "code",
   "execution_count": null,
   "metadata": {},
   "outputs": [],
   "source": [
    "sharpe_ratios = (materials_change.mean() * 252) / (materials_change.std() * np.sqrt(252))\n",
    "sharpe_ratios.plot.bar()"
   ]
  },
  {
   "cell_type": "code",
   "execution_count": null,
   "metadata": {},
   "outputs": [],
   "source": [
    "boxplot = materials_df.boxplot(column=['HUN','EXP','NEM','FCX','SMG','SPY','XLB'],figsize=(10,5))"
   ]
  },
  {
   "cell_type": "code",
   "execution_count": null,
   "metadata": {},
   "outputs": [],
   "source": [
    "materials_df.std()"
   ]
  },
  {
   "cell_type": "code",
   "execution_count": null,
   "metadata": {},
   "outputs": [],
   "source": [
    "pos_march.corrwith(materials_df, axis = 0)"
   ]
  },
  {
   "cell_type": "code",
   "execution_count": null,
   "metadata": {},
   "outputs": [],
   "source": [
    "neg_march.corrwith(materials_df, axis = 0)"
   ]
  },
  {
   "cell_type": "code",
   "execution_count": null,
   "metadata": {},
   "outputs": [],
   "source": [
    "death_df.corrwith(materials_df, axis = 0)"
   ]
  },
  {
   "cell_type": "code",
   "execution_count": null,
   "metadata": {},
   "outputs": [],
   "source": [
    "hospitalized_df.corrwith(materials_df, axis = 0)"
   ]
  },
  {
   "cell_type": "markdown",
   "metadata": {},
   "source": [
    "### Communications"
   ]
  },
  {
   "cell_type": "code",
   "execution_count": null,
   "metadata": {},
   "outputs": [],
   "source": [
    "communications_df = yf.download(['VIAC','T','DISCK','FB','GOOG','SPY','XLC'],\n",
    "                      start='2020-01-01',\n",
    "                      end='2020-12-31',\n",
    "                      progress=False)\n",
    "communications_df = communications_df['Close']\n",
    "communications_df.head()"
   ]
  },
  {
   "cell_type": "code",
   "execution_count": null,
   "metadata": {},
   "outputs": [],
   "source": [
    "communications_change = communications_df.pct_change()\n",
    "communications_change.plot(figsize = (18,10))"
   ]
  },
  {
   "cell_type": "code",
   "execution_count": null,
   "metadata": {},
   "outputs": [],
   "source": [
    "fig, ax = plt.subplots(figsize=(10,6))\n",
    "sns.heatmap(communications_df.corr(), annot=True, cmap='coolwarm', linewidth=1, linecolor='black')"
   ]
  },
  {
   "cell_type": "code",
   "execution_count": null,
   "metadata": {},
   "outputs": [],
   "source": [
    "DISCK_beta = beta('DISCK','SPY',7,communications_df)\n",
    "FB_beta = beta('FB','SPY',7,communications_df)\n",
    "GOOG_beta = beta('GOOG','SPY',7,communications_df)\n",
    "T_beta = beta('T','SPY',7,communications_df)\n",
    "VIAC_beta = beta('VIAC','SPY',7,communications_df)"
   ]
  },
  {
   "cell_type": "code",
   "execution_count": null,
   "metadata": {},
   "outputs": [],
   "source": [
    "XLC_beta.hvplot(label = \"XLC\") * DISCK_beta.hvplot(label = \"DISCK\") * FB_beta.hvplot(label = \"FB\") * GOOG_beta.hvplot(label = \"GOOG\") * T_beta.hvplot(label = \"T\") * VIAC_beta.hvplot(label = \"VIAC\")"
   ]
  },
  {
   "cell_type": "code",
   "execution_count": null,
   "metadata": {},
   "outputs": [],
   "source": [
    "sharpe_ratios = (communications_change.mean() * 252) / (communications_change.std() * np.sqrt(252))\n",
    "sharpe_ratios.plot.bar()"
   ]
  },
  {
   "cell_type": "code",
   "execution_count": null,
   "metadata": {},
   "outputs": [],
   "source": [
    "boxplot = communications_change.boxplot(column=['VIAC','T','DISCK','FB','GOOG','SPY','XLC'],figsize=(10,5))"
   ]
  },
  {
   "cell_type": "code",
   "execution_count": null,
   "metadata": {},
   "outputs": [],
   "source": [
    "communications_change.std()"
   ]
  },
  {
   "cell_type": "code",
   "execution_count": null,
   "metadata": {},
   "outputs": [],
   "source": [
    "positive_df.corrwith(communications_df, axis = 0)"
   ]
  },
  {
   "cell_type": "code",
   "execution_count": null,
   "metadata": {},
   "outputs": [],
   "source": [
    "negative_df.corrwith(communications_df, axis = 0)"
   ]
  },
  {
   "cell_type": "code",
   "execution_count": null,
   "metadata": {},
   "outputs": [],
   "source": [
    "death_df.corrwith(communications_df, axis = 0)"
   ]
  },
  {
   "cell_type": "code",
   "execution_count": null,
   "metadata": {},
   "outputs": [],
   "source": [
    "hospitalized_df.corrwith(communications_df, axis = 0)"
   ]
  },
  {
   "cell_type": "markdown",
   "metadata": {},
   "source": [
    "### Energy"
   ]
  },
  {
   "cell_type": "code",
   "execution_count": null,
   "metadata": {},
   "outputs": [],
   "source": [
    "energy_df = yf.download(['OKE','COP','VLO','LNG','MUR','SPY','XLE'],\n",
    "                      start='2020-01-01',\n",
    "                      end='2020-12-31',\n",
    "                      progress=False)\n",
    "energy_df = energy_df['Close']\n",
    "energy_df.head()\n"
   ]
  },
  {
   "cell_type": "code",
   "execution_count": null,
   "metadata": {},
   "outputs": [],
   "source": [
    "energy_change = energy_df.pct_change()\n",
    "energy_change.plot(figsize = (18,10))"
   ]
  },
  {
   "cell_type": "code",
   "execution_count": null,
   "metadata": {},
   "outputs": [],
   "source": [
    "fig, ax = plt.subplots(figsize=(10,6))\n",
    "sns.heatmap(energy_df.corr(), annot=True, cmap='coolwarm', linewidth=1, linecolor='black')"
   ]
  },
  {
   "cell_type": "code",
   "execution_count": null,
   "metadata": {},
   "outputs": [],
   "source": [
    "OKE_beta = beta('OKE','SPY',7,energy_df)\n",
    "COP_beta = beta('COP','SPY',7,energy_df)\n",
    "VLO_beta = beta('VLO','SPY',7,energy_df)\n",
    "LNG_beta = beta('LNG','SPY',7,energy_df)\n",
    "MUR_beta = beta('MUR','SPY',7,energy_df)"
   ]
  },
  {
   "cell_type": "code",
   "execution_count": null,
   "metadata": {},
   "outputs": [],
   "source": [
    "XLC_beta.hvplot(label = \"XLE\") * OKE_beta.hvplot(label = \"OKE\") * COP_beta.hvplot(label = \"COP\") * VLO_beta.hvplot(label = \"VLO\") * LNG_beta.hvplot(label = \"LNG\") * MUR_beta.hvplot(label = \"MUR\")"
   ]
  },
  {
   "cell_type": "code",
   "execution_count": null,
   "metadata": {},
   "outputs": [],
   "source": [
    "sharpe_ratios = (energy_change.mean() * 252) / (energy_change.std() * np.sqrt(252))\n",
    "sharpe_ratios.plot.bar()"
   ]
  },
  {
   "cell_type": "code",
   "execution_count": null,
   "metadata": {},
   "outputs": [],
   "source": [
    "boxplot = energy_change.boxplot(column=['OKE','COP','VLO','LNG','MUR','SPY','XLE'],figsize=(10,5))"
   ]
  },
  {
   "cell_type": "code",
   "execution_count": null,
   "metadata": {},
   "outputs": [],
   "source": [
    "energy_change.std()"
   ]
  },
  {
   "cell_type": "code",
   "execution_count": null,
   "metadata": {},
   "outputs": [],
   "source": [
    "positive_df.corrwith(energy_df, axis = 0)"
   ]
  },
  {
   "cell_type": "code",
   "execution_count": null,
   "metadata": {},
   "outputs": [],
   "source": [
    "negative_df.corrwith(energy_df, axis = 0)"
   ]
  },
  {
   "cell_type": "code",
   "execution_count": null,
   "metadata": {},
   "outputs": [],
   "source": [
    "death_df.corrwith(energy_df, axis = 0)"
   ]
  },
  {
   "cell_type": "code",
   "execution_count": null,
   "metadata": {},
   "outputs": [],
   "source": [
    "hospitalized_df.corrwith(energy_df, axis = 0)"
   ]
  },
  {
   "cell_type": "markdown",
   "metadata": {},
   "source": [
    "### Finance"
   ]
  },
  {
   "cell_type": "code",
   "execution_count": null,
   "metadata": {},
   "outputs": [],
   "source": [
    "finance_df = yf.download(['BHF','UNM','MET','CFG','LFC','SPY','XLF'],\n",
    "                      start='2020-01-01',\n",
    "                      end='2020-12-31',\n",
    "                      progress=False)\n",
    "finance_df = finance_df['Close']\n",
    "finance_df.head()"
   ]
  },
  {
   "cell_type": "code",
   "execution_count": null,
   "metadata": {},
   "outputs": [],
   "source": [
    "finance_change = finance_df.pct_change()\n",
    "finance_change.plot(figsize = (18,10))"
   ]
  },
  {
   "cell_type": "code",
   "execution_count": null,
   "metadata": {},
   "outputs": [],
   "source": [
    "fig, ax = plt.subplots(figsize=(10,6))\n",
    "sns.heatmap(finance_df.corr(), annot=True, cmap='coolwarm', linewidth=1, linecolor='black')"
   ]
  },
  {
   "cell_type": "code",
   "execution_count": null,
   "metadata": {},
   "outputs": [],
   "source": [
    "BHF_beta = beta('BHF','SPY',7,finance_df)\n",
    "UNM_beta = beta('UNM','SPY',7,finance_df)\n",
    "MET_beta = beta('MET','SPY',7,finance_df)\n",
    "CFG_beta = beta('CFG','SPY',7,finance_df)\n",
    "LFC_beta = beta('LFC','SPY',7,finance_df)"
   ]
  },
  {
   "cell_type": "code",
   "execution_count": null,
   "metadata": {},
   "outputs": [],
   "source": [
    "XLF_beta.hvplot(label = \"XLF\") * BHF_beta.hvplot(label = \"BHF\") * UNM_beta.hvplot(label = \"UNM\") * MET_beta.hvplot(label = \"MET\") * CFG_beta.hvplot(label = \"CFG\") * LFC_beta.hvplot(label = \"LFC\")"
   ]
  },
  {
   "cell_type": "code",
   "execution_count": null,
   "metadata": {},
   "outputs": [],
   "source": [
    "sharpe_ratios = (finance_change.mean() * 252) / (finance_change.std() * np.sqrt(252))\n",
    "sharpe_ratios.plot.bar()"
   ]
  },
  {
   "cell_type": "code",
   "execution_count": null,
   "metadata": {},
   "outputs": [],
   "source": [
    "boxplot = finance_change.boxplot(column=['BHF','UNM','MET','CFG','LFC','SPY','XLF'],figsize=(10,5))"
   ]
  },
  {
   "cell_type": "code",
   "execution_count": null,
   "metadata": {},
   "outputs": [],
   "source": [
    "finance_change.std()"
   ]
  },
  {
   "cell_type": "code",
   "execution_count": null,
   "metadata": {},
   "outputs": [],
   "source": [
    "positive_df.corrwith(finance_df, axis = 0)"
   ]
  },
  {
   "cell_type": "code",
   "execution_count": null,
   "metadata": {},
   "outputs": [],
   "source": [
    "negative_df.corrwith(finance_df, axis = 0)"
   ]
  },
  {
   "cell_type": "code",
   "execution_count": null,
   "metadata": {},
   "outputs": [],
   "source": [
    "death_df.corrwith(finance_df, axis = 0)"
   ]
  },
  {
   "cell_type": "code",
   "execution_count": null,
   "metadata": {},
   "outputs": [],
   "source": [
    "hospitalized_df.corrwith(finance_df, axis = 0)"
   ]
  },
  {
   "cell_type": "markdown",
   "metadata": {},
   "source": [
    "### Industrials"
   ]
  },
  {
   "cell_type": "code",
   "execution_count": null,
   "metadata": {},
   "outputs": [],
   "source": [
    "industrial_df = yf.download(['EAF','AL','HII','FDX','VRT','SPY','XLI'],\n",
    "                      start='2020-01-01',\n",
    "                      end='2020-12-31',\n",
    "                      progress=False)\n",
    "industrial_df = industrial_df['Close']\n",
    "industrial_df.head()"
   ]
  },
  {
   "cell_type": "code",
   "execution_count": null,
   "metadata": {},
   "outputs": [],
   "source": [
    "industrial_change = industrial_df.pct_change()\n",
    "industrial_change.plot(figsize = (18,10))"
   ]
  },
  {
   "cell_type": "code",
   "execution_count": null,
   "metadata": {},
   "outputs": [],
   "source": [
    "fig, ax = plt.subplots(figsize=(10,6))\n",
    "sns.heatmap(industrial_df.corr(), annot=True, cmap='coolwarm', linewidth=1, linecolor='black')"
   ]
  },
  {
   "cell_type": "code",
   "execution_count": null,
   "metadata": {},
   "outputs": [],
   "source": [
    "EAF_beta = beta('EAF','SPY',7,industrial_df)\n",
    "AL_beta = beta('AL','SPY',7,industrial_df)\n",
    "HII_beta = beta('HII','SPY',7,industrial_df)\n",
    "FDX_beta = beta('FDX','SPY',7,industrial_df)\n",
    "VRT_beta = beta('VRT','SPY',7,industrial_df)"
   ]
  },
  {
   "cell_type": "code",
   "execution_count": null,
   "metadata": {},
   "outputs": [],
   "source": [
    "XLI_beta.hvplot(label = \"XLI\") * EAF_beta.hvplot(label = \"EAF\") * AL_beta.hvplot(label = \"AL\") * HII_beta.hvplot(label = \"HII\") * FDX_beta.hvplot(label = \"FDX\") * VRT_beta.hvplot(label = \"VRT\")"
   ]
  },
  {
   "cell_type": "code",
   "execution_count": null,
   "metadata": {},
   "outputs": [],
   "source": [
    "sharpe_ratios = (industrial_change.mean() * 252) / (industrial_change.std() * np.sqrt(252))\n",
    "sharpe_ratios.plot.bar()"
   ]
  },
  {
   "cell_type": "code",
   "execution_count": null,
   "metadata": {},
   "outputs": [],
   "source": [
    "boxplot = industrial_change.boxplot(column=['EAF','AL','HII','FDX','VRT','SPY','XLI'],figsize=(10,5))"
   ]
  },
  {
   "cell_type": "code",
   "execution_count": null,
   "metadata": {},
   "outputs": [],
   "source": [
    "industrial_change.std()"
   ]
  },
  {
   "cell_type": "code",
   "execution_count": null,
   "metadata": {},
   "outputs": [],
   "source": [
    "positive_df.corrwith(industrial_df, axis = 0)"
   ]
  },
  {
   "cell_type": "code",
   "execution_count": null,
   "metadata": {},
   "outputs": [],
   "source": [
    "negative_df.corrwith(industrial_df, axis = 0)"
   ]
  },
  {
   "cell_type": "code",
   "execution_count": null,
   "metadata": {},
   "outputs": [],
   "source": [
    "death_df.corrwith(industrial_df, axis = 0)"
   ]
  },
  {
   "cell_type": "code",
   "execution_count": null,
   "metadata": {},
   "outputs": [],
   "source": [
    "hospitalized_df.corrwith(industrial_df, axis = 0)"
   ]
  },
  {
   "cell_type": "markdown",
   "metadata": {},
   "source": [
    "### Technology"
   ]
  },
  {
   "cell_type": "code",
   "execution_count": null,
   "metadata": {},
   "outputs": [],
   "source": [
    "technology_df = yf.download(['MSFT','DELL','NLOK','XRX','NCR','SPY','XLK'],\n",
    "                      start='2020-01-01',\n",
    "                      end='2020-12-31',\n",
    "                      progress=False)\n",
    "technology_df = technology_df['Close']\n",
    "technology_df.head()"
   ]
  },
  {
   "cell_type": "code",
   "execution_count": null,
   "metadata": {},
   "outputs": [],
   "source": [
    "technology_change = technology_df.pct_change()\n",
    "technology_change.plot(figsize = (18,10))"
   ]
  },
  {
   "cell_type": "code",
   "execution_count": null,
   "metadata": {},
   "outputs": [],
   "source": [
    "fig, ax = plt.subplots(figsize=(10,6))\n",
    "sns.heatmap(technology_df.corr(), annot=True, cmap='coolwarm', linewidth=1, linecolor='black')"
   ]
  },
  {
   "cell_type": "code",
   "execution_count": null,
   "metadata": {},
   "outputs": [],
   "source": [
    "MSFT_beta = beta('MSFT','SPY',7,technology_df)\n",
    "DELL_beta = beta('DELL','SPY',7,technology_df)\n",
    "NLOK_beta = beta('NLOK','SPY',7,technology_df)\n",
    "XRX_beta = beta('XRX','SPY',7,technology_df)\n",
    "NCR_beta = beta('NCR','SPY',7,technology_df)"
   ]
  },
  {
   "cell_type": "code",
   "execution_count": null,
   "metadata": {},
   "outputs": [],
   "source": [
    "XLK_beta.hvplot(label = \"XLK\") * MSFT_beta.hvplot(label = \"MSFT\") * DELL_beta.hvplot(label = \"DELL\") * NLOK_beta.hvplot(label = \"NLOK\") * XRX_beta.hvplot(label = \"XRX\") * NCR_beta.hvplot(label = \"NCR\")"
   ]
  },
  {
   "cell_type": "code",
   "execution_count": null,
   "metadata": {},
   "outputs": [],
   "source": [
    "sharpe_ratios = (technology_change.mean() * 252) / (technology_change.std() * np.sqrt(252))\n",
    "sharpe_ratios.plot.bar()"
   ]
  },
  {
   "cell_type": "code",
   "execution_count": null,
   "metadata": {},
   "outputs": [],
   "source": [
    "boxplot = technology_change.boxplot(column=['MSFT','DELL','NLOK','XRX','NCR','SPY','XLK'],figsize=(10,5))"
   ]
  },
  {
   "cell_type": "code",
   "execution_count": null,
   "metadata": {},
   "outputs": [],
   "source": [
    "technology_change.std()"
   ]
  },
  {
   "cell_type": "code",
   "execution_count": null,
   "metadata": {},
   "outputs": [],
   "source": [
    "positive_df.corrwith(technology_df, axis = 0)"
   ]
  },
  {
   "cell_type": "code",
   "execution_count": null,
   "metadata": {},
   "outputs": [],
   "source": [
    "negative_df.corrwith(technology_df, axis = 0)"
   ]
  },
  {
   "cell_type": "code",
   "execution_count": null,
   "metadata": {},
   "outputs": [],
   "source": [
    "death_df.corrwith(technology_df, axis = 0)"
   ]
  },
  {
   "cell_type": "code",
   "execution_count": null,
   "metadata": {},
   "outputs": [],
   "source": [
    "hospitalized_df.corrwith(technology_df, axis = 0)"
   ]
  },
  {
   "cell_type": "markdown",
   "metadata": {},
   "source": [
    "### Consumer Staples"
   ]
  },
  {
   "cell_type": "code",
   "execution_count": null,
   "metadata": {},
   "outputs": [],
   "source": [
    "cs_df = yf.download(['ACI','CPB','KR','PG','KO','SPY','XLP'],\n",
    "                      start='2020-01-01',\n",
    "                      end='2020-12-31',\n",
    "                      progress=False)\n",
    "cs_df = cs_df['Close']\n",
    "cs_df.head()"
   ]
  },
  {
   "cell_type": "code",
   "execution_count": null,
   "metadata": {},
   "outputs": [],
   "source": [
    "cs_change = cs_df.pct_change()\n",
    "cs_change.plot(figsize = (18,10))"
   ]
  },
  {
   "cell_type": "code",
   "execution_count": null,
   "metadata": {},
   "outputs": [],
   "source": [
    "fig, ax = plt.subplots(figsize=(10,6))\n",
    "sns.heatmap(cs_df.corr(), annot=True, cmap='coolwarm', linewidth=1, linecolor='black')"
   ]
  },
  {
   "cell_type": "code",
   "execution_count": null,
   "metadata": {},
   "outputs": [],
   "source": [
    "ACI_beta = beta('ACI','SPY',7,cs_df)\n",
    "CPB_beta = beta('CPB','SPY',7,cs_df)\n",
    "KR_beta = beta('KR','SPY',7,cs_df)\n",
    "PG_beta = beta('PG','SPY',7,cs_df)\n",
    "KO_beta = beta('KO','SPY',7,cs_df)"
   ]
  },
  {
   "cell_type": "code",
   "execution_count": null,
   "metadata": {},
   "outputs": [],
   "source": [
    "XLP_beta.hvplot(label = \"XLP\") * ACI_beta.hvplot(label = \"ACI\") * CPB_beta.hvplot(label = \"CPB\") * KR_beta.hvplot(label = \"KR\") * PG_beta.hvplot(label = \"PG\") * KO_beta.hvplot(label = \"KO\")"
   ]
  },
  {
   "cell_type": "code",
   "execution_count": null,
   "metadata": {},
   "outputs": [],
   "source": [
    "sharpe_ratios = (cs_change.mean() * 252) / (cs_change.std() * np.sqrt(252))\n",
    "sharpe_ratios.plot.bar()"
   ]
  },
  {
   "cell_type": "code",
   "execution_count": null,
   "metadata": {},
   "outputs": [],
   "source": [
    "boxplot = cs_change.boxplot(column=['ACI','CPB','KR','PG','KO','SPY','XLP'],figsize=(10,5))"
   ]
  },
  {
   "cell_type": "code",
   "execution_count": null,
   "metadata": {},
   "outputs": [],
   "source": [
    "cs_df.std()"
   ]
  },
  {
   "cell_type": "code",
   "execution_count": null,
   "metadata": {},
   "outputs": [],
   "source": [
    "positive_df.corrwith(cs_df, axis = 0)"
   ]
  },
  {
   "cell_type": "code",
   "execution_count": null,
   "metadata": {},
   "outputs": [],
   "source": [
    "negative_df.corrwith(cs_df, axis = 0)"
   ]
  },
  {
   "cell_type": "code",
   "execution_count": null,
   "metadata": {},
   "outputs": [],
   "source": [
    "death_df.corrwith(cs_df, axis = 0)"
   ]
  },
  {
   "cell_type": "code",
   "execution_count": null,
   "metadata": {},
   "outputs": [],
   "source": [
    "hospitalized_df.corrwith(cs_df, axis = 0)"
   ]
  },
  {
   "cell_type": "markdown",
   "metadata": {},
   "source": [
    "### Health Care"
   ]
  },
  {
   "cell_type": "code",
   "execution_count": null,
   "metadata": {},
   "outputs": [],
   "source": [
    "hc_df = yf.download(['BIIB','BIO','CVS','VRTX','ISRG','SPY','XLV'],\n",
    "                      start='2020-01-01',\n",
    "                      end='2020-12-31',\n",
    "                      progress=False)\n",
    "hc_df = hc_df['Close']\n",
    "hc_df.head()"
   ]
  },
  {
   "cell_type": "code",
   "execution_count": null,
   "metadata": {},
   "outputs": [],
   "source": [
    "hc_change = hc_df.pct_change()\n",
    "hc_change.plot(figsize = (18,10))"
   ]
  },
  {
   "cell_type": "code",
   "execution_count": null,
   "metadata": {},
   "outputs": [],
   "source": [
    "fig, ax = plt.subplots(figsize=(10,6))\n",
    "sns.heatmap(hc_df.corr(), annot=True, cmap='coolwarm', linewidth=1, linecolor='black')"
   ]
  },
  {
   "cell_type": "code",
   "execution_count": null,
   "metadata": {},
   "outputs": [],
   "source": [
    "BIIB_beta = beta('BIIB','SPY',7,hc_df)\n",
    "BIO_beta = beta('BIO','SPY',7,hc_df)\n",
    "CVS_beta = beta('CVS','SPY',7,hc_df)\n",
    "VRTX_beta = beta('VRTX','SPY',7,hc_df)\n",
    "ISRG_beta = beta('ISRG','SPY',7,hc_df)"
   ]
  },
  {
   "cell_type": "code",
   "execution_count": null,
   "metadata": {},
   "outputs": [],
   "source": [
    "XLV_beta.hvplot(label = \"XLV\") * BIIB_beta.hvplot(label = \"BIIB\") * BIO_beta.hvplot(label = \"BIO\") * CVS_beta.hvplot(label = \"CVS\") * VRTX_beta.hvplot(label = \"VRTX\") * ISRG_beta.hvplot(label = \"ISRG\")"
   ]
  },
  {
   "cell_type": "code",
   "execution_count": null,
   "metadata": {},
   "outputs": [],
   "source": [
    "sharpe_ratios = (hc_change.mean() * 252) / (hc_change.std() * np.sqrt(252))\n",
    "sharpe_ratios.plot.bar()"
   ]
  },
  {
   "cell_type": "code",
   "execution_count": null,
   "metadata": {},
   "outputs": [],
   "source": [
    "boxplot = hc_change.boxplot(column=['BIIB','BIO','CVS','VRTX','ISRG','SPY','XLV'],figsize=(10,5))"
   ]
  },
  {
   "cell_type": "code",
   "execution_count": null,
   "metadata": {},
   "outputs": [],
   "source": [
    "hc_df.std()"
   ]
  },
  {
   "cell_type": "code",
   "execution_count": null,
   "metadata": {},
   "outputs": [],
   "source": [
    "positive_df.corrwith(hc_df, axis = 0)"
   ]
  },
  {
   "cell_type": "code",
   "execution_count": null,
   "metadata": {},
   "outputs": [],
   "source": [
    "negative_df.corrwith(hc_df, axis = 0)"
   ]
  },
  {
   "cell_type": "code",
   "execution_count": null,
   "metadata": {},
   "outputs": [],
   "source": [
    "death_df.corrwith(hc_df, axis = 0)"
   ]
  },
  {
   "cell_type": "code",
   "execution_count": null,
   "metadata": {},
   "outputs": [],
   "source": [
    "hospitalized_df.corrwith(hc_df, axis = 0)"
   ]
  },
  {
   "cell_type": "markdown",
   "metadata": {},
   "source": [
    "### Consumer Discretionary"
   ]
  },
  {
   "cell_type": "code",
   "execution_count": null,
   "metadata": {},
   "outputs": [],
   "source": [
    "cd_df = yf.download(['ARD','MGM','EBAY','MCD','ROST','SPY','XLY'],\n",
    "                      start='2020-01-01',\n",
    "                      end='2020-12-31',\n",
    "                      progress=False)\n",
    "cd_df = cd_df['Close']\n",
    "cd_df.head()"
   ]
  },
  {
   "cell_type": "code",
   "execution_count": null,
   "metadata": {},
   "outputs": [],
   "source": [
    "cd_change = cd_df.pct_change()\n",
    "cd_change.plot(figsize = (18,10))"
   ]
  },
  {
   "cell_type": "code",
   "execution_count": null,
   "metadata": {},
   "outputs": [],
   "source": [
    "fig, ax = plt.subplots(figsize=(10,6))\n",
    "sns.heatmap(cd_df.corr(), annot=True, cmap='coolwarm', linewidth=1, linecolor='black')"
   ]
  },
  {
   "cell_type": "code",
   "execution_count": null,
   "metadata": {},
   "outputs": [],
   "source": [
    "ARD_beta = beta('ARD','SPY',7,cd_df)\n",
    "MGM_beta = beta('MGM','SPY',7,cd_df)\n",
    "EBAY_beta = beta('EBAY','SPY',7,cd_df)\n",
    "MCD_beta = beta('MCD','SPY',7,cd_df)\n",
    "ROST_beta = beta('ROST','SPY',7,cd_df)"
   ]
  },
  {
   "cell_type": "code",
   "execution_count": null,
   "metadata": {},
   "outputs": [],
   "source": [
    "XLY_beta.hvplot(label = \"XLY\") * ARD_beta.hvplot(label = \"ARD\") * MGM_beta.hvplot(label = \"MGM\") * EBAY_beta.hvplot(label = \"EBAY\") * ROST_beta.hvplot(label = \"ROST\") * MCD_beta.hvplot(label = \"MCD\")"
   ]
  },
  {
   "cell_type": "code",
   "execution_count": null,
   "metadata": {},
   "outputs": [],
   "source": [
    "sharpe_ratios = (cd_change.mean() * 252) / (cd_change.std() * np.sqrt(252))\n",
    "sharpe_ratios.plot.bar()"
   ]
  },
  {
   "cell_type": "code",
   "execution_count": null,
   "metadata": {},
   "outputs": [],
   "source": [
    "boxplot = cd_change.boxplot(column=['ARD','MGM','EBAY','MCD','ROST','SPY','XLY'],figsize=(10,5))"
   ]
  },
  {
   "cell_type": "code",
   "execution_count": null,
   "metadata": {},
   "outputs": [],
   "source": [
    "cd_df.std()"
   ]
  },
  {
   "cell_type": "code",
   "execution_count": null,
   "metadata": {},
   "outputs": [],
   "source": [
    "positive_df.corrwith(cd_df, axis = 0)"
   ]
  },
  {
   "cell_type": "code",
   "execution_count": null,
   "metadata": {},
   "outputs": [],
   "source": [
    "negative_df.corrwith(cd_df, axis = 0)"
   ]
  },
  {
   "cell_type": "code",
   "execution_count": null,
   "metadata": {},
   "outputs": [],
   "source": [
    "death_df.corrwith(cd_df, axis = 0)"
   ]
  },
  {
   "cell_type": "code",
   "execution_count": null,
   "metadata": {},
   "outputs": [],
   "source": [
    "hospitalized_df.corrwith(cd_df, axis = 0)"
   ]
  },
  {
   "cell_type": "code",
   "execution_count": null,
   "metadata": {},
   "outputs": [],
   "source": [
    "### Real Estate"
   ]
  },
  {
   "cell_type": "code",
   "execution_count": null,
   "metadata": {},
   "outputs": [],
   "source": [
    "re_df = yf.download(['ACLD','AGNC','ADC','ALX','ARE','SPY','XLRE'],\n",
    "                      start='2020-01-01',\n",
    "                      end='2020-12-31',\n",
    "                      progress=False)\n",
    "re_df = re_df['Close']\n",
    "re_df.head()"
   ]
  },
  {
   "cell_type": "code",
   "execution_count": null,
   "metadata": {},
   "outputs": [],
   "source": [
    "re_change = re_df.pct_change()\n",
    "re_change.plot(figsize = (18,10))"
   ]
  },
  {
   "cell_type": "code",
   "execution_count": null,
   "metadata": {},
   "outputs": [],
   "source": [
    "fig, ax = plt.subplots(figsize=(10,6))\n",
    "sns.heatmap(re_df.corr(), annot=True, cmap='coolwarm', linewidth=1, linecolor='black')"
   ]
  },
  {
   "cell_type": "code",
   "execution_count": null,
   "metadata": {},
   "outputs": [],
   "source": [
    "ACLD_beta = beta('ACLD','SPY',7,re_df)\n",
    "AGNC_beta = beta('AGNC','SPY',7,re_df)\n",
    "ADC_beta = beta('ADC','SPY',7,re_df)\n",
    "ALX_beta = beta('ALX','SPY',7,re_df)\n",
    "ARE_beta = beta('ARE','SPY',7,re_df)"
   ]
  },
  {
   "cell_type": "code",
   "execution_count": null,
   "metadata": {},
   "outputs": [],
   "source": [
    "XLRE_beta.hvplot(label = \"XLRE\") * ACLD_beta.hvplot(label = \"ACLD\") * AGNC_beta.hvplot(label = \"AGNC\") * ADC_beta.hvplot(label = \"ADC\") * ALX_beta.hvplot(label = \"ALX\") * ARE_beta.hvplot(label = \"ARE\")"
   ]
  },
  {
   "cell_type": "code",
   "execution_count": null,
   "metadata": {},
   "outputs": [],
   "source": [
    "sharpe_ratios = (re_change.mean() * 252) / (re_change.std() * np.sqrt(252))\n",
    "sharpe_ratios.plot.bar()"
   ]
  },
  {
   "cell_type": "code",
   "execution_count": null,
   "metadata": {},
   "outputs": [],
   "source": [
    "boxplot = re_change.boxplot(column=['ACLD','AGNC','ADC','ALX','ARE','SPY','XLRE'],figsize=(10,5))"
   ]
  },
  {
   "cell_type": "code",
   "execution_count": null,
   "metadata": {},
   "outputs": [],
   "source": [
    "re_df.std()"
   ]
  },
  {
   "cell_type": "code",
   "execution_count": null,
   "metadata": {},
   "outputs": [],
   "source": [
    "positive_df.corrwith(re_df, axis = 0)"
   ]
  },
  {
   "cell_type": "code",
   "execution_count": null,
   "metadata": {},
   "outputs": [],
   "source": [
    "negative_df.corrwith(re_df, axis = 0)"
   ]
  },
  {
   "cell_type": "code",
   "execution_count": null,
   "metadata": {},
   "outputs": [],
   "source": [
    "death_df.corrwith(re_df, axis = 0)"
   ]
  },
  {
   "cell_type": "code",
   "execution_count": null,
   "metadata": {},
   "outputs": [],
   "source": [
    "hospitalized_df.corrwith(re_df, axis = 0)"
   ]
  },
  {
   "cell_type": "markdown",
   "metadata": {},
   "source": [
    "### Utilities"
   ]
  },
  {
   "cell_type": "code",
   "execution_count": null,
   "metadata": {},
   "outputs": [],
   "source": [
    "utilities_df = yf.download(['NRG','SRE','PPL','AWK','BIP','SPY','XLU'],\n",
    "                      start='2020-01-01',\n",
    "                      end='2020-12-31',\n",
    "                      progress=False)\n",
    "utilities_df = utilities_df['Close']\n",
    "utilities_df.head()"
   ]
  },
  {
   "cell_type": "code",
   "execution_count": null,
   "metadata": {},
   "outputs": [],
   "source": [
    "utilities_change = utilities_df.pct_change()\n",
    "utilities_change.plot(figsize = (18,10))"
   ]
  },
  {
   "cell_type": "code",
   "execution_count": null,
   "metadata": {},
   "outputs": [],
   "source": [
    "fig, ax = plt.subplots(figsize=(10,6))\n",
    "sns.heatmap(utilities_df.corr(), annot=True, cmap='coolwarm', linewidth=1, linecolor='black')"
   ]
  },
  {
   "cell_type": "code",
   "execution_count": null,
   "metadata": {},
   "outputs": [],
   "source": [
    "NRG_beta = beta('NRG','SPY',7,utilities_df)\n",
    "SRE_beta = beta('SRE','SPY',7,utilities_df)\n",
    "PPL_beta = beta('PPL','SPY',7,utilities_df)\n",
    "AWK_beta = beta('AWK','SPY',7,utilities_df)\n",
    "BIP_beta = beta('BIP','SPY',7,utilities_df)"
   ]
  },
  {
   "cell_type": "code",
   "execution_count": null,
   "metadata": {},
   "outputs": [],
   "source": [
    "XLU_beta.hvplot(label = \"XLU\") * NRG_beta.hvplot(label = \"NRG\") * SRE_beta.hvplot(label = \"SRE\") * PPL_beta.hvplot(label = \"PPL\") * AWK_beta.hvplot(label = \"AWK\") * BIP_beta.hvplot(label = \"BIP\")"
   ]
  },
  {
   "cell_type": "code",
   "execution_count": null,
   "metadata": {},
   "outputs": [],
   "source": [
    "sharpe_ratios = (utilities_change.mean() * 252) / (utilities_change.std() * np.sqrt(252))\n",
    "sharpe_ratios.plot.bar()"
   ]
  },
  {
   "cell_type": "code",
   "execution_count": null,
   "metadata": {},
   "outputs": [],
   "source": [
    "boxplot = utilities_change.boxplot(column=['NRG','SRE','PPL','AWK','BIP','SPY','XLU'],figsize=(10,5))"
   ]
  },
  {
   "cell_type": "code",
   "execution_count": null,
   "metadata": {},
   "outputs": [],
   "source": [
    "utilities_df.std()"
   ]
  },
  {
   "cell_type": "code",
   "execution_count": null,
   "metadata": {},
   "outputs": [],
   "source": [
    "pos_march.corrwith(utilities_df, axis = 0)"
   ]
  },
  {
   "cell_type": "code",
   "execution_count": null,
   "metadata": {},
   "outputs": [],
   "source": [
    "neg_march.corrwith(utilities_df, axis = 0)"
   ]
  },
  {
   "cell_type": "code",
   "execution_count": null,
   "metadata": {},
   "outputs": [],
   "source": [
    "death_df.corrwith(utilities_df, axis = 0)"
   ]
  },
  {
   "cell_type": "code",
   "execution_count": null,
   "metadata": {},
   "outputs": [],
   "source": [
    "hospitalized_df.corrwith(utilities_df, axis = 0)"
   ]
  },
  {
   "cell_type": "code",
   "execution_count": null,
   "metadata": {},
   "outputs": [],
   "source": [
    "market_comparison[['SPY']].hvplot() + covid_df[['positive']].hvplot() + covid_df[['death']].hvplot()"
   ]
  },
  {
   "cell_type": "code",
   "execution_count": null,
   "metadata": {},
   "outputs": [],
   "source": [
    "market_comparison[['SPY']].hvplot() + corona_df[['positiveIncrease']].hvplot() + corona_df[['deathIncrease']].hvplot()"
   ]
  },
  {
   "cell_type": "code",
   "execution_count": null,
   "metadata": {},
   "outputs": [],
   "source": [
    "covid_df.hvplot()"
   ]
  },
  {
   "cell_type": "code",
   "execution_count": null,
   "metadata": {},
   "outputs": [],
   "source": []
  }
 ],
 "metadata": {
  "kernelspec": {
   "display_name": "Python [conda env:pyvizenv] *",
   "language": "python",
   "name": "conda-env-pyvizenv-py"
  },
  "language_info": {
   "codemirror_mode": {
    "name": "ipython",
    "version": 3
   },
   "file_extension": ".py",
   "mimetype": "text/x-python",
   "name": "python",
   "nbconvert_exporter": "python",
   "pygments_lexer": "ipython3",
   "version": "3.7.7"
  }
 },
 "nbformat": 4,
 "nbformat_minor": 4
}
