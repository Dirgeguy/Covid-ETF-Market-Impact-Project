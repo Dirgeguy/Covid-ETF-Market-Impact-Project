{
 "cells": [
  {
   "cell_type": "code",
   "execution_count": 9,
   "metadata": {},
   "outputs": [],
   "source": [
    "#Libraries import\n",
    "\n",
    "import os\n",
    "import requests\n",
    "import json\n",
    "import pandas as pd\n",
    "import numpy as np\n",
    "import yfinance as yf\n",
    "import plotly.express as px\n",
    "import seaborn as sns\n",
    "import matplotlib.pyplot as plt\n",
    "%matplotlib inline\n",
    "import hvplot.pandas\n",
    "import datetime"
   ]
  },
  {
   "cell_type": "code",
   "execution_count": 34,
   "metadata": {},
   "outputs": [
    {
     "name": "stderr",
     "output_type": "stream",
     "text": [
      "C:\\Users\\Sravani\\anaconda3\\envs\\pyvizenv\\lib\\site-packages\\ipykernel_launcher.py:10: SettingWithCopyWarning: \n",
      "A value is trying to be set on a copy of a slice from a DataFrame\n",
      "\n",
      "See the caveats in the documentation: http://pandas.pydata.org/pandas-docs/stable/indexing.html#indexing-view-versus-copy\n",
      "  # Remove the CWD from sys.path while we load stuff.\n",
      "C:\\Users\\Sravani\\anaconda3\\envs\\pyvizenv\\lib\\site-packages\\ipykernel_launcher.py:13: SettingWithCopyWarning: \n",
      "A value is trying to be set on a copy of a slice from a DataFrame.\n",
      "Try using .loc[row_indexer,col_indexer] = value instead\n",
      "\n",
      "See the caveats in the documentation: http://pandas.pydata.org/pandas-docs/stable/indexing.html#indexing-view-versus-copy\n",
      "  del sys.path[0]\n"
     ]
    },
    {
     "ename": "KeyError",
     "evalue": "'date'",
     "output_type": "error",
     "traceback": [
      "\u001b[1;31m---------------------------------------------------------------------------\u001b[0m",
      "\u001b[1;31mKeyError\u001b[0m                                  Traceback (most recent call last)",
      "\u001b[1;32m~\\anaconda3\\envs\\pyvizenv\\lib\\site-packages\\pandas\\core\\indexes\\base.py\u001b[0m in \u001b[0;36mget_loc\u001b[1;34m(self, key, method, tolerance)\u001b[0m\n\u001b[0;32m   2656\u001b[0m             \u001b[1;32mtry\u001b[0m\u001b[1;33m:\u001b[0m\u001b[1;33m\u001b[0m\u001b[1;33m\u001b[0m\u001b[0m\n\u001b[1;32m-> 2657\u001b[1;33m                 \u001b[1;32mreturn\u001b[0m \u001b[0mself\u001b[0m\u001b[1;33m.\u001b[0m\u001b[0m_engine\u001b[0m\u001b[1;33m.\u001b[0m\u001b[0mget_loc\u001b[0m\u001b[1;33m(\u001b[0m\u001b[0mkey\u001b[0m\u001b[1;33m)\u001b[0m\u001b[1;33m\u001b[0m\u001b[1;33m\u001b[0m\u001b[0m\n\u001b[0m\u001b[0;32m   2658\u001b[0m             \u001b[1;32mexcept\u001b[0m \u001b[0mKeyError\u001b[0m\u001b[1;33m:\u001b[0m\u001b[1;33m\u001b[0m\u001b[1;33m\u001b[0m\u001b[0m\n",
      "\u001b[1;32mpandas/_libs/index.pyx\u001b[0m in \u001b[0;36mpandas._libs.index.IndexEngine.get_loc\u001b[1;34m()\u001b[0m\n",
      "\u001b[1;32mpandas/_libs/index.pyx\u001b[0m in \u001b[0;36mpandas._libs.index.IndexEngine.get_loc\u001b[1;34m()\u001b[0m\n",
      "\u001b[1;32mpandas/_libs/hashtable_class_helper.pxi\u001b[0m in \u001b[0;36mpandas._libs.hashtable.PyObjectHashTable.get_item\u001b[1;34m()\u001b[0m\n",
      "\u001b[1;32mpandas/_libs/hashtable_class_helper.pxi\u001b[0m in \u001b[0;36mpandas._libs.hashtable.PyObjectHashTable.get_item\u001b[1;34m()\u001b[0m\n",
      "\u001b[1;31mKeyError\u001b[0m: 'date'",
      "\nDuring handling of the above exception, another exception occurred:\n",
      "\u001b[1;31mKeyError\u001b[0m                                  Traceback (most recent call last)",
      "\u001b[1;32m<ipython-input-34-82a5ae0798fb>\u001b[0m in \u001b[0;36m<module>\u001b[1;34m\u001b[0m\n\u001b[0;32m     14\u001b[0m \u001b[0mcovid_df\u001b[0m\u001b[1;33m.\u001b[0m\u001b[0mset_index\u001b[0m\u001b[1;33m(\u001b[0m\u001b[1;33m[\u001b[0m\u001b[1;34m'date'\u001b[0m\u001b[1;33m]\u001b[0m\u001b[1;33m,\u001b[0m \u001b[0minplace\u001b[0m\u001b[1;33m=\u001b[0m\u001b[1;32mTrue\u001b[0m\u001b[1;33m)\u001b[0m\u001b[1;33m\u001b[0m\u001b[1;33m\u001b[0m\u001b[0m\n\u001b[0;32m     15\u001b[0m \u001b[1;33m\u001b[0m\u001b[0m\n\u001b[1;32m---> 16\u001b[1;33m \u001b[0mmask\u001b[0m \u001b[1;33m=\u001b[0m \u001b[1;33m(\u001b[0m\u001b[0mcovid_df\u001b[0m\u001b[1;33m[\u001b[0m\u001b[1;34m'date'\u001b[0m\u001b[1;33m]\u001b[0m \u001b[1;33m>\u001b[0m \u001b[1;34m'2020-03-20'\u001b[0m\u001b[1;33m)\u001b[0m \u001b[1;33m&\u001b[0m \u001b[1;33m(\u001b[0m\u001b[0mcovid_df\u001b[0m\u001b[1;33m[\u001b[0m\u001b[1;34m'date'\u001b[0m\u001b[1;33m]\u001b[0m \u001b[1;33m<=\u001b[0m \u001b[1;34m'2020-03-25'\u001b[0m\u001b[1;33m)\u001b[0m\u001b[1;33m\u001b[0m\u001b[1;33m\u001b[0m\u001b[0m\n\u001b[0m\u001b[0;32m     17\u001b[0m \u001b[0mmarch_df\u001b[0m \u001b[1;33m=\u001b[0m \u001b[0mcovid_df\u001b[0m\u001b[1;33m.\u001b[0m\u001b[0mloc\u001b[0m\u001b[1;33m[\u001b[0m\u001b[0mmask\u001b[0m\u001b[1;33m]\u001b[0m\u001b[1;33m\u001b[0m\u001b[1;33m\u001b[0m\u001b[0m\n\u001b[0;32m     18\u001b[0m \u001b[0mmarch_df\u001b[0m\u001b[1;33m\u001b[0m\u001b[1;33m\u001b[0m\u001b[0m\n",
      "\u001b[1;32m~\\anaconda3\\envs\\pyvizenv\\lib\\site-packages\\pandas\\core\\frame.py\u001b[0m in \u001b[0;36m__getitem__\u001b[1;34m(self, key)\u001b[0m\n\u001b[0;32m   2925\u001b[0m             \u001b[1;32mif\u001b[0m \u001b[0mself\u001b[0m\u001b[1;33m.\u001b[0m\u001b[0mcolumns\u001b[0m\u001b[1;33m.\u001b[0m\u001b[0mnlevels\u001b[0m \u001b[1;33m>\u001b[0m \u001b[1;36m1\u001b[0m\u001b[1;33m:\u001b[0m\u001b[1;33m\u001b[0m\u001b[1;33m\u001b[0m\u001b[0m\n\u001b[0;32m   2926\u001b[0m                 \u001b[1;32mreturn\u001b[0m \u001b[0mself\u001b[0m\u001b[1;33m.\u001b[0m\u001b[0m_getitem_multilevel\u001b[0m\u001b[1;33m(\u001b[0m\u001b[0mkey\u001b[0m\u001b[1;33m)\u001b[0m\u001b[1;33m\u001b[0m\u001b[1;33m\u001b[0m\u001b[0m\n\u001b[1;32m-> 2927\u001b[1;33m             \u001b[0mindexer\u001b[0m \u001b[1;33m=\u001b[0m \u001b[0mself\u001b[0m\u001b[1;33m.\u001b[0m\u001b[0mcolumns\u001b[0m\u001b[1;33m.\u001b[0m\u001b[0mget_loc\u001b[0m\u001b[1;33m(\u001b[0m\u001b[0mkey\u001b[0m\u001b[1;33m)\u001b[0m\u001b[1;33m\u001b[0m\u001b[1;33m\u001b[0m\u001b[0m\n\u001b[0m\u001b[0;32m   2928\u001b[0m             \u001b[1;32mif\u001b[0m \u001b[0mis_integer\u001b[0m\u001b[1;33m(\u001b[0m\u001b[0mindexer\u001b[0m\u001b[1;33m)\u001b[0m\u001b[1;33m:\u001b[0m\u001b[1;33m\u001b[0m\u001b[1;33m\u001b[0m\u001b[0m\n\u001b[0;32m   2929\u001b[0m                 \u001b[0mindexer\u001b[0m \u001b[1;33m=\u001b[0m \u001b[1;33m[\u001b[0m\u001b[0mindexer\u001b[0m\u001b[1;33m]\u001b[0m\u001b[1;33m\u001b[0m\u001b[1;33m\u001b[0m\u001b[0m\n",
      "\u001b[1;32m~\\anaconda3\\envs\\pyvizenv\\lib\\site-packages\\pandas\\core\\indexes\\base.py\u001b[0m in \u001b[0;36mget_loc\u001b[1;34m(self, key, method, tolerance)\u001b[0m\n\u001b[0;32m   2657\u001b[0m                 \u001b[1;32mreturn\u001b[0m \u001b[0mself\u001b[0m\u001b[1;33m.\u001b[0m\u001b[0m_engine\u001b[0m\u001b[1;33m.\u001b[0m\u001b[0mget_loc\u001b[0m\u001b[1;33m(\u001b[0m\u001b[0mkey\u001b[0m\u001b[1;33m)\u001b[0m\u001b[1;33m\u001b[0m\u001b[1;33m\u001b[0m\u001b[0m\n\u001b[0;32m   2658\u001b[0m             \u001b[1;32mexcept\u001b[0m \u001b[0mKeyError\u001b[0m\u001b[1;33m:\u001b[0m\u001b[1;33m\u001b[0m\u001b[1;33m\u001b[0m\u001b[0m\n\u001b[1;32m-> 2659\u001b[1;33m                 \u001b[1;32mreturn\u001b[0m \u001b[0mself\u001b[0m\u001b[1;33m.\u001b[0m\u001b[0m_engine\u001b[0m\u001b[1;33m.\u001b[0m\u001b[0mget_loc\u001b[0m\u001b[1;33m(\u001b[0m\u001b[0mself\u001b[0m\u001b[1;33m.\u001b[0m\u001b[0m_maybe_cast_indexer\u001b[0m\u001b[1;33m(\u001b[0m\u001b[0mkey\u001b[0m\u001b[1;33m)\u001b[0m\u001b[1;33m)\u001b[0m\u001b[1;33m\u001b[0m\u001b[1;33m\u001b[0m\u001b[0m\n\u001b[0m\u001b[0;32m   2660\u001b[0m         \u001b[0mindexer\u001b[0m \u001b[1;33m=\u001b[0m \u001b[0mself\u001b[0m\u001b[1;33m.\u001b[0m\u001b[0mget_indexer\u001b[0m\u001b[1;33m(\u001b[0m\u001b[1;33m[\u001b[0m\u001b[0mkey\u001b[0m\u001b[1;33m]\u001b[0m\u001b[1;33m,\u001b[0m \u001b[0mmethod\u001b[0m\u001b[1;33m=\u001b[0m\u001b[0mmethod\u001b[0m\u001b[1;33m,\u001b[0m \u001b[0mtolerance\u001b[0m\u001b[1;33m=\u001b[0m\u001b[0mtolerance\u001b[0m\u001b[1;33m)\u001b[0m\u001b[1;33m\u001b[0m\u001b[1;33m\u001b[0m\u001b[0m\n\u001b[0;32m   2661\u001b[0m         \u001b[1;32mif\u001b[0m \u001b[0mindexer\u001b[0m\u001b[1;33m.\u001b[0m\u001b[0mndim\u001b[0m \u001b[1;33m>\u001b[0m \u001b[1;36m1\u001b[0m \u001b[1;32mor\u001b[0m \u001b[0mindexer\u001b[0m\u001b[1;33m.\u001b[0m\u001b[0msize\u001b[0m \u001b[1;33m>\u001b[0m \u001b[1;36m1\u001b[0m\u001b[1;33m:\u001b[0m\u001b[1;33m\u001b[0m\u001b[1;33m\u001b[0m\u001b[0m\n",
      "\u001b[1;32mpandas/_libs/index.pyx\u001b[0m in \u001b[0;36mpandas._libs.index.IndexEngine.get_loc\u001b[1;34m()\u001b[0m\n",
      "\u001b[1;32mpandas/_libs/index.pyx\u001b[0m in \u001b[0;36mpandas._libs.index.IndexEngine.get_loc\u001b[1;34m()\u001b[0m\n",
      "\u001b[1;32mpandas/_libs/hashtable_class_helper.pxi\u001b[0m in \u001b[0;36mpandas._libs.hashtable.PyObjectHashTable.get_item\u001b[1;34m()\u001b[0m\n",
      "\u001b[1;32mpandas/_libs/hashtable_class_helper.pxi\u001b[0m in \u001b[0;36mpandas._libs.hashtable.PyObjectHashTable.get_item\u001b[1;34m()\u001b[0m\n",
      "\u001b[1;31mKeyError\u001b[0m: 'date'"
     ]
    }
   ],
   "source": [
    "#Covid data import using API\n",
    "\n",
    "\n",
    "resp = requests.get(\"https://api.covidtracking.com/v1/us/daily.json\")\n",
    "data = resp.text\n",
    "corona_df = pd.read_json(data)\n",
    "\n",
    "#Data cleanup\n",
    "covid_df = corona_df[[\"date\",\"positiveIncrease\", \"negativeIncrease\", \"hospitalizedCumulative\",\"deathIncrease\"]]\n",
    "covid_df.dropna(inplace=True)\n",
    "\n",
    "#Change format of data column\n",
    "covid_df['date'] = pd.to_datetime(covid_df['date'], format='%Y%m%d')\n",
    "covid_df.set_index(['date'], inplace=True)\n",
    "\n",
    "mask = (covid_df['date'] > '2020-03-20') & (covid_df['date'] <= '2020-03-25')\n",
    "march_df = covid_df.loc[mask]\n",
    "march_df"
   ]
  },
  {
   "cell_type": "code",
   "execution_count": null,
   "metadata": {},
   "outputs": [],
   "source": [
    "#Prepare new dataframe\n",
    "negative_df = covid_df[['date', 'negative']]\n",
    "\n",
    "negative_df.set_index(['date'], inplace=True)\n",
    "negative_df.dropna(inplace=True)\n",
    "negative_df.head()\n"
   ]
  },
  {
   "cell_type": "code",
   "execution_count": null,
   "metadata": {},
   "outputs": [],
   "source": [
    "positive_df = covid_df[['date', 'positive']]\n",
    "positive_df.set_index(['date'], inplace=True)\n",
    "\n",
    "positive_df.dropna(inplace=True)\n",
    "positive_df.head()"
   ]
  },
  {
   "cell_type": "code",
   "execution_count": null,
   "metadata": {},
   "outputs": [],
   "source": [
    "death_df = covid_df[['date', 'death']]\n",
    "death_df.set_index(['date'], inplace=True)\n",
    "\n",
    "death_df.dropna(inplace=True)\n",
    "death_df.head()"
   ]
  },
  {
   "cell_type": "code",
   "execution_count": null,
   "metadata": {},
   "outputs": [],
   "source": [
    "hospitalized_df = covid_df[['date', 'hospitalizedCumulative']]\n",
    "hospitalized_df.set_index(['date'], inplace=True)\n",
    "\n",
    "hospitalized_df.dropna(inplace=True)\n",
    "hospitalized_df.head()"
   ]
  },
  {
   "cell_type": "code",
   "execution_count": null,
   "metadata": {},
   "outputs": [],
   "source": [
    "etf_df = yf.download(['XLC','XLY','XLP','XLE','XLF','XLV','XLI','XLB','XLRE','XLK','XLU','SPY'],\n",
    "                      start='2020-03-01',\n",
    "                      end='2020-12-31',\n",
    "                      progress=False)\n",
    "etf_df = etf_df['Close']\n",
    "etf_df.head()\n"
   ]
  },
  {
   "cell_type": "markdown",
   "metadata": {},
   "source": [
    "## Market Comparison"
   ]
  },
  {
   "cell_type": "code",
   "execution_count": null,
   "metadata": {},
   "outputs": [],
   "source": [
    "market_comparison = etf_df[['XLC','XLY','XLP','XLE','XLF','XLV','XLI','XLB','XLRE','XLK','XLU','SPY']]\n",
    "market_comparison.head()"
   ]
  },
  {
   "cell_type": "code",
   "execution_count": null,
   "metadata": {},
   "outputs": [],
   "source": [
    "change_comparison=market_comparison.pct_change()\n",
    "change_comparison.dropna(inplace=True)\n",
    "change_comparison.hvplot()"
   ]
  },
  {
   "cell_type": "code",
   "execution_count": null,
   "metadata": {},
   "outputs": [],
   "source": [
    "market_comparison.hvplot()"
   ]
  },
  {
   "cell_type": "code",
   "execution_count": null,
   "metadata": {},
   "outputs": [],
   "source": [
    "fig, ax = plt.subplots(figsize=(14,11))\n",
    "sns.heatmap(market_comparison.corr(), annot=True, cmap='coolwarm', linewidth=1, linecolor='black')"
   ]
  },
  {
   "cell_type": "code",
   "execution_count": null,
   "metadata": {},
   "outputs": [],
   "source": [
    "def beta(ticker1, ticker2, window_size,df):\n",
    "    covariance = df[ticker1].rolling(window=window_size).cov(df[ticker2])\n",
    "    variance = df[ticker1].rolling(window=window_size).var()\n",
    "    return covariance / variance\n",
    "\n",
    "XLB_beta = beta('XLB','SPY',7,market_comparison)\n",
    "XLC_beta = beta('XLC','SPY',7,market_comparison)\n",
    "XLE_beta = beta('XLE','SPY',7,market_comparison)\n",
    "XLF_beta = beta('XLF','SPY',7,market_comparison)\n",
    "XLY_beta = beta('XLY','SPY',7,market_comparison)\n",
    "XLP_beta = beta('XLP','SPY',7,market_comparison)\n",
    "XLV_beta = beta('XLV','SPY',7,market_comparison)\n",
    "XLI_beta = beta('XLI','SPY',7,market_comparison)\n",
    "XLRE_beta = beta('XLRE','SPY',7,market_comparison)\n",
    "XLK_beta = beta('XLK','SPY',7,market_comparison)\n",
    "XLU_beta = beta('XLU','SPY',7,market_comparison)"
   ]
  },
  {
   "cell_type": "code",
   "execution_count": null,
   "metadata": {},
   "outputs": [],
   "source": [
    "XLB_beta.hvplot(label = \"XLB\") * XLC_beta.hvplot(label = \"XLC\") *  XLE_beta.hvplot(label = \"XLE\") * XLF_beta.hvplot(label = \"XLF\") *XLY_beta.hvplot(label = \"XLY\") * XLP_beta.hvplot(label = \"XLP\") * XLV_beta.hvplot(label = \"XLV\") * XLI_beta.hvplot(label = \"XLI\") * XLRE_beta.hvplot(label = \"XLRE\") * XLK_beta.hvplot(label = \"XLK\") * XLU_beta.hvplot(label = \"XLU\")"
   ]
  },
  {
   "cell_type": "code",
   "execution_count": null,
   "metadata": {},
   "outputs": [],
   "source": [
    "sharpe_ratios = (change_comparison.mean() * 252) / (change_comparison.std() * np.sqrt(252))\n",
    "sharpe_ratios.plot.bar()"
   ]
  },
  {
   "cell_type": "code",
   "execution_count": null,
   "metadata": {},
   "outputs": [],
   "source": [
    "boxplot = market_comparison.boxplot(column=['SPY','XLB','XLC','XLE','XLF'],figsize=(10,5))"
   ]
  },
  {
   "cell_type": "code",
   "execution_count": null,
   "metadata": {},
   "outputs": [],
   "source": [
    "market_comparison.std()"
   ]
  },
  {
   "cell_type": "code",
   "execution_count": null,
   "metadata": {},
   "outputs": [],
   "source": [
    "pos_march = march_df[['date','positive']]\n",
    "pos_march.corrwith(market_comparison, axis=0)\n",
    "\n",
    "#positive_df.corrwith(market_comparison, axis = 0)"
   ]
  },
  {
   "cell_type": "code",
   "execution_count": null,
   "metadata": {},
   "outputs": [],
   "source": [
    "neg_march = march_df[['date','negative']]\n",
    "neg_march.corrwith(market_comparison, axis=0)\n",
    "\n",
    "#negative_df.corrwith(market_comparison, axis = 0)"
   ]
  },
  {
   "cell_type": "code",
   "execution_count": null,
   "metadata": {},
   "outputs": [],
   "source": [
    "death_df.corrwith(market_comparison, axis = 0)"
   ]
  },
  {
   "cell_type": "code",
   "execution_count": null,
   "metadata": {},
   "outputs": [],
   "source": [
    "hospitalized_df.corrwith(market_comparison, axis = 0)"
   ]
  },
  {
   "cell_type": "code",
   "execution_count": null,
   "metadata": {},
   "outputs": [],
   "source": [
    "## Comparison by individual sectors with stocks and ETFs"
   ]
  },
  {
   "cell_type": "markdown",
   "metadata": {},
   "source": [
    "### Materials"
   ]
  },
  {
   "cell_type": "code",
   "execution_count": null,
   "metadata": {},
   "outputs": [],
   "source": [
    "materials_df = yf.download(['HUN','EXP','NEM','FCX','SMG','SPY','XLB'],\n",
    "                      start='2020-01-01',\n",
    "                      end='2020-12-31',\n",
    "                      progress=False)\n",
    "materials_df = materials_df['Close']\n",
    "materials_df.head()"
   ]
  },
  {
   "cell_type": "code",
   "execution_count": null,
   "metadata": {},
   "outputs": [],
   "source": [
    "materials_change = materials_df.pct_change()\n",
    "materials_change.plot(figsize = (18,10))"
   ]
  },
  {
   "cell_type": "code",
   "execution_count": null,
   "metadata": {},
   "outputs": [],
   "source": [
    "fig, ax = plt.subplots(figsize=(10,6))\n",
    "sns.heatmap(materials_df.corr(), annot=True, cmap='coolwarm', linewidth=1, linecolor='black')"
   ]
  },
  {
   "cell_type": "code",
   "execution_count": null,
   "metadata": {},
   "outputs": [],
   "source": [
    "EXP_beta = beta('EXP','SPY',7,materials_df)\n",
    "FCX_beta = beta('FCX','SPY',7,materials_df)\n",
    "HUN_beta = beta('HUN','SPY',7,materials_df)\n",
    "NEM_beta = beta('NEM','SPY',7,materials_df)\n",
    "SMG_beta = beta('SMG','SPY',7,materials_df)"
   ]
  },
  {
   "cell_type": "code",
   "execution_count": null,
   "metadata": {},
   "outputs": [],
   "source": [
    "XLB_beta.hvplot(label = \"XLB\") * EXP_beta.hvplot(label = \"EXP\") * FCX_beta.hvplot(label = \"FCX\") * HUN_beta.hvplot(label = \"HUN\") * NEM_beta.hvplot(label = \"NEM\") * SMG_beta.hvplot(label = \"SMG\")"
   ]
  },
  {
   "cell_type": "code",
   "execution_count": null,
   "metadata": {},
   "outputs": [],
   "source": [
    "sharpe_ratios = (materials_change.mean() * 252) / (materials_change.std() * np.sqrt(252))\n",
    "sharpe_ratios.plot.bar()"
   ]
  },
  {
   "cell_type": "code",
   "execution_count": null,
   "metadata": {},
   "outputs": [],
   "source": [
    "boxplot = materials_df.boxplot(column=['HUN','EXP','NEM','FCX','SMG','SPY','XLB'],figsize=(10,5))"
   ]
  },
  {
   "cell_type": "code",
   "execution_count": null,
   "metadata": {},
   "outputs": [],
   "source": [
    "materials_df.std()"
   ]
  },
  {
   "cell_type": "code",
   "execution_count": null,
   "metadata": {},
   "outputs": [],
   "source": [
    "pos_march.corrwith(materials_df, axis = 0)"
   ]
  },
  {
   "cell_type": "code",
   "execution_count": null,
   "metadata": {},
   "outputs": [],
   "source": [
    "neg_march.corrwith(materials_df, axis = 0)"
   ]
  },
  {
   "cell_type": "code",
   "execution_count": null,
   "metadata": {},
   "outputs": [],
   "source": [
    "death_df.corrwith(materials_df, axis = 0)"
   ]
  },
  {
   "cell_type": "code",
   "execution_count": null,
   "metadata": {},
   "outputs": [],
   "source": [
    "hospitalized_df.corrwith(materials_df, axis = 0)"
   ]
  },
  {
   "cell_type": "markdown",
   "metadata": {},
   "source": [
    "### Communications"
   ]
  },
  {
   "cell_type": "code",
   "execution_count": null,
   "metadata": {},
   "outputs": [],
   "source": [
    "communications_df = yf.download(['VIAC','T','DISCK','FB','GOOG','SPY','XLC'],\n",
    "                      start='2020-01-01',\n",
    "                      end='2020-12-31',\n",
    "                      progress=False)\n",
    "communications_df = communications_df['Close']\n",
    "communications_df.head()"
   ]
  },
  {
   "cell_type": "code",
   "execution_count": null,
   "metadata": {},
   "outputs": [],
   "source": [
    "communications_change = communications_df.pct_change()\n",
    "communications_change.plot(figsize = (18,10))"
   ]
  },
  {
   "cell_type": "code",
   "execution_count": null,
   "metadata": {},
   "outputs": [],
   "source": [
    "fig, ax = plt.subplots(figsize=(10,6))\n",
    "sns.heatmap(communications_df.corr(), annot=True, cmap='coolwarm', linewidth=1, linecolor='black')"
   ]
  },
  {
   "cell_type": "code",
   "execution_count": null,
   "metadata": {},
   "outputs": [],
   "source": [
    "DISCK_beta = beta('DISCK','SPY',7,communications_df)\n",
    "FB_beta = beta('FB','SPY',7,communications_df)\n",
    "GOOG_beta = beta('GOOG','SPY',7,communications_df)\n",
    "T_beta = beta('T','SPY',7,communications_df)\n",
    "VIAC_beta = beta('VIAC','SPY',7,communications_df)"
   ]
  },
  {
   "cell_type": "code",
   "execution_count": null,
   "metadata": {},
   "outputs": [],
   "source": [
    "XLC_beta.hvplot(label = \"XLC\") * DISCK_beta.hvplot(label = \"DISCK\") * FB_beta.hvplot(label = \"FB\") * GOOG_beta.hvplot(label = \"GOOG\") * T_beta.hvplot(label = \"T\") * VIAC_beta.hvplot(label = \"VIAC\")"
   ]
  },
  {
   "cell_type": "code",
   "execution_count": null,
   "metadata": {},
   "outputs": [],
   "source": [
    "sharpe_ratios = (communications_change.mean() * 252) / (communications_change.std() * np.sqrt(252))\n",
    "sharpe_ratios.plot.bar()"
   ]
  },
  {
   "cell_type": "code",
   "execution_count": null,
   "metadata": {},
   "outputs": [],
   "source": [
    "boxplot = communications_change.boxplot(column=['VIAC','T','DISCK','FB','GOOG','SPY','XLC'],figsize=(10,5))"
   ]
  },
  {
   "cell_type": "code",
   "execution_count": null,
   "metadata": {},
   "outputs": [],
   "source": [
    "communications_change.std()"
   ]
  },
  {
   "cell_type": "code",
   "execution_count": null,
   "metadata": {},
   "outputs": [],
   "source": [
    "positive_df.corrwith(communications_df, axis = 0)"
   ]
  },
  {
   "cell_type": "code",
   "execution_count": null,
   "metadata": {},
   "outputs": [],
   "source": [
    "negative_df.corrwith(communications_df, axis = 0)"
   ]
  },
  {
   "cell_type": "code",
   "execution_count": null,
   "metadata": {},
   "outputs": [],
   "source": [
    "death_df.corrwith(communications_df, axis = 0)"
   ]
  },
  {
   "cell_type": "code",
   "execution_count": null,
   "metadata": {},
   "outputs": [],
   "source": [
    "hospitalized_df.corrwith(communications_df, axis = 0)"
   ]
  },
  {
   "cell_type": "markdown",
   "metadata": {},
   "source": [
    "### Energy"
   ]
  },
  {
   "cell_type": "code",
   "execution_count": null,
   "metadata": {},
   "outputs": [],
   "source": [
    "energy_df = yf.download(['OKE','COP','VLO','LNG','MUR','SPY','XLE'],\n",
    "                      start='2020-01-01',\n",
    "                      end='2020-12-31',\n",
    "                      progress=False)\n",
    "energy_df = energy_df['Close']\n",
    "energy_df.head()\n"
   ]
  },
  {
   "cell_type": "code",
   "execution_count": null,
   "metadata": {},
   "outputs": [],
   "source": [
    "energy_change = energy_df.pct_change()\n",
    "energy_change.plot(figsize = (18,10))"
   ]
  },
  {
   "cell_type": "code",
   "execution_count": null,
   "metadata": {},
   "outputs": [],
   "source": [
    "fig, ax = plt.subplots(figsize=(10,6))\n",
    "sns.heatmap(energy_df.corr(), annot=True, cmap='coolwarm', linewidth=1, linecolor='black')"
   ]
  },
  {
   "cell_type": "code",
   "execution_count": null,
   "metadata": {},
   "outputs": [],
   "source": [
    "OKE_beta = beta('OKE','SPY',7,energy_df)\n",
    "COP_beta = beta('COP','SPY',7,energy_df)\n",
    "VLO_beta = beta('VLO','SPY',7,energy_df)\n",
    "LNG_beta = beta('LNG','SPY',7,energy_df)\n",
    "MUR_beta = beta('MUR','SPY',7,energy_df)"
   ]
  },
  {
   "cell_type": "code",
   "execution_count": null,
   "metadata": {},
   "outputs": [],
   "source": [
    "XLC_beta.hvplot(label = \"XLE\") * OKE_beta.hvplot(label = \"OKE\") * COP_beta.hvplot(label = \"COP\") * VLO_beta.hvplot(label = \"VLO\") * LNG_beta.hvplot(label = \"LNG\") * MUR_beta.hvplot(label = \"MUR\")"
   ]
  },
  {
   "cell_type": "code",
   "execution_count": null,
   "metadata": {},
   "outputs": [],
   "source": [
    "sharpe_ratios = (energy_change.mean() * 252) / (energy_change.std() * np.sqrt(252))\n",
    "sharpe_ratios.plot.bar()"
   ]
  },
  {
   "cell_type": "code",
   "execution_count": null,
   "metadata": {},
   "outputs": [],
   "source": [
    "boxplot = energy_change.boxplot(column=['OKE','COP','VLO','LNG','MUR','SPY','XLE'],figsize=(10,5))"
   ]
  },
  {
   "cell_type": "code",
   "execution_count": null,
   "metadata": {},
   "outputs": [],
   "source": [
    "energy_change.std()"
   ]
  },
  {
   "cell_type": "code",
   "execution_count": null,
   "metadata": {},
   "outputs": [],
   "source": [
    "positive_df.corrwith(energy_df, axis = 0)"
   ]
  },
  {
   "cell_type": "code",
   "execution_count": null,
   "metadata": {},
   "outputs": [],
   "source": [
    "negative_df.corrwith(energy_df, axis = 0)"
   ]
  },
  {
   "cell_type": "code",
   "execution_count": null,
   "metadata": {},
   "outputs": [],
   "source": [
    "death_df.corrwith(energy_df, axis = 0)"
   ]
  },
  {
   "cell_type": "code",
   "execution_count": null,
   "metadata": {},
   "outputs": [],
   "source": [
    "hospitalized_df.corrwith(energy_df, axis = 0)"
   ]
  },
  {
   "cell_type": "markdown",
   "metadata": {},
   "source": [
    "### Finance"
   ]
  },
  {
   "cell_type": "code",
   "execution_count": null,
   "metadata": {},
   "outputs": [],
   "source": [
    "finance_df = yf.download(['BHF','UNM','MET','CFG','LFC','SPY','XLF'],\n",
    "                      start='2020-01-01',\n",
    "                      end='2020-12-31',\n",
    "                      progress=False)\n",
    "finance_df = finance_df['Close']\n",
    "finance_df.head()"
   ]
  },
  {
   "cell_type": "code",
   "execution_count": null,
   "metadata": {},
   "outputs": [],
   "source": [
    "finance_change = finance_df.pct_change()\n",
    "finance_change.plot(figsize = (18,10))"
   ]
  },
  {
   "cell_type": "code",
   "execution_count": null,
   "metadata": {},
   "outputs": [],
   "source": [
    "fig, ax = plt.subplots(figsize=(10,6))\n",
    "sns.heatmap(finance_df.corr(), annot=True, cmap='coolwarm', linewidth=1, linecolor='black')"
   ]
  },
  {
   "cell_type": "code",
   "execution_count": null,
   "metadata": {},
   "outputs": [],
   "source": [
    "BHF_beta = beta('BHF','SPY',7,finance_df)\n",
    "UNM_beta = beta('UNM','SPY',7,finance_df)\n",
    "MET_beta = beta('MET','SPY',7,finance_df)\n",
    "CFG_beta = beta('CFG','SPY',7,finance_df)\n",
    "LFC_beta = beta('LFC','SPY',7,finance_df)"
   ]
  },
  {
   "cell_type": "code",
   "execution_count": null,
   "metadata": {},
   "outputs": [],
   "source": [
    "XLF_beta.hvplot(label = \"XLF\") * BHF_beta.hvplot(label = \"BHF\") * UNM_beta.hvplot(label = \"UNM\") * MET_beta.hvplot(label = \"MET\") * CFG_beta.hvplot(label = \"CFG\") * LFC_beta.hvplot(label = \"LFC\")"
   ]
  },
  {
   "cell_type": "code",
   "execution_count": null,
   "metadata": {},
   "outputs": [],
   "source": [
    "sharpe_ratios = (finance_change.mean() * 252) / (finance_change.std() * np.sqrt(252))\n",
    "sharpe_ratios.plot.bar()"
   ]
  },
  {
   "cell_type": "code",
   "execution_count": null,
   "metadata": {},
   "outputs": [],
   "source": [
    "boxplot = finance_change.boxplot(column=['BHF','UNM','MET','CFG','LFC','SPY','XLF'],figsize=(10,5))"
   ]
  },
  {
   "cell_type": "code",
   "execution_count": null,
   "metadata": {},
   "outputs": [],
   "source": [
    "finance_change.std()"
   ]
  },
  {
   "cell_type": "code",
   "execution_count": null,
   "metadata": {},
   "outputs": [],
   "source": [
    "positive_df.corrwith(finance_df, axis = 0)"
   ]
  },
  {
   "cell_type": "code",
   "execution_count": null,
   "metadata": {},
   "outputs": [],
   "source": [
    "negative_df.corrwith(finance_df, axis = 0)"
   ]
  },
  {
   "cell_type": "code",
   "execution_count": null,
   "metadata": {},
   "outputs": [],
   "source": [
    "death_df.corrwith(finance_df, axis = 0)"
   ]
  },
  {
   "cell_type": "code",
   "execution_count": null,
   "metadata": {},
   "outputs": [],
   "source": [
    "hospitalized_df.corrwith(finance_df, axis = 0)"
   ]
  },
  {
   "cell_type": "markdown",
   "metadata": {},
   "source": [
    "### Industrials"
   ]
  },
  {
   "cell_type": "code",
   "execution_count": null,
   "metadata": {},
   "outputs": [],
   "source": [
    "industrial_df = yf.download(['EAF','AL','HII','FDX','VRT','SPY','XLI'],\n",
    "                      start='2020-01-01',\n",
    "                      end='2020-12-31',\n",
    "                      progress=False)\n",
    "industrial_df = industrial_df['Close']\n",
    "industrial_df.head()"
   ]
  },
  {
   "cell_type": "code",
   "execution_count": null,
   "metadata": {},
   "outputs": [],
   "source": [
    "industrial_change = industrial_df.pct_change()\n",
    "industrial_change.plot(figsize = (18,10))"
   ]
  },
  {
   "cell_type": "code",
   "execution_count": null,
   "metadata": {},
   "outputs": [],
   "source": [
    "fig, ax = plt.subplots(figsize=(10,6))\n",
    "sns.heatmap(industrial_df.corr(), annot=True, cmap='coolwarm', linewidth=1, linecolor='black')"
   ]
  },
  {
   "cell_type": "code",
   "execution_count": null,
   "metadata": {},
   "outputs": [],
   "source": [
    "EAF_beta = beta('EAF','SPY',7,industrial_df)\n",
    "AL_beta = beta('AL','SPY',7,industrial_df)\n",
    "HII_beta = beta('HII','SPY',7,industrial_df)\n",
    "FDX_beta = beta('FDX','SPY',7,industrial_df)\n",
    "VRT_beta = beta('VRT','SPY',7,industrial_df)"
   ]
  },
  {
   "cell_type": "code",
   "execution_count": null,
   "metadata": {},
   "outputs": [],
   "source": [
    "XLI_beta.hvplot(label = \"XLI\") * EAF_beta.hvplot(label = \"EAF\") * AL_beta.hvplot(label = \"AL\") * HII_beta.hvplot(label = \"HII\") * FDX_beta.hvplot(label = \"FDX\") * VRT_beta.hvplot(label = \"VRT\")"
   ]
  },
  {
   "cell_type": "code",
   "execution_count": null,
   "metadata": {},
   "outputs": [],
   "source": [
    "sharpe_ratios = (industrial_change.mean() * 252) / (industrial_change.std() * np.sqrt(252))\n",
    "sharpe_ratios.plot.bar()"
   ]
  },
  {
   "cell_type": "code",
   "execution_count": null,
   "metadata": {},
   "outputs": [],
   "source": [
    "boxplot = industrial_change.boxplot(column=['EAF','AL','HII','FDX','VRT','SPY','XLI'],figsize=(10,5))"
   ]
  },
  {
   "cell_type": "code",
   "execution_count": null,
   "metadata": {},
   "outputs": [],
   "source": [
    "industrial_change.std()"
   ]
  },
  {
   "cell_type": "code",
   "execution_count": null,
   "metadata": {},
   "outputs": [],
   "source": [
    "positive_df.corrwith(industrial_df, axis = 0)"
   ]
  },
  {
   "cell_type": "code",
   "execution_count": null,
   "metadata": {},
   "outputs": [],
   "source": [
    "negative_df.corrwith(industrial_df, axis = 0)"
   ]
  },
  {
   "cell_type": "code",
   "execution_count": null,
   "metadata": {},
   "outputs": [],
   "source": [
    "death_df.corrwith(industrial_df, axis = 0)"
   ]
  },
  {
   "cell_type": "code",
   "execution_count": null,
   "metadata": {},
   "outputs": [],
   "source": [
    "hospitalized_df.corrwith(industrial_df, axis = 0)"
   ]
  },
  {
   "cell_type": "markdown",
   "metadata": {},
   "source": [
    "### Technology"
   ]
  },
  {
   "cell_type": "code",
   "execution_count": null,
   "metadata": {},
   "outputs": [],
   "source": [
    "technology_df = yf.download(['MSFT','DELL','NLOK','XRX','NCR','SPY','XLK'],\n",
    "                      start='2020-01-01',\n",
    "                      end='2020-12-31',\n",
    "                      progress=False)\n",
    "technology_df = technology_df['Close']\n",
    "technology_df.head()"
   ]
  },
  {
   "cell_type": "code",
   "execution_count": null,
   "metadata": {},
   "outputs": [],
   "source": [
    "technology_change = technology_df.pct_change()\n",
    "technology_change.plot(figsize = (18,10))"
   ]
  },
  {
   "cell_type": "code",
   "execution_count": null,
   "metadata": {},
   "outputs": [],
   "source": [
    "fig, ax = plt.subplots(figsize=(10,6))\n",
    "sns.heatmap(technology_df.corr(), annot=True, cmap='coolwarm', linewidth=1, linecolor='black')"
   ]
  },
  {
   "cell_type": "code",
   "execution_count": null,
   "metadata": {},
   "outputs": [],
   "source": [
    "MSFT_beta = beta('MSFT','SPY',7,technology_df)\n",
    "DELL_beta = beta('DELL','SPY',7,technology_df)\n",
    "NLOK_beta = beta('NLOK','SPY',7,technology_df)\n",
    "XRX_beta = beta('XRX','SPY',7,technology_df)\n",
    "NCR_beta = beta('NCR','SPY',7,technology_df)"
   ]
  },
  {
   "cell_type": "code",
   "execution_count": null,
   "metadata": {},
   "outputs": [],
   "source": [
    "XLK_beta.hvplot(label = \"XLK\") * MSFT_beta.hvplot(label = \"MSFT\") * DELL_beta.hvplot(label = \"DELL\") * NLOK_beta.hvplot(label = \"NLOK\") * XRX_beta.hvplot(label = \"XRX\") * NCR_beta.hvplot(label = \"NCR\")"
   ]
  },
  {
   "cell_type": "code",
   "execution_count": null,
   "metadata": {},
   "outputs": [],
   "source": [
    "sharpe_ratios = (technology_change.mean() * 252) / (technology_change.std() * np.sqrt(252))\n",
    "sharpe_ratios.plot.bar()"
   ]
  },
  {
   "cell_type": "code",
   "execution_count": null,
   "metadata": {},
   "outputs": [],
   "source": [
    "boxplot = technology_change.boxplot(column=['MSFT','DELL','NLOK','XRX','NCR','SPY','XLK'],figsize=(10,5))"
   ]
  },
  {
   "cell_type": "code",
   "execution_count": null,
   "metadata": {},
   "outputs": [],
   "source": [
    "technology_change.std()"
   ]
  },
  {
   "cell_type": "code",
   "execution_count": null,
   "metadata": {},
   "outputs": [],
   "source": [
    "positive_df.corrwith(technology_df, axis = 0)"
   ]
  },
  {
   "cell_type": "code",
   "execution_count": null,
   "metadata": {},
   "outputs": [],
   "source": [
    "negative_df.corrwith(technology_df, axis = 0)"
   ]
  },
  {
   "cell_type": "code",
   "execution_count": null,
   "metadata": {},
   "outputs": [],
   "source": [
    "death_df.corrwith(technology_df, axis = 0)"
   ]
  },
  {
   "cell_type": "code",
   "execution_count": null,
   "metadata": {},
   "outputs": [],
   "source": [
    "hospitalized_df.corrwith(technology_df, axis = 0)"
   ]
  },
  {
   "cell_type": "markdown",
   "metadata": {},
   "source": [
    "### Consumer Staples"
   ]
  },
  {
   "cell_type": "code",
   "execution_count": null,
   "metadata": {},
   "outputs": [],
   "source": [
    "cs_df = yf.download(['ACI','CPB','KR','PG','KO','SPY','XLP'],\n",
    "                      start='2020-01-01',\n",
    "                      end='2020-12-31',\n",
    "                      progress=False)\n",
    "cs_df = cs_df['Close']\n",
    "cs_df.head()"
   ]
  },
  {
   "cell_type": "code",
   "execution_count": null,
   "metadata": {},
   "outputs": [],
   "source": [
    "cs_change = cs_df.pct_change()\n",
    "cs_change.plot(figsize = (18,10))"
   ]
  },
  {
   "cell_type": "code",
   "execution_count": null,
   "metadata": {},
   "outputs": [],
   "source": [
    "fig, ax = plt.subplots(figsize=(10,6))\n",
    "sns.heatmap(cs_df.corr(), annot=True, cmap='coolwarm', linewidth=1, linecolor='black')"
   ]
  },
  {
   "cell_type": "code",
   "execution_count": null,
   "metadata": {},
   "outputs": [],
   "source": [
    "ACI_beta = beta('ACI','SPY',7,cs_df)\n",
    "CPB_beta = beta('CPB','SPY',7,cs_df)\n",
    "KR_beta = beta('KR','SPY',7,cs_df)\n",
    "PG_beta = beta('PG','SPY',7,cs_df)\n",
    "KO_beta = beta('KO','SPY',7,cs_df)"
   ]
  },
  {
   "cell_type": "code",
   "execution_count": null,
   "metadata": {},
   "outputs": [],
   "source": [
    "XLP_beta.hvplot(label = \"XLP\") * ACI_beta.hvplot(label = \"ACI\") * CPB_beta.hvplot(label = \"CPB\") * KR_beta.hvplot(label = \"KR\") * PG_beta.hvplot(label = \"PG\") * KO_beta.hvplot(label = \"KO\")"
   ]
  },
  {
   "cell_type": "code",
   "execution_count": null,
   "metadata": {},
   "outputs": [],
   "source": [
    "sharpe_ratios = (cs_change.mean() * 252) / (cs_change.std() * np.sqrt(252))\n",
    "sharpe_ratios.plot.bar()"
   ]
  },
  {
   "cell_type": "code",
   "execution_count": null,
   "metadata": {},
   "outputs": [],
   "source": [
    "boxplot = cs_change.boxplot(column=['ACI','CPB','KR','PG','KO','SPY','XLP'],figsize=(10,5))"
   ]
  },
  {
   "cell_type": "code",
   "execution_count": null,
   "metadata": {},
   "outputs": [],
   "source": [
    "cs_df.std()"
   ]
  },
  {
   "cell_type": "code",
   "execution_count": null,
   "metadata": {},
   "outputs": [],
   "source": [
    "positive_df.corrwith(cs_df, axis = 0)"
   ]
  },
  {
   "cell_type": "code",
   "execution_count": null,
   "metadata": {},
   "outputs": [],
   "source": [
    "negative_df.corrwith(cs_df, axis = 0)"
   ]
  },
  {
   "cell_type": "code",
   "execution_count": null,
   "metadata": {},
   "outputs": [],
   "source": [
    "death_df.corrwith(cs_df, axis = 0)"
   ]
  },
  {
   "cell_type": "code",
   "execution_count": null,
   "metadata": {},
   "outputs": [],
   "source": [
    "hospitalized_df.corrwith(cs_df, axis = 0)"
   ]
  },
  {
   "cell_type": "markdown",
   "metadata": {},
   "source": [
    "### Health Care"
   ]
  },
  {
   "cell_type": "code",
   "execution_count": null,
   "metadata": {},
   "outputs": [],
   "source": [
    "hc_df = yf.download(['BIIB','BIO','CVS','VRTX','ISRG','SPY','XLV'],\n",
    "                      start='2020-01-01',\n",
    "                      end='2020-12-31',\n",
    "                      progress=False)\n",
    "hc_df = hc_df['Close']\n",
    "hc_df.head()"
   ]
  },
  {
   "cell_type": "code",
   "execution_count": null,
   "metadata": {},
   "outputs": [],
   "source": [
    "hc_change = hc_df.pct_change()\n",
    "hc_change.plot(figsize = (18,10))"
   ]
  },
  {
   "cell_type": "code",
   "execution_count": null,
   "metadata": {},
   "outputs": [],
   "source": [
    "fig, ax = plt.subplots(figsize=(10,6))\n",
    "sns.heatmap(hc_df.corr(), annot=True, cmap='coolwarm', linewidth=1, linecolor='black')"
   ]
  },
  {
   "cell_type": "code",
   "execution_count": null,
   "metadata": {},
   "outputs": [],
   "source": [
    "BIIB_beta = beta('BIIB','SPY',7,hc_df)\n",
    "BIO_beta = beta('BIO','SPY',7,hc_df)\n",
    "CVS_beta = beta('CVS','SPY',7,hc_df)\n",
    "VRTX_beta = beta('VRTX','SPY',7,hc_df)\n",
    "ISRG_beta = beta('ISRG','SPY',7,hc_df)"
   ]
  },
  {
   "cell_type": "code",
   "execution_count": null,
   "metadata": {},
   "outputs": [],
   "source": [
    "XLV_beta.hvplot(label = \"XLV\") * BIIB_beta.hvplot(label = \"BIIB\") * BIO_beta.hvplot(label = \"BIO\") * CVS_beta.hvplot(label = \"CVS\") * VRTX_beta.hvplot(label = \"VRTX\") * ISRG_beta.hvplot(label = \"ISRG\")"
   ]
  },
  {
   "cell_type": "code",
   "execution_count": null,
   "metadata": {},
   "outputs": [],
   "source": [
    "sharpe_ratios = (hc_change.mean() * 252) / (hc_change.std() * np.sqrt(252))\n",
    "sharpe_ratios.plot.bar()"
   ]
  },
  {
   "cell_type": "code",
   "execution_count": null,
   "metadata": {},
   "outputs": [],
   "source": [
    "boxplot = hc_change.boxplot(column=['BIIB','BIO','CVS','VRTX','ISRG','SPY','XLV'],figsize=(10,5))"
   ]
  },
  {
   "cell_type": "code",
   "execution_count": null,
   "metadata": {},
   "outputs": [],
   "source": [
    "hc_df.std()"
   ]
  },
  {
   "cell_type": "code",
   "execution_count": null,
   "metadata": {},
   "outputs": [],
   "source": [
    "positive_df.corrwith(hc_df, axis = 0)"
   ]
  },
  {
   "cell_type": "code",
   "execution_count": null,
   "metadata": {},
   "outputs": [],
   "source": [
    "negative_df.corrwith(hc_df, axis = 0)"
   ]
  },
  {
   "cell_type": "code",
   "execution_count": null,
   "metadata": {},
   "outputs": [],
   "source": [
    "death_df.corrwith(hc_df, axis = 0)"
   ]
  },
  {
   "cell_type": "code",
   "execution_count": null,
   "metadata": {},
   "outputs": [],
   "source": [
    "hospitalized_df.corrwith(hc_df, axis = 0)"
   ]
  },
  {
   "cell_type": "markdown",
   "metadata": {},
   "source": [
    "### Consumer Discretionary"
   ]
  },
  {
   "cell_type": "code",
   "execution_count": null,
   "metadata": {},
   "outputs": [],
   "source": [
    "cd_df = yf.download(['ARD','MGM','EBAY','MCD','ROST','SPY','XLY'],\n",
    "                      start='2020-01-01',\n",
    "                      end='2020-12-31',\n",
    "                      progress=False)\n",
    "cd_df = cd_df['Close']\n",
    "cd_df.head()"
   ]
  },
  {
   "cell_type": "code",
   "execution_count": null,
   "metadata": {},
   "outputs": [],
   "source": [
    "cd_change = cd_df.pct_change()\n",
    "cd_change.plot(figsize = (18,10))"
   ]
  },
  {
   "cell_type": "code",
   "execution_count": null,
   "metadata": {},
   "outputs": [],
   "source": [
    "fig, ax = plt.subplots(figsize=(10,6))\n",
    "sns.heatmap(cd_df.corr(), annot=True, cmap='coolwarm', linewidth=1, linecolor='black')"
   ]
  },
  {
   "cell_type": "code",
   "execution_count": null,
   "metadata": {},
   "outputs": [],
   "source": [
    "ARD_beta = beta('ARD','SPY',7,cd_df)\n",
    "MGM_beta = beta('MGM','SPY',7,cd_df)\n",
    "EBAY_beta = beta('EBAY','SPY',7,cd_df)\n",
    "MCD_beta = beta('MCD','SPY',7,cd_df)\n",
    "ROST_beta = beta('ROST','SPY',7,cd_df)"
   ]
  },
  {
   "cell_type": "code",
   "execution_count": null,
   "metadata": {},
   "outputs": [],
   "source": [
    "XLY_beta.hvplot(label = \"XLY\") * ARD_beta.hvplot(label = \"ARD\") * MGM_beta.hvplot(label = \"MGM\") * EBAY_beta.hvplot(label = \"EBAY\") * ROST_beta.hvplot(label = \"ROST\") * MCD_beta.hvplot(label = \"MCD\")"
   ]
  },
  {
   "cell_type": "code",
   "execution_count": null,
   "metadata": {},
   "outputs": [],
   "source": [
    "sharpe_ratios = (cd_change.mean() * 252) / (cd_change.std() * np.sqrt(252))\n",
    "sharpe_ratios.plot.bar()"
   ]
  },
  {
   "cell_type": "code",
   "execution_count": null,
   "metadata": {},
   "outputs": [],
   "source": [
    "boxplot = cd_change.boxplot(column=['ARD','MGM','EBAY','MCD','ROST','SPY','XLY'],figsize=(10,5))"
   ]
  },
  {
   "cell_type": "code",
   "execution_count": null,
   "metadata": {},
   "outputs": [],
   "source": [
    "cd_df.std()"
   ]
  },
  {
   "cell_type": "code",
   "execution_count": null,
   "metadata": {},
   "outputs": [],
   "source": [
    "positive_df.corrwith(cd_df, axis = 0)"
   ]
  },
  {
   "cell_type": "code",
   "execution_count": null,
   "metadata": {},
   "outputs": [],
   "source": [
    "negative_df.corrwith(cd_df, axis = 0)"
   ]
  },
  {
   "cell_type": "code",
   "execution_count": null,
   "metadata": {},
   "outputs": [],
   "source": [
    "death_df.corrwith(cd_df, axis = 0)"
   ]
  },
  {
   "cell_type": "code",
   "execution_count": null,
   "metadata": {},
   "outputs": [],
   "source": [
    "hospitalized_df.corrwith(cd_df, axis = 0)"
   ]
  },
  {
   "cell_type": "code",
   "execution_count": null,
   "metadata": {},
   "outputs": [],
   "source": [
    "### Real Estate"
   ]
  },
  {
   "cell_type": "code",
   "execution_count": null,
   "metadata": {},
   "outputs": [],
   "source": [
    "re_df = yf.download(['ACLD','AGNC','ADC','ALX','ARE','SPY','XLRE'],\n",
    "                      start='2020-01-01',\n",
    "                      end='2020-12-31',\n",
    "                      progress=False)\n",
    "re_df = re_df['Close']\n",
    "re_df.head()"
   ]
  },
  {
   "cell_type": "code",
   "execution_count": null,
   "metadata": {},
   "outputs": [],
   "source": [
    "re_change = re_df.pct_change()\n",
    "re_change.plot(figsize = (18,10))"
   ]
  },
  {
   "cell_type": "code",
   "execution_count": null,
   "metadata": {},
   "outputs": [],
   "source": [
    "fig, ax = plt.subplots(figsize=(10,6))\n",
    "sns.heatmap(re_df.corr(), annot=True, cmap='coolwarm', linewidth=1, linecolor='black')"
   ]
  },
  {
   "cell_type": "code",
   "execution_count": null,
   "metadata": {},
   "outputs": [],
   "source": [
    "ACLD_beta = beta('ACLD','SPY',7,re_df)\n",
    "AGNC_beta = beta('AGNC','SPY',7,re_df)\n",
    "ADC_beta = beta('ADC','SPY',7,re_df)\n",
    "ALX_beta = beta('ALX','SPY',7,re_df)\n",
    "ARE_beta = beta('ARE','SPY',7,re_df)"
   ]
  },
  {
   "cell_type": "code",
   "execution_count": null,
   "metadata": {},
   "outputs": [],
   "source": [
    "XLRE_beta.hvplot(label = \"XLRE\") * ACLD_beta.hvplot(label = \"ACLD\") * AGNC_beta.hvplot(label = \"AGNC\") * ADC_beta.hvplot(label = \"ADC\") * ALX_beta.hvplot(label = \"ALX\") * ARE_beta.hvplot(label = \"ARE\")"
   ]
  },
  {
   "cell_type": "code",
   "execution_count": null,
   "metadata": {},
   "outputs": [],
   "source": [
    "sharpe_ratios = (re_change.mean() * 252) / (re_change.std() * np.sqrt(252))\n",
    "sharpe_ratios.plot.bar()"
   ]
  },
  {
   "cell_type": "code",
   "execution_count": null,
   "metadata": {},
   "outputs": [],
   "source": [
    "boxplot = re_change.boxplot(column=['ACLD','AGNC','ADC','ALX','ARE','SPY','XLRE'],figsize=(10,5))"
   ]
  },
  {
   "cell_type": "code",
   "execution_count": null,
   "metadata": {},
   "outputs": [],
   "source": [
    "re_df.std()"
   ]
  },
  {
   "cell_type": "code",
   "execution_count": null,
   "metadata": {},
   "outputs": [],
   "source": [
    "positive_df.corrwith(re_df, axis = 0)"
   ]
  },
  {
   "cell_type": "code",
   "execution_count": null,
   "metadata": {},
   "outputs": [],
   "source": [
    "negative_df.corrwith(re_df, axis = 0)"
   ]
  },
  {
   "cell_type": "code",
   "execution_count": null,
   "metadata": {},
   "outputs": [],
   "source": [
    "death_df.corrwith(re_df, axis = 0)"
   ]
  },
  {
   "cell_type": "code",
   "execution_count": null,
   "metadata": {},
   "outputs": [],
   "source": [
    "hospitalized_df.corrwith(re_df, axis = 0)"
   ]
  },
  {
   "cell_type": "markdown",
   "metadata": {},
   "source": [
    "### Utilities"
   ]
  },
  {
   "cell_type": "code",
   "execution_count": null,
   "metadata": {},
   "outputs": [],
   "source": [
    "utilities_df = yf.download(['NRG','SRE','PPL','AWK','BIP','SPY','XLU'],\n",
    "                      start='2020-01-01',\n",
    "                      end='2020-12-31',\n",
    "                      progress=False)\n",
    "utilities_df = utilities_df['Close']\n",
    "utilities_df.head()"
   ]
  },
  {
   "cell_type": "code",
   "execution_count": null,
   "metadata": {},
   "outputs": [],
   "source": [
    "utilities_change = utilities_df.pct_change()\n",
    "utilities_change.plot(figsize = (18,10))"
   ]
  },
  {
   "cell_type": "code",
   "execution_count": null,
   "metadata": {},
   "outputs": [],
   "source": [
    "fig, ax = plt.subplots(figsize=(10,6))\n",
    "sns.heatmap(utilities_df.corr(), annot=True, cmap='coolwarm', linewidth=1, linecolor='black')"
   ]
  },
  {
   "cell_type": "code",
   "execution_count": null,
   "metadata": {},
   "outputs": [],
   "source": [
    "NRG_beta = beta('NRG','SPY',7,utilities_df)\n",
    "SRE_beta = beta('SRE','SPY',7,utilities_df)\n",
    "PPL_beta = beta('PPL','SPY',7,utilities_df)\n",
    "AWK_beta = beta('AWK','SPY',7,utilities_df)\n",
    "BIP_beta = beta('BIP','SPY',7,utilities_df)"
   ]
  },
  {
   "cell_type": "code",
   "execution_count": null,
   "metadata": {},
   "outputs": [],
   "source": [
    "XLU_beta.hvplot(label = \"XLU\") * NRG_beta.hvplot(label = \"NRG\") * SRE_beta.hvplot(label = \"SRE\") * PPL_beta.hvplot(label = \"PPL\") * AWK_beta.hvplot(label = \"AWK\") * BIP_beta.hvplot(label = \"BIP\")"
   ]
  },
  {
   "cell_type": "code",
   "execution_count": null,
   "metadata": {},
   "outputs": [],
   "source": [
    "sharpe_ratios = (utilities_change.mean() * 252) / (utilities_change.std() * np.sqrt(252))\n",
    "sharpe_ratios.plot.bar()"
   ]
  },
  {
   "cell_type": "code",
   "execution_count": null,
   "metadata": {},
   "outputs": [],
   "source": [
    "boxplot = utilities_change.boxplot(column=['NRG','SRE','PPL','AWK','BIP','SPY','XLU'],figsize=(10,5))"
   ]
  },
  {
   "cell_type": "code",
   "execution_count": null,
   "metadata": {},
   "outputs": [],
   "source": [
    "utilities_df.std()"
   ]
  },
  {
   "cell_type": "code",
   "execution_count": null,
   "metadata": {},
   "outputs": [],
   "source": [
    "pos_march.corrwith(utilities_df, axis = 0)"
   ]
  },
  {
   "cell_type": "code",
   "execution_count": null,
   "metadata": {},
   "outputs": [],
   "source": [
    "neg_march.corrwith(utilities_df, axis = 0)"
   ]
  },
  {
   "cell_type": "code",
   "execution_count": null,
   "metadata": {},
   "outputs": [],
   "source": [
    "death_df.corrwith(utilities_df, axis = 0)"
   ]
  },
  {
   "cell_type": "code",
   "execution_count": null,
   "metadata": {},
   "outputs": [],
   "source": [
    "hospitalized_df.corrwith(utilities_df, axis = 0)"
   ]
  },
  {
   "cell_type": "code",
   "execution_count": null,
   "metadata": {},
   "outputs": [],
   "source": [
    "market_comparison[['SPY']].hvplot() + covid_df[['positive']].hvplot() + covid_df[['death']].hvplot()"
   ]
  },
  {
   "cell_type": "code",
   "execution_count": null,
   "metadata": {},
   "outputs": [],
   "source": [
    "market_comparison[['SPY']].hvplot() + corona_df[['positiveIncrease']].hvplot() + corona_df[['deathIncrease']].hvplot()"
   ]
  },
  {
   "cell_type": "code",
   "execution_count": null,
   "metadata": {},
   "outputs": [],
   "source": [
    "covid_df.hvplot()"
   ]
  },
  {
   "cell_type": "code",
   "execution_count": null,
   "metadata": {},
   "outputs": [],
   "source": []
  }
 ],
 "metadata": {
  "kernelspec": {
   "display_name": "Python [conda env:pyvizenv] *",
   "language": "python",
   "name": "conda-env-pyvizenv-py"
  },
  "language_info": {
   "codemirror_mode": {
    "name": "ipython",
    "version": 3
   },
   "file_extension": ".py",
   "mimetype": "text/x-python",
   "name": "python",
   "nbconvert_exporter": "python",
   "pygments_lexer": "ipython3",
   "version": "3.7.7"
  }
 },
 "nbformat": 4,
 "nbformat_minor": 4
}
